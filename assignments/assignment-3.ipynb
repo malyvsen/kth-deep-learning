{
 "cells": [
  {
   "cell_type": "code",
   "execution_count": 1,
   "id": "palestinian-equilibrium",
   "metadata": {},
   "outputs": [],
   "source": [
    "from functools import reduce\n",
    "import numpy as np\n",
    "from tqdm.auto import tqdm\n",
    "import plotly.graph_objects as go\n",
    "from crater.premade import Classifier, CyclicLearningRate\n",
    "from cifar10 import Experiment\n",
    "from cifar10.data import load_batch, make_normalizer, vector_to_image"
   ]
  },
  {
   "cell_type": "code",
   "execution_count": 2,
   "id": "viral-definition",
   "metadata": {},
   "outputs": [
    {
     "data": {
      "text/plain": [
       "(50000, 3072)"
      ]
     },
     "execution_count": 2,
     "metadata": {},
     "output_type": "execute_result"
    }
   ],
   "source": [
    "all_batches = [\n",
    "    load_batch(f\"../data/data_batch_{idx}\")\n",
    "    for idx in [1, 2, 3, 4, 5]\n",
    "]\n",
    "all_data = dict(\n",
    "    features=np.concatenate([batch[\"features\"] for batch in all_batches], axis=0),\n",
    "    labels=np.concatenate([batch[\"labels\"] for batch in all_batches], axis=0),\n",
    ")\n",
    "all_data[\"features\"].shape"
   ]
  },
  {
   "cell_type": "code",
   "execution_count": 3,
   "id": "interpreted-detroit",
   "metadata": {},
   "outputs": [],
   "source": [
    "test_data = load_batch(\"../data/test_batch\")"
   ]
  },
  {
   "cell_type": "code",
   "execution_count": 4,
   "id": "disturbed-prison",
   "metadata": {},
   "outputs": [
    {
     "data": {
      "text/plain": [
       "{'train': (45000, 3072), 'validation': (5000, 3072), 'test': (10000, 3072)}"
      ]
     },
     "execution_count": 4,
     "metadata": {},
     "output_type": "execute_result"
    }
   ],
   "source": [
    "split_data = {\n",
    "    split_name: {\n",
    "        prop_name: prop[indices]\n",
    "        for prop_name, prop in all_data.items()\n",
    "    }\n",
    "    for split_name, indices in dict(\n",
    "        train=slice(None, -5000),\n",
    "        validation=slice(-5000, None),\n",
    "    ).items()\n",
    "}\n",
    "split_data[\"test\"] = test_data\n",
    "\n",
    "{\n",
    "    split_name: split[\"features\"].shape\n",
    "    for split_name, split in split_data.items()\n",
    "}"
   ]
  },
  {
   "cell_type": "markdown",
   "id": "difficult-resolution",
   "metadata": {},
   "source": [
    "# Without batch normalization"
   ]
  },
  {
   "cell_type": "markdown",
   "id": "mineral-brooklyn",
   "metadata": {},
   "source": [
    "## 3-layer network"
   ]
  },
  {
   "cell_type": "code",
   "execution_count": 10,
   "id": "illegal-mapping",
   "metadata": {
    "scrolled": false
   },
   "outputs": [
    {
     "data": {
      "application/vnd.jupyter.widget-view+json": {
       "model_id": "0b16f6a67e3847d7ab0fdc15f7296e11",
       "version_major": 2,
       "version_minor": 0
      },
      "text/plain": [
       "  0%|          | 0/4500 [00:00<?, ?it/s]"
      ]
     },
     "metadata": {},
     "output_type": "display_data"
    },
    {
     "name": "stderr",
     "output_type": "stream",
     "text": [
      "/home/malyvsen/org/education/kth/deep-learning/kth-deep-learning/assignments/crater/operations/exp.py:10: RuntimeWarning:\n",
      "\n",
      "overflow encountered in exp\n",
      "\n",
      "/home/malyvsen/org/education/kth/deep-learning/kth-deep-learning/assignments/crater/operations/divide.py:10: RuntimeWarning:\n",
      "\n",
      "invalid value encountered in true_divide\n",
      "\n",
      "/home/malyvsen/org/education/kth/deep-learning/kth-deep-learning/assignments/crater/operations/log.py:10: RuntimeWarning:\n",
      "\n",
      "divide by zero encountered in log\n",
      "\n",
      "/home/malyvsen/org/education/kth/deep-learning/kth-deep-learning/assignments/crater/operations/multiply.py:9: RuntimeWarning:\n",
      "\n",
      "invalid value encountered in multiply\n",
      "\n",
      "/home/malyvsen/org/education/kth/deep-learning/kth-deep-learning/.venv/lib/python3.9/site-packages/numpy/core/_methods.py:47: RuntimeWarning:\n",
      "\n",
      "overflow encountered in reduce\n",
      "\n"
     ]
    },
    {
     "data": {
      "image/png": "[encoded data removed]",
      "text/plain": [
       "<PIL.Image.Image image mode=RGB size=720x64 at 0x7F667443E730>"
      ]
     },
     "execution_count": 10,
     "metadata": {},
     "output_type": "execute_result"
    }
   ],
   "source": [
    "def train(hidden_dims: list, persistence: float, regularization: float = 0.005, batch_size: int = 100):\n",
    "    return Experiment.run(\n",
    "        data=split_data,\n",
    "        classifier=Classifier.from_dims(\n",
    "            [32 * 32 * 3] + hidden_dims + [10],\n",
    "            normalize=make_normalizer(split_data[\"train\"][\"features\"]),\n",
    "            persistence=persistence,\n",
    "        ),\n",
    "        learning_rate=CyclicLearningRate(\n",
    "            low=1e-5,\n",
    "            high=1e-1,\n",
    "            batches_per_cycle=5 * len(split_data[\"train\"][\"features\"]) // batch_size\n",
    "        ),\n",
    "        num_cycles=2,\n",
    "        measurements_per_cycle=10,\n",
    "        batch_size=batch_size,\n",
    "        regularization=regularization,\n",
    "    )\n",
    "\n",
    "experiment = train(hidden_dims=[50, 50], persistence=1)\n",
    "vector_to_image(*experiment.classifier.templates)"
   ]
  },
  {
   "cell_type": "code",
   "execution_count": 11,
   "id": "veterinary-franklin",
   "metadata": {},
   "outputs": [
    {
     "data": {
      "application/vnd.plotly.v1+json": {
       "config": {
        "plotlyServerURL": "https://plot.ly"
       },
       "data": [
        {
         "name": "Train",
         "type": "scatter",
         "x": [
          0,
          225,
          450,
          675,
          900,
          1125,
          1350,
          1575,
          1800,
          2025,
          2250,
          2475,
          2700,
          2925,
          3150,
          3375,
          3600,
          3825,
          4050,
          4275,
          4499
         ],
         "y": [
          2.8519729572028756,
          3.6778501209934302,
          8.38270650514709,
          18.041955403215194,
          28.69903935726459,
          null,
          null,
          null,
          null,
          null,
          null,
          null,
          null,
          null,
          null,
          null,
          null,
          null,
          null,
          null,
          null
         ]
        },
        {
         "name": "Validation",
         "type": "scatter",
         "x": [
          0,
          225,
          450,
          675,
          900,
          1125,
          1350,
          1575,
          1800,
          2025,
          2250,
          2475,
          2700,
          2925,
          3150,
          3375,
          3600,
          3825,
          4050,
          4275,
          4499
         ],
         "y": [
          2.8497414316111134,
          3.6756803516006245,
          8.36987933196207,
          17.923993532573096,
          28.344165939350773,
          null,
          null,
          null,
          null,
          null,
          null,
          null,
          null,
          null,
          null,
          null,
          null,
          null,
          null,
          null,
          null
         ]
        },
        {
         "name": "Test",
         "type": "scatter",
         "x": [
          0,
          225,
          450,
          675,
          900,
          1125,
          1350,
          1575,
          1800,
          2025,
          2250,
          2475,
          2700,
          2925,
          3150,
          3375,
          3600,
          3825,
          4050,
          4275,
          4499
         ],
         "y": [
          2.8518436193723526,
          3.6940520488851196,
          8.386920273966968,
          17.90416759781495,
          28.28675622899652,
          null,
          null,
          null,
          null,
          null,
          null,
          null,
          null,
          null,
          null,
          null,
          null,
          null,
          null,
          null,
          null
         ]
        }
       ],
       "layout": {
        "template": {
         "data": {
          "bar": [
           {
            "error_x": {
             "color": "#2a3f5f"
            },
            "error_y": {
             "color": "#2a3f5f"
            },
            "marker": {
             "line": {
              "color": "#E5ECF6",
              "width": 0.5
             }
            },
            "type": "bar"
           }
          ],
          "barpolar": [
           {
            "marker": {
             "line": {
              "color": "#E5ECF6",
              "width": 0.5
             }
            },
            "type": "barpolar"
           }
          ],
          "carpet": [
           {
            "aaxis": {
             "endlinecolor": "#2a3f5f",
             "gridcolor": "white",
             "linecolor": "white",
             "minorgridcolor": "white",
             "startlinecolor": "#2a3f5f"
            },
            "baxis": {
             "endlinecolor": "#2a3f5f",
             "gridcolor": "white",
             "linecolor": "white",
             "minorgridcolor": "white",
             "startlinecolor": "#2a3f5f"
            },
            "type": "carpet"
           }
          ],
          "choropleth": [
           {
            "colorbar": {
             "outlinewidth": 0,
             "ticks": ""
            },
            "type": "choropleth"
           }
          ],
          "contour": [
           {
            "colorbar": {
             "outlinewidth": 0,
             "ticks": ""
            },
            "colorscale": [
             [
              0,
              "#0d0887"
             ],
             [
              0.1111111111111111,
              "#46039f"
             ],
             [
              0.2222222222222222,
              "#7201a8"
             ],
             [
              0.3333333333333333,
              "#9c179e"
             ],
             [
              0.4444444444444444,
              "#bd3786"
             ],
             [
              0.5555555555555556,
              "#d8576b"
             ],
             [
              0.6666666666666666,
              "#ed7953"
             ],
             [
              0.7777777777777778,
              "#fb9f3a"
             ],
             [
              0.8888888888888888,
              "#fdca26"
             ],
             [
              1,
              "#f0f921"
             ]
            ],
            "type": "contour"
           }
          ],
          "contourcarpet": [
           {
            "colorbar": {
             "outlinewidth": 0,
             "ticks": ""
            },
            "type": "contourcarpet"
           }
          ],
          "heatmap": [
           {
            "colorbar": {
             "outlinewidth": 0,
             "ticks": ""
            },
            "colorscale": [
             [
              0,
              "#0d0887"
             ],
             [
              0.1111111111111111,
              "#46039f"
             ],
             [
              0.2222222222222222,
              "#7201a8"
             ],
             [
              0.3333333333333333,
              "#9c179e"
             ],
             [
              0.4444444444444444,
              "#bd3786"
             ],
             [
              0.5555555555555556,
              "#d8576b"
             ],
             [
              0.6666666666666666,
              "#ed7953"
             ],
             [
              0.7777777777777778,
              "#fb9f3a"
             ],
             [
              0.8888888888888888,
              "#fdca26"
             ],
             [
              1,
              "#f0f921"
             ]
            ],
            "type": "heatmap"
           }
          ],
          "heatmapgl": [
           {
            "colorbar": {
             "outlinewidth": 0,
             "ticks": ""
            },
            "colorscale": [
             [
              0,
              "#0d0887"
             ],
             [
              0.1111111111111111,
              "#46039f"
             ],
             [
              0.2222222222222222,
              "#7201a8"
             ],
             [
              0.3333333333333333,
              "#9c179e"
             ],
             [
              0.4444444444444444,
              "#bd3786"
             ],
             [
              0.5555555555555556,
              "#d8576b"
             ],
             [
              0.6666666666666666,
              "#ed7953"
             ],
             [
              0.7777777777777778,
              "#fb9f3a"
             ],
             [
              0.8888888888888888,
              "#fdca26"
             ],
             [
              1,
              "#f0f921"
             ]
            ],
            "type": "heatmapgl"
           }
          ],
          "histogram": [
           {
            "marker": {
             "colorbar": {
              "outlinewidth": 0,
              "ticks": ""
             }
            },
            "type": "histogram"
           }
          ],
          "histogram2d": [
           {
            "colorbar": {
             "outlinewidth": 0,
             "ticks": ""
            },
            "colorscale": [
             [
              0,
              "#0d0887"
             ],
             [
              0.1111111111111111,
              "#46039f"
             ],
             [
              0.2222222222222222,
              "#7201a8"
             ],
             [
              0.3333333333333333,
              "#9c179e"
             ],
             [
              0.4444444444444444,
              "#bd3786"
             ],
             [
              0.5555555555555556,
              "#d8576b"
             ],
             [
              0.6666666666666666,
              "#ed7953"
             ],
             [
              0.7777777777777778,
              "#fb9f3a"
             ],
             [
              0.8888888888888888,
              "#fdca26"
             ],
             [
              1,
              "#f0f921"
             ]
            ],
            "type": "histogram2d"
           }
          ],
          "histogram2dcontour": [
           {
            "colorbar": {
             "outlinewidth": 0,
             "ticks": ""
            },
            "colorscale": [
             [
              0,
              "#0d0887"
             ],
             [
              0.1111111111111111,
              "#46039f"
             ],
             [
              0.2222222222222222,
              "#7201a8"
             ],
             [
              0.3333333333333333,
              "#9c179e"
             ],
             [
              0.4444444444444444,
              "#bd3786"
             ],
             [
              0.5555555555555556,
              "#d8576b"
             ],
             [
              0.6666666666666666,
              "#ed7953"
             ],
             [
              0.7777777777777778,
              "#fb9f3a"
             ],
             [
              0.8888888888888888,
              "#fdca26"
             ],
             [
              1,
              "#f0f921"
             ]
            ],
            "type": "histogram2dcontour"
           }
          ],
          "mesh3d": [
           {
            "colorbar": {
             "outlinewidth": 0,
             "ticks": ""
            },
            "type": "mesh3d"
           }
          ],
          "parcoords": [
           {
            "line": {
             "colorbar": {
              "outlinewidth": 0,
              "ticks": ""
             }
            },
            "type": "parcoords"
           }
          ],
          "pie": [
           {
            "automargin": true,
            "type": "pie"
           }
          ],
          "scatter": [
           {
            "marker": {
             "colorbar": {
              "outlinewidth": 0,
              "ticks": ""
             }
            },
            "type": "scatter"
           }
          ],
          "scatter3d": [
           {
            "line": {
             "colorbar": {
              "outlinewidth": 0,
              "ticks": ""
             }
            },
            "marker": {
             "colorbar": {
              "outlinewidth": 0,
              "ticks": ""
             }
            },
            "type": "scatter3d"
           }
          ],
          "scattercarpet": [
           {
            "marker": {
             "colorbar": {
              "outlinewidth": 0,
              "ticks": ""
             }
            },
            "type": "scattercarpet"
           }
          ],
          "scattergeo": [
           {
            "marker": {
             "colorbar": {
              "outlinewidth": 0,
              "ticks": ""
             }
            },
            "type": "scattergeo"
           }
          ],
          "scattergl": [
           {
            "marker": {
             "colorbar": {
              "outlinewidth": 0,
              "ticks": ""
             }
            },
            "type": "scattergl"
           }
          ],
          "scattermapbox": [
           {
            "marker": {
             "colorbar": {
              "outlinewidth": 0,
              "ticks": ""
             }
            },
            "type": "scattermapbox"
           }
          ],
          "scatterpolar": [
           {
            "marker": {
             "colorbar": {
              "outlinewidth": 0,
              "ticks": ""
             }
            },
            "type": "scatterpolar"
           }
          ],
          "scatterpolargl": [
           {
            "marker": {
             "colorbar": {
              "outlinewidth": 0,
              "ticks": ""
             }
            },
            "type": "scatterpolargl"
           }
          ],
          "scatterternary": [
           {
            "marker": {
             "colorbar": {
              "outlinewidth": 0,
              "ticks": ""
             }
            },
            "type": "scatterternary"
           }
          ],
          "surface": [
           {
            "colorbar": {
             "outlinewidth": 0,
             "ticks": ""
            },
            "colorscale": [
             [
              0,
              "#0d0887"
             ],
             [
              0.1111111111111111,
              "#46039f"
             ],
             [
              0.2222222222222222,
              "#7201a8"
             ],
             [
              0.3333333333333333,
              "#9c179e"
             ],
             [
              0.4444444444444444,
              "#bd3786"
             ],
             [
              0.5555555555555556,
              "#d8576b"
             ],
             [
              0.6666666666666666,
              "#ed7953"
             ],
             [
              0.7777777777777778,
              "#fb9f3a"
             ],
             [
              0.8888888888888888,
              "#fdca26"
             ],
             [
              1,
              "#f0f921"
             ]
            ],
            "type": "surface"
           }
          ],
          "table": [
           {
            "cells": {
             "fill": {
              "color": "#EBF0F8"
             },
             "line": {
              "color": "white"
             }
            },
            "header": {
             "fill": {
              "color": "#C8D4E3"
             },
             "line": {
              "color": "white"
             }
            },
            "type": "table"
           }
          ]
         },
         "layout": {
          "annotationdefaults": {
           "arrowcolor": "#2a3f5f",
           "arrowhead": 0,
           "arrowwidth": 1
          },
          "autotypenumbers": "strict",
          "coloraxis": {
           "colorbar": {
            "outlinewidth": 0,
            "ticks": ""
           }
          },
          "colorscale": {
           "diverging": [
            [
             0,
             "#8e0152"
            ],
            [
             0.1,
             "#c51b7d"
            ],
            [
             0.2,
             "#de77ae"
            ],
            [
             0.3,
             "#f1b6da"
            ],
            [
             0.4,
             "#fde0ef"
            ],
            [
             0.5,
             "#f7f7f7"
            ],
            [
             0.6,
             "#e6f5d0"
            ],
            [
             0.7,
             "#b8e186"
            ],
            [
             0.8,
             "#7fbc41"
            ],
            [
             0.9,
             "#4d9221"
            ],
            [
             1,
             "#276419"
            ]
           ],
           "sequential": [
            [
             0,
             "#0d0887"
            ],
            [
             0.1111111111111111,
             "#46039f"
            ],
            [
             0.2222222222222222,
             "#7201a8"
            ],
            [
             0.3333333333333333,
             "#9c179e"
            ],
            [
             0.4444444444444444,
             "#bd3786"
            ],
            [
             0.5555555555555556,
             "#d8576b"
            ],
            [
             0.6666666666666666,
             "#ed7953"
            ],
            [
             0.7777777777777778,
             "#fb9f3a"
            ],
            [
             0.8888888888888888,
             "#fdca26"
            ],
            [
             1,
             "#f0f921"
            ]
           ],
           "sequentialminus": [
            [
             0,
             "#0d0887"
            ],
            [
             0.1111111111111111,
             "#46039f"
            ],
            [
             0.2222222222222222,
             "#7201a8"
            ],
            [
             0.3333333333333333,
             "#9c179e"
            ],
            [
             0.4444444444444444,
             "#bd3786"
            ],
            [
             0.5555555555555556,
             "#d8576b"
            ],
            [
             0.6666666666666666,
             "#ed7953"
            ],
            [
             0.7777777777777778,
             "#fb9f3a"
            ],
            [
             0.8888888888888888,
             "#fdca26"
            ],
            [
             1,
             "#f0f921"
            ]
           ]
          },
          "colorway": [
           "#636efa",
           "#EF553B",
           "#00cc96",
           "#ab63fa",
           "#FFA15A",
           "#19d3f3",
           "#FF6692",
           "#B6E880",
           "#FF97FF",
           "#FECB52"
          ],
          "font": {
           "color": "#2a3f5f"
          },
          "geo": {
           "bgcolor": "white",
           "lakecolor": "white",
           "landcolor": "#E5ECF6",
           "showlakes": true,
           "showland": true,
           "subunitcolor": "white"
          },
          "hoverlabel": {
           "align": "left"
          },
          "hovermode": "closest",
          "mapbox": {
           "style": "light"
          },
          "paper_bgcolor": "white",
          "plot_bgcolor": "#E5ECF6",
          "polar": {
           "angularaxis": {
            "gridcolor": "white",
            "linecolor": "white",
            "ticks": ""
           },
           "bgcolor": "#E5ECF6",
           "radialaxis": {
            "gridcolor": "white",
            "linecolor": "white",
            "ticks": ""
           }
          },
          "scene": {
           "xaxis": {
            "backgroundcolor": "#E5ECF6",
            "gridcolor": "white",
            "gridwidth": 2,
            "linecolor": "white",
            "showbackground": true,
            "ticks": "",
            "zerolinecolor": "white"
           },
           "yaxis": {
            "backgroundcolor": "#E5ECF6",
            "gridcolor": "white",
            "gridwidth": 2,
            "linecolor": "white",
            "showbackground": true,
            "ticks": "",
            "zerolinecolor": "white"
           },
           "zaxis": {
            "backgroundcolor": "#E5ECF6",
            "gridcolor": "white",
            "gridwidth": 2,
            "linecolor": "white",
            "showbackground": true,
            "ticks": "",
            "zerolinecolor": "white"
           }
          },
          "shapedefaults": {
           "line": {
            "color": "#2a3f5f"
           }
          },
          "ternary": {
           "aaxis": {
            "gridcolor": "white",
            "linecolor": "white",
            "ticks": ""
           },
           "baxis": {
            "gridcolor": "white",
            "linecolor": "white",
            "ticks": ""
           },
           "bgcolor": "#E5ECF6",
           "caxis": {
            "gridcolor": "white",
            "linecolor": "white",
            "ticks": ""
           }
          },
          "title": {
           "x": 0.05
          },
          "xaxis": {
           "automargin": true,
           "gridcolor": "white",
           "linecolor": "white",
           "ticks": "",
           "title": {
            "standoff": 15
           },
           "zerolinecolor": "white",
           "zerolinewidth": 2
          },
          "yaxis": {
           "automargin": true,
           "gridcolor": "white",
           "linecolor": "white",
           "ticks": "",
           "title": {
            "standoff": 15
           },
           "zerolinecolor": "white",
           "zerolinewidth": 2
          }
         }
        },
        "title": {
         "text": "Training progress - loss"
        },
        "xaxis": {
         "title": {
          "text": "Batch number"
         }
        },
        "yaxis": {
         "title": {
          "text": "Loss"
         }
        }
       }
      },
      "text/html": [
       "<div>                            <div id=\"216c91e0-3c4f-4c49-b65e-4fa23487fb89\" class=\"plotly-graph-div\" style=\"height:525px; width:100%;\"></div>            <script type=\"text/javascript\">                require([\"plotly\"], function(Plotly) {                    window.PLOTLYENV=window.PLOTLYENV || {};                                    if (document.getElementById(\"216c91e0-3c4f-4c49-b65e-4fa23487fb89\")) {                    Plotly.newPlot(                        \"216c91e0-3c4f-4c49-b65e-4fa23487fb89\",                        [{\"name\": \"Train\", \"type\": \"scatter\", \"x\": [0, 225, 450, 675, 900, 1125, 1350, 1575, 1800, 2025, 2250, 2475, 2700, 2925, 3150, 3375, 3600, 3825, 4050, 4275, 4499], \"y\": [2.8519729572028756, 3.6778501209934302, 8.38270650514709, 18.041955403215194, 28.69903935726459, null, null, null, null, null, null, null, null, null, null, null, null, null, null, null, null]}, {\"name\": \"Validation\", \"type\": \"scatter\", \"x\": [0, 225, 450, 675, 900, 1125, 1350, 1575, 1800, 2025, 2250, 2475, 2700, 2925, 3150, 3375, 3600, 3825, 4050, 4275, 4499], \"y\": [2.8497414316111134, 3.6756803516006245, 8.36987933196207, 17.923993532573096, 28.344165939350773, null, null, null, null, null, null, null, null, null, null, null, null, null, null, null, null]}, {\"name\": \"Test\", \"type\": \"scatter\", \"x\": [0, 225, 450, 675, 900, 1125, 1350, 1575, 1800, 2025, 2250, 2475, 2700, 2925, 3150, 3375, 3600, 3825, 4050, 4275, 4499], \"y\": [2.8518436193723526, 3.6940520488851196, 8.386920273966968, 17.90416759781495, 28.28675622899652, null, null, null, null, null, null, null, null, null, null, null, null, null, null, null, null]}],                        {\"template\": {\"data\": {\"bar\": [{\"error_x\": {\"color\": \"#2a3f5f\"}, \"error_y\": {\"color\": \"#2a3f5f\"}, \"marker\": {\"line\": {\"color\": \"#E5ECF6\", \"width\": 0.5}}, \"type\": \"bar\"}], \"barpolar\": [{\"marker\": {\"line\": {\"color\": \"#E5ECF6\", \"width\": 0.5}}, \"type\": \"barpolar\"}], \"carpet\": [{\"aaxis\": {\"endlinecolor\": \"#2a3f5f\", \"gridcolor\": \"white\", \"linecolor\": \"white\", \"minorgridcolor\": \"white\", \"startlinecolor\": \"#2a3f5f\"}, \"baxis\": {\"endlinecolor\": \"#2a3f5f\", \"gridcolor\": \"white\", \"linecolor\": \"white\", \"minorgridcolor\": \"white\", \"startlinecolor\": \"#2a3f5f\"}, \"type\": \"carpet\"}], \"choropleth\": [{\"colorbar\": {\"outlinewidth\": 0, \"ticks\": \"\"}, \"type\": \"choropleth\"}], \"contour\": [{\"colorbar\": {\"outlinewidth\": 0, \"ticks\": \"\"}, \"colorscale\": [[0.0, \"#0d0887\"], [0.1111111111111111, \"#46039f\"], [0.2222222222222222, \"#7201a8\"], [0.3333333333333333, \"#9c179e\"], [0.4444444444444444, \"#bd3786\"], [0.5555555555555556, \"#d8576b\"], [0.6666666666666666, \"#ed7953\"], [0.7777777777777778, \"#fb9f3a\"], [0.8888888888888888, \"#fdca26\"], [1.0, \"#f0f921\"]], \"type\": \"contour\"}], \"contourcarpet\": [{\"colorbar\": {\"outlinewidth\": 0, \"ticks\": \"\"}, \"type\": \"contourcarpet\"}], \"heatmap\": [{\"colorbar\": {\"outlinewidth\": 0, \"ticks\": \"\"}, \"colorscale\": [[0.0, \"#0d0887\"], [0.1111111111111111, \"#46039f\"], [0.2222222222222222, \"#7201a8\"], [0.3333333333333333, \"#9c179e\"], [0.4444444444444444, \"#bd3786\"], [0.5555555555555556, \"#d8576b\"], [0.6666666666666666, \"#ed7953\"], [0.7777777777777778, \"#fb9f3a\"], [0.8888888888888888, \"#fdca26\"], [1.0, \"#f0f921\"]], \"type\": \"heatmap\"}], \"heatmapgl\": [{\"colorbar\": {\"outlinewidth\": 0, \"ticks\": \"\"}, \"colorscale\": [[0.0, \"#0d0887\"], [0.1111111111111111, \"#46039f\"], [0.2222222222222222, \"#7201a8\"], [0.3333333333333333, \"#9c179e\"], [0.4444444444444444, \"#bd3786\"], [0.5555555555555556, \"#d8576b\"], [0.6666666666666666, \"#ed7953\"], [0.7777777777777778, \"#fb9f3a\"], [0.8888888888888888, \"#fdca26\"], [1.0, \"#f0f921\"]], \"type\": \"heatmapgl\"}], \"histogram\": [{\"marker\": {\"colorbar\": {\"outlinewidth\": 0, \"ticks\": \"\"}}, \"type\": \"histogram\"}], \"histogram2d\": [{\"colorbar\": {\"outlinewidth\": 0, \"ticks\": \"\"}, \"colorscale\": [[0.0, \"#0d0887\"], [0.1111111111111111, \"#46039f\"], [0.2222222222222222, \"#7201a8\"], [0.3333333333333333, \"#9c179e\"], [0.4444444444444444, \"#bd3786\"], [0.5555555555555556, \"#d8576b\"], [0.6666666666666666, \"#ed7953\"], [0.7777777777777778, \"#fb9f3a\"], [0.8888888888888888, \"#fdca26\"], [1.0, \"#f0f921\"]], \"type\": \"histogram2d\"}], \"histogram2dcontour\": [{\"colorbar\": {\"outlinewidth\": 0, \"ticks\": \"\"}, \"colorscale\": [[0.0, \"#0d0887\"], [0.1111111111111111, \"#46039f\"], [0.2222222222222222, \"#7201a8\"], [0.3333333333333333, \"#9c179e\"], [0.4444444444444444, \"#bd3786\"], [0.5555555555555556, \"#d8576b\"], [0.6666666666666666, \"#ed7953\"], [0.7777777777777778, \"#fb9f3a\"], [0.8888888888888888, \"#fdca26\"], [1.0, \"#f0f921\"]], \"type\": \"histogram2dcontour\"}], \"mesh3d\": [{\"colorbar\": {\"outlinewidth\": 0, \"ticks\": \"\"}, \"type\": \"mesh3d\"}], \"parcoords\": [{\"line\": {\"colorbar\": {\"outlinewidth\": 0, \"ticks\": \"\"}}, \"type\": \"parcoords\"}], \"pie\": [{\"automargin\": true, \"type\": \"pie\"}], \"scatter\": [{\"marker\": {\"colorbar\": {\"outlinewidth\": 0, \"ticks\": \"\"}}, \"type\": \"scatter\"}], \"scatter3d\": [{\"line\": {\"colorbar\": {\"outlinewidth\": 0, \"ticks\": \"\"}}, \"marker\": {\"colorbar\": {\"outlinewidth\": 0, \"ticks\": \"\"}}, \"type\": \"scatter3d\"}], \"scattercarpet\": [{\"marker\": {\"colorbar\": {\"outlinewidth\": 0, \"ticks\": \"\"}}, \"type\": \"scattercarpet\"}], \"scattergeo\": [{\"marker\": {\"colorbar\": {\"outlinewidth\": 0, \"ticks\": \"\"}}, \"type\": \"scattergeo\"}], \"scattergl\": [{\"marker\": {\"colorbar\": {\"outlinewidth\": 0, \"ticks\": \"\"}}, \"type\": \"scattergl\"}], \"scattermapbox\": [{\"marker\": {\"colorbar\": {\"outlinewidth\": 0, \"ticks\": \"\"}}, \"type\": \"scattermapbox\"}], \"scatterpolar\": [{\"marker\": {\"colorbar\": {\"outlinewidth\": 0, \"ticks\": \"\"}}, \"type\": \"scatterpolar\"}], \"scatterpolargl\": [{\"marker\": {\"colorbar\": {\"outlinewidth\": 0, \"ticks\": \"\"}}, \"type\": \"scatterpolargl\"}], \"scatterternary\": [{\"marker\": {\"colorbar\": {\"outlinewidth\": 0, \"ticks\": \"\"}}, \"type\": \"scatterternary\"}], \"surface\": [{\"colorbar\": {\"outlinewidth\": 0, \"ticks\": \"\"}, \"colorscale\": [[0.0, \"#0d0887\"], [0.1111111111111111, \"#46039f\"], [0.2222222222222222, \"#7201a8\"], [0.3333333333333333, \"#9c179e\"], [0.4444444444444444, \"#bd3786\"], [0.5555555555555556, \"#d8576b\"], [0.6666666666666666, \"#ed7953\"], [0.7777777777777778, \"#fb9f3a\"], [0.8888888888888888, \"#fdca26\"], [1.0, \"#f0f921\"]], \"type\": \"surface\"}], \"table\": [{\"cells\": {\"fill\": {\"color\": \"#EBF0F8\"}, \"line\": {\"color\": \"white\"}}, \"header\": {\"fill\": {\"color\": \"#C8D4E3\"}, \"line\": {\"color\": \"white\"}}, \"type\": \"table\"}]}, \"layout\": {\"annotationdefaults\": {\"arrowcolor\": \"#2a3f5f\", \"arrowhead\": 0, \"arrowwidth\": 1}, \"autotypenumbers\": \"strict\", \"coloraxis\": {\"colorbar\": {\"outlinewidth\": 0, \"ticks\": \"\"}}, \"colorscale\": {\"diverging\": [[0, \"#8e0152\"], [0.1, \"#c51b7d\"], [0.2, \"#de77ae\"], [0.3, \"#f1b6da\"], [0.4, \"#fde0ef\"], [0.5, \"#f7f7f7\"], [0.6, \"#e6f5d0\"], [0.7, \"#b8e186\"], [0.8, \"#7fbc41\"], [0.9, \"#4d9221\"], [1, \"#276419\"]], \"sequential\": [[0.0, \"#0d0887\"], [0.1111111111111111, \"#46039f\"], [0.2222222222222222, \"#7201a8\"], [0.3333333333333333, \"#9c179e\"], [0.4444444444444444, \"#bd3786\"], [0.5555555555555556, \"#d8576b\"], [0.6666666666666666, \"#ed7953\"], [0.7777777777777778, \"#fb9f3a\"], [0.8888888888888888, \"#fdca26\"], [1.0, \"#f0f921\"]], \"sequentialminus\": [[0.0, \"#0d0887\"], [0.1111111111111111, \"#46039f\"], [0.2222222222222222, \"#7201a8\"], [0.3333333333333333, \"#9c179e\"], [0.4444444444444444, \"#bd3786\"], [0.5555555555555556, \"#d8576b\"], [0.6666666666666666, \"#ed7953\"], [0.7777777777777778, \"#fb9f3a\"], [0.8888888888888888, \"#fdca26\"], [1.0, \"#f0f921\"]]}, \"colorway\": [\"#636efa\", \"#EF553B\", \"#00cc96\", \"#ab63fa\", \"#FFA15A\", \"#19d3f3\", \"#FF6692\", \"#B6E880\", \"#FF97FF\", \"#FECB52\"], \"font\": {\"color\": \"#2a3f5f\"}, \"geo\": {\"bgcolor\": \"white\", \"lakecolor\": \"white\", \"landcolor\": \"#E5ECF6\", \"showlakes\": true, \"showland\": true, \"subunitcolor\": \"white\"}, \"hoverlabel\": {\"align\": \"left\"}, \"hovermode\": \"closest\", \"mapbox\": {\"style\": \"light\"}, \"paper_bgcolor\": \"white\", \"plot_bgcolor\": \"#E5ECF6\", \"polar\": {\"angularaxis\": {\"gridcolor\": \"white\", \"linecolor\": \"white\", \"ticks\": \"\"}, \"bgcolor\": \"#E5ECF6\", \"radialaxis\": {\"gridcolor\": \"white\", \"linecolor\": \"white\", \"ticks\": \"\"}}, \"scene\": {\"xaxis\": {\"backgroundcolor\": \"#E5ECF6\", \"gridcolor\": \"white\", \"gridwidth\": 2, \"linecolor\": \"white\", \"showbackground\": true, \"ticks\": \"\", \"zerolinecolor\": \"white\"}, \"yaxis\": {\"backgroundcolor\": \"#E5ECF6\", \"gridcolor\": \"white\", \"gridwidth\": 2, \"linecolor\": \"white\", \"showbackground\": true, \"ticks\": \"\", \"zerolinecolor\": \"white\"}, \"zaxis\": {\"backgroundcolor\": \"#E5ECF6\", \"gridcolor\": \"white\", \"gridwidth\": 2, \"linecolor\": \"white\", \"showbackground\": true, \"ticks\": \"\", \"zerolinecolor\": \"white\"}}, \"shapedefaults\": {\"line\": {\"color\": \"#2a3f5f\"}}, \"ternary\": {\"aaxis\": {\"gridcolor\": \"white\", \"linecolor\": \"white\", \"ticks\": \"\"}, \"baxis\": {\"gridcolor\": \"white\", \"linecolor\": \"white\", \"ticks\": \"\"}, \"bgcolor\": \"#E5ECF6\", \"caxis\": {\"gridcolor\": \"white\", \"linecolor\": \"white\", \"ticks\": \"\"}}, \"title\": {\"x\": 0.05}, \"xaxis\": {\"automargin\": true, \"gridcolor\": \"white\", \"linecolor\": \"white\", \"ticks\": \"\", \"title\": {\"standoff\": 15}, \"zerolinecolor\": \"white\", \"zerolinewidth\": 2}, \"yaxis\": {\"automargin\": true, \"gridcolor\": \"white\", \"linecolor\": \"white\", \"ticks\": \"\", \"title\": {\"standoff\": 15}, \"zerolinecolor\": \"white\", \"zerolinewidth\": 2}}}, \"title\": {\"text\": \"Training progress - loss\"}, \"xaxis\": {\"title\": {\"text\": \"Batch number\"}}, \"yaxis\": {\"title\": {\"text\": \"Loss\"}}},                        {\"responsive\": true}                    ).then(function(){\n",
       "                            \n",
       "var gd = document.getElementById('216c91e0-3c4f-4c49-b65e-4fa23487fb89');\n",
       "var x = new MutationObserver(function (mutations, observer) {{\n",
       "        var display = window.getComputedStyle(gd).display;\n",
       "        if (!display || display === 'none') {{\n",
       "            console.log([gd, 'removed!']);\n",
       "            Plotly.purge(gd);\n",
       "            observer.disconnect();\n",
       "        }}\n",
       "}});\n",
       "\n",
       "// Listen for the removal of the full notebook cells\n",
       "var notebookContainer = gd.closest('#notebook-container');\n",
       "if (notebookContainer) {{\n",
       "    x.observe(notebookContainer, {childList: true});\n",
       "}}\n",
       "\n",
       "// Listen for the clearing of the current output cell\n",
       "var outputEl = gd.closest('.output');\n",
       "if (outputEl) {{\n",
       "    x.observe(outputEl, {childList: true});\n",
       "}}\n",
       "\n",
       "                        })                };                });            </script>        </div>"
      ]
     },
     "metadata": {},
     "output_type": "display_data"
    }
   ],
   "source": [
    "experiment.loss_plot"
   ]
  },
  {
   "cell_type": "code",
   "execution_count": 12,
   "id": "known-teaching",
   "metadata": {},
   "outputs": [
    {
     "data": {
      "application/vnd.plotly.v1+json": {
       "config": {
        "plotlyServerURL": "https://plot.ly"
       },
       "data": [
        {
         "name": "Train",
         "type": "scatter",
         "x": [
          0,
          225,
          450,
          675,
          900,
          1125,
          1350,
          1575,
          1800,
          2025,
          2250,
          2475,
          2700,
          2925,
          3150,
          3375,
          3600,
          3825,
          4050,
          4275,
          4499
         ],
         "y": [
          0.12677777777777777,
          0.22106666666666666,
          0.24711111111111111,
          0.2611777777777778,
          0.26582222222222224,
          0.21875555555555556,
          0.21113333333333334,
          0.2020888888888889,
          0.19382222222222223,
          0.17895555555555556,
          0.18997777777777777,
          0.1857111111111111,
          0.18702222222222223,
          0.18186666666666668,
          0.18066666666666667,
          0.18004444444444445,
          0.1864,
          0.2046,
          0.21835555555555555,
          0.22393333333333335,
          0.19573333333333334
         ]
        },
        {
         "name": "Validation",
         "type": "scatter",
         "x": [
          0,
          225,
          450,
          675,
          900,
          1125,
          1350,
          1575,
          1800,
          2025,
          2250,
          2475,
          2700,
          2925,
          3150,
          3375,
          3600,
          3825,
          4050,
          4275,
          4499
         ],
         "y": [
          0.129,
          0.2296,
          0.2574,
          0.2716,
          0.273,
          0.224,
          0.2178,
          0.1992,
          0.1864,
          0.1704,
          0.1824,
          0.1796,
          0.1806,
          0.1746,
          0.1738,
          0.1724,
          0.1786,
          0.194,
          0.212,
          0.2148,
          0.189
         ]
        },
        {
         "name": "Test",
         "type": "scatter",
         "x": [
          0,
          225,
          450,
          675,
          900,
          1125,
          1350,
          1575,
          1800,
          2025,
          2250,
          2475,
          2700,
          2925,
          3150,
          3375,
          3600,
          3825,
          4050,
          4275,
          4499
         ],
         "y": [
          0.1317,
          0.218,
          0.2473,
          0.2617,
          0.2644,
          0.2151,
          0.2123,
          0.2029,
          0.1915,
          0.1778,
          0.1877,
          0.1831,
          0.1861,
          0.1804,
          0.1791,
          0.1787,
          0.1902,
          0.2089,
          0.2235,
          0.2262,
          0.1961
         ]
        }
       ],
       "layout": {
        "template": {
         "data": {
          "bar": [
           {
            "error_x": {
             "color": "#2a3f5f"
            },
            "error_y": {
             "color": "#2a3f5f"
            },
            "marker": {
             "line": {
              "color": "#E5ECF6",
              "width": 0.5
             }
            },
            "type": "bar"
           }
          ],
          "barpolar": [
           {
            "marker": {
             "line": {
              "color": "#E5ECF6",
              "width": 0.5
             }
            },
            "type": "barpolar"
           }
          ],
          "carpet": [
           {
            "aaxis": {
             "endlinecolor": "#2a3f5f",
             "gridcolor": "white",
             "linecolor": "white",
             "minorgridcolor": "white",
             "startlinecolor": "#2a3f5f"
            },
            "baxis": {
             "endlinecolor": "#2a3f5f",
             "gridcolor": "white",
             "linecolor": "white",
             "minorgridcolor": "white",
             "startlinecolor": "#2a3f5f"
            },
            "type": "carpet"
           }
          ],
          "choropleth": [
           {
            "colorbar": {
             "outlinewidth": 0,
             "ticks": ""
            },
            "type": "choropleth"
           }
          ],
          "contour": [
           {
            "colorbar": {
             "outlinewidth": 0,
             "ticks": ""
            },
            "colorscale": [
             [
              0,
              "#0d0887"
             ],
             [
              0.1111111111111111,
              "#46039f"
             ],
             [
              0.2222222222222222,
              "#7201a8"
             ],
             [
              0.3333333333333333,
              "#9c179e"
             ],
             [
              0.4444444444444444,
              "#bd3786"
             ],
             [
              0.5555555555555556,
              "#d8576b"
             ],
             [
              0.6666666666666666,
              "#ed7953"
             ],
             [
              0.7777777777777778,
              "#fb9f3a"
             ],
             [
              0.8888888888888888,
              "#fdca26"
             ],
             [
              1,
              "#f0f921"
             ]
            ],
            "type": "contour"
           }
          ],
          "contourcarpet": [
           {
            "colorbar": {
             "outlinewidth": 0,
             "ticks": ""
            },
            "type": "contourcarpet"
           }
          ],
          "heatmap": [
           {
            "colorbar": {
             "outlinewidth": 0,
             "ticks": ""
            },
            "colorscale": [
             [
              0,
              "#0d0887"
             ],
             [
              0.1111111111111111,
              "#46039f"
             ],
             [
              0.2222222222222222,
              "#7201a8"
             ],
             [
              0.3333333333333333,
              "#9c179e"
             ],
             [
              0.4444444444444444,
              "#bd3786"
             ],
             [
              0.5555555555555556,
              "#d8576b"
             ],
             [
              0.6666666666666666,
              "#ed7953"
             ],
             [
              0.7777777777777778,
              "#fb9f3a"
             ],
             [
              0.8888888888888888,
              "#fdca26"
             ],
             [
              1,
              "#f0f921"
             ]
            ],
            "type": "heatmap"
           }
          ],
          "heatmapgl": [
           {
            "colorbar": {
             "outlinewidth": 0,
             "ticks": ""
            },
            "colorscale": [
             [
              0,
              "#0d0887"
             ],
             [
              0.1111111111111111,
              "#46039f"
             ],
             [
              0.2222222222222222,
              "#7201a8"
             ],
             [
              0.3333333333333333,
              "#9c179e"
             ],
             [
              0.4444444444444444,
              "#bd3786"
             ],
             [
              0.5555555555555556,
              "#d8576b"
             ],
             [
              0.6666666666666666,
              "#ed7953"
             ],
             [
              0.7777777777777778,
              "#fb9f3a"
             ],
             [
              0.8888888888888888,
              "#fdca26"
             ],
             [
              1,
              "#f0f921"
             ]
            ],
            "type": "heatmapgl"
           }
          ],
          "histogram": [
           {
            "marker": {
             "colorbar": {
              "outlinewidth": 0,
              "ticks": ""
             }
            },
            "type": "histogram"
           }
          ],
          "histogram2d": [
           {
            "colorbar": {
             "outlinewidth": 0,
             "ticks": ""
            },
            "colorscale": [
             [
              0,
              "#0d0887"
             ],
             [
              0.1111111111111111,
              "#46039f"
             ],
             [
              0.2222222222222222,
              "#7201a8"
             ],
             [
              0.3333333333333333,
              "#9c179e"
             ],
             [
              0.4444444444444444,
              "#bd3786"
             ],
             [
              0.5555555555555556,
              "#d8576b"
             ],
             [
              0.6666666666666666,
              "#ed7953"
             ],
             [
              0.7777777777777778,
              "#fb9f3a"
             ],
             [
              0.8888888888888888,
              "#fdca26"
             ],
             [
              1,
              "#f0f921"
             ]
            ],
            "type": "histogram2d"
           }
          ],
          "histogram2dcontour": [
           {
            "colorbar": {
             "outlinewidth": 0,
             "ticks": ""
            },
            "colorscale": [
             [
              0,
              "#0d0887"
             ],
             [
              0.1111111111111111,
              "#46039f"
             ],
             [
              0.2222222222222222,
              "#7201a8"
             ],
             [
              0.3333333333333333,
              "#9c179e"
             ],
             [
              0.4444444444444444,
              "#bd3786"
             ],
             [
              0.5555555555555556,
              "#d8576b"
             ],
             [
              0.6666666666666666,
              "#ed7953"
             ],
             [
              0.7777777777777778,
              "#fb9f3a"
             ],
             [
              0.8888888888888888,
              "#fdca26"
             ],
             [
              1,
              "#f0f921"
             ]
            ],
            "type": "histogram2dcontour"
           }
          ],
          "mesh3d": [
           {
            "colorbar": {
             "outlinewidth": 0,
             "ticks": ""
            },
            "type": "mesh3d"
           }
          ],
          "parcoords": [
           {
            "line": {
             "colorbar": {
              "outlinewidth": 0,
              "ticks": ""
             }
            },
            "type": "parcoords"
           }
          ],
          "pie": [
           {
            "automargin": true,
            "type": "pie"
           }
          ],
          "scatter": [
           {
            "marker": {
             "colorbar": {
              "outlinewidth": 0,
              "ticks": ""
             }
            },
            "type": "scatter"
           }
          ],
          "scatter3d": [
           {
            "line": {
             "colorbar": {
              "outlinewidth": 0,
              "ticks": ""
             }
            },
            "marker": {
             "colorbar": {
              "outlinewidth": 0,
              "ticks": ""
             }
            },
            "type": "scatter3d"
           }
          ],
          "scattercarpet": [
           {
            "marker": {
             "colorbar": {
              "outlinewidth": 0,
              "ticks": ""
             }
            },
            "type": "scattercarpet"
           }
          ],
          "scattergeo": [
           {
            "marker": {
             "colorbar": {
              "outlinewidth": 0,
              "ticks": ""
             }
            },
            "type": "scattergeo"
           }
          ],
          "scattergl": [
           {
            "marker": {
             "colorbar": {
              "outlinewidth": 0,
              "ticks": ""
             }
            },
            "type": "scattergl"
           }
          ],
          "scattermapbox": [
           {
            "marker": {
             "colorbar": {
              "outlinewidth": 0,
              "ticks": ""
             }
            },
            "type": "scattermapbox"
           }
          ],
          "scatterpolar": [
           {
            "marker": {
             "colorbar": {
              "outlinewidth": 0,
              "ticks": ""
             }
            },
            "type": "scatterpolar"
           }
          ],
          "scatterpolargl": [
           {
            "marker": {
             "colorbar": {
              "outlinewidth": 0,
              "ticks": ""
             }
            },
            "type": "scatterpolargl"
           }
          ],
          "scatterternary": [
           {
            "marker": {
             "colorbar": {
              "outlinewidth": 0,
              "ticks": ""
             }
            },
            "type": "scatterternary"
           }
          ],
          "surface": [
           {
            "colorbar": {
             "outlinewidth": 0,
             "ticks": ""
            },
            "colorscale": [
             [
              0,
              "#0d0887"
             ],
             [
              0.1111111111111111,
              "#46039f"
             ],
             [
              0.2222222222222222,
              "#7201a8"
             ],
             [
              0.3333333333333333,
              "#9c179e"
             ],
             [
              0.4444444444444444,
              "#bd3786"
             ],
             [
              0.5555555555555556,
              "#d8576b"
             ],
             [
              0.6666666666666666,
              "#ed7953"
             ],
             [
              0.7777777777777778,
              "#fb9f3a"
             ],
             [
              0.8888888888888888,
              "#fdca26"
             ],
             [
              1,
              "#f0f921"
             ]
            ],
            "type": "surface"
           }
          ],
          "table": [
           {
            "cells": {
             "fill": {
              "color": "#EBF0F8"
             },
             "line": {
              "color": "white"
             }
            },
            "header": {
             "fill": {
              "color": "#C8D4E3"
             },
             "line": {
              "color": "white"
             }
            },
            "type": "table"
           }
          ]
         },
         "layout": {
          "annotationdefaults": {
           "arrowcolor": "#2a3f5f",
           "arrowhead": 0,
           "arrowwidth": 1
          },
          "autotypenumbers": "strict",
          "coloraxis": {
           "colorbar": {
            "outlinewidth": 0,
            "ticks": ""
           }
          },
          "colorscale": {
           "diverging": [
            [
             0,
             "#8e0152"
            ],
            [
             0.1,
             "#c51b7d"
            ],
            [
             0.2,
             "#de77ae"
            ],
            [
             0.3,
             "#f1b6da"
            ],
            [
             0.4,
             "#fde0ef"
            ],
            [
             0.5,
             "#f7f7f7"
            ],
            [
             0.6,
             "#e6f5d0"
            ],
            [
             0.7,
             "#b8e186"
            ],
            [
             0.8,
             "#7fbc41"
            ],
            [
             0.9,
             "#4d9221"
            ],
            [
             1,
             "#276419"
            ]
           ],
           "sequential": [
            [
             0,
             "#0d0887"
            ],
            [
             0.1111111111111111,
             "#46039f"
            ],
            [
             0.2222222222222222,
             "#7201a8"
            ],
            [
             0.3333333333333333,
             "#9c179e"
            ],
            [
             0.4444444444444444,
             "#bd3786"
            ],
            [
             0.5555555555555556,
             "#d8576b"
            ],
            [
             0.6666666666666666,
             "#ed7953"
            ],
            [
             0.7777777777777778,
             "#fb9f3a"
            ],
            [
             0.8888888888888888,
             "#fdca26"
            ],
            [
             1,
             "#f0f921"
            ]
           ],
           "sequentialminus": [
            [
             0,
             "#0d0887"
            ],
            [
             0.1111111111111111,
             "#46039f"
            ],
            [
             0.2222222222222222,
             "#7201a8"
            ],
            [
             0.3333333333333333,
             "#9c179e"
            ],
            [
             0.4444444444444444,
             "#bd3786"
            ],
            [
             0.5555555555555556,
             "#d8576b"
            ],
            [
             0.6666666666666666,
             "#ed7953"
            ],
            [
             0.7777777777777778,
             "#fb9f3a"
            ],
            [
             0.8888888888888888,
             "#fdca26"
            ],
            [
             1,
             "#f0f921"
            ]
           ]
          },
          "colorway": [
           "#636efa",
           "#EF553B",
           "#00cc96",
           "#ab63fa",
           "#FFA15A",
           "#19d3f3",
           "#FF6692",
           "#B6E880",
           "#FF97FF",
           "#FECB52"
          ],
          "font": {
           "color": "#2a3f5f"
          },
          "geo": {
           "bgcolor": "white",
           "lakecolor": "white",
           "landcolor": "#E5ECF6",
           "showlakes": true,
           "showland": true,
           "subunitcolor": "white"
          },
          "hoverlabel": {
           "align": "left"
          },
          "hovermode": "closest",
          "mapbox": {
           "style": "light"
          },
          "paper_bgcolor": "white",
          "plot_bgcolor": "#E5ECF6",
          "polar": {
           "angularaxis": {
            "gridcolor": "white",
            "linecolor": "white",
            "ticks": ""
           },
           "bgcolor": "#E5ECF6",
           "radialaxis": {
            "gridcolor": "white",
            "linecolor": "white",
            "ticks": ""
           }
          },
          "scene": {
           "xaxis": {
            "backgroundcolor": "#E5ECF6",
            "gridcolor": "white",
            "gridwidth": 2,
            "linecolor": "white",
            "showbackground": true,
            "ticks": "",
            "zerolinecolor": "white"
           },
           "yaxis": {
            "backgroundcolor": "#E5ECF6",
            "gridcolor": "white",
            "gridwidth": 2,
            "linecolor": "white",
            "showbackground": true,
            "ticks": "",
            "zerolinecolor": "white"
           },
           "zaxis": {
            "backgroundcolor": "#E5ECF6",
            "gridcolor": "white",
            "gridwidth": 2,
            "linecolor": "white",
            "showbackground": true,
            "ticks": "",
            "zerolinecolor": "white"
           }
          },
          "shapedefaults": {
           "line": {
            "color": "#2a3f5f"
           }
          },
          "ternary": {
           "aaxis": {
            "gridcolor": "white",
            "linecolor": "white",
            "ticks": ""
           },
           "baxis": {
            "gridcolor": "white",
            "linecolor": "white",
            "ticks": ""
           },
           "bgcolor": "#E5ECF6",
           "caxis": {
            "gridcolor": "white",
            "linecolor": "white",
            "ticks": ""
           }
          },
          "title": {
           "x": 0.05
          },
          "xaxis": {
           "automargin": true,
           "gridcolor": "white",
           "linecolor": "white",
           "ticks": "",
           "title": {
            "standoff": 15
           },
           "zerolinecolor": "white",
           "zerolinewidth": 2
          },
          "yaxis": {
           "automargin": true,
           "gridcolor": "white",
           "linecolor": "white",
           "ticks": "",
           "title": {
            "standoff": 15
           },
           "zerolinecolor": "white",
           "zerolinewidth": 2
          }
         }
        },
        "title": {
         "text": "Training progress - accuracy"
        },
        "xaxis": {
         "title": {
          "text": "Batch number"
         }
        },
        "yaxis": {
         "title": {
          "text": "Accuracy"
         }
        }
       }
      },
      "text/html": [
       "<div>                            <div id=\"721dd276-da62-48d5-a17a-ab1d0a1124be\" class=\"plotly-graph-div\" style=\"height:525px; width:100%;\"></div>            <script type=\"text/javascript\">                require([\"plotly\"], function(Plotly) {                    window.PLOTLYENV=window.PLOTLYENV || {};                                    if (document.getElementById(\"721dd276-da62-48d5-a17a-ab1d0a1124be\")) {                    Plotly.newPlot(                        \"721dd276-da62-48d5-a17a-ab1d0a1124be\",                        [{\"name\": \"Train\", \"type\": \"scatter\", \"x\": [0, 225, 450, 675, 900, 1125, 1350, 1575, 1800, 2025, 2250, 2475, 2700, 2925, 3150, 3375, 3600, 3825, 4050, 4275, 4499], \"y\": [0.12677777777777777, 0.22106666666666666, 0.24711111111111111, 0.2611777777777778, 0.26582222222222224, 0.21875555555555556, 0.21113333333333334, 0.2020888888888889, 0.19382222222222223, 0.17895555555555556, 0.18997777777777777, 0.1857111111111111, 0.18702222222222223, 0.18186666666666668, 0.18066666666666667, 0.18004444444444445, 0.1864, 0.2046, 0.21835555555555555, 0.22393333333333335, 0.19573333333333334]}, {\"name\": \"Validation\", \"type\": \"scatter\", \"x\": [0, 225, 450, 675, 900, 1125, 1350, 1575, 1800, 2025, 2250, 2475, 2700, 2925, 3150, 3375, 3600, 3825, 4050, 4275, 4499], \"y\": [0.129, 0.2296, 0.2574, 0.2716, 0.273, 0.224, 0.2178, 0.1992, 0.1864, 0.1704, 0.1824, 0.1796, 0.1806, 0.1746, 0.1738, 0.1724, 0.1786, 0.194, 0.212, 0.2148, 0.189]}, {\"name\": \"Test\", \"type\": \"scatter\", \"x\": [0, 225, 450, 675, 900, 1125, 1350, 1575, 1800, 2025, 2250, 2475, 2700, 2925, 3150, 3375, 3600, 3825, 4050, 4275, 4499], \"y\": [0.1317, 0.218, 0.2473, 0.2617, 0.2644, 0.2151, 0.2123, 0.2029, 0.1915, 0.1778, 0.1877, 0.1831, 0.1861, 0.1804, 0.1791, 0.1787, 0.1902, 0.2089, 0.2235, 0.2262, 0.1961]}],                        {\"template\": {\"data\": {\"bar\": [{\"error_x\": {\"color\": \"#2a3f5f\"}, \"error_y\": {\"color\": \"#2a3f5f\"}, \"marker\": {\"line\": {\"color\": \"#E5ECF6\", \"width\": 0.5}}, \"type\": \"bar\"}], \"barpolar\": [{\"marker\": {\"line\": {\"color\": \"#E5ECF6\", \"width\": 0.5}}, \"type\": \"barpolar\"}], \"carpet\": [{\"aaxis\": {\"endlinecolor\": \"#2a3f5f\", \"gridcolor\": \"white\", \"linecolor\": \"white\", \"minorgridcolor\": \"white\", \"startlinecolor\": \"#2a3f5f\"}, \"baxis\": {\"endlinecolor\": \"#2a3f5f\", \"gridcolor\": \"white\", \"linecolor\": \"white\", \"minorgridcolor\": \"white\", \"startlinecolor\": \"#2a3f5f\"}, \"type\": \"carpet\"}], \"choropleth\": [{\"colorbar\": {\"outlinewidth\": 0, \"ticks\": \"\"}, \"type\": \"choropleth\"}], \"contour\": [{\"colorbar\": {\"outlinewidth\": 0, \"ticks\": \"\"}, \"colorscale\": [[0.0, \"#0d0887\"], [0.1111111111111111, \"#46039f\"], [0.2222222222222222, \"#7201a8\"], [0.3333333333333333, \"#9c179e\"], [0.4444444444444444, \"#bd3786\"], [0.5555555555555556, \"#d8576b\"], [0.6666666666666666, \"#ed7953\"], [0.7777777777777778, \"#fb9f3a\"], [0.8888888888888888, \"#fdca26\"], [1.0, \"#f0f921\"]], \"type\": \"contour\"}], \"contourcarpet\": [{\"colorbar\": {\"outlinewidth\": 0, \"ticks\": \"\"}, \"type\": \"contourcarpet\"}], \"heatmap\": [{\"colorbar\": {\"outlinewidth\": 0, \"ticks\": \"\"}, \"colorscale\": [[0.0, \"#0d0887\"], [0.1111111111111111, \"#46039f\"], [0.2222222222222222, \"#7201a8\"], [0.3333333333333333, \"#9c179e\"], [0.4444444444444444, \"#bd3786\"], [0.5555555555555556, \"#d8576b\"], [0.6666666666666666, \"#ed7953\"], [0.7777777777777778, \"#fb9f3a\"], [0.8888888888888888, \"#fdca26\"], [1.0, \"#f0f921\"]], \"type\": \"heatmap\"}], \"heatmapgl\": [{\"colorbar\": {\"outlinewidth\": 0, \"ticks\": \"\"}, \"colorscale\": [[0.0, \"#0d0887\"], [0.1111111111111111, \"#46039f\"], [0.2222222222222222, \"#7201a8\"], [0.3333333333333333, \"#9c179e\"], [0.4444444444444444, \"#bd3786\"], [0.5555555555555556, \"#d8576b\"], [0.6666666666666666, \"#ed7953\"], [0.7777777777777778, \"#fb9f3a\"], [0.8888888888888888, \"#fdca26\"], [1.0, \"#f0f921\"]], \"type\": \"heatmapgl\"}], \"histogram\": [{\"marker\": {\"colorbar\": {\"outlinewidth\": 0, \"ticks\": \"\"}}, \"type\": \"histogram\"}], \"histogram2d\": [{\"colorbar\": {\"outlinewidth\": 0, \"ticks\": \"\"}, \"colorscale\": [[0.0, \"#0d0887\"], [0.1111111111111111, \"#46039f\"], [0.2222222222222222, \"#7201a8\"], [0.3333333333333333, \"#9c179e\"], [0.4444444444444444, \"#bd3786\"], [0.5555555555555556, \"#d8576b\"], [0.6666666666666666, \"#ed7953\"], [0.7777777777777778, \"#fb9f3a\"], [0.8888888888888888, \"#fdca26\"], [1.0, \"#f0f921\"]], \"type\": \"histogram2d\"}], \"histogram2dcontour\": [{\"colorbar\": {\"outlinewidth\": 0, \"ticks\": \"\"}, \"colorscale\": [[0.0, \"#0d0887\"], [0.1111111111111111, \"#46039f\"], [0.2222222222222222, \"#7201a8\"], [0.3333333333333333, \"#9c179e\"], [0.4444444444444444, \"#bd3786\"], [0.5555555555555556, \"#d8576b\"], [0.6666666666666666, \"#ed7953\"], [0.7777777777777778, \"#fb9f3a\"], [0.8888888888888888, \"#fdca26\"], [1.0, \"#f0f921\"]], \"type\": \"histogram2dcontour\"}], \"mesh3d\": [{\"colorbar\": {\"outlinewidth\": 0, \"ticks\": \"\"}, \"type\": \"mesh3d\"}], \"parcoords\": [{\"line\": {\"colorbar\": {\"outlinewidth\": 0, \"ticks\": \"\"}}, \"type\": \"parcoords\"}], \"pie\": [{\"automargin\": true, \"type\": \"pie\"}], \"scatter\": [{\"marker\": {\"colorbar\": {\"outlinewidth\": 0, \"ticks\": \"\"}}, \"type\": \"scatter\"}], \"scatter3d\": [{\"line\": {\"colorbar\": {\"outlinewidth\": 0, \"ticks\": \"\"}}, \"marker\": {\"colorbar\": {\"outlinewidth\": 0, \"ticks\": \"\"}}, \"type\": \"scatter3d\"}], \"scattercarpet\": [{\"marker\": {\"colorbar\": {\"outlinewidth\": 0, \"ticks\": \"\"}}, \"type\": \"scattercarpet\"}], \"scattergeo\": [{\"marker\": {\"colorbar\": {\"outlinewidth\": 0, \"ticks\": \"\"}}, \"type\": \"scattergeo\"}], \"scattergl\": [{\"marker\": {\"colorbar\": {\"outlinewidth\": 0, \"ticks\": \"\"}}, \"type\": \"scattergl\"}], \"scattermapbox\": [{\"marker\": {\"colorbar\": {\"outlinewidth\": 0, \"ticks\": \"\"}}, \"type\": \"scattermapbox\"}], \"scatterpolar\": [{\"marker\": {\"colorbar\": {\"outlinewidth\": 0, \"ticks\": \"\"}}, \"type\": \"scatterpolar\"}], \"scatterpolargl\": [{\"marker\": {\"colorbar\": {\"outlinewidth\": 0, \"ticks\": \"\"}}, \"type\": \"scatterpolargl\"}], \"scatterternary\": [{\"marker\": {\"colorbar\": {\"outlinewidth\": 0, \"ticks\": \"\"}}, \"type\": \"scatterternary\"}], \"surface\": [{\"colorbar\": {\"outlinewidth\": 0, \"ticks\": \"\"}, \"colorscale\": [[0.0, \"#0d0887\"], [0.1111111111111111, \"#46039f\"], [0.2222222222222222, \"#7201a8\"], [0.3333333333333333, \"#9c179e\"], [0.4444444444444444, \"#bd3786\"], [0.5555555555555556, \"#d8576b\"], [0.6666666666666666, \"#ed7953\"], [0.7777777777777778, \"#fb9f3a\"], [0.8888888888888888, \"#fdca26\"], [1.0, \"#f0f921\"]], \"type\": \"surface\"}], \"table\": [{\"cells\": {\"fill\": {\"color\": \"#EBF0F8\"}, \"line\": {\"color\": \"white\"}}, \"header\": {\"fill\": {\"color\": \"#C8D4E3\"}, \"line\": {\"color\": \"white\"}}, \"type\": \"table\"}]}, \"layout\": {\"annotationdefaults\": {\"arrowcolor\": \"#2a3f5f\", \"arrowhead\": 0, \"arrowwidth\": 1}, \"autotypenumbers\": \"strict\", \"coloraxis\": {\"colorbar\": {\"outlinewidth\": 0, \"ticks\": \"\"}}, \"colorscale\": {\"diverging\": [[0, \"#8e0152\"], [0.1, \"#c51b7d\"], [0.2, \"#de77ae\"], [0.3, \"#f1b6da\"], [0.4, \"#fde0ef\"], [0.5, \"#f7f7f7\"], [0.6, \"#e6f5d0\"], [0.7, \"#b8e186\"], [0.8, \"#7fbc41\"], [0.9, \"#4d9221\"], [1, \"#276419\"]], \"sequential\": [[0.0, \"#0d0887\"], [0.1111111111111111, \"#46039f\"], [0.2222222222222222, \"#7201a8\"], [0.3333333333333333, \"#9c179e\"], [0.4444444444444444, \"#bd3786\"], [0.5555555555555556, \"#d8576b\"], [0.6666666666666666, \"#ed7953\"], [0.7777777777777778, \"#fb9f3a\"], [0.8888888888888888, \"#fdca26\"], [1.0, \"#f0f921\"]], \"sequentialminus\": [[0.0, \"#0d0887\"], [0.1111111111111111, \"#46039f\"], [0.2222222222222222, \"#7201a8\"], [0.3333333333333333, \"#9c179e\"], [0.4444444444444444, \"#bd3786\"], [0.5555555555555556, \"#d8576b\"], [0.6666666666666666, \"#ed7953\"], [0.7777777777777778, \"#fb9f3a\"], [0.8888888888888888, \"#fdca26\"], [1.0, \"#f0f921\"]]}, \"colorway\": [\"#636efa\", \"#EF553B\", \"#00cc96\", \"#ab63fa\", \"#FFA15A\", \"#19d3f3\", \"#FF6692\", \"#B6E880\", \"#FF97FF\", \"#FECB52\"], \"font\": {\"color\": \"#2a3f5f\"}, \"geo\": {\"bgcolor\": \"white\", \"lakecolor\": \"white\", \"landcolor\": \"#E5ECF6\", \"showlakes\": true, \"showland\": true, \"subunitcolor\": \"white\"}, \"hoverlabel\": {\"align\": \"left\"}, \"hovermode\": \"closest\", \"mapbox\": {\"style\": \"light\"}, \"paper_bgcolor\": \"white\", \"plot_bgcolor\": \"#E5ECF6\", \"polar\": {\"angularaxis\": {\"gridcolor\": \"white\", \"linecolor\": \"white\", \"ticks\": \"\"}, \"bgcolor\": \"#E5ECF6\", \"radialaxis\": {\"gridcolor\": \"white\", \"linecolor\": \"white\", \"ticks\": \"\"}}, \"scene\": {\"xaxis\": {\"backgroundcolor\": \"#E5ECF6\", \"gridcolor\": \"white\", \"gridwidth\": 2, \"linecolor\": \"white\", \"showbackground\": true, \"ticks\": \"\", \"zerolinecolor\": \"white\"}, \"yaxis\": {\"backgroundcolor\": \"#E5ECF6\", \"gridcolor\": \"white\", \"gridwidth\": 2, \"linecolor\": \"white\", \"showbackground\": true, \"ticks\": \"\", \"zerolinecolor\": \"white\"}, \"zaxis\": {\"backgroundcolor\": \"#E5ECF6\", \"gridcolor\": \"white\", \"gridwidth\": 2, \"linecolor\": \"white\", \"showbackground\": true, \"ticks\": \"\", \"zerolinecolor\": \"white\"}}, \"shapedefaults\": {\"line\": {\"color\": \"#2a3f5f\"}}, \"ternary\": {\"aaxis\": {\"gridcolor\": \"white\", \"linecolor\": \"white\", \"ticks\": \"\"}, \"baxis\": {\"gridcolor\": \"white\", \"linecolor\": \"white\", \"ticks\": \"\"}, \"bgcolor\": \"#E5ECF6\", \"caxis\": {\"gridcolor\": \"white\", \"linecolor\": \"white\", \"ticks\": \"\"}}, \"title\": {\"x\": 0.05}, \"xaxis\": {\"automargin\": true, \"gridcolor\": \"white\", \"linecolor\": \"white\", \"ticks\": \"\", \"title\": {\"standoff\": 15}, \"zerolinecolor\": \"white\", \"zerolinewidth\": 2}, \"yaxis\": {\"automargin\": true, \"gridcolor\": \"white\", \"linecolor\": \"white\", \"ticks\": \"\", \"title\": {\"standoff\": 15}, \"zerolinecolor\": \"white\", \"zerolinewidth\": 2}}}, \"title\": {\"text\": \"Training progress - accuracy\"}, \"xaxis\": {\"title\": {\"text\": \"Batch number\"}}, \"yaxis\": {\"title\": {\"text\": \"Accuracy\"}}},                        {\"responsive\": true}                    ).then(function(){\n",
       "                            \n",
       "var gd = document.getElementById('721dd276-da62-48d5-a17a-ab1d0a1124be');\n",
       "var x = new MutationObserver(function (mutations, observer) {{\n",
       "        var display = window.getComputedStyle(gd).display;\n",
       "        if (!display || display === 'none') {{\n",
       "            console.log([gd, 'removed!']);\n",
       "            Plotly.purge(gd);\n",
       "            observer.disconnect();\n",
       "        }}\n",
       "}});\n",
       "\n",
       "// Listen for the removal of the full notebook cells\n",
       "var notebookContainer = gd.closest('#notebook-container');\n",
       "if (notebookContainer) {{\n",
       "    x.observe(notebookContainer, {childList: true});\n",
       "}}\n",
       "\n",
       "// Listen for the clearing of the current output cell\n",
       "var outputEl = gd.closest('.output');\n",
       "if (outputEl) {{\n",
       "    x.observe(outputEl, {childList: true});\n",
       "}}\n",
       "\n",
       "                        })                };                });            </script>        </div>"
      ]
     },
     "metadata": {},
     "output_type": "display_data"
    }
   ],
   "source": [
    "experiment.accuracy_plot"
   ]
  },
  {
   "cell_type": "markdown",
   "id": "handy-bankruptcy",
   "metadata": {},
   "source": [
    "## 9-layer network"
   ]
  },
  {
   "cell_type": "code",
   "execution_count": null,
   "id": "seven-absorption",
   "metadata": {},
   "outputs": [],
   "source": [
    "experiment = train(hidden_dims=[50, 30, 20, 20, 10, 10, 10, 10])\n",
    "vector_to_image(*experiment.classifier.templates)"
   ]
  },
  {
   "cell_type": "code",
   "execution_count": null,
   "id": "inner-pierce",
   "metadata": {},
   "outputs": [],
   "source": [
    "experiment.loss_plot"
   ]
  },
  {
   "cell_type": "code",
   "execution_count": null,
   "id": "artistic-weekly",
   "metadata": {},
   "outputs": [],
   "source": [
    "experiment.accuracy_plot"
   ]
  },
  {
   "cell_type": "markdown",
   "id": "southeast-spectacular",
   "metadata": {},
   "source": [
    "# With batch normalization"
   ]
  },
  {
   "cell_type": "markdown",
   "id": "quiet-salem",
   "metadata": {},
   "source": [
    "## Search for regularization"
   ]
  },
  {
   "cell_type": "code",
   "execution_count": null,
   "id": "driven-diving",
   "metadata": {},
   "outputs": [],
   "source": [
    "experiments_by_regularization = {\n",
    "    regularization: regularization_experiment(regularization)\n",
    "    for regularization in tqdm(10 ** np.linspace(-12, 0, 10))\n",
    "}"
   ]
  },
  {
   "cell_type": "code",
   "execution_count": null,
   "id": "wound-conversation",
   "metadata": {
    "scrolled": false
   },
   "outputs": [],
   "source": [
    "def regularization_plot():\n",
    "    return go.Figure(\n",
    "        layout=dict(\n",
    "            title=\"In search of the optimal regularization\",\n",
    "            xaxis_title=\"Regularization\",\n",
    "            xaxis_type=\"log\",\n",
    "            yaxis_title=\"Validation accuracy\",\n",
    "        ),\n",
    "        data=[\n",
    "            go.Scatter(\n",
    "                mode=\"markers\",\n",
    "                x=list(experiments_by_regularization.keys()),\n",
    "                y=[experiment.final_accuracy for experiment in experiments_by_regularization.values()],\n",
    "            )\n",
    "        ]\n",
    "    )\n",
    "\n",
    "regularization_plot()"
   ]
  },
  {
   "cell_type": "code",
   "execution_count": null,
   "id": "available-rescue",
   "metadata": {},
   "outputs": [],
   "source": [
    "for regularization in tqdm(10 ** np.linspace(-5, -3, 10)):\n",
    "    experiments_by_regularization[regularization] = regularization_experiment(regularization)\n",
    "    \n",
    "regularization_plot()"
   ]
  },
  {
   "cell_type": "code",
   "execution_count": null,
   "id": "homeless-arthritis",
   "metadata": {},
   "outputs": [],
   "source": [
    "experiment = Experiment.run(\n",
    "    data=split_data,\n",
    "    classifier=Classifier.from_dims(\n",
    "        [32 * 32 * 3, 50, 10],\n",
    "        normalize=make_normalizer(split_data[\"train\"][\"features\"])\n",
    "    ),\n",
    "    learning_rate=CyclicLearningRate(\n",
    "        low=1e-5,\n",
    "        high=1e-1,\n",
    "        batches_per_cycle=8 * len(split_data[\"train\"][\"features\"]) // 100\n",
    "    ),\n",
    "    num_cycles=3,\n",
    "    batch_size=100,\n",
    "    regularization=max(\n",
    "        experiments_by_regularization.keys(),\n",
    "        key=lambda regularization: experiments_by_regularization[regularization].final_accuracy,\n",
    "    ),\n",
    ")\n",
    "vector_to_image(*experiment.classifier.templates)"
   ]
  },
  {
   "cell_type": "code",
   "execution_count": null,
   "id": "competent-washer",
   "metadata": {},
   "outputs": [],
   "source": [
    "experiment.loss_plot"
   ]
  },
  {
   "cell_type": "code",
   "execution_count": null,
   "id": "native-domain",
   "metadata": {},
   "outputs": [],
   "source": [
    "experiment.accuracy_plot"
   ]
  }
 ],
 "metadata": {
  "kernelspec": {
   "display_name": "Python 3",
   "language": "python",
   "name": "python3"
  },
  "language_info": {
   "codemirror_mode": {
    "name": "ipython",
    "version": 3
   },
   "file_extension": ".py",
   "mimetype": "text/x-python",
   "name": "python",
   "nbconvert_exporter": "python",
   "pygments_lexer": "ipython3",
   "version": "3.9.0"
  },
  "widgets": {
   "application/vnd.jupyter.widget-state+json": {
    "state": {
     "004d16cdf4144c7c86a42ecda895ac14": {
      "model_module": "@jupyter-widgets/controls",
      "model_module_version": "1.5.0",
      "model_name": "HTMLModel",
      "state": {
       "layout": "IPY_MODEL_12e98fd32eff4113aca06d6617653838",
       "style": "IPY_MODEL_a0a893250a0d4be4819ac597f4eac8b0",
       "value": " 10800/10800 [07:12&lt;00:00, 32.31it/s]"
      }
     },
     "00954ebda6bd4120a3a390d16d85698b": {
      "model_module": "@jupyter-widgets/controls",
      "model_module_version": "1.5.0",
      "model_name": "HBoxModel",
      "state": {
       "children": [
        "IPY_MODEL_712262a248734957ae75c3ebb5539e48",
        "IPY_MODEL_d94d8dc965664c13a910d26f26855e4e",
        "IPY_MODEL_71a5242d0275427f9310ed9aebe4f658"
       ],
       "layout": "IPY_MODEL_5f976b65d3a143daa3b5fe084353a8f1"
      }
     },
     "00fcf02a39a8417a81d1db16b2bc499e": {
      "model_module": "@jupyter-widgets/controls",
      "model_module_version": "1.5.0",
      "model_name": "DescriptionStyleModel",
      "state": {
       "description_width": ""
      }
     },
     "0105cb3e55fc42ccb1a151d2b8fe777d": {
      "model_module": "@jupyter-widgets/controls",
      "model_module_version": "1.5.0",
      "model_name": "DescriptionStyleModel",
      "state": {
       "description_width": ""
      }
     },
     "011a086d5503498eb80a053c068f4ece": {
      "model_module": "@jupyter-widgets/base",
      "model_module_version": "1.2.0",
      "model_name": "LayoutModel",
      "state": {}
     },
     "0187655f24bb44de922d710b398b9785": {
      "model_module": "@jupyter-widgets/base",
      "model_module_version": "1.2.0",
      "model_name": "LayoutModel",
      "state": {}
     },
     "01b4976babd247719c4db62efdf5ac4c": {
      "model_module": "@jupyter-widgets/controls",
      "model_module_version": "1.5.0",
      "model_name": "HTMLModel",
      "state": {
       "layout": "IPY_MODEL_8c1fd1d6e9964aba99554680b6ac011a",
       "style": "IPY_MODEL_b6c10902223147d2935755abb9661c84",
       "value": " 4800/4800 [04:35&lt;00:00, 29.88it/s]"
      }
     },
     "01b84ee25ea94d2383e8650e08ff2f9b": {
      "model_module": "@jupyter-widgets/controls",
      "model_module_version": "1.5.0",
      "model_name": "DescriptionStyleModel",
      "state": {
       "description_width": ""
      }
     },
     "01bdf4aa37ba4849a5486a415cdfd1cc": {
      "model_module": "@jupyter-widgets/controls",
      "model_module_version": "1.5.0",
      "model_name": "DescriptionStyleModel",
      "state": {
       "description_width": ""
      }
     },
     "01e975b9dd1d498e9773248affd2b0ce": {
      "model_module": "@jupyter-widgets/controls",
      "model_module_version": "1.5.0",
      "model_name": "HBoxModel",
      "state": {
       "children": [
        "IPY_MODEL_5c6641a456084347a65d048b3354ce78",
        "IPY_MODEL_16d8d11e1bbd458eb6480feaae209d9f",
        "IPY_MODEL_416fc8fac53446e289e53a023d6c60d9"
       ],
       "layout": "IPY_MODEL_279f20c84a6348049535c3fcba72fd70"
      }
     },
     "022a8511592241d4a83a1b9dcf81e5a7": {
      "model_module": "@jupyter-widgets/base",
      "model_module_version": "1.2.0",
      "model_name": "LayoutModel",
      "state": {}
     },
     "024c0457d5504897a11a256c8c95392a": {
      "model_module": "@jupyter-widgets/controls",
      "model_module_version": "1.5.0",
      "model_name": "HBoxModel",
      "state": {
       "children": [
        "IPY_MODEL_2a83cd24faca458a93687b10f9d007d3",
        "IPY_MODEL_d4ae3560a9874126b4f9a1e8ff65c998",
        "IPY_MODEL_19cf3d406da545b38b1df27236256e14"
       ],
       "layout": "IPY_MODEL_199ec605031a4aa7a000d66c456dfee8"
      }
     },
     "0252c56ee4904b24a29cf0ec0b9bae5c": {
      "model_module": "@jupyter-widgets/base",
      "model_module_version": "1.2.0",
      "model_name": "LayoutModel",
      "state": {}
     },
     "029ea94bd2eb4c3abc97d9d1a945680e": {
      "model_module": "@jupyter-widgets/controls",
      "model_module_version": "1.5.0",
      "model_name": "HTMLModel",
      "state": {
       "layout": "IPY_MODEL_8d233f4688cc4d51b448ca34595bf79c",
       "style": "IPY_MODEL_d63f02874ec94b0b8f4ae4be01cc685b",
       "value": " 3600/3600 [02:57&lt;00:00, 17.96it/s]"
      }
     },
     "03235913f1f840069a710a171051798c": {
      "model_module": "@jupyter-widgets/controls",
      "model_module_version": "1.5.0",
      "model_name": "DescriptionStyleModel",
      "state": {
       "description_width": ""
      }
     },
     "0352d4ba28c7415c90bf5203e04a210a": {
      "model_module": "@jupyter-widgets/base",
      "model_module_version": "1.2.0",
      "model_name": "LayoutModel",
      "state": {}
     },
     "0356a23ae79944cea4ba1a9799b279cc": {
      "model_module": "@jupyter-widgets/base",
      "model_module_version": "1.2.0",
      "model_name": "LayoutModel",
      "state": {}
     },
     "038de0fb423942ebb275fe05850dc6ad": {
      "model_module": "@jupyter-widgets/controls",
      "model_module_version": "1.5.0",
      "model_name": "ProgressStyleModel",
      "state": {
       "description_width": ""
      }
     },
     "03a5208f11a94e559b5a3a55c4027a70": {
      "model_module": "@jupyter-widgets/controls",
      "model_module_version": "1.5.0",
      "model_name": "HTMLModel",
      "state": {
       "layout": "IPY_MODEL_5cba6c12711647b592f14f0fd5574551",
       "style": "IPY_MODEL_8a19f470a31c4e51bee7c43be82a90aa",
       "value": "100%"
      }
     },
     "03f3c123cef84b46b1187828d218404f": {
      "model_module": "@jupyter-widgets/controls",
      "model_module_version": "1.5.0",
      "model_name": "DescriptionStyleModel",
      "state": {
       "description_width": ""
      }
     },
     "0421fd74fae14a8392ebf91b0c8a1e02": {
      "model_module": "@jupyter-widgets/controls",
      "model_module_version": "1.5.0",
      "model_name": "HBoxModel",
      "state": {
       "children": [
        "IPY_MODEL_3061a0c570434145b62c3dfa73a5517a",
        "IPY_MODEL_5f5c9ba83400417cafa1b0388026db18",
        "IPY_MODEL_1a342cc4d4494ffeb84302ab54f426ba"
       ],
       "layout": "IPY_MODEL_58f6fe43aab74767bc365739d6344fe7"
      }
     },
     "044900d4847447b9a5e3b65cce77be08": {
      "model_module": "@jupyter-widgets/controls",
      "model_module_version": "1.5.0",
      "model_name": "HTMLModel",
      "state": {
       "layout": "IPY_MODEL_88485c3020604115be40819f8d1a93f6",
       "style": "IPY_MODEL_da015203a71d4437924315078970847c",
       "value": "100%"
      }
     },
     "045de7498e4e4aab81b1f2bad027efff": {
      "model_module": "@jupyter-widgets/controls",
      "model_module_version": "1.5.0",
      "model_name": "HTMLModel",
      "state": {
       "layout": "IPY_MODEL_9bf5d50003b74eb0b4d02a322b430d6b",
       "style": "IPY_MODEL_93a23b90ce294c4ab24fc54eef16f8f7",
       "value": " 3600/3600 [02:26&lt;00:00, 25.65it/s]"
      }
     },
     "0481e76c23d044ff88815ecf8545f96c": {
      "model_module": "@jupyter-widgets/controls",
      "model_module_version": "1.5.0",
      "model_name": "FloatProgressModel",
      "state": {
       "bar_style": "success",
       "layout": "IPY_MODEL_050bc0142c684ab1baac9d499cf8ca9f",
       "max": 3600,
       "style": "IPY_MODEL_06d2267bab6b43f9b83674c6596ee285",
       "value": 3600
      }
     },
     "0484c94c74494a3caa8abc3f997f3759": {
      "model_module": "@jupyter-widgets/controls",
      "model_module_version": "1.5.0",
      "model_name": "DescriptionStyleModel",
      "state": {
       "description_width": ""
      }
     },
     "050bc0142c684ab1baac9d499cf8ca9f": {
      "model_module": "@jupyter-widgets/base",
      "model_module_version": "1.2.0",
      "model_name": "LayoutModel",
      "state": {}
     },
     "054bcb924932469f9bd81741a59a08f3": {
      "model_module": "@jupyter-widgets/controls",
      "model_module_version": "1.5.0",
      "model_name": "ProgressStyleModel",
      "state": {
       "description_width": ""
      }
     },
     "055b24d5785942339351f377e3966382": {
      "model_module": "@jupyter-widgets/base",
      "model_module_version": "1.2.0",
      "model_name": "LayoutModel",
      "state": {}
     },
     "0568fa4500f04f728a64f68c51e6dc01": {
      "model_module": "@jupyter-widgets/controls",
      "model_module_version": "1.5.0",
      "model_name": "HTMLModel",
      "state": {
       "layout": "IPY_MODEL_3810a06cb348417aa7b15008bb0cb6ce",
       "style": "IPY_MODEL_cd5e6b5b2ade43f58d2b0ba32e5b668d",
       "value": " 0/4500 [00:00&lt;?, ?it/s]"
      }
     },
     "05a2623011924f1f8462b088c988d601": {
      "model_module": "@jupyter-widgets/base",
      "model_module_version": "1.2.0",
      "model_name": "LayoutModel",
      "state": {}
     },
     "05c6db95a6664ac49f6b7aa8820a837c": {
      "model_module": "@jupyter-widgets/controls",
      "model_module_version": "1.5.0",
      "model_name": "FloatProgressModel",
      "state": {
       "bar_style": "success",
       "layout": "IPY_MODEL_b5d9598e63164e51b36140a591ebe56d",
       "max": 3600,
       "style": "IPY_MODEL_6b53d4c300c14d6e989de0c4d0352a4a",
       "value": 3600
      }
     },
     "06158876fbce4045a731ed339b0ebe64": {
      "model_module": "@jupyter-widgets/base",
      "model_module_version": "1.2.0",
      "model_name": "LayoutModel",
      "state": {}
     },
     "0626f14e624f4f1aa52c3fb1f428e11d": {
      "model_module": "@jupyter-widgets/controls",
      "model_module_version": "1.5.0",
      "model_name": "HBoxModel",
      "state": {
       "children": [
        "IPY_MODEL_a2d87a343eb3472880570d4ebd8e0bca",
        "IPY_MODEL_fc92988d9f394570b36e0b41026a158e",
        "IPY_MODEL_316159ec3bbb4a538692bf9736663372"
       ],
       "layout": "IPY_MODEL_999540d56a524133acd79353d9a8079e"
      }
     },
     "064941a31e9d45acb03c3ffc3099ec36": {
      "model_module": "@jupyter-widgets/controls",
      "model_module_version": "1.5.0",
      "model_name": "HTMLModel",
      "state": {
       "layout": "IPY_MODEL_433ba1488e744afea72d5eaa1fffbe90",
       "style": "IPY_MODEL_37af398df6c14d7381d3372f469058c0",
       "value": " 3600/3600 [01:57&lt;00:00, 31.63it/s]"
      }
     },
     "064d19d211c14a0d977cf96b5d3629b8": {
      "model_module": "@jupyter-widgets/controls",
      "model_module_version": "1.5.0",
      "model_name": "FloatProgressModel",
      "state": {
       "bar_style": "success",
       "layout": "IPY_MODEL_0f5068bb82ea40ea96c1b5177b746989",
       "max": 11,
       "style": "IPY_MODEL_32c0b77520de4000ac2912caa8d1c9be",
       "value": 11
      }
     },
     "067a9cfd0abd4a8d85f602639c257cf6": {
      "model_module": "@jupyter-widgets/base",
      "model_module_version": "1.2.0",
      "model_name": "LayoutModel",
      "state": {}
     },
     "06d2267bab6b43f9b83674c6596ee285": {
      "model_module": "@jupyter-widgets/controls",
      "model_module_version": "1.5.0",
      "model_name": "ProgressStyleModel",
      "state": {
       "description_width": ""
      }
     },
     "0741ce1f526a45eba56771b353b486d6": {
      "model_module": "@jupyter-widgets/controls",
      "model_module_version": "1.5.0",
      "model_name": "DescriptionStyleModel",
      "state": {
       "description_width": ""
      }
     },
     "074f1b18b9de4efe9db4ab73a2b7b4c9": {
      "model_module": "@jupyter-widgets/base",
      "model_module_version": "1.2.0",
      "model_name": "LayoutModel",
      "state": {}
     },
     "076b7294725d4cdb99ea9bdc21493676": {
      "model_module": "@jupyter-widgets/base",
      "model_module_version": "1.2.0",
      "model_name": "LayoutModel",
      "state": {}
     },
     "07a1eefa1f684e0e8fee1aa437bb1268": {
      "model_module": "@jupyter-widgets/base",
      "model_module_version": "1.2.0",
      "model_name": "LayoutModel",
      "state": {}
     },
     "080c4a03acb247ff945dd61c76edf580": {
      "model_module": "@jupyter-widgets/controls",
      "model_module_version": "1.5.0",
      "model_name": "FloatProgressModel",
      "state": {
       "bar_style": "success",
       "layout": "IPY_MODEL_46b89f8bea804893b2f89db5102dfaf9",
       "max": 10,
       "style": "IPY_MODEL_c761307cafc5499e99f1ad51aa0da565",
       "value": 10
      }
     },
     "08547f1e8ba742ddb440ad77d4847057": {
      "model_module": "@jupyter-widgets/controls",
      "model_module_version": "1.5.0",
      "model_name": "ProgressStyleModel",
      "state": {
       "description_width": ""
      }
     },
     "0899f6bd6bdf4ae89ca5c54df67b22c1": {
      "model_module": "@jupyter-widgets/base",
      "model_module_version": "1.2.0",
      "model_name": "LayoutModel",
      "state": {}
     },
     "08cd11802908411c9b90ac331cbb7faf": {
      "model_module": "@jupyter-widgets/controls",
      "model_module_version": "1.5.0",
      "model_name": "HBoxModel",
      "state": {
       "children": [
        "IPY_MODEL_f977f551f1d3482bb2ed7ab89dcbaa35",
        "IPY_MODEL_49126483d2be4d15bde162537d89ce38",
        "IPY_MODEL_86c625fa00404d73b956e9413c12ceec"
       ],
       "layout": "IPY_MODEL_491f7ac9830b4a9797e4b28a6a74a820"
      }
     },
     "08e9e9e4d4c94bb593c6b28ff83804b8": {
      "model_module": "@jupyter-widgets/controls",
      "model_module_version": "1.5.0",
      "model_name": "HTMLModel",
      "state": {
       "layout": "IPY_MODEL_790274d525f9433fa3250cba1b4284af",
       "style": "IPY_MODEL_8d3f560a9fb6424fafb12d012585b2dc",
       "value": "100%"
      }
     },
     "090a09bfe63a415285415518b78ea8f7": {
      "model_module": "@jupyter-widgets/controls",
      "model_module_version": "1.5.0",
      "model_name": "FloatProgressModel",
      "state": {
       "bar_style": "success",
       "layout": "IPY_MODEL_7fdd1352089d4788ab442163b17a5dcc",
       "max": 3600,
       "style": "IPY_MODEL_ee1c994703f8430ca01bd3692da9ee27",
       "value": 3600
      }
     },
     "09557da604144e03b07f7ed0d53f235f": {
      "model_module": "@jupyter-widgets/base",
      "model_module_version": "1.2.0",
      "model_name": "LayoutModel",
      "state": {}
     },
     "09bd513d51e74900adcc4163c0a9d997": {
      "model_module": "@jupyter-widgets/controls",
      "model_module_version": "1.5.0",
      "model_name": "ProgressStyleModel",
      "state": {
       "description_width": ""
      }
     },
     "09c99ed1afa1457cb77faeb83be841df": {
      "model_module": "@jupyter-widgets/controls",
      "model_module_version": "1.5.0",
      "model_name": "HTMLModel",
      "state": {
       "layout": "IPY_MODEL_d2a080e602e242418ca1152452c7d3c3",
       "style": "IPY_MODEL_4f3273982b4342439bbf96c6692b1718",
       "value": "100%"
      }
     },
     "09ec1a9323624a5cbaaa1426be7f53ed": {
      "model_module": "@jupyter-widgets/controls",
      "model_module_version": "1.5.0",
      "model_name": "HTMLModel",
      "state": {
       "layout": "IPY_MODEL_c8ba4e3105094548bcd215eabe327854",
       "style": "IPY_MODEL_00fcf02a39a8417a81d1db16b2bc499e",
       "value": " 3600/3600 [02:00&lt;00:00, 30.20it/s]"
      }
     },
     "0a1714629bbd45edbe5fc605c16eb09c": {
      "model_module": "@jupyter-widgets/controls",
      "model_module_version": "1.5.0",
      "model_name": "HTMLModel",
      "state": {
       "layout": "IPY_MODEL_9c654564541040d2a6d342db7c766315",
       "style": "IPY_MODEL_1233d47bafec4498b2c10484a75528b2",
       "value": " 11/11 [00:05&lt;00:00,  2.14it/s]"
      }
     },
     "0a1beffa582949c6b61ab53eb7ee0923": {
      "model_module": "@jupyter-widgets/base",
      "model_module_version": "1.2.0",
      "model_name": "LayoutModel",
      "state": {}
     },
     "0a6c281703354aecb69b0f98cddf1d91": {
      "model_module": "@jupyter-widgets/controls",
      "model_module_version": "1.5.0",
      "model_name": "HBoxModel",
      "state": {
       "children": [
        "IPY_MODEL_c64cc2d2ea124139b68e0a09396fe37e",
        "IPY_MODEL_eb4ef1e513c946518f25279c72726294",
        "IPY_MODEL_30dc138cf3834925838da6c9f4c6ace5"
       ],
       "layout": "IPY_MODEL_b45f5e1be9de4728bf742af4a14f35ef"
      }
     },
     "0a8c13b91ed94d20b1c7b531f3cc95f1": {
      "model_module": "@jupyter-widgets/controls",
      "model_module_version": "1.5.0",
      "model_name": "DescriptionStyleModel",
      "state": {
       "description_width": ""
      }
     },
     "0a955fc0dc514ad880a660ac187c6522": {
      "model_module": "@jupyter-widgets/controls",
      "model_module_version": "1.5.0",
      "model_name": "DescriptionStyleModel",
      "state": {
       "description_width": ""
      }
     },
     "0ae5fa3b3e584cee8736cd293de6bcb7": {
      "model_module": "@jupyter-widgets/base",
      "model_module_version": "1.2.0",
      "model_name": "LayoutModel",
      "state": {}
     },
     "0b001b7c75d049a7b5a169ce7691a40c": {
      "model_module": "@jupyter-widgets/controls",
      "model_module_version": "1.5.0",
      "model_name": "HBoxModel",
      "state": {
       "children": [
        "IPY_MODEL_6c59d45f288241019571358282d198a4",
        "IPY_MODEL_1bde66b1fc6d4c9994b73481105b85be",
        "IPY_MODEL_f94fd3bcda784a93a329669fe45c4838"
       ],
       "layout": "IPY_MODEL_7e0f7a29e25b4039a1a1ac8897131293"
      }
     },
     "0b08e14e75f6417ba79de1ac48b76211": {
      "model_module": "@jupyter-widgets/base",
      "model_module_version": "1.2.0",
      "model_name": "LayoutModel",
      "state": {}
     },
     "0b16f6a67e3847d7ab0fdc15f7296e11": {
      "model_module": "@jupyter-widgets/controls",
      "model_module_version": "1.5.0",
      "model_name": "HBoxModel",
      "state": {
       "children": [
        "IPY_MODEL_70f230b3d1024388ab47ce4c09ed0b93",
        "IPY_MODEL_38ca0ab73bf34d9ba30e898c3994636a",
        "IPY_MODEL_21560e0931b44efbad4238d10cbc8a06"
       ],
       "layout": "IPY_MODEL_b81b21f272ee4cee856913e9528442a4"
      }
     },
     "0b4be24c04e044ccb93c2eca314df1d4": {
      "model_module": "@jupyter-widgets/base",
      "model_module_version": "1.2.0",
      "model_name": "LayoutModel",
      "state": {}
     },
     "0b65d159126d405698b11d6dd2149c35": {
      "model_module": "@jupyter-widgets/controls",
      "model_module_version": "1.5.0",
      "model_name": "HTMLModel",
      "state": {
       "layout": "IPY_MODEL_bef7d1587d4543c09b4caab43244a07b",
       "style": "IPY_MODEL_48c550f33f3b41c4ba1b8365dde7cdf3",
       "value": "100%"
      }
     },
     "0b8701a16525427ca2be17bcc89ff36f": {
      "model_module": "@jupyter-widgets/base",
      "model_module_version": "1.2.0",
      "model_name": "LayoutModel",
      "state": {}
     },
     "0b8d0d9983004639a5fbd26599aba118": {
      "model_module": "@jupyter-widgets/controls",
      "model_module_version": "1.5.0",
      "model_name": "ProgressStyleModel",
      "state": {
       "description_width": ""
      }
     },
     "0b967c09141641cbbaba163286a47fa4": {
      "model_module": "@jupyter-widgets/controls",
      "model_module_version": "1.5.0",
      "model_name": "DescriptionStyleModel",
      "state": {
       "description_width": ""
      }
     },
     "0bb0cb1aa4ad41f18397e37b60d85de6": {
      "model_module": "@jupyter-widgets/base",
      "model_module_version": "1.2.0",
      "model_name": "LayoutModel",
      "state": {}
     },
     "0bb3a09ebc734189b3868d0348a26151": {
      "model_module": "@jupyter-widgets/controls",
      "model_module_version": "1.5.0",
      "model_name": "HTMLModel",
      "state": {
       "layout": "IPY_MODEL_839dde0501bd4270b3628ac5557b5ecf",
       "style": "IPY_MODEL_72755ef3f4c04dd5ab71f4169db15f3b",
       "value": "100%"
      }
     },
     "0bbe10d23c09414fa5f9e54de93a4639": {
      "model_module": "@jupyter-widgets/controls",
      "model_module_version": "1.5.0",
      "model_name": "DescriptionStyleModel",
      "state": {
       "description_width": ""
      }
     },
     "0bd15541069a4e49832dcffc8a94356d": {
      "model_module": "@jupyter-widgets/controls",
      "model_module_version": "1.5.0",
      "model_name": "HTMLModel",
      "state": {
       "layout": "IPY_MODEL_5c25c4a6a5364834823971bfb9fa9868",
       "style": "IPY_MODEL_44ca0a3bed004b049ea84396999cd5b0",
       "value": "100%"
      }
     },
     "0beab9ae1ee14dbbb87038fc89db695a": {
      "model_module": "@jupyter-widgets/base",
      "model_module_version": "1.2.0",
      "model_name": "LayoutModel",
      "state": {}
     },
     "0bfcaa2a4dd948c79133cbc3cb3bb5b4": {
      "model_module": "@jupyter-widgets/base",
      "model_module_version": "1.2.0",
      "model_name": "LayoutModel",
      "state": {}
     },
     "0c066937d45f4405bcc79817348a3158": {
      "model_module": "@jupyter-widgets/base",
      "model_module_version": "1.2.0",
      "model_name": "LayoutModel",
      "state": {}
     },
     "0c2c4f7898b3413db9c63e537e718089": {
      "model_module": "@jupyter-widgets/controls",
      "model_module_version": "1.5.0",
      "model_name": "FloatProgressModel",
      "state": {
       "bar_style": "danger",
       "layout": "IPY_MODEL_33caeec41212458680bc6221de0d0eb2",
       "max": 4500,
       "style": "IPY_MODEL_d9d832796ad8492d98eb10068be56060"
      }
     },
     "0c4a1b5fac954aa9850e6ff12fa9e16d": {
      "model_module": "@jupyter-widgets/controls",
      "model_module_version": "1.5.0",
      "model_name": "HBoxModel",
      "state": {
       "children": [
        "IPY_MODEL_fe79226f91cc4bf8bc897c35ee084722",
        "IPY_MODEL_5948d6903c8d4d37a0e39b35f10d998e",
        "IPY_MODEL_f9933134fcce459a854e185e157fba2e"
       ],
       "layout": "IPY_MODEL_7f28d596cbb9421fb9d99d76c795a8db"
      }
     },
     "0c64261c3678430e81754ed9f7158de0": {
      "model_module": "@jupyter-widgets/base",
      "model_module_version": "1.2.0",
      "model_name": "LayoutModel",
      "state": {}
     },
     "0cc297f507774ffea23ffdbee3926041": {
      "model_module": "@jupyter-widgets/base",
      "model_module_version": "1.2.0",
      "model_name": "LayoutModel",
      "state": {}
     },
     "0ccae0081c3f47e18999650e7c7f6e25": {
      "model_module": "@jupyter-widgets/controls",
      "model_module_version": "1.5.0",
      "model_name": "HBoxModel",
      "state": {
       "children": [
        "IPY_MODEL_20f8bd5dc1ad4b5d919c5db5e0aef616",
        "IPY_MODEL_326d1ab4899a46f898d4d5bcea5bea8b",
        "IPY_MODEL_9d5e4d87193247f6bc8184b73468777f"
       ],
       "layout": "IPY_MODEL_216cdb153a1247ae972e361949ec75c8"
      }
     },
     "0d625736712f48c88e3b218e3a4a1a66": {
      "model_module": "@jupyter-widgets/base",
      "model_module_version": "1.2.0",
      "model_name": "LayoutModel",
      "state": {}
     },
     "0d6df8fc25cf4f8ca5e3ba4733c759b0": {
      "model_module": "@jupyter-widgets/controls",
      "model_module_version": "1.5.0",
      "model_name": "DescriptionStyleModel",
      "state": {
       "description_width": ""
      }
     },
     "0d8e5f0d918f4554bc64fa651fdcfef0": {
      "model_module": "@jupyter-widgets/controls",
      "model_module_version": "1.5.0",
      "model_name": "ProgressStyleModel",
      "state": {
       "description_width": ""
      }
     },
     "0da8d7281bdd4bc6a5a6a190f7538e1a": {
      "model_module": "@jupyter-widgets/controls",
      "model_module_version": "1.5.0",
      "model_name": "HTMLModel",
      "state": {
       "layout": "IPY_MODEL_39cd977614cb42e7babe07a6f3db9135",
       "style": "IPY_MODEL_8dda1666aea1471baf2afe3d245edcf8",
       "value": " 11/11 [00:05&lt;00:00,  5.31it/s]"
      }
     },
     "0dbddf92c58a45c49b4dffaaa32667f7": {
      "model_module": "@jupyter-widgets/controls",
      "model_module_version": "1.5.0",
      "model_name": "DescriptionStyleModel",
      "state": {
       "description_width": ""
      }
     },
     "0e08c30eb5b14caf93b6e3fc2b5ac196": {
      "model_module": "@jupyter-widgets/controls",
      "model_module_version": "1.5.0",
      "model_name": "HTMLModel",
      "state": {
       "layout": "IPY_MODEL_5450b86ee90941f0b6d8561d07d1f8de",
       "style": "IPY_MODEL_e2d7b94d5bcf4be9b0874849262f71e7",
       "value": "100%"
      }
     },
     "0e79736159ac4c18bcd6f71b0d07ce68": {
      "model_module": "@jupyter-widgets/controls",
      "model_module_version": "1.5.0",
      "model_name": "DescriptionStyleModel",
      "state": {
       "description_width": ""
      }
     },
     "0e7f68ba7a4a40ddaa3651663ca17093": {
      "model_module": "@jupyter-widgets/controls",
      "model_module_version": "1.5.0",
      "model_name": "DescriptionStyleModel",
      "state": {
       "description_width": ""
      }
     },
     "0ee8f055c9004dc9ae70de709c9fcf2c": {
      "model_module": "@jupyter-widgets/controls",
      "model_module_version": "1.5.0",
      "model_name": "FloatProgressModel",
      "state": {
       "bar_style": "success",
       "layout": "IPY_MODEL_441894c41930461cb77f2b426a49fe8b",
       "max": 1800,
       "style": "IPY_MODEL_50d15bc5a4f047d9861e4ea440812216",
       "value": 1800
      }
     },
     "0f3e8021a316440a873125ad573d2f84": {
      "model_module": "@jupyter-widgets/controls",
      "model_module_version": "1.5.0",
      "model_name": "DescriptionStyleModel",
      "state": {
       "description_width": ""
      }
     },
     "0f3eaf4fe1554eb99c7ddb7f3c090280": {
      "model_module": "@jupyter-widgets/controls",
      "model_module_version": "1.5.0",
      "model_name": "FloatProgressModel",
      "state": {
       "bar_style": "success",
       "layout": "IPY_MODEL_ff678fe1615f4f29bdc4683179411260",
       "max": 3600,
       "style": "IPY_MODEL_2e4f00001eca4d878dd5a7939478540c",
       "value": 3600
      }
     },
     "0f4c4421b78045a98c9018c860ac27be": {
      "model_module": "@jupyter-widgets/controls",
      "model_module_version": "1.5.0",
      "model_name": "HBoxModel",
      "state": {
       "children": [
        "IPY_MODEL_85c5ef6381e34e788b56bb39805fd63c",
        "IPY_MODEL_427521b023a44db3ab729467d352edae",
        "IPY_MODEL_e66d105138444907a44772f8548d65dd"
       ],
       "layout": "IPY_MODEL_dec31ac9af724cc1ad59b16d11945f46"
      }
     },
     "0f5068bb82ea40ea96c1b5177b746989": {
      "model_module": "@jupyter-widgets/base",
      "model_module_version": "1.2.0",
      "model_name": "LayoutModel",
      "state": {}
     },
     "10422dcfb5f74cf5a9546357aad2bd11": {
      "model_module": "@jupyter-widgets/base",
      "model_module_version": "1.2.0",
      "model_name": "LayoutModel",
      "state": {}
     },
     "10775b791a7f4be0bd802fe8a4a50c8a": {
      "model_module": "@jupyter-widgets/controls",
      "model_module_version": "1.5.0",
      "model_name": "FloatProgressModel",
      "state": {
       "bar_style": "success",
       "layout": "IPY_MODEL_79d663c857a34ad7b6f021f71dc5c431",
       "max": 1800,
       "style": "IPY_MODEL_f940bea701de4415b724a55f94907994",
       "value": 1800
      }
     },
     "107d4abf68f94cb0a60736be7a88876e": {
      "model_module": "@jupyter-widgets/base",
      "model_module_version": "1.2.0",
      "model_name": "LayoutModel",
      "state": {}
     },
     "10985d386d0649f1bdc80bbcd2e3dc76": {
      "model_module": "@jupyter-widgets/base",
      "model_module_version": "1.2.0",
      "model_name": "LayoutModel",
      "state": {}
     },
     "10cf8cce8df44017b7d2f81fc16a25e0": {
      "model_module": "@jupyter-widgets/controls",
      "model_module_version": "1.5.0",
      "model_name": "HTMLModel",
      "state": {
       "layout": "IPY_MODEL_6f158796d2e94d64b26e86ff97d1913b",
       "style": "IPY_MODEL_d53b531495584265b00b0d7aac5b942b",
       "value": " 1000/1000 [00:42&lt;00:00, 27.81it/s]"
      }
     },
     "10eb523322744882a11fcc3e9e5fea4d": {
      "model_module": "@jupyter-widgets/controls",
      "model_module_version": "1.5.0",
      "model_name": "HTMLModel",
      "state": {
       "layout": "IPY_MODEL_56f386ed79944d0ebbe8fdc1f9de5715",
       "style": "IPY_MODEL_533bad701ac7405ba8411d88514d105e",
       "value": "  0%"
      }
     },
     "1184e95803ef4f3da780046f251d606e": {
      "model_module": "@jupyter-widgets/controls",
      "model_module_version": "1.5.0",
      "model_name": "DescriptionStyleModel",
      "state": {
       "description_width": ""
      }
     },
     "11d8919c3ab04017955e0ce110353492": {
      "model_module": "@jupyter-widgets/controls",
      "model_module_version": "1.5.0",
      "model_name": "HTMLModel",
      "state": {
       "layout": "IPY_MODEL_754c52b0cdd945b8adfc35933715f875",
       "style": "IPY_MODEL_cd5d2b9c8e054be99f96138c77ec7c80",
       "value": " 11/11 [00:06&lt;00:00,  1.97it/s]"
      }
     },
     "11dbd0816d48417ab556d6bf3c39730d": {
      "model_module": "@jupyter-widgets/controls",
      "model_module_version": "1.5.0",
      "model_name": "FloatProgressModel",
      "state": {
       "bar_style": "success",
       "layout": "IPY_MODEL_581abafcdaf54e68b28e551ed717b0ac",
       "max": 10800,
       "style": "IPY_MODEL_fdf4568aa99948e8be89eee937431544",
       "value": 10800
      }
     },
     "1233d47bafec4498b2c10484a75528b2": {
      "model_module": "@jupyter-widgets/controls",
      "model_module_version": "1.5.0",
      "model_name": "DescriptionStyleModel",
      "state": {
       "description_width": ""
      }
     },
     "125b2629788e40afbbeb227729a304cb": {
      "model_module": "@jupyter-widgets/base",
      "model_module_version": "1.2.0",
      "model_name": "LayoutModel",
      "state": {}
     },
     "12813da55a6d4e16b6e399ca7edaf90c": {
      "model_module": "@jupyter-widgets/base",
      "model_module_version": "1.2.0",
      "model_name": "LayoutModel",
      "state": {}
     },
     "12a003148dae4c11a7e8b857dac3bfa6": {
      "model_module": "@jupyter-widgets/controls",
      "model_module_version": "1.5.0",
      "model_name": "FloatProgressModel",
      "state": {
       "bar_style": "success",
       "layout": "IPY_MODEL_6b73310036514014953bd5dbaab463d9",
       "max": 1800,
       "style": "IPY_MODEL_bcb3656a64f04af9827f74108f5f4458",
       "value": 1800
      }
     },
     "12a8b16c74794328bbc1d11ab1305810": {
      "model_module": "@jupyter-widgets/base",
      "model_module_version": "1.2.0",
      "model_name": "LayoutModel",
      "state": {}
     },
     "12bc72bf00cb4c1c8bb6226f16f8d394": {
      "model_module": "@jupyter-widgets/controls",
      "model_module_version": "1.5.0",
      "model_name": "HTMLModel",
      "state": {
       "layout": "IPY_MODEL_b8e7aad041c243cdb8cca1953ce4f828",
       "style": "IPY_MODEL_b4c4e23a7a844ff389cd677884403cd5",
       "value": " 1800/1800 [00:58&lt;00:00, 31.10it/s]"
      }
     },
     "12d38056f1cb490d868dc73c8b2ea935": {
      "model_module": "@jupyter-widgets/controls",
      "model_module_version": "1.5.0",
      "model_name": "FloatProgressModel",
      "state": {
       "bar_style": "success",
       "layout": "IPY_MODEL_aa5726f9788d44a190251b620f5d1b37",
       "max": 4500,
       "style": "IPY_MODEL_525e3cf8967e457b80dccbb204bfb0e7",
       "value": 4500
      }
     },
     "12e98fd32eff4113aca06d6617653838": {
      "model_module": "@jupyter-widgets/base",
      "model_module_version": "1.2.0",
      "model_name": "LayoutModel",
      "state": {}
     },
     "12eeba3b788649fa89b779d2b1cba0f1": {
      "model_module": "@jupyter-widgets/controls",
      "model_module_version": "1.5.0",
      "model_name": "HTMLModel",
      "state": {
       "layout": "IPY_MODEL_b8f61f03e17a4a0b8331033a78f59521",
       "style": "IPY_MODEL_76deb3f758d84004a5c59faf60cb5c03",
       "value": "100%"
      }
     },
     "13995c7a68ea41e69d945595a4ed6905": {
      "model_module": "@jupyter-widgets/base",
      "model_module_version": "1.2.0",
      "model_name": "LayoutModel",
      "state": {}
     },
     "13aa2b7b7ff2487699d1c7918056a216": {
      "model_module": "@jupyter-widgets/controls",
      "model_module_version": "1.5.0",
      "model_name": "ProgressStyleModel",
      "state": {
       "description_width": ""
      }
     },
     "14c89efc96ff4d69ab21d0845202f80b": {
      "model_module": "@jupyter-widgets/controls",
      "model_module_version": "1.5.0",
      "model_name": "DescriptionStyleModel",
      "state": {
       "description_width": ""
      }
     },
     "15052179b87647bfa25042b5eb4c6f41": {
      "model_module": "@jupyter-widgets/base",
      "model_module_version": "1.2.0",
      "model_name": "LayoutModel",
      "state": {}
     },
     "1505f14de9df4b10bc92037f46f11c2c": {
      "model_module": "@jupyter-widgets/controls",
      "model_module_version": "1.5.0",
      "model_name": "HTMLModel",
      "state": {
       "layout": "IPY_MODEL_febe2a19648e4ce28b9fd30b121bb16e",
       "style": "IPY_MODEL_f4bbaac84562414e93ba3f36404d4bd2",
       "value": "100%"
      }
     },
     "15fc5988eba841f1aabfd2e285b519f9": {
      "model_module": "@jupyter-widgets/base",
      "model_module_version": "1.2.0",
      "model_name": "LayoutModel",
      "state": {}
     },
     "162bd5c5d9b64fe4b463fb1a4c078594": {
      "model_module": "@jupyter-widgets/controls",
      "model_module_version": "1.5.0",
      "model_name": "ProgressStyleModel",
      "state": {
       "description_width": ""
      }
     },
     "16376b8d6ad74b7fb08483e05507e3d4": {
      "model_module": "@jupyter-widgets/controls",
      "model_module_version": "1.5.0",
      "model_name": "DescriptionStyleModel",
      "state": {
       "description_width": ""
      }
     },
     "16609259fa004e4bb67f174a61f047c3": {
      "model_module": "@jupyter-widgets/controls",
      "model_module_version": "1.5.0",
      "model_name": "HTMLModel",
      "state": {
       "layout": "IPY_MODEL_aa2a11802dc8427486dd161d50e304bd",
       "style": "IPY_MODEL_ae9943368b6341bc8f183dfac7a1510a",
       "value": " 1800/1800 [01:05&lt;00:00, 31.19it/s]"
      }
     },
     "1684d94c0f36436eb3f07bfccd716aed": {
      "model_module": "@jupyter-widgets/base",
      "model_module_version": "1.2.0",
      "model_name": "LayoutModel",
      "state": {}
     },
     "1691af662ccc41c19f195cf7e8d46d38": {
      "model_module": "@jupyter-widgets/controls",
      "model_module_version": "1.5.0",
      "model_name": "HBoxModel",
      "state": {
       "children": [
        "IPY_MODEL_584a1903d32a48419e41101df8ac33fb",
        "IPY_MODEL_bed0d21edbf74d0d8a85277b831604e1",
        "IPY_MODEL_7f77e8b9ff234a0ca14c5e179aeef664"
       ],
       "layout": "IPY_MODEL_011a086d5503498eb80a053c068f4ece"
      }
     },
     "16a2cd6f86054f40b1ccf96f7dd60bb6": {
      "model_module": "@jupyter-widgets/base",
      "model_module_version": "1.2.0",
      "model_name": "LayoutModel",
      "state": {}
     },
     "16c8d98cdb4f4f4d822c14e8c0ef5db6": {
      "model_module": "@jupyter-widgets/base",
      "model_module_version": "1.2.0",
      "model_name": "LayoutModel",
      "state": {}
     },
     "16d8d11e1bbd458eb6480feaae209d9f": {
      "model_module": "@jupyter-widgets/controls",
      "model_module_version": "1.5.0",
      "model_name": "FloatProgressModel",
      "state": {
       "bar_style": "success",
       "layout": "IPY_MODEL_62379e36d9c342d79dce8b5ce70ca21f",
       "max": 3600,
       "style": "IPY_MODEL_d5e0bf68b3b74ef4afdfc84efe683909",
       "value": 3600
      }
     },
     "16f734046d5b4ce0b11cf5941177518d": {
      "model_module": "@jupyter-widgets/controls",
      "model_module_version": "1.5.0",
      "model_name": "FloatProgressModel",
      "state": {
       "bar_style": "success",
       "layout": "IPY_MODEL_cdffa610b30049cba43508b751c53fea",
       "max": 3600,
       "style": "IPY_MODEL_4a1552f6c7584647aa68f6f3c4f033b2",
       "value": 3600
      }
     },
     "17adebc1478541aea33465f8321870b6": {
      "model_module": "@jupyter-widgets/controls",
      "model_module_version": "1.5.0",
      "model_name": "HBoxModel",
      "state": {
       "children": [
        "IPY_MODEL_dffdda85ff2342be9feac18d6bd725fe",
        "IPY_MODEL_a0d8a64f73e6456496e5bb60ca42ac13",
        "IPY_MODEL_ec25f3c179b749acae86a919db2091fb"
       ],
       "layout": "IPY_MODEL_457a17e465ac4c26b6dc8d28019568e6"
      }
     },
     "182869769fbd43d3b0c0b5d881a2f6ee": {
      "model_module": "@jupyter-widgets/controls",
      "model_module_version": "1.5.0",
      "model_name": "DescriptionStyleModel",
      "state": {
       "description_width": ""
      }
     },
     "182aa64a7e854d7d9b0d425f4634a8c6": {
      "model_module": "@jupyter-widgets/controls",
      "model_module_version": "1.5.0",
      "model_name": "DescriptionStyleModel",
      "state": {
       "description_width": ""
      }
     },
     "184796c3b7ab42008b00751f837eb73b": {
      "model_module": "@jupyter-widgets/base",
      "model_module_version": "1.2.0",
      "model_name": "LayoutModel",
      "state": {}
     },
     "185a293e4bf2460495953f4c493664cd": {
      "model_module": "@jupyter-widgets/controls",
      "model_module_version": "1.5.0",
      "model_name": "ProgressStyleModel",
      "state": {
       "description_width": ""
      }
     },
     "186bb143e7b94a8f87f5a8b3846d4b97": {
      "model_module": "@jupyter-widgets/base",
      "model_module_version": "1.2.0",
      "model_name": "LayoutModel",
      "state": {}
     },
     "18906a5aa6104dac89bbbc04d6e28251": {
      "model_module": "@jupyter-widgets/base",
      "model_module_version": "1.2.0",
      "model_name": "LayoutModel",
      "state": {}
     },
     "1912234c9b12473ba5c1d1d881bcdf50": {
      "model_module": "@jupyter-widgets/controls",
      "model_module_version": "1.5.0",
      "model_name": "ProgressStyleModel",
      "state": {
       "description_width": ""
      }
     },
     "1919ba166fb448c79d82b786c1582d15": {
      "model_module": "@jupyter-widgets/controls",
      "model_module_version": "1.5.0",
      "model_name": "DescriptionStyleModel",
      "state": {
       "description_width": ""
      }
     },
     "19572b4fbf5040668cae590874814e9a": {
      "model_module": "@jupyter-widgets/controls",
      "model_module_version": "1.5.0",
      "model_name": "ProgressStyleModel",
      "state": {
       "description_width": ""
      }
     },
     "19908b3f6cbc4efb8ba2585826f20304": {
      "model_module": "@jupyter-widgets/controls",
      "model_module_version": "1.5.0",
      "model_name": "ProgressStyleModel",
      "state": {
       "description_width": ""
      }
     },
     "199ec605031a4aa7a000d66c456dfee8": {
      "model_module": "@jupyter-widgets/base",
      "model_module_version": "1.2.0",
      "model_name": "LayoutModel",
      "state": {}
     },
     "19a3893a9f4548a683d16812c25d7cbc": {
      "model_module": "@jupyter-widgets/controls",
      "model_module_version": "1.5.0",
      "model_name": "HBoxModel",
      "state": {
       "children": [
        "IPY_MODEL_de10c98517424359a7b4939301124876",
        "IPY_MODEL_857e04880cdb4114abfe9a556e2f717b",
        "IPY_MODEL_a3c31dd902fd4efb85479508752c4310"
       ],
       "layout": "IPY_MODEL_625be02966fc477db65f39ae1046a996"
      }
     },
     "19cf3d406da545b38b1df27236256e14": {
      "model_module": "@jupyter-widgets/controls",
      "model_module_version": "1.5.0",
      "model_name": "HTMLModel",
      "state": {
       "layout": "IPY_MODEL_edc347790e344a248ea9a3381f6f33aa",
       "style": "IPY_MODEL_1b143efe50b84801b043f12199130c3c",
       "value": " 1800/1800 [01:04&lt;00:00, 31.73it/s]"
      }
     },
     "19ff5184f56c430ca92c6a25eea17aa8": {
      "model_module": "@jupyter-widgets/base",
      "model_module_version": "1.2.0",
      "model_name": "LayoutModel",
      "state": {}
     },
     "1a2c37d5381442dfb601468b7baa1a98": {
      "model_module": "@jupyter-widgets/controls",
      "model_module_version": "1.5.0",
      "model_name": "HTMLModel",
      "state": {
       "layout": "IPY_MODEL_dda22c9fb2a846a39f145bc95087d587",
       "style": "IPY_MODEL_22cb48a815284e71bc9fa64c7ddde3e0",
       "value": " 3600/3600 [02:46&lt;00:00, 28.08it/s]"
      }
     },
     "1a342cc4d4494ffeb84302ab54f426ba": {
      "model_module": "@jupyter-widgets/controls",
      "model_module_version": "1.5.0",
      "model_name": "HTMLModel",
      "state": {
       "layout": "IPY_MODEL_9534068cfce245ba9031d135e5123519",
       "style": "IPY_MODEL_6110c57927fa4c1b81c5ee1d71f4c519",
       "value": " 3600/3600 [01:55&lt;00:00, 30.44it/s]"
      }
     },
     "1a4a3a8352134aceba19b63c7dafc816": {
      "model_module": "@jupyter-widgets/base",
      "model_module_version": "1.2.0",
      "model_name": "LayoutModel",
      "state": {}
     },
     "1a5e7efad6824ab28a791e14f1aea8c1": {
      "model_module": "@jupyter-widgets/base",
      "model_module_version": "1.2.0",
      "model_name": "LayoutModel",
      "state": {}
     },
     "1ac15b449897413bbe39cea9683b9cd0": {
      "model_module": "@jupyter-widgets/controls",
      "model_module_version": "1.5.0",
      "model_name": "DescriptionStyleModel",
      "state": {
       "description_width": ""
      }
     },
     "1b143efe50b84801b043f12199130c3c": {
      "model_module": "@jupyter-widgets/controls",
      "model_module_version": "1.5.0",
      "model_name": "DescriptionStyleModel",
      "state": {
       "description_width": ""
      }
     },
     "1b7b8b5e22194d3fb5c17427349f67d0": {
      "model_module": "@jupyter-widgets/controls",
      "model_module_version": "1.5.0",
      "model_name": "HBoxModel",
      "state": {
       "children": [
        "IPY_MODEL_722c56cbf62d48afbe127693a248bda1",
        "IPY_MODEL_283da668e4e64a6292d03f92540a9f6c",
        "IPY_MODEL_0da8d7281bdd4bc6a5a6a190f7538e1a"
       ],
       "layout": "IPY_MODEL_671b8f2f2a6a4ef883cd0d5ca8fd078b"
      }
     },
     "1b87eb010e104436bceb41675f56dcc5": {
      "model_module": "@jupyter-widgets/base",
      "model_module_version": "1.2.0",
      "model_name": "LayoutModel",
      "state": {}
     },
     "1bbd9c909a3644829aae42380b12e681": {
      "model_module": "@jupyter-widgets/controls",
      "model_module_version": "1.5.0",
      "model_name": "FloatProgressModel",
      "state": {
       "bar_style": "success",
       "layout": "IPY_MODEL_360d970de0404f8284e68ea54e5eebd6",
       "max": 3600,
       "style": "IPY_MODEL_19908b3f6cbc4efb8ba2585826f20304",
       "value": 3600
      }
     },
     "1bde66b1fc6d4c9994b73481105b85be": {
      "model_module": "@jupyter-widgets/controls",
      "model_module_version": "1.5.0",
      "model_name": "FloatProgressModel",
      "state": {
       "bar_style": "success",
       "layout": "IPY_MODEL_4d917bf4a1e7451e9ee75037fb7686c4",
       "max": 10,
       "style": "IPY_MODEL_68bc697bd59a456cac6ceb101d96ebd9",
       "value": 10
      }
     },
     "1c5fa97bf0f1495a9ead236e1293be92": {
      "model_module": "@jupyter-widgets/base",
      "model_module_version": "1.2.0",
      "model_name": "LayoutModel",
      "state": {}
     },
     "1d0a797b7d454a21b476b08dc894bf10": {
      "model_module": "@jupyter-widgets/controls",
      "model_module_version": "1.5.0",
      "model_name": "FloatProgressModel",
      "state": {
       "bar_style": "danger",
       "layout": "IPY_MODEL_af68d4876f634c6599603e465fc6acab",
       "max": 4500,
       "style": "IPY_MODEL_49f4a389d7a14de0b125ef0d3134b5e4"
      }
     },
     "1d706304d8c4413c83d695de211c8afd": {
      "model_module": "@jupyter-widgets/controls",
      "model_module_version": "1.5.0",
      "model_name": "ProgressStyleModel",
      "state": {
       "description_width": ""
      }
     },
     "1da2e209c1474acf854c4f084d8af1e1": {
      "model_module": "@jupyter-widgets/base",
      "model_module_version": "1.2.0",
      "model_name": "LayoutModel",
      "state": {}
     },
     "1daccc3a3df6463fb69e7e9c1113a577": {
      "model_module": "@jupyter-widgets/controls",
      "model_module_version": "1.5.0",
      "model_name": "DescriptionStyleModel",
      "state": {
       "description_width": ""
      }
     },
     "1dbe3cbd775d4523927af2b50979cd03": {
      "model_module": "@jupyter-widgets/controls",
      "model_module_version": "1.5.0",
      "model_name": "HTMLModel",
      "state": {
       "layout": "IPY_MODEL_476e325cafaa4c39af43528454f607d4",
       "style": "IPY_MODEL_4ae02c34e026426a864fe75b7a27de55",
       "value": "  1%"
      }
     },
     "1dc4bc53806e4eed98d2ed38dade2931": {
      "model_module": "@jupyter-widgets/base",
      "model_module_version": "1.2.0",
      "model_name": "LayoutModel",
      "state": {}
     },
     "1e1084e8aaef4dc5845bc68bd74c99c8": {
      "model_module": "@jupyter-widgets/base",
      "model_module_version": "1.2.0",
      "model_name": "LayoutModel",
      "state": {}
     },
     "1e2393f3091a4c1faba7b7d42ee2a906": {
      "model_module": "@jupyter-widgets/controls",
      "model_module_version": "1.5.0",
      "model_name": "DescriptionStyleModel",
      "state": {
       "description_width": ""
      }
     },
     "1e2657c0f3aa4783ab8afa75f70d693b": {
      "model_module": "@jupyter-widgets/controls",
      "model_module_version": "1.5.0",
      "model_name": "FloatProgressModel",
      "state": {
       "bar_style": "success",
       "layout": "IPY_MODEL_44e9fa50cb5c42958ca7e12e5bcd3b50",
       "max": 1800,
       "style": "IPY_MODEL_4bf3745919384e43919054fedae68f1d",
       "value": 1800
      }
     },
     "1e6501669dd04a00bc75c120b1001c61": {
      "model_module": "@jupyter-widgets/base",
      "model_module_version": "1.2.0",
      "model_name": "LayoutModel",
      "state": {}
     },
     "1e87893618694fb8a50de85aee8ac579": {
      "model_module": "@jupyter-widgets/controls",
      "model_module_version": "1.5.0",
      "model_name": "HTMLModel",
      "state": {
       "layout": "IPY_MODEL_84ce18d1ae364858a7beedad881a849b",
       "style": "IPY_MODEL_d7a4559f5be24e2793617b319a7b46e4",
       "value": "100%"
      }
     },
     "1e8d71ccc0f741a5a3e0af29f6cd1052": {
      "model_module": "@jupyter-widgets/controls",
      "model_module_version": "1.5.0",
      "model_name": "ProgressStyleModel",
      "state": {
       "description_width": ""
      }
     },
     "1eae7d66b8694c4a81b3c2a41f19a69e": {
      "model_module": "@jupyter-widgets/controls",
      "model_module_version": "1.5.0",
      "model_name": "FloatProgressModel",
      "state": {
       "bar_style": "success",
       "layout": "IPY_MODEL_74e1ede511b84d74b1ad864071e58309",
       "max": 3600,
       "style": "IPY_MODEL_8191b67a90d8423c91b586b552026c5f",
       "value": 3600
      }
     },
     "1f43e193758d4177a8935712ba8c5e92": {
      "model_module": "@jupyter-widgets/controls",
      "model_module_version": "1.5.0",
      "model_name": "DescriptionStyleModel",
      "state": {
       "description_width": ""
      }
     },
     "1f873b59e37f4fd4b0e699c226c671e0": {
      "model_module": "@jupyter-widgets/controls",
      "model_module_version": "1.5.0",
      "model_name": "ProgressStyleModel",
      "state": {
       "description_width": ""
      }
     },
     "1ff6ce0e9b4043168027b6ba36fa2eb0": {
      "model_module": "@jupyter-widgets/controls",
      "model_module_version": "1.5.0",
      "model_name": "FloatProgressModel",
      "state": {
       "bar_style": "success",
       "layout": "IPY_MODEL_bb9cfbdc58d6485fac1053615a4003b9",
       "max": 3600,
       "style": "IPY_MODEL_8f84b9ceeb6d4ed1915d9c11404dfdb6",
       "value": 3600
      }
     },
     "200bae40232b4560994272f0f66dbda5": {
      "model_module": "@jupyter-widgets/controls",
      "model_module_version": "1.5.0",
      "model_name": "HTMLModel",
      "state": {
       "layout": "IPY_MODEL_a577d916696c4a008f624e4faa532208",
       "style": "IPY_MODEL_40524ebe037e4e48903b021d20da74f1",
       "value": "100%"
      }
     },
     "204d29e8929746cdb924ff3b8d224a49": {
      "model_module": "@jupyter-widgets/controls",
      "model_module_version": "1.5.0",
      "model_name": "FloatProgressModel",
      "state": {
       "bar_style": "success",
       "layout": "IPY_MODEL_5943baca0ea4402396f44b3a13e8f242",
       "max": 3600,
       "style": "IPY_MODEL_3fa0e4ad13f64b1780f93a55e4b1db1b",
       "value": 3600
      }
     },
     "205a3c6c208c4acfa8cfc71aa102c907": {
      "model_module": "@jupyter-widgets/base",
      "model_module_version": "1.2.0",
      "model_name": "LayoutModel",
      "state": {}
     },
     "208b7503fd4644348956c6ce278e8dc8": {
      "model_module": "@jupyter-widgets/controls",
      "model_module_version": "1.5.0",
      "model_name": "DescriptionStyleModel",
      "state": {
       "description_width": ""
      }
     },
     "20902e4f00774c4c8acd4b7df95d9cfa": {
      "model_module": "@jupyter-widgets/controls",
      "model_module_version": "1.5.0",
      "model_name": "HTMLModel",
      "state": {
       "layout": "IPY_MODEL_fb78611ac590415781f17ec23cad862c",
       "style": "IPY_MODEL_9dfae784662043f0bd1611baeb629021",
       "value": "100%"
      }
     },
     "20bdd40ebfaf40ddb8f8b01f52ccb441": {
      "model_module": "@jupyter-widgets/controls",
      "model_module_version": "1.5.0",
      "model_name": "DescriptionStyleModel",
      "state": {
       "description_width": ""
      }
     },
     "20f8bd5dc1ad4b5d919c5db5e0aef616": {
      "model_module": "@jupyter-widgets/controls",
      "model_module_version": "1.5.0",
      "model_name": "HTMLModel",
      "state": {
       "layout": "IPY_MODEL_ffc0a358b8374ce8a640f66302dce07d",
       "style": "IPY_MODEL_c61578f5cb2049539629c4e62c754300",
       "value": "100%"
      }
     },
     "21236d37dd154b46b5608e86ea120fc0": {
      "model_module": "@jupyter-widgets/controls",
      "model_module_version": "1.5.0",
      "model_name": "HTMLModel",
      "state": {
       "layout": "IPY_MODEL_bc570ef7e3c144f08158c706473cb4b3",
       "style": "IPY_MODEL_9615a1ecb7d943f3aca709cb85e2af5c",
       "value": "100%"
      }
     },
     "213b5fd1c7a84cb68f32c5815a51611e": {
      "model_module": "@jupyter-widgets/controls",
      "model_module_version": "1.5.0",
      "model_name": "DescriptionStyleModel",
      "state": {
       "description_width": ""
      }
     },
     "215190febc2040c7b4fbb4994a7c29b6": {
      "model_module": "@jupyter-widgets/controls",
      "model_module_version": "1.5.0",
      "model_name": "HTMLModel",
      "state": {
       "layout": "IPY_MODEL_859cd94dfd4d49d982f5af926152a57f",
       "style": "IPY_MODEL_80c4b55f897344b88f86c88d21423dca",
       "value": "100%"
      }
     },
     "21560e0931b44efbad4238d10cbc8a06": {
      "model_module": "@jupyter-widgets/controls",
      "model_module_version": "1.5.0",
      "model_name": "HTMLModel",
      "state": {
       "layout": "IPY_MODEL_d5dcfe4299404d6bb2bc6c38ea73679e",
       "style": "IPY_MODEL_a5bdd9e2254c40b48a89313f8b143f66",
       "value": " 4500/4500 [10:02&lt;00:00,  8.65it/s]"
      }
     },
     "216cdb153a1247ae972e361949ec75c8": {
      "model_module": "@jupyter-widgets/base",
      "model_module_version": "1.2.0",
      "model_name": "LayoutModel",
      "state": {}
     },
     "217f6d65c4364b7188a1a2de8f156f08": {
      "model_module": "@jupyter-widgets/controls",
      "model_module_version": "1.5.0",
      "model_name": "HTMLModel",
      "state": {
       "layout": "IPY_MODEL_0c64261c3678430e81754ed9f7158de0",
       "style": "IPY_MODEL_2376d6c0dd1045dc8f9fd292924074f0",
       "value": "100%"
      }
     },
     "21c646b93cdc4933a358765c51b47bff": {
      "model_module": "@jupyter-widgets/controls",
      "model_module_version": "1.5.0",
      "model_name": "FloatProgressModel",
      "state": {
       "bar_style": "success",
       "layout": "IPY_MODEL_46575b5d17fa4a759be1cf594b23ae20",
       "max": 3600,
       "style": "IPY_MODEL_e7237bafabed42048d4bd2f789ad6b11",
       "value": 3600
      }
     },
     "226b27442bf543609762dc128b885bf4": {
      "model_module": "@jupyter-widgets/controls",
      "model_module_version": "1.5.0",
      "model_name": "HTMLModel",
      "state": {
       "layout": "IPY_MODEL_808677a110c54558aa109bfaaf840931",
       "style": "IPY_MODEL_72d1416c35fd42ba9d3de50b726015ff",
       "value": " 3600/3600 [01:56&lt;00:00, 31.43it/s]"
      }
     },
     "22cb48a815284e71bc9fa64c7ddde3e0": {
      "model_module": "@jupyter-widgets/controls",
      "model_module_version": "1.5.0",
      "model_name": "DescriptionStyleModel",
      "state": {
       "description_width": ""
      }
     },
     "22ed17589ecc40f4a71363b4aa33cf8c": {
      "model_module": "@jupyter-widgets/controls",
      "model_module_version": "1.5.0",
      "model_name": "HTMLModel",
      "state": {
       "layout": "IPY_MODEL_c210457e24df4c21977b318a7224add4",
       "style": "IPY_MODEL_0a955fc0dc514ad880a660ac187c6522",
       "value": " 33%"
      }
     },
     "230cfd4a08714dcea122ed3c275d55d8": {
      "model_module": "@jupyter-widgets/controls",
      "model_module_version": "1.5.0",
      "model_name": "HTMLModel",
      "state": {
       "layout": "IPY_MODEL_70e2ad5c66cf423aab8fa2942371fa8b",
       "style": "IPY_MODEL_e1c00a816b424774a04e032ab1813f55",
       "value": "100%"
      }
     },
     "230fe8d8befc4464ae16934c23aa76d5": {
      "model_module": "@jupyter-widgets/base",
      "model_module_version": "1.2.0",
      "model_name": "LayoutModel",
      "state": {}
     },
     "232c37cdfd5f4d6eb4ec32cffbcf1e75": {
      "model_module": "@jupyter-widgets/base",
      "model_module_version": "1.2.0",
      "model_name": "LayoutModel",
      "state": {}
     },
     "233c07f3cbad47328f492926eb88f2bb": {
      "model_module": "@jupyter-widgets/controls",
      "model_module_version": "1.5.0",
      "model_name": "DescriptionStyleModel",
      "state": {
       "description_width": ""
      }
     },
     "2364e9c89ff9435a9530e7cfe3a334b3": {
      "model_module": "@jupyter-widgets/controls",
      "model_module_version": "1.5.0",
      "model_name": "ProgressStyleModel",
      "state": {
       "description_width": ""
      }
     },
     "2376d6c0dd1045dc8f9fd292924074f0": {
      "model_module": "@jupyter-widgets/controls",
      "model_module_version": "1.5.0",
      "model_name": "DescriptionStyleModel",
      "state": {
       "description_width": ""
      }
     },
     "23b82d158c264e348f380cee14b92174": {
      "model_module": "@jupyter-widgets/base",
      "model_module_version": "1.2.0",
      "model_name": "LayoutModel",
      "state": {}
     },
     "23bd46b2bcfb45f084aa632ddd0f8039": {
      "model_module": "@jupyter-widgets/controls",
      "model_module_version": "1.5.0",
      "model_name": "HTMLModel",
      "state": {
       "layout": "IPY_MODEL_4459f27f6d914486b17eb27c8594182d",
       "style": "IPY_MODEL_d5f873157c1e426fa7cb11603a146635",
       "value": "100%"
      }
     },
     "242e02cd05a547e988b236ceb9b0fc94": {
      "model_module": "@jupyter-widgets/base",
      "model_module_version": "1.2.0",
      "model_name": "LayoutModel",
      "state": {}
     },
     "244fe422f8ef4a1598658f01da199af0": {
      "model_module": "@jupyter-widgets/controls",
      "model_module_version": "1.5.0",
      "model_name": "DescriptionStyleModel",
      "state": {
       "description_width": ""
      }
     },
     "245404e0350f4e9b9d81f369e14769c1": {
      "model_module": "@jupyter-widgets/controls",
      "model_module_version": "1.5.0",
      "model_name": "DescriptionStyleModel",
      "state": {
       "description_width": ""
      }
     },
     "247ba42db3784d66ab101223ee6487a7": {
      "model_module": "@jupyter-widgets/controls",
      "model_module_version": "1.5.0",
      "model_name": "ProgressStyleModel",
      "state": {
       "description_width": ""
      }
     },
     "249914aa5d4c43f8b1da93f3a2552971": {
      "model_module": "@jupyter-widgets/base",
      "model_module_version": "1.2.0",
      "model_name": "LayoutModel",
      "state": {}
     },
     "24af145cfeac43f483b76b562ff5e578": {
      "model_module": "@jupyter-widgets/base",
      "model_module_version": "1.2.0",
      "model_name": "LayoutModel",
      "state": {}
     },
     "24b9b0a35e6d4b50a242310331825a35": {
      "model_module": "@jupyter-widgets/controls",
      "model_module_version": "1.5.0",
      "model_name": "DescriptionStyleModel",
      "state": {
       "description_width": ""
      }
     },
     "24c31f8984314acfb2b8a61fab5ab823": {
      "model_module": "@jupyter-widgets/base",
      "model_module_version": "1.2.0",
      "model_name": "LayoutModel",
      "state": {}
     },
     "24c64f79029f4511bced0ea4b65652f9": {
      "model_module": "@jupyter-widgets/controls",
      "model_module_version": "1.5.0",
      "model_name": "FloatProgressModel",
      "state": {
       "bar_style": "success",
       "layout": "IPY_MODEL_86fb67ddaae34a22896b0d21f3ec02d8",
       "max": 3600,
       "style": "IPY_MODEL_8ffe25aa0b6d4b1b953e6605dbb3a5ee",
       "value": 3600
      }
     },
     "24d9323c632f4cc388c13f8a83b66388": {
      "model_module": "@jupyter-widgets/controls",
      "model_module_version": "1.5.0",
      "model_name": "HBoxModel",
      "state": {
       "children": [
        "IPY_MODEL_50976f10c2424525989e4bb361f54e54",
        "IPY_MODEL_57f721998e614ed0af8bc73f82210831",
        "IPY_MODEL_40ead811f6aa4d08aaf0072fdc5d66c0"
       ],
       "layout": "IPY_MODEL_4f032232b29e4b19b230394823829ff5"
      }
     },
     "24f4cba699794d88a8f769521e3ae014": {
      "model_module": "@jupyter-widgets/base",
      "model_module_version": "1.2.0",
      "model_name": "LayoutModel",
      "state": {}
     },
     "25521e76fe4f4a8eb93a90917469ffb0": {
      "model_module": "@jupyter-widgets/controls",
      "model_module_version": "1.5.0",
      "model_name": "HBoxModel",
      "state": {
       "children": [
        "IPY_MODEL_6b5d0fffd5884ceebc0145234a6524a5",
        "IPY_MODEL_8a1b1984280c4831b53ef35ed5623714",
        "IPY_MODEL_eabc48d749244746a70d18350e05f02c"
       ],
       "layout": "IPY_MODEL_57e7a138396043d3bda9ee5394018448"
      }
     },
     "2562cb5db53e4eb3b6b37b9113bca0c2": {
      "model_module": "@jupyter-widgets/base",
      "model_module_version": "1.2.0",
      "model_name": "LayoutModel",
      "state": {}
     },
     "25ab7c5b23b947cabe302de4905bf86f": {
      "model_module": "@jupyter-widgets/base",
      "model_module_version": "1.2.0",
      "model_name": "LayoutModel",
      "state": {}
     },
     "2613febf154a46d8b90d9ea16732e787": {
      "model_module": "@jupyter-widgets/controls",
      "model_module_version": "1.5.0",
      "model_name": "DescriptionStyleModel",
      "state": {
       "description_width": ""
      }
     },
     "26744de17ca84c69b940f39ee03bf72c": {
      "model_module": "@jupyter-widgets/controls",
      "model_module_version": "1.5.0",
      "model_name": "HBoxModel",
      "state": {
       "children": [
        "IPY_MODEL_a367218926514e6f84405999f91be198",
        "IPY_MODEL_12a003148dae4c11a7e8b857dac3bfa6",
        "IPY_MODEL_a2004caf06d24941b28f7d63b3c0203e"
       ],
       "layout": "IPY_MODEL_0a1beffa582949c6b61ab53eb7ee0923"
      }
     },
     "267bdcabddee4750b2e6cc4149c1725c": {
      "model_module": "@jupyter-widgets/controls",
      "model_module_version": "1.5.0",
      "model_name": "HTMLModel",
      "state": {
       "layout": "IPY_MODEL_9e61b4e9837045308f4df527120f177a",
       "style": "IPY_MODEL_b7062d46efb34a7eb879a715aef0f9db",
       "value": "100%"
      }
     },
     "26de005dc90c41afbf5cceefc6a1dafc": {
      "model_module": "@jupyter-widgets/base",
      "model_module_version": "1.2.0",
      "model_name": "LayoutModel",
      "state": {}
     },
     "275609c7c0e54ab6b86b70c3a77e0f44": {
      "model_module": "@jupyter-widgets/controls",
      "model_module_version": "1.5.0",
      "model_name": "ProgressStyleModel",
      "state": {
       "description_width": ""
      }
     },
     "275799c000e54dbd853453098450df67": {
      "model_module": "@jupyter-widgets/controls",
      "model_module_version": "1.5.0",
      "model_name": "HBoxModel",
      "state": {
       "children": [
        "IPY_MODEL_43b41abc70fe4aeab868335bd971ab32",
        "IPY_MODEL_739a159a45d14b6eabef7e329989f686",
        "IPY_MODEL_7c9b1fd9d3254c54980b9ad5b34ed09d"
       ],
       "layout": "IPY_MODEL_fc52cf104bd6476e819465ac1de9ef63"
      }
     },
     "276b38f682f149f6abdde9086e5fa4f4": {
      "model_module": "@jupyter-widgets/controls",
      "model_module_version": "1.5.0",
      "model_name": "HBoxModel",
      "state": {
       "children": [
        "IPY_MODEL_edaaa0bc95534965b3798fcaa9f1caa6",
        "IPY_MODEL_0ee8f055c9004dc9ae70de709c9fcf2c",
        "IPY_MODEL_cf33402e0f2949b78bbce7aadecfe44c"
       ],
       "layout": "IPY_MODEL_fa98c9b2e4a84fcf9afa8cbb4b088a12"
      }
     },
     "279f20c84a6348049535c3fcba72fd70": {
      "model_module": "@jupyter-widgets/base",
      "model_module_version": "1.2.0",
      "model_name": "LayoutModel",
      "state": {}
     },
     "27b6aa40fe2243b9bb2fb1372f0cfb76": {
      "model_module": "@jupyter-widgets/controls",
      "model_module_version": "1.5.0",
      "model_name": "FloatProgressModel",
      "state": {
       "bar_style": "success",
       "layout": "IPY_MODEL_f808d62b54e14cccba186f8c25345b96",
       "max": 11,
       "style": "IPY_MODEL_beb9eec4d48a49a68ffba639e1479ab3",
       "value": 11
      }
     },
     "27edbafc163349bdb99dc42e8d57a235": {
      "model_module": "@jupyter-widgets/controls",
      "model_module_version": "1.5.0",
      "model_name": "DescriptionStyleModel",
      "state": {
       "description_width": ""
      }
     },
     "27f601cdae944772b24afbd5d6309ba6": {
      "model_module": "@jupyter-widgets/base",
      "model_module_version": "1.2.0",
      "model_name": "LayoutModel",
      "state": {}
     },
     "2811714c2b3c488589e115065f34496d": {
      "model_module": "@jupyter-widgets/base",
      "model_module_version": "1.2.0",
      "model_name": "LayoutModel",
      "state": {}
     },
     "2829c3a1cab04411b8f512771e1a9bac": {
      "model_module": "@jupyter-widgets/controls",
      "model_module_version": "1.5.0",
      "model_name": "FloatProgressModel",
      "state": {
       "bar_style": "success",
       "layout": "IPY_MODEL_355e401d9c894b908bae498867e580cf",
       "max": 3600,
       "style": "IPY_MODEL_bbd99f001b964b4c8900e52348e32870",
       "value": 3600
      }
     },
     "283da668e4e64a6292d03f92540a9f6c": {
      "model_module": "@jupyter-widgets/controls",
      "model_module_version": "1.5.0",
      "model_name": "FloatProgressModel",
      "state": {
       "bar_style": "success",
       "layout": "IPY_MODEL_dd60a86d069f4cc587d599e1a54eeb44",
       "max": 11,
       "style": "IPY_MODEL_e41cb419420a4292b7357b973beea431",
       "value": 11
      }
     },
     "286c1e7db8ba463fb02413e7cbff5bc0": {
      "model_module": "@jupyter-widgets/base",
      "model_module_version": "1.2.0",
      "model_name": "LayoutModel",
      "state": {}
     },
     "28a850b9d3904c1e881c25f3adc1128a": {
      "model_module": "@jupyter-widgets/base",
      "model_module_version": "1.2.0",
      "model_name": "LayoutModel",
      "state": {}
     },
     "28cbfcfcfe1b444daf74cb7d26e1af8a": {
      "model_module": "@jupyter-widgets/controls",
      "model_module_version": "1.5.0",
      "model_name": "DescriptionStyleModel",
      "state": {
       "description_width": ""
      }
     },
     "29616a6b6d31481e8bd64eac88f36896": {
      "model_module": "@jupyter-widgets/controls",
      "model_module_version": "1.5.0",
      "model_name": "HTMLModel",
      "state": {
       "layout": "IPY_MODEL_e457bc15c8784aed826e6c2cb47cc5c1",
       "style": "IPY_MODEL_233c07f3cbad47328f492926eb88f2bb",
       "value": " 3600/3600 [02:23&lt;00:00, 23.82it/s]"
      }
     },
     "2982c052585a43099178ceb8c204d85b": {
      "model_module": "@jupyter-widgets/controls",
      "model_module_version": "1.5.0",
      "model_name": "ProgressStyleModel",
      "state": {
       "description_width": ""
      }
     },
     "2a06a7abfef14b38af68f75fd2b07b69": {
      "model_module": "@jupyter-widgets/controls",
      "model_module_version": "1.5.0",
      "model_name": "HBoxModel",
      "state": {
       "children": [
        "IPY_MODEL_fb67b8d9c21649c4a6ff694602ebb50e",
        "IPY_MODEL_da51c5d1156941bb8af2e56896c9c2cf",
        "IPY_MODEL_064941a31e9d45acb03c3ffc3099ec36"
       ],
       "layout": "IPY_MODEL_d87104c307784360885a34a31d48bedb"
      }
     },
     "2a0e7db280fc485ca55e8479219e7318": {
      "model_module": "@jupyter-widgets/controls",
      "model_module_version": "1.5.0",
      "model_name": "DescriptionStyleModel",
      "state": {
       "description_width": ""
      }
     },
     "2a35b393273645d4932aad7e2be8a51f": {
      "model_module": "@jupyter-widgets/base",
      "model_module_version": "1.2.0",
      "model_name": "LayoutModel",
      "state": {}
     },
     "2a3b89267a0444149e01b608cba1c08b": {
      "model_module": "@jupyter-widgets/controls",
      "model_module_version": "1.5.0",
      "model_name": "DescriptionStyleModel",
      "state": {
       "description_width": ""
      }
     },
     "2a4e9c4fa1e2488da1c944ef3ccb40a9": {
      "model_module": "@jupyter-widgets/controls",
      "model_module_version": "1.5.0",
      "model_name": "HBoxModel",
      "state": {
       "children": [
        "IPY_MODEL_4f123d5dbef2470ea7e1351826a8bab3",
        "IPY_MODEL_4bbdb1d1e4124948ae4a0f38e84f2429",
        "IPY_MODEL_95a1a8c3f11740c89b94f5c88d5f14de"
       ],
       "layout": "IPY_MODEL_0356a23ae79944cea4ba1a9799b279cc"
      }
     },
     "2a5cda7a12a34ea9b9f729486c0a5162": {
      "model_module": "@jupyter-widgets/controls",
      "model_module_version": "1.5.0",
      "model_name": "HBoxModel",
      "state": {
       "children": [
        "IPY_MODEL_e270b524ff994820902c20c03e7a4da0",
        "IPY_MODEL_f3d0aa66781341f4a5868d5488be77d7",
        "IPY_MODEL_528755a3de7c41f2b2c36f9c7c050711"
       ],
       "layout": "IPY_MODEL_a01b9b7253ad4d1688d18c461ab1a852"
      }
     },
     "2a80171f4f9f483eae2762278e3b75d6": {
      "model_module": "@jupyter-widgets/controls",
      "model_module_version": "1.5.0",
      "model_name": "FloatProgressModel",
      "state": {
       "bar_style": "success",
       "layout": "IPY_MODEL_889c223c63da4f2ab290b949ed7c1e4f",
       "max": 11,
       "style": "IPY_MODEL_4afac848b68f493da3099c7c7f202117",
       "value": 11
      }
     },
     "2a83cd24faca458a93687b10f9d007d3": {
      "model_module": "@jupyter-widgets/controls",
      "model_module_version": "1.5.0",
      "model_name": "HTMLModel",
      "state": {
       "layout": "IPY_MODEL_b56901c869c44c3e9dfa9b01db162696",
       "style": "IPY_MODEL_6d9a6c0e9c56454dafdf71765088b4ef",
       "value": "100%"
      }
     },
     "2ab2f84c126c4b47bbaed9d3ef54f124": {
      "model_module": "@jupyter-widgets/controls",
      "model_module_version": "1.5.0",
      "model_name": "DescriptionStyleModel",
      "state": {
       "description_width": ""
      }
     },
     "2add1eef50f54e60b2c5de90829e62ba": {
      "model_module": "@jupyter-widgets/controls",
      "model_module_version": "1.5.0",
      "model_name": "HTMLModel",
      "state": {
       "layout": "IPY_MODEL_c0604c1d0ee6444aa4dab26d1b1ca90e",
       "style": "IPY_MODEL_85b2ccfbb7954c84a0a18df4216f4c4a",
       "value": " 11/11 [00:06&lt;00:00,  5.62it/s]"
      }
     },
     "2b24cbd9beb04e22b583496f890fb6ce": {
      "model_module": "@jupyter-widgets/controls",
      "model_module_version": "1.5.0",
      "model_name": "ProgressStyleModel",
      "state": {
       "description_width": ""
      }
     },
     "2b339acf7b2c4c8ea7b888a9c1d9eb10": {
      "model_module": "@jupyter-widgets/base",
      "model_module_version": "1.2.0",
      "model_name": "LayoutModel",
      "state": {}
     },
     "2b4017aa6e5d482d801e13b88a91fe0d": {
      "model_module": "@jupyter-widgets/controls",
      "model_module_version": "1.5.0",
      "model_name": "FloatProgressModel",
      "state": {
       "bar_style": "success",
       "layout": "IPY_MODEL_4af44de081bf461cadbcb9bb008ab34f",
       "max": 3600,
       "style": "IPY_MODEL_e4a46ec3c57e49c79e39296d1592c479",
       "value": 3600
      }
     },
     "2b4928c9da524b5d84a0792826ddab59": {
      "model_module": "@jupyter-widgets/controls",
      "model_module_version": "1.5.0",
      "model_name": "FloatProgressModel",
      "state": {
       "bar_style": "danger",
       "layout": "IPY_MODEL_e67b655c89804086aa6ab297b0af35a0",
       "max": 4500,
       "style": "IPY_MODEL_185a293e4bf2460495953f4c493664cd"
      }
     },
     "2b4b75f38e9c47b49a54d2d74924c099": {
      "model_module": "@jupyter-widgets/controls",
      "model_module_version": "1.5.0",
      "model_name": "HBoxModel",
      "state": {
       "children": [
        "IPY_MODEL_97e793ee139541e885961620a9577b68",
        "IPY_MODEL_3a4f4dd067ff4012a5a485f2ca6a9a14",
        "IPY_MODEL_16609259fa004e4bb67f174a61f047c3"
       ],
       "layout": "IPY_MODEL_24c31f8984314acfb2b8a61fab5ab823"
      }
     },
     "2b4dd91104ef4185bb75100ef0af45dd": {
      "model_module": "@jupyter-widgets/controls",
      "model_module_version": "1.5.0",
      "model_name": "DescriptionStyleModel",
      "state": {
       "description_width": ""
      }
     },
     "2b87248f65dc457ea2052f7fb52938dc": {
      "model_module": "@jupyter-widgets/controls",
      "model_module_version": "1.5.0",
      "model_name": "DescriptionStyleModel",
      "state": {
       "description_width": ""
      }
     },
     "2bb459a71fc04b8491fb9bf9849ddb2c": {
      "model_module": "@jupyter-widgets/controls",
      "model_module_version": "1.5.0",
      "model_name": "FloatProgressModel",
      "state": {
       "bar_style": "success",
       "layout": "IPY_MODEL_9b79ac8fbb534769b2805f0753852d28",
       "max": 3600,
       "style": "IPY_MODEL_c47e978826d0429ea9d5b6b0d9ab54d3",
       "value": 3600
      }
     },
     "2bb4e1eaf16d4699a6a1ebf970db3459": {
      "model_module": "@jupyter-widgets/controls",
      "model_module_version": "1.5.0",
      "model_name": "DescriptionStyleModel",
      "state": {
       "description_width": ""
      }
     },
     "2bf144973b424e10912a4853aa559685": {
      "model_module": "@jupyter-widgets/controls",
      "model_module_version": "1.5.0",
      "model_name": "DescriptionStyleModel",
      "state": {
       "description_width": ""
      }
     },
     "2c2790f3f05646559c073cc1ff7afa9f": {
      "model_module": "@jupyter-widgets/base",
      "model_module_version": "1.2.0",
      "model_name": "LayoutModel",
      "state": {}
     },
     "2c405c35bbeb448cae79337a1f955224": {
      "model_module": "@jupyter-widgets/controls",
      "model_module_version": "1.5.0",
      "model_name": "HTMLModel",
      "state": {
       "layout": "IPY_MODEL_59f31200c9814ec8ae96a244a6a9d37f",
       "style": "IPY_MODEL_c152de24e0754271b074e84dea25c371",
       "value": "100%"
      }
     },
     "2c59e0add3ec4f09979a4ce9d9c6b469": {
      "model_module": "@jupyter-widgets/base",
      "model_module_version": "1.2.0",
      "model_name": "LayoutModel",
      "state": {}
     },
     "2c7f5423c3674e32a7c5630b2435a255": {
      "model_module": "@jupyter-widgets/controls",
      "model_module_version": "1.5.0",
      "model_name": "FloatProgressModel",
      "state": {
       "bar_style": "success",
       "layout": "IPY_MODEL_76fd792eff464b43b3a6d43b6e91175a",
       "max": 3600,
       "style": "IPY_MODEL_f721e8473f524777b093b81cbc120169",
       "value": 3600
      }
     },
     "2c89003b44944651be463d17f354357e": {
      "model_module": "@jupyter-widgets/base",
      "model_module_version": "1.2.0",
      "model_name": "LayoutModel",
      "state": {}
     },
     "2c8a49807ce74914960d2316159c6c68": {
      "model_module": "@jupyter-widgets/controls",
      "model_module_version": "1.5.0",
      "model_name": "DescriptionStyleModel",
      "state": {
       "description_width": ""
      }
     },
     "2c9641dd3edd4487bc9cee6c9b854e25": {
      "model_module": "@jupyter-widgets/base",
      "model_module_version": "1.2.0",
      "model_name": "LayoutModel",
      "state": {}
     },
     "2c9f7463b5a74ab4960b2cd237fef19d": {
      "model_module": "@jupyter-widgets/base",
      "model_module_version": "1.2.0",
      "model_name": "LayoutModel",
      "state": {}
     },
     "2ced20ba43e9457cb66b0f34711a0785": {
      "model_module": "@jupyter-widgets/base",
      "model_module_version": "1.2.0",
      "model_name": "LayoutModel",
      "state": {}
     },
     "2d39865a27634b79aace96ab31e9de71": {
      "model_module": "@jupyter-widgets/base",
      "model_module_version": "1.2.0",
      "model_name": "LayoutModel",
      "state": {}
     },
     "2d6faa8318a24316ac542b2aab6d104f": {
      "model_module": "@jupyter-widgets/controls",
      "model_module_version": "1.5.0",
      "model_name": "HTMLModel",
      "state": {
       "layout": "IPY_MODEL_f16b6dc11529456e82e300502fba64c9",
       "style": "IPY_MODEL_af07788a5db8417ca5849e23e0206ae2",
       "value": " 11/11 [00:06&lt;00:00,  5.59it/s]"
      }
     },
     "2d820ec287634fa4b6a9d23515e928bf": {
      "model_module": "@jupyter-widgets/controls",
      "model_module_version": "1.5.0",
      "model_name": "FloatProgressModel",
      "state": {
       "bar_style": "success",
       "layout": "IPY_MODEL_97d35fcfb6ca4e72a7d15a155d97fd66",
       "max": 3600,
       "style": "IPY_MODEL_1e8d71ccc0f741a5a3e0af29f6cd1052",
       "value": 3600
      }
     },
     "2d91a3fca171400fb62ffad42a57747d": {
      "model_module": "@jupyter-widgets/controls",
      "model_module_version": "1.5.0",
      "model_name": "HTMLModel",
      "state": {
       "layout": "IPY_MODEL_0187655f24bb44de922d710b398b9785",
       "style": "IPY_MODEL_7706a8d595b3432384330c5149678838",
       "value": "100%"
      }
     },
     "2e2a5698782b46beb138960541afa5e3": {
      "model_module": "@jupyter-widgets/base",
      "model_module_version": "1.2.0",
      "model_name": "LayoutModel",
      "state": {}
     },
     "2e4f00001eca4d878dd5a7939478540c": {
      "model_module": "@jupyter-widgets/controls",
      "model_module_version": "1.5.0",
      "model_name": "ProgressStyleModel",
      "state": {
       "description_width": ""
      }
     },
     "2e5bc2c1c7834984a66ddcee2a78895b": {
      "model_module": "@jupyter-widgets/controls",
      "model_module_version": "1.5.0",
      "model_name": "HBoxModel",
      "state": {
       "children": [
        "IPY_MODEL_db39d05744de4341980e3096e1347141",
        "IPY_MODEL_5af0f26ecd364811a9444cb3a6e51867",
        "IPY_MODEL_4e48e1762bb6409c89fb9d06c2a074be"
       ],
       "layout": "IPY_MODEL_d35d828e1a1c4fd6827a4192b8455c4e"
      }
     },
     "2e8951451a7248f9b0a1e03689091418": {
      "model_module": "@jupyter-widgets/base",
      "model_module_version": "1.2.0",
      "model_name": "LayoutModel",
      "state": {}
     },
     "2e913f00eb3f42ad899f4a391e5356a8": {
      "model_module": "@jupyter-widgets/controls",
      "model_module_version": "1.5.0",
      "model_name": "HTMLModel",
      "state": {
       "layout": "IPY_MODEL_5f75771e5a61499489fa5cbf5b0c2ddc",
       "style": "IPY_MODEL_ee40e8a68f2440ecb59c3eac9ab3bf15",
       "value": "100%"
      }
     },
     "2eff36b881b543d5b1842a65d121db2a": {
      "model_module": "@jupyter-widgets/controls",
      "model_module_version": "1.5.0",
      "model_name": "ProgressStyleModel",
      "state": {
       "description_width": ""
      }
     },
     "2f32c378e78d4b38a6f8b6dc68494b31": {
      "model_module": "@jupyter-widgets/base",
      "model_module_version": "1.2.0",
      "model_name": "LayoutModel",
      "state": {}
     },
     "2f8b56aaffd34b01895842c5ec2c675b": {
      "model_module": "@jupyter-widgets/controls",
      "model_module_version": "1.5.0",
      "model_name": "HBoxModel",
      "state": {
       "children": [
        "IPY_MODEL_84e1d6ae585345c8aeddc2985473783b",
        "IPY_MODEL_16f734046d5b4ce0b11cf5941177518d",
        "IPY_MODEL_9a59c5ee08fe42c58e103c7b715301ed"
       ],
       "layout": "IPY_MODEL_232c37cdfd5f4d6eb4ec32cffbcf1e75"
      }
     },
     "30236277779b45979313bbc9ea5f4d18": {
      "model_module": "@jupyter-widgets/controls",
      "model_module_version": "1.5.0",
      "model_name": "HTMLModel",
      "state": {
       "layout": "IPY_MODEL_e73fc44f586442fda89bd56cc9ae5d4a",
       "style": "IPY_MODEL_c09f1b7881df4629a35f7e0654658344",
       "value": " 1000/1000 [00:42&lt;00:00, 29.87it/s]"
      }
     },
     "302d94d177df4565b1f350bed24c5395": {
      "model_module": "@jupyter-widgets/controls",
      "model_module_version": "1.5.0",
      "model_name": "HBoxModel",
      "state": {
       "children": [
        "IPY_MODEL_55ef8489e96e4aea9d984224930387b4",
        "IPY_MODEL_1bbd9c909a3644829aae42380b12e681",
        "IPY_MODEL_42db5598e3364112b1b76886bea7a32f"
       ],
       "layout": "IPY_MODEL_d91ac7e836a44e4fa0aff64d7ba1cdaa"
      }
     },
     "30332d5e173a4f24829b9fd3eb290028": {
      "model_module": "@jupyter-widgets/base",
      "model_module_version": "1.2.0",
      "model_name": "LayoutModel",
      "state": {}
     },
     "30464d0b7be84156ae7caa17f35dd1a8": {
      "model_module": "@jupyter-widgets/base",
      "model_module_version": "1.2.0",
      "model_name": "LayoutModel",
      "state": {}
     },
     "305c436decd54ebbaaab95d924ce38b7": {
      "model_module": "@jupyter-widgets/base",
      "model_module_version": "1.2.0",
      "model_name": "LayoutModel",
      "state": {}
     },
     "3061a0c570434145b62c3dfa73a5517a": {
      "model_module": "@jupyter-widgets/controls",
      "model_module_version": "1.5.0",
      "model_name": "HTMLModel",
      "state": {
       "layout": "IPY_MODEL_ccaccd4c07ec41df9978af0b2b639a1b",
       "style": "IPY_MODEL_7c07d0cbcf514009babad511240d5a28",
       "value": "100%"
      }
     },
     "306b7cf82282420eaa72d00aebc8432f": {
      "model_module": "@jupyter-widgets/controls",
      "model_module_version": "1.5.0",
      "model_name": "HTMLModel",
      "state": {
       "layout": "IPY_MODEL_69b5d0a047be46c889b41fa4dd740e07",
       "style": "IPY_MODEL_9ed977fc57134e43ad08748a3fadaabf",
       "value": "100%"
      }
     },
     "30dc138cf3834925838da6c9f4c6ace5": {
      "model_module": "@jupyter-widgets/controls",
      "model_module_version": "1.5.0",
      "model_name": "HTMLModel",
      "state": {
       "layout": "IPY_MODEL_19ff5184f56c430ca92c6a25eea17aa8",
       "style": "IPY_MODEL_b30f737cf48a4697878c76c230ee6f56",
       "value": " 1000/1000 [00:47&lt;00:00, 30.25it/s]"
      }
     },
     "30ef09f141684245aeab20aa70be1d52": {
      "model_module": "@jupyter-widgets/controls",
      "model_module_version": "1.5.0",
      "model_name": "HTMLModel",
      "state": {
       "layout": "IPY_MODEL_7673a80dd03048e1998422bf8c1b3472",
       "style": "IPY_MODEL_8a16409f6a6442fdb5aca2f141fc53ec",
       "value": " 1800/1800 [00:58&lt;00:00, 31.54it/s]"
      }
     },
     "3123ff9261ca43c2abc838adc98c3adb": {
      "model_module": "@jupyter-widgets/controls",
      "model_module_version": "1.5.0",
      "model_name": "DescriptionStyleModel",
      "state": {
       "description_width": ""
      }
     },
     "315e03635a5e4eeeb10a0199e4fd9d76": {
      "model_module": "@jupyter-widgets/controls",
      "model_module_version": "1.5.0",
      "model_name": "HTMLModel",
      "state": {
       "layout": "IPY_MODEL_3e0b2fcb21714a91afb61c323f18a57a",
       "style": "IPY_MODEL_b09466e287244a0089f44f0d7e10329a",
       "value": " 0/4500 [00:00&lt;?, ?it/s]"
      }
     },
     "316159ec3bbb4a538692bf9736663372": {
      "model_module": "@jupyter-widgets/controls",
      "model_module_version": "1.5.0",
      "model_name": "HTMLModel",
      "state": {
       "layout": "IPY_MODEL_2ced20ba43e9457cb66b0f34711a0785",
       "style": "IPY_MODEL_449a9241c8f84b9081025d0d2aaf501f",
       "value": " 34/4500 [00:08&lt;06:41, 11.13it/s]"
      }
     },
     "31c554f5d844468c950f2bc82eb2dd76": {
      "model_module": "@jupyter-widgets/controls",
      "model_module_version": "1.5.0",
      "model_name": "DescriptionStyleModel",
      "state": {
       "description_width": ""
      }
     },
     "31e2e84df6a04055a97671a8d9dfd43f": {
      "model_module": "@jupyter-widgets/controls",
      "model_module_version": "1.5.0",
      "model_name": "FloatProgressModel",
      "state": {
       "bar_style": "success",
       "layout": "IPY_MODEL_bc14d45f4c0d4f098c6dd365a002cd32",
       "max": 11,
       "style": "IPY_MODEL_2364e9c89ff9435a9530e7cfe3a334b3",
       "value": 11
      }
     },
     "31f797d29ffc4fb58682aa8fecf65781": {
      "model_module": "@jupyter-widgets/controls",
      "model_module_version": "1.5.0",
      "model_name": "HTMLModel",
      "state": {
       "layout": "IPY_MODEL_83c4d628bdc54b98949ac3a35d691146",
       "style": "IPY_MODEL_2ab2f84c126c4b47bbaed9d3ef54f124",
       "value": "  0%"
      }
     },
     "320eb1c00a2a4ed5b6bc09edeae7dbd9": {
      "model_module": "@jupyter-widgets/controls",
      "model_module_version": "1.5.0",
      "model_name": "DescriptionStyleModel",
      "state": {
       "description_width": ""
      }
     },
     "322462faf1a046c398d3bc0fc792863f": {
      "model_module": "@jupyter-widgets/controls",
      "model_module_version": "1.5.0",
      "model_name": "FloatProgressModel",
      "state": {
       "bar_style": "success",
       "layout": "IPY_MODEL_cf06d97fba274f0eb65d4ac9ffdecbb2",
       "max": 3600,
       "style": "IPY_MODEL_5608a5c4dc9c4f4092f437b670329973",
       "value": 3600
      }
     },
     "326d1ab4899a46f898d4d5bcea5bea8b": {
      "model_module": "@jupyter-widgets/controls",
      "model_module_version": "1.5.0",
      "model_name": "FloatProgressModel",
      "state": {
       "bar_style": "success",
       "layout": "IPY_MODEL_62728c63985c496a927e2997cfdefcde",
       "max": 3600,
       "style": "IPY_MODEL_d12800c26e5544dfbc6aafee974a438f",
       "value": 3600
      }
     },
     "32c0b77520de4000ac2912caa8d1c9be": {
      "model_module": "@jupyter-widgets/controls",
      "model_module_version": "1.5.0",
      "model_name": "ProgressStyleModel",
      "state": {
       "description_width": ""
      }
     },
     "3319b091e1f045658db154b2540ff647": {
      "model_module": "@jupyter-widgets/base",
      "model_module_version": "1.2.0",
      "model_name": "LayoutModel",
      "state": {}
     },
     "332235eec69547bba3439bb3581e3607": {
      "model_module": "@jupyter-widgets/controls",
      "model_module_version": "1.5.0",
      "model_name": "HTMLModel",
      "state": {
       "layout": "IPY_MODEL_b69d901a92b54bb0a8bbd39cfba2535f",
       "style": "IPY_MODEL_eb683289f2cf47bbbc567fe91e5e6ff1",
       "value": " 25%"
      }
     },
     "3335c151c36b42b085b70c2b78c92dd2": {
      "model_module": "@jupyter-widgets/controls",
      "model_module_version": "1.5.0",
      "model_name": "ProgressStyleModel",
      "state": {
       "description_width": ""
      }
     },
     "338f08ca15de4bfa879f97610d38ca92": {
      "model_module": "@jupyter-widgets/controls",
      "model_module_version": "1.5.0",
      "model_name": "HTMLModel",
      "state": {
       "layout": "IPY_MODEL_0cc297f507774ffea23ffdbee3926041",
       "style": "IPY_MODEL_73aca46aff5948e5b97fa82f94ef176c",
       "value": "100%"
      }
     },
     "33b642dcc69747ed8198870a90466965": {
      "model_module": "@jupyter-widgets/base",
      "model_module_version": "1.2.0",
      "model_name": "LayoutModel",
      "state": {}
     },
     "33b9c0688d9e4ccbb84715112a52718f": {
      "model_module": "@jupyter-widgets/base",
      "model_module_version": "1.2.0",
      "model_name": "LayoutModel",
      "state": {}
     },
     "33caeec41212458680bc6221de0d0eb2": {
      "model_module": "@jupyter-widgets/base",
      "model_module_version": "1.2.0",
      "model_name": "LayoutModel",
      "state": {}
     },
     "33e2db9703c34d9aabbc4bb5b944a34b": {
      "model_module": "@jupyter-widgets/base",
      "model_module_version": "1.2.0",
      "model_name": "LayoutModel",
      "state": {}
     },
     "3454abbb71414c918e60f18964aad092": {
      "model_module": "@jupyter-widgets/controls",
      "model_module_version": "1.5.0",
      "model_name": "DescriptionStyleModel",
      "state": {
       "description_width": ""
      }
     },
     "34855f41065745ac905a4e1889726504": {
      "model_module": "@jupyter-widgets/base",
      "model_module_version": "1.2.0",
      "model_name": "LayoutModel",
      "state": {}
     },
     "34be51eb68e0417aab5b0617b34427ee": {
      "model_module": "@jupyter-widgets/controls",
      "model_module_version": "1.5.0",
      "model_name": "HTMLModel",
      "state": {
       "layout": "IPY_MODEL_82e92956a40641469496f492e474838b",
       "style": "IPY_MODEL_cc8fd18b95f9447fb6b425628d457ec3",
       "value": "  6%"
      }
     },
     "34ee33815f65449d946287eb07b3cdc8": {
      "model_module": "@jupyter-widgets/controls",
      "model_module_version": "1.5.0",
      "model_name": "FloatProgressModel",
      "state": {
       "bar_style": "success",
       "layout": "IPY_MODEL_5def3d12137f4302b5c68466142c6892",
       "max": 1800,
       "style": "IPY_MODEL_e41bb4f0002f4cb6bad5a9ac689f9791",
       "value": 1800
      }
     },
     "3531c468144249708079d30d4ee8cac5": {
      "model_module": "@jupyter-widgets/base",
      "model_module_version": "1.2.0",
      "model_name": "LayoutModel",
      "state": {}
     },
     "355e401d9c894b908bae498867e580cf": {
      "model_module": "@jupyter-widgets/base",
      "model_module_version": "1.2.0",
      "model_name": "LayoutModel",
      "state": {}
     },
     "3563bba29b95407aa9cbfb065fdc94da": {
      "model_module": "@jupyter-widgets/base",
      "model_module_version": "1.2.0",
      "model_name": "LayoutModel",
      "state": {}
     },
     "356f332389b14d178783ddf3b4bfb8bc": {
      "model_module": "@jupyter-widgets/controls",
      "model_module_version": "1.5.0",
      "model_name": "DescriptionStyleModel",
      "state": {
       "description_width": ""
      }
     },
     "35b366eb61134a6e8b972fe0b444182d": {
      "model_module": "@jupyter-widgets/base",
      "model_module_version": "1.2.0",
      "model_name": "LayoutModel",
      "state": {}
     },
     "360d970de0404f8284e68ea54e5eebd6": {
      "model_module": "@jupyter-widgets/base",
      "model_module_version": "1.2.0",
      "model_name": "LayoutModel",
      "state": {}
     },
     "361104c0535540fd8d69f1aa84f0f5f7": {
      "model_module": "@jupyter-widgets/base",
      "model_module_version": "1.2.0",
      "model_name": "LayoutModel",
      "state": {}
     },
     "367a20ef80f840bfa62a3105c0200e14": {
      "model_module": "@jupyter-widgets/controls",
      "model_module_version": "1.5.0",
      "model_name": "DescriptionStyleModel",
      "state": {
       "description_width": ""
      }
     },
     "36a98917221f49658aefa2bd028f9873": {
      "model_module": "@jupyter-widgets/base",
      "model_module_version": "1.2.0",
      "model_name": "LayoutModel",
      "state": {}
     },
     "36b3307d7746434ca8e40a9ce079878d": {
      "model_module": "@jupyter-widgets/base",
      "model_module_version": "1.2.0",
      "model_name": "LayoutModel",
      "state": {}
     },
     "36dced4b086d45f0a31fdc31da72ce8c": {
      "model_module": "@jupyter-widgets/controls",
      "model_module_version": "1.5.0",
      "model_name": "ProgressStyleModel",
      "state": {
       "description_width": ""
      }
     },
     "379c8c68c4ab4b54bc0682b2c98ec4bf": {
      "model_module": "@jupyter-widgets/controls",
      "model_module_version": "1.5.0",
      "model_name": "HTMLModel",
      "state": {
       "layout": "IPY_MODEL_2c9f7463b5a74ab4960b2cd237fef19d",
       "style": "IPY_MODEL_14c89efc96ff4d69ab21d0845202f80b",
       "value": " 3600/3600 [02:13&lt;00:00, 27.57it/s]"
      }
     },
     "37af398df6c14d7381d3372f469058c0": {
      "model_module": "@jupyter-widgets/controls",
      "model_module_version": "1.5.0",
      "model_name": "DescriptionStyleModel",
      "state": {
       "description_width": ""
      }
     },
     "3808a0a585314750b9e052c506e7ddc7": {
      "model_module": "@jupyter-widgets/controls",
      "model_module_version": "1.5.0",
      "model_name": "HTMLModel",
      "state": {
       "layout": "IPY_MODEL_8d16fbc862634faca94128bc56cb30d7",
       "style": "IPY_MODEL_56e358801bff49a9a5ea859b7082b7e7",
       "value": "  0%"
      }
     },
     "3810a06cb348417aa7b15008bb0cb6ce": {
      "model_module": "@jupyter-widgets/base",
      "model_module_version": "1.2.0",
      "model_name": "LayoutModel",
      "state": {}
     },
     "382052316919412ca0df2dd0eb5d706d": {
      "model_module": "@jupyter-widgets/base",
      "model_module_version": "1.2.0",
      "model_name": "LayoutModel",
      "state": {}
     },
     "387e0f48c0e74f7689a0d4c2bc307cb0": {
      "model_module": "@jupyter-widgets/controls",
      "model_module_version": "1.5.0",
      "model_name": "HBoxModel",
      "state": {
       "children": [
        "IPY_MODEL_916c4b35c5164170bd29e7b1e579b1bc",
        "IPY_MODEL_2bb459a71fc04b8491fb9bf9849ddb2c",
        "IPY_MODEL_7156ef154e524661b4f7c232420ce998"
       ],
       "layout": "IPY_MODEL_3ffb9c59f4e2462cb14aec031c9c01f0"
      }
     },
     "387e6d62868e497f9e9d7f624a8f47b3": {
      "model_module": "@jupyter-widgets/base",
      "model_module_version": "1.2.0",
      "model_name": "LayoutModel",
      "state": {}
     },
     "38a23c86293c47179e88648a0acf1e42": {
      "model_module": "@jupyter-widgets/controls",
      "model_module_version": "1.5.0",
      "model_name": "HTMLModel",
      "state": {
       "layout": "IPY_MODEL_b85bbb8b91b7453d8e19dc0782b1b425",
       "style": "IPY_MODEL_4ea2b7a3cd664ef58e137c8b9226670b",
       "value": " 3600/3600 [01:55&lt;00:00, 31.82it/s]"
      }
     },
     "38a3c02f47be45189a4edad1777b1930": {
      "model_module": "@jupyter-widgets/base",
      "model_module_version": "1.2.0",
      "model_name": "LayoutModel",
      "state": {}
     },
     "38ca0ab73bf34d9ba30e898c3994636a": {
      "model_module": "@jupyter-widgets/controls",
      "model_module_version": "1.5.0",
      "model_name": "FloatProgressModel",
      "state": {
       "bar_style": "success",
       "layout": "IPY_MODEL_a0ccbb64d355439ab4d791d2f248d075",
       "max": 4500,
       "style": "IPY_MODEL_0b8d0d9983004639a5fbd26599aba118",
       "value": 4500
      }
     },
     "38ca9a8d6c0442b39d813aa4f55e5997": {
      "model_module": "@jupyter-widgets/controls",
      "model_module_version": "1.5.0",
      "model_name": "ProgressStyleModel",
      "state": {
       "description_width": ""
      }
     },
     "38d33bfac59d4e099cf6ec5d41570404": {
      "model_module": "@jupyter-widgets/controls",
      "model_module_version": "1.5.0",
      "model_name": "DescriptionStyleModel",
      "state": {
       "description_width": ""
      }
     },
     "38d94df61bcf42b6a6438692792a6b6f": {
      "model_module": "@jupyter-widgets/controls",
      "model_module_version": "1.5.0",
      "model_name": "FloatProgressModel",
      "state": {
       "bar_style": "success",
       "layout": "IPY_MODEL_09557da604144e03b07f7ed0d53f235f",
       "max": 3600,
       "style": "IPY_MODEL_a3a8b16b7fab4f71b171d84f05c5c65b",
       "value": 3600
      }
     },
     "38e83867a7e540719cfdfceda38f26f2": {
      "model_module": "@jupyter-widgets/controls",
      "model_module_version": "1.5.0",
      "model_name": "HTMLModel",
      "state": {
       "layout": "IPY_MODEL_4fbae017c1f14f098a87c3c4742bd652",
       "style": "IPY_MODEL_8c891e78d4b64f2d8f1b3bef09e20789",
       "value": " 3600/3600 [02:40&lt;00:00, 20.38it/s]"
      }
     },
     "391062905b7a496ca3f3a9f14fea2255": {
      "model_module": "@jupyter-widgets/controls",
      "model_module_version": "1.5.0",
      "model_name": "HTMLModel",
      "state": {
       "layout": "IPY_MODEL_2a35b393273645d4932aad7e2be8a51f",
       "style": "IPY_MODEL_75c1023e473b41d9b973ce72f48be269",
       "value": "100%"
      }
     },
     "39cd977614cb42e7babe07a6f3db9135": {
      "model_module": "@jupyter-widgets/base",
      "model_module_version": "1.2.0",
      "model_name": "LayoutModel",
      "state": {}
     },
     "3a4604ced5ff495fabc37ac2fe02172a": {
      "model_module": "@jupyter-widgets/controls",
      "model_module_version": "1.5.0",
      "model_name": "HTMLModel",
      "state": {
       "layout": "IPY_MODEL_4d48578164a341939c8968e63a38ce2e",
       "style": "IPY_MODEL_dbfd524b1a5542c2bb2a29c0fd31621e",
       "value": " 1800/1800 [00:58&lt;00:00, 32.78it/s]"
      }
     },
     "3a4f4dd067ff4012a5a485f2ca6a9a14": {
      "model_module": "@jupyter-widgets/controls",
      "model_module_version": "1.5.0",
      "model_name": "FloatProgressModel",
      "state": {
       "bar_style": "success",
       "layout": "IPY_MODEL_4bd1913d60e54311af9fc2b7d42e008f",
       "max": 1800,
       "style": "IPY_MODEL_054bcb924932469f9bd81741a59a08f3",
       "value": 1800
      }
     },
     "3aa02006f484468c868b79736befcf1a": {
      "model_module": "@jupyter-widgets/controls",
      "model_module_version": "1.5.0",
      "model_name": "HBoxModel",
      "state": {
       "children": [
        "IPY_MODEL_a570b2b4544b4d65a604e29ff15ac826",
        "IPY_MODEL_82828010a3194ab7b15fd1de7a18b997",
        "IPY_MODEL_4e1881be260041ba897f523dbaf80fa4"
       ],
       "layout": "IPY_MODEL_49ad3a3f47e140188f9cda150a5a87ee"
      }
     },
     "3aad0d568a91492a98541c08ab2d18f1": {
      "model_module": "@jupyter-widgets/controls",
      "model_module_version": "1.5.0",
      "model_name": "HTMLModel",
      "state": {
       "layout": "IPY_MODEL_ece7c868ec2143bdb51dde7b6db9ec7b",
       "style": "IPY_MODEL_2a3b89267a0444149e01b608cba1c08b",
       "value": "  6%"
      }
     },
     "3ad7c276cb284b189ced899cc18d8c7a": {
      "model_module": "@jupyter-widgets/base",
      "model_module_version": "1.2.0",
      "model_name": "LayoutModel",
      "state": {}
     },
     "3addc2ded86a4ff4a49358e1e815e835": {
      "model_module": "@jupyter-widgets/controls",
      "model_module_version": "1.5.0",
      "model_name": "FloatProgressModel",
      "state": {
       "bar_style": "success",
       "layout": "IPY_MODEL_704b66b296754e3689dc85256eff88de",
       "max": 3600,
       "style": "IPY_MODEL_1f873b59e37f4fd4b0e699c226c671e0",
       "value": 3600
      }
     },
     "3b0751de94324362a99389fe1074d691": {
      "model_module": "@jupyter-widgets/controls",
      "model_module_version": "1.5.0",
      "model_name": "HTMLModel",
      "state": {
       "layout": "IPY_MODEL_5261ff8f0c2e4c3b9408ed0e393c43ec",
       "style": "IPY_MODEL_28cbfcfcfe1b444daf74cb7d26e1af8a",
       "value": "100%"
      }
     },
     "3b7b6ce883244d04b03b9cd13d96f3cd": {
      "model_module": "@jupyter-widgets/controls",
      "model_module_version": "1.5.0",
      "model_name": "HBoxModel",
      "state": {
       "children": [
        "IPY_MODEL_d4559e9a58c54b72b3a2683ef0e010a4",
        "IPY_MODEL_f9969ac8820e4967a5c2a66d12d9bf43",
        "IPY_MODEL_6303c636e32f48ebbde7b60b4c647311"
       ],
       "layout": "IPY_MODEL_6cd90605465142a4abbad3c6a0c279d5"
      }
     },
     "3ba0a513134f471fb2d7f24b16d5c22b": {
      "model_module": "@jupyter-widgets/base",
      "model_module_version": "1.2.0",
      "model_name": "LayoutModel",
      "state": {}
     },
     "3ba41d6dfa734ab7800cd1b27e3b5385": {
      "model_module": "@jupyter-widgets/base",
      "model_module_version": "1.2.0",
      "model_name": "LayoutModel",
      "state": {}
     },
     "3bafb3e205c84f588703739251a926e0": {
      "model_module": "@jupyter-widgets/controls",
      "model_module_version": "1.5.0",
      "model_name": "DescriptionStyleModel",
      "state": {
       "description_width": ""
      }
     },
     "3bc53cc2747a485e8206da8f9bb20092": {
      "model_module": "@jupyter-widgets/controls",
      "model_module_version": "1.5.0",
      "model_name": "FloatProgressModel",
      "state": {
       "bar_style": "success",
       "layout": "IPY_MODEL_6fe4b7d1d52c48c79e90d66841237247",
       "max": 1800,
       "style": "IPY_MODEL_6258ea111e1a40df899870229142c0c1",
       "value": 1800
      }
     },
     "3bc8e666d0784b3aa564b5e8e9012544": {
      "model_module": "@jupyter-widgets/controls",
      "model_module_version": "1.5.0",
      "model_name": "DescriptionStyleModel",
      "state": {
       "description_width": ""
      }
     },
     "3bd7b672f83d40c8a511d3ea5a29fd69": {
      "model_module": "@jupyter-widgets/controls",
      "model_module_version": "1.5.0",
      "model_name": "FloatProgressModel",
      "state": {
       "bar_style": "success",
       "layout": "IPY_MODEL_8c8fa9dac8374745b0b3b7fd32002cb3",
       "max": 1000,
       "style": "IPY_MODEL_d0a9260079d44d2c818a45f878572abb",
       "value": 1000
      }
     },
     "3c263223d8d14ed6b3e930144f4833ea": {
      "model_module": "@jupyter-widgets/base",
      "model_module_version": "1.2.0",
      "model_name": "LayoutModel",
      "state": {}
     },
     "3c49edba7e9e48e4a2c7d4cc23c57d7c": {
      "model_module": "@jupyter-widgets/controls",
      "model_module_version": "1.5.0",
      "model_name": "HTMLModel",
      "state": {
       "layout": "IPY_MODEL_540e72dfe1c844efb73bde15173daace",
       "style": "IPY_MODEL_5a68de3bda0f47b28b8b2ce409b9b13c",
       "value": "100%"
      }
     },
     "3c5f83bc4a1140b5b8088dc80fcb6e89": {
      "model_module": "@jupyter-widgets/controls",
      "model_module_version": "1.5.0",
      "model_name": "ProgressStyleModel",
      "state": {
       "description_width": ""
      }
     },
     "3c95cd18592942ec8102b29192c34cc5": {
      "model_module": "@jupyter-widgets/base",
      "model_module_version": "1.2.0",
      "model_name": "LayoutModel",
      "state": {}
     },
     "3ca32838a3764fb494b0e08e5c0bfa97": {
      "model_module": "@jupyter-widgets/controls",
      "model_module_version": "1.5.0",
      "model_name": "HTMLModel",
      "state": {
       "layout": "IPY_MODEL_5ca7d8e87e1a479cb3eb908f5d54c6ae",
       "style": "IPY_MODEL_4435fd552b62448683371d7b6ee8c579",
       "value": " 3600/3600 [02:02&lt;00:00, 28.43it/s]"
      }
     },
     "3cafee7b152d462f98bf483e720bf6b9": {
      "model_module": "@jupyter-widgets/base",
      "model_module_version": "1.2.0",
      "model_name": "LayoutModel",
      "state": {}
     },
     "3cb475d6bc2145dbb95fb82dae659c1e": {
      "model_module": "@jupyter-widgets/controls",
      "model_module_version": "1.5.0",
      "model_name": "DescriptionStyleModel",
      "state": {
       "description_width": ""
      }
     },
     "3cb6d7138ebd454b9a00ba13c2233d57": {
      "model_module": "@jupyter-widgets/base",
      "model_module_version": "1.2.0",
      "model_name": "LayoutModel",
      "state": {}
     },
     "3cd33d7db3dd4307acd313b9e4a833e8": {
      "model_module": "@jupyter-widgets/controls",
      "model_module_version": "1.5.0",
      "model_name": "HBoxModel",
      "state": {
       "children": [
        "IPY_MODEL_217f6d65c4364b7188a1a2de8f156f08",
        "IPY_MODEL_31e2e84df6a04055a97671a8d9dfd43f",
        "IPY_MODEL_9d685c6c34f24b9ab0987cfee5938632"
       ],
       "layout": "IPY_MODEL_f402661771d549fc8d4e42d11cb936be"
      }
     },
     "3cd5d0723a294fed95c3d86a6c0118a0": {
      "model_module": "@jupyter-widgets/controls",
      "model_module_version": "1.5.0",
      "model_name": "FloatProgressModel",
      "state": {
       "bar_style": "success",
       "layout": "IPY_MODEL_06158876fbce4045a731ed339b0ebe64",
       "max": 10,
       "style": "IPY_MODEL_3335c151c36b42b085b70c2b78c92dd2",
       "value": 10
      }
     },
     "3d32c7b6348f4ace90e788872fcd0ed6": {
      "model_module": "@jupyter-widgets/base",
      "model_module_version": "1.2.0",
      "model_name": "LayoutModel",
      "state": {}
     },
     "3d99ad63ea824c15b3d0500e7c42c74e": {
      "model_module": "@jupyter-widgets/controls",
      "model_module_version": "1.5.0",
      "model_name": "DescriptionStyleModel",
      "state": {
       "description_width": ""
      }
     },
     "3d9cd1d815b345ddbed6fb2c9c3672d8": {
      "model_module": "@jupyter-widgets/controls",
      "model_module_version": "1.5.0",
      "model_name": "DescriptionStyleModel",
      "state": {
       "description_width": ""
      }
     },
     "3dfd6ba41c1c43879c01acb6aa4e749b": {
      "model_module": "@jupyter-widgets/controls",
      "model_module_version": "1.5.0",
      "model_name": "FloatProgressModel",
      "state": {
       "bar_style": "success",
       "layout": "IPY_MODEL_7619b2094d894e7cbe977a19141e86a3",
       "max": 4800,
       "style": "IPY_MODEL_ef9a570d10f447e7be0ca1858b9d496a",
       "value": 4800
      }
     },
     "3e0b2fcb21714a91afb61c323f18a57a": {
      "model_module": "@jupyter-widgets/base",
      "model_module_version": "1.2.0",
      "model_name": "LayoutModel",
      "state": {}
     },
     "3e2e2ab012dd40db9b9694007116b6a8": {
      "model_module": "@jupyter-widgets/base",
      "model_module_version": "1.2.0",
      "model_name": "LayoutModel",
      "state": {}
     },
     "3e88e0267d22410b88170cde3af0ef8c": {
      "model_module": "@jupyter-widgets/base",
      "model_module_version": "1.2.0",
      "model_name": "LayoutModel",
      "state": {}
     },
     "3ecfc717d3354dcb8cfa804165b251ed": {
      "model_module": "@jupyter-widgets/base",
      "model_module_version": "1.2.0",
      "model_name": "LayoutModel",
      "state": {}
     },
     "3edbec58dadd445888ec424987174896": {
      "model_module": "@jupyter-widgets/controls",
      "model_module_version": "1.5.0",
      "model_name": "HTMLModel",
      "state": {
       "layout": "IPY_MODEL_16a2cd6f86054f40b1ccf96f7dd60bb6",
       "style": "IPY_MODEL_59766bc98bee4f65930b570243360236",
       "value": "100%"
      }
     },
     "3ef6917c20e14187bc762857432f683e": {
      "model_module": "@jupyter-widgets/controls",
      "model_module_version": "1.5.0",
      "model_name": "HTMLModel",
      "state": {
       "layout": "IPY_MODEL_417970e49648476fb34cb2082ec07740",
       "style": "IPY_MODEL_8e1eeb5e2fd444eb81e033f7551e1748",
       "value": "100%"
      }
     },
     "3efac2aa24ec43f7949c7882319e2cb5": {
      "model_module": "@jupyter-widgets/controls",
      "model_module_version": "1.5.0",
      "model_name": "FloatProgressModel",
      "state": {
       "bar_style": "success",
       "layout": "IPY_MODEL_925f6877c66744de8489200dfd9d834a",
       "max": 3600,
       "style": "IPY_MODEL_ea885cdbe59f4f16b715c8564848a877",
       "value": 3600
      }
     },
     "3f281ba9381544f9baec71e50781f513": {
      "model_module": "@jupyter-widgets/base",
      "model_module_version": "1.2.0",
      "model_name": "LayoutModel",
      "state": {}
     },
     "3f8868f5c45248b59438adcbb16fcec9": {
      "model_module": "@jupyter-widgets/controls",
      "model_module_version": "1.5.0",
      "model_name": "HTMLModel",
      "state": {
       "layout": "IPY_MODEL_a39a2853492b407289adc2519e67c39e",
       "style": "IPY_MODEL_4a845d9c983042b0881f38911da62e0f",
       "value": " 4500/4500 [05:14&lt;00:00, 14.47it/s]"
      }
     },
     "3fa0e4ad13f64b1780f93a55e4b1db1b": {
      "model_module": "@jupyter-widgets/controls",
      "model_module_version": "1.5.0",
      "model_name": "ProgressStyleModel",
      "state": {
       "description_width": ""
      }
     },
     "3fbcc153a7194224810ad753ecb61597": {
      "model_module": "@jupyter-widgets/base",
      "model_module_version": "1.2.0",
      "model_name": "LayoutModel",
      "state": {}
     },
     "3fcba42b3f7040cc932956b44e266623": {
      "model_module": "@jupyter-widgets/controls",
      "model_module_version": "1.5.0",
      "model_name": "HTMLModel",
      "state": {
       "layout": "IPY_MODEL_805542f8d62b412384d4d4147195290f",
       "style": "IPY_MODEL_decbc41dbc6b4fed98c99d91748d83ab",
       "value": " 224/3600 [00:05&lt;01:39, 34.06it/s]"
      }
     },
     "3ffb9c59f4e2462cb14aec031c9c01f0": {
      "model_module": "@jupyter-widgets/base",
      "model_module_version": "1.2.0",
      "model_name": "LayoutModel",
      "state": {}
     },
     "4036416b3bdb4743bd9b759bc9588524": {
      "model_module": "@jupyter-widgets/controls",
      "model_module_version": "1.5.0",
      "model_name": "HBoxModel",
      "state": {
       "children": [
        "IPY_MODEL_306b7cf82282420eaa72d00aebc8432f",
        "IPY_MODEL_f12329fab0a344fc89afa5e4798e4378",
        "IPY_MODEL_9cf02db065b24598b0e9a969dfbb0af7"
       ],
       "layout": "IPY_MODEL_728572bdd45640429a5eb6958be5e687"
      }
     },
     "40524ebe037e4e48903b021d20da74f1": {
      "model_module": "@jupyter-widgets/controls",
      "model_module_version": "1.5.0",
      "model_name": "DescriptionStyleModel",
      "state": {
       "description_width": ""
      }
     },
     "405619de0ee54c44bd8e5a550f9d9e7c": {
      "model_module": "@jupyter-widgets/controls",
      "model_module_version": "1.5.0",
      "model_name": "HBoxModel",
      "state": {
       "children": [
        "IPY_MODEL_63cc449edcb240aca18204feff176d30",
        "IPY_MODEL_a4595622cf2b45afa3c00691b02024a5",
        "IPY_MODEL_a10b2bc1a3994020b9a669afd2148907"
       ],
       "layout": "IPY_MODEL_b422ddd129b047ee84884f02552fba5f"
      }
     },
     "40a47c4229d64ff6a52c9bd2ad3c9b44": {
      "model_module": "@jupyter-widgets/controls",
      "model_module_version": "1.5.0",
      "model_name": "HTMLModel",
      "state": {
       "layout": "IPY_MODEL_d59b3d5323a341d7a83712525e9ef463",
       "style": "IPY_MODEL_dde56ad5e3ce4a9bb2fefcf1414d7a12",
       "value": "100%"
      }
     },
     "40aba82fa3af4130aa147fe58e42cc8e": {
      "model_module": "@jupyter-widgets/controls",
      "model_module_version": "1.5.0",
      "model_name": "HTMLModel",
      "state": {
       "layout": "IPY_MODEL_3fbcc153a7194224810ad753ecb61597",
       "style": "IPY_MODEL_54d57624260f4e95b5549474df98c20c",
       "value": " 11/11 [00:06&lt;00:00,  1.83it/s]"
      }
     },
     "40b74b82adc34cb6ad14d9d6620e0efb": {
      "model_module": "@jupyter-widgets/controls",
      "model_module_version": "1.5.0",
      "model_name": "HTMLModel",
      "state": {
       "layout": "IPY_MODEL_abf56c0d4bb44a868d1f64161abff620",
       "style": "IPY_MODEL_58b2452e86ce46e682e0a2fb8e3718b7",
       "value": " 3600/3600 [01:55&lt;00:00, 31.10it/s]"
      }
     },
     "40ead811f6aa4d08aaf0072fdc5d66c0": {
      "model_module": "@jupyter-widgets/controls",
      "model_module_version": "1.5.0",
      "model_name": "HTMLModel",
      "state": {
       "layout": "IPY_MODEL_cf3d8cd6b2c447f382a9ec481a0ee632",
       "style": "IPY_MODEL_3bc8e666d0784b3aa564b5e8e9012544",
       "value": " 10/10 [26:54&lt;00:00, 162.37s/it]"
      }
     },
     "40f0458821b24460a87bdb1bb7a92ff6": {
      "model_module": "@jupyter-widgets/controls",
      "model_module_version": "1.5.0",
      "model_name": "HTMLModel",
      "state": {
       "layout": "IPY_MODEL_55209e3a950b4101b9dec433b5d3308a",
       "style": "IPY_MODEL_e493e600c718487292a0b88e21d92ec4",
       "value": "100%"
      }
     },
     "40fa54ec31a94fb6861d107012a2ed40": {
      "model_module": "@jupyter-widgets/controls",
      "model_module_version": "1.5.0",
      "model_name": "HBoxModel",
      "state": {
       "children": [
        "IPY_MODEL_34be51eb68e0417aab5b0617b34427ee",
        "IPY_MODEL_f11e8a020e90446694eb2988f940d077",
        "IPY_MODEL_3fcba42b3f7040cc932956b44e266623"
       ],
       "layout": "IPY_MODEL_cc9747500ef14fc3aa5ad0f488c4fa6f"
      }
     },
     "40fc303c61d44bd1a107ab5d1da9f008": {
      "model_module": "@jupyter-widgets/base",
      "model_module_version": "1.2.0",
      "model_name": "LayoutModel",
      "state": {}
     },
     "411009c506ef46be92d66b687798e29e": {
      "model_module": "@jupyter-widgets/base",
      "model_module_version": "1.2.0",
      "model_name": "LayoutModel",
      "state": {}
     },
     "4122fd3d38d9440f96f045351b0e1b27": {
      "model_module": "@jupyter-widgets/base",
      "model_module_version": "1.2.0",
      "model_name": "LayoutModel",
      "state": {}
     },
     "416f039ec82c49d89037413979f35678": {
      "model_module": "@jupyter-widgets/base",
      "model_module_version": "1.2.0",
      "model_name": "LayoutModel",
      "state": {}
     },
     "416fc8fac53446e289e53a023d6c60d9": {
      "model_module": "@jupyter-widgets/controls",
      "model_module_version": "1.5.0",
      "model_name": "HTMLModel",
      "state": {
       "layout": "IPY_MODEL_4c1737d8ca8d4f25b002d0d929a4812c",
       "style": "IPY_MODEL_8d07b1cd9d164d949425c69f5b8d662f",
       "value": " 3600/3600 [02:26&lt;00:00, 25.35it/s]"
      }
     },
     "417970e49648476fb34cb2082ec07740": {
      "model_module": "@jupyter-widgets/base",
      "model_module_version": "1.2.0",
      "model_name": "LayoutModel",
      "state": {}
     },
     "41ed15433c484534a997450d39c6580a": {
      "model_module": "@jupyter-widgets/controls",
      "model_module_version": "1.5.0",
      "model_name": "DescriptionStyleModel",
      "state": {
       "description_width": ""
      }
     },
     "41f2048a35764e30bcace3406907905d": {
      "model_module": "@jupyter-widgets/controls",
      "model_module_version": "1.5.0",
      "model_name": "HBoxModel",
      "state": {
       "children": [
        "IPY_MODEL_40a47c4229d64ff6a52c9bd2ad3c9b44",
        "IPY_MODEL_65cd8256a2e7482ba0760606c26577ee",
        "IPY_MODEL_8bc1afe201364f5ab2715a863f544194"
       ],
       "layout": "IPY_MODEL_4a6d15e26ff941c6b9164030c7a83634"
      }
     },
     "4237b832264c4441971a6967c940cba2": {
      "model_module": "@jupyter-widgets/controls",
      "model_module_version": "1.5.0",
      "model_name": "HTMLModel",
      "state": {
       "layout": "IPY_MODEL_242e02cd05a547e988b236ceb9b0fc94",
       "style": "IPY_MODEL_be51860e8ac244fab136c1e0f60095ad",
       "value": " 1291/1800 [00:47&lt;00:17, 29.30it/s]"
      }
     },
     "423f8bedec4e43628acb0756fc1a83b2": {
      "model_module": "@jupyter-widgets/base",
      "model_module_version": "1.2.0",
      "model_name": "LayoutModel",
      "state": {}
     },
     "426cb50edcd64219a21e9ee5763889f2": {
      "model_module": "@jupyter-widgets/controls",
      "model_module_version": "1.5.0",
      "model_name": "HBoxModel",
      "state": {
       "children": [
        "IPY_MODEL_fb945a0e73c24e1dbf54671c22a707a2",
        "IPY_MODEL_0c2c4f7898b3413db9c63e537e718089",
        "IPY_MODEL_77a84b89a79c455a8b70734ba04a93b1"
       ],
       "layout": "IPY_MODEL_0d625736712f48c88e3b218e3a4a1a66"
      }
     },
     "427521b023a44db3ab729467d352edae": {
      "model_module": "@jupyter-widgets/controls",
      "model_module_version": "1.5.0",
      "model_name": "FloatProgressModel",
      "state": {
       "bar_style": "success",
       "layout": "IPY_MODEL_a5916ca398f54242a597fbcc4d1b0453",
       "max": 3600,
       "style": "IPY_MODEL_19572b4fbf5040668cae590874814e9a",
       "value": 3600
      }
     },
     "42a1bda06f4249f49859cba9ecf68b88": {
      "model_module": "@jupyter-widgets/base",
      "model_module_version": "1.2.0",
      "model_name": "LayoutModel",
      "state": {}
     },
     "42db5598e3364112b1b76886bea7a32f": {
      "model_module": "@jupyter-widgets/controls",
      "model_module_version": "1.5.0",
      "model_name": "HTMLModel",
      "state": {
       "layout": "IPY_MODEL_30332d5e173a4f24829b9fd3eb290028",
       "style": "IPY_MODEL_7b212f93d52a437fa37abc479e17b160",
       "value": " 3600/3600 [01:55&lt;00:00, 31.44it/s]"
      }
     },
     "430a42aa350749d2b47770107ed09822": {
      "model_module": "@jupyter-widgets/controls",
      "model_module_version": "1.5.0",
      "model_name": "HBoxModel",
      "state": {
       "children": [
        "IPY_MODEL_391062905b7a496ca3f3a9f14fea2255",
        "IPY_MODEL_3addc2ded86a4ff4a49358e1e815e835",
        "IPY_MODEL_29616a6b6d31481e8bd64eac88f36896"
       ],
       "layout": "IPY_MODEL_8ede34b547f24d4982d23c5f2f4d4c43"
      }
     },
     "43167a2c60344121a0c5b49c0d150288": {
      "model_module": "@jupyter-widgets/controls",
      "model_module_version": "1.5.0",
      "model_name": "HTMLModel",
      "state": {
       "layout": "IPY_MODEL_074f1b18b9de4efe9db4ab73a2b7b4c9",
       "style": "IPY_MODEL_68d724aad7fc4b55965490cab2a4c06e",
       "value": "100%"
      }
     },
     "431b9c87d1d44d3b86c8ad349eb89f85": {
      "model_module": "@jupyter-widgets/controls",
      "model_module_version": "1.5.0",
      "model_name": "HBoxModel",
      "state": {
       "children": [
        "IPY_MODEL_20902e4f00774c4c8acd4b7df95d9cfa",
        "IPY_MODEL_2829c3a1cab04411b8f512771e1a9bac",
        "IPY_MODEL_3ca32838a3764fb494b0e08e5c0bfa97"
       ],
       "layout": "IPY_MODEL_2d39865a27634b79aace96ab31e9de71"
      }
     },
     "433ba1488e744afea72d5eaa1fffbe90": {
      "model_module": "@jupyter-widgets/base",
      "model_module_version": "1.2.0",
      "model_name": "LayoutModel",
      "state": {}
     },
     "436abba68c224f78a3f961a9cb727c96": {
      "model_module": "@jupyter-widgets/base",
      "model_module_version": "1.2.0",
      "model_name": "LayoutModel",
      "state": {}
     },
     "43b41abc70fe4aeab868335bd971ab32": {
      "model_module": "@jupyter-widgets/controls",
      "model_module_version": "1.5.0",
      "model_name": "HTMLModel",
      "state": {
       "layout": "IPY_MODEL_b6ddc992ee704964a30915bb8a7c15e4",
       "style": "IPY_MODEL_8f0e8d8149a844a2ab96f425f634c5c9",
       "value": "100%"
      }
     },
     "441894c41930461cb77f2b426a49fe8b": {
      "model_module": "@jupyter-widgets/base",
      "model_module_version": "1.2.0",
      "model_name": "LayoutModel",
      "state": {}
     },
     "4435fd552b62448683371d7b6ee8c579": {
      "model_module": "@jupyter-widgets/controls",
      "model_module_version": "1.5.0",
      "model_name": "DescriptionStyleModel",
      "state": {
       "description_width": ""
      }
     },
     "444ef8b2f0064edb9717ffd471178a0a": {
      "model_module": "@jupyter-widgets/controls",
      "model_module_version": "1.5.0",
      "model_name": "DescriptionStyleModel",
      "state": {
       "description_width": ""
      }
     },
     "4459f27f6d914486b17eb27c8594182d": {
      "model_module": "@jupyter-widgets/base",
      "model_module_version": "1.2.0",
      "model_name": "LayoutModel",
      "state": {}
     },
     "449a9241c8f84b9081025d0d2aaf501f": {
      "model_module": "@jupyter-widgets/controls",
      "model_module_version": "1.5.0",
      "model_name": "DescriptionStyleModel",
      "state": {
       "description_width": ""
      }
     },
     "44ca0a3bed004b049ea84396999cd5b0": {
      "model_module": "@jupyter-widgets/controls",
      "model_module_version": "1.5.0",
      "model_name": "DescriptionStyleModel",
      "state": {
       "description_width": ""
      }
     },
     "44e9fa50cb5c42958ca7e12e5bcd3b50": {
      "model_module": "@jupyter-widgets/base",
      "model_module_version": "1.2.0",
      "model_name": "LayoutModel",
      "state": {}
     },
     "457a17e465ac4c26b6dc8d28019568e6": {
      "model_module": "@jupyter-widgets/base",
      "model_module_version": "1.2.0",
      "model_name": "LayoutModel",
      "state": {}
     },
     "45fd0dede3fc4222b7fafa3c6f19005d": {
      "model_module": "@jupyter-widgets/controls",
      "model_module_version": "1.5.0",
      "model_name": "HTMLModel",
      "state": {
       "layout": "IPY_MODEL_69a714c336f6423f993a9a5ee2e13c5b",
       "style": "IPY_MODEL_544e4d16208e42a69ce1f4717c53713e",
       "value": " 1800/1800 [00:59&lt;00:00, 31.75it/s]"
      }
     },
     "46575b5d17fa4a759be1cf594b23ae20": {
      "model_module": "@jupyter-widgets/base",
      "model_module_version": "1.2.0",
      "model_name": "LayoutModel",
      "state": {}
     },
     "469e28270e8a41d6a4410a006a9f14d3": {
      "model_module": "@jupyter-widgets/controls",
      "model_module_version": "1.5.0",
      "model_name": "HTMLModel",
      "state": {
       "layout": "IPY_MODEL_f7aec1010a2a432c9dd641b991daeb09",
       "style": "IPY_MODEL_8ecd4e3ccdca4f4ab945019bd6cd107e",
       "value": "100%"
      }
     },
     "46b89f8bea804893b2f89db5102dfaf9": {
      "model_module": "@jupyter-widgets/base",
      "model_module_version": "1.2.0",
      "model_name": "LayoutModel",
      "state": {}
     },
     "46d3bffa21304950a1befab3ef27cfa1": {
      "model_module": "@jupyter-widgets/controls",
      "model_module_version": "1.5.0",
      "model_name": "FloatProgressModel",
      "state": {
       "bar_style": "success",
       "layout": "IPY_MODEL_eb4614e7f17d4e9eb60ef7cf26b59eea",
       "max": 1800,
       "style": "IPY_MODEL_3c5f83bc4a1140b5b8088dc80fcb6e89",
       "value": 1800
      }
     },
     "46ed0616d0ee49959720d854682f50e7": {
      "model_module": "@jupyter-widgets/base",
      "model_module_version": "1.2.0",
      "model_name": "LayoutModel",
      "state": {}
     },
     "473aabfb865c4b93b44ec442edb32dc7": {
      "model_module": "@jupyter-widgets/base",
      "model_module_version": "1.2.0",
      "model_name": "LayoutModel",
      "state": {}
     },
     "476e325cafaa4c39af43528454f607d4": {
      "model_module": "@jupyter-widgets/base",
      "model_module_version": "1.2.0",
      "model_name": "LayoutModel",
      "state": {}
     },
     "47854e93286e43169ecb8c5268f7a974": {
      "model_module": "@jupyter-widgets/controls",
      "model_module_version": "1.5.0",
      "model_name": "ProgressStyleModel",
      "state": {
       "description_width": ""
      }
     },
     "47f4a031fd414cda9810d52022270c42": {
      "model_module": "@jupyter-widgets/controls",
      "model_module_version": "1.5.0",
      "model_name": "HTMLModel",
      "state": {
       "layout": "IPY_MODEL_f6b2daf71fb343189338d5fa83ab75a0",
       "style": "IPY_MODEL_01b84ee25ea94d2383e8650e08ff2f9b",
       "value": " 10/10 [24:47&lt;00:00, 149.24s/it]"
      }
     },
     "47fdd766e8194b539cd30681e58220b9": {
      "model_module": "@jupyter-widgets/controls",
      "model_module_version": "1.5.0",
      "model_name": "HBoxModel",
      "state": {
       "children": [
        "IPY_MODEL_a9b113b106dd4f50976fb0720e30a191",
        "IPY_MODEL_322462faf1a046c398d3bc0fc792863f",
        "IPY_MODEL_a3ff0726faab4ed69bd534c5afffd93d"
       ],
       "layout": "IPY_MODEL_5e55d409ddd9482f9294de669238eb24"
      }
     },
     "481beeb3a0914073a772b6599bad5b20": {
      "model_module": "@jupyter-widgets/base",
      "model_module_version": "1.2.0",
      "model_name": "LayoutModel",
      "state": {}
     },
     "48418c3ce41c4b3598074372eebe48b9": {
      "model_module": "@jupyter-widgets/base",
      "model_module_version": "1.2.0",
      "model_name": "LayoutModel",
      "state": {}
     },
     "48c550f33f3b41c4ba1b8365dde7cdf3": {
      "model_module": "@jupyter-widgets/controls",
      "model_module_version": "1.5.0",
      "model_name": "DescriptionStyleModel",
      "state": {
       "description_width": ""
      }
     },
     "49126483d2be4d15bde162537d89ce38": {
      "model_module": "@jupyter-widgets/controls",
      "model_module_version": "1.5.0",
      "model_name": "FloatProgressModel",
      "state": {
       "bar_style": "success",
       "layout": "IPY_MODEL_125b2629788e40afbbeb227729a304cb",
       "max": 3600,
       "style": "IPY_MODEL_b1e39483a0f345eb82e1e172e8332797",
       "value": 3600
      }
     },
     "4913c9ca1b624239bd078102cfa080bc": {
      "model_module": "@jupyter-widgets/controls",
      "model_module_version": "1.5.0",
      "model_name": "ProgressStyleModel",
      "state": {
       "description_width": ""
      }
     },
     "491f7ac9830b4a9797e4b28a6a74a820": {
      "model_module": "@jupyter-widgets/base",
      "model_module_version": "1.2.0",
      "model_name": "LayoutModel",
      "state": {}
     },
     "49303ebaecbe411e91f4a7715f7ffe0e": {
      "model_module": "@jupyter-widgets/controls",
      "model_module_version": "1.5.0",
      "model_name": "ProgressStyleModel",
      "state": {
       "description_width": ""
      }
     },
     "495fba7856ea41df97b0c4a370a9b8d5": {
      "model_module": "@jupyter-widgets/controls",
      "model_module_version": "1.5.0",
      "model_name": "HTMLModel",
      "state": {
       "layout": "IPY_MODEL_36a98917221f49658aefa2bd028f9873",
       "style": "IPY_MODEL_766322a4eab44331b52b1eee8cbb78ce",
       "value": " 0/50 [00:00&lt;?, ?it/s]"
      }
     },
     "49a4088271be48c49ba3536d4b786dda": {
      "model_module": "@jupyter-widgets/controls",
      "model_module_version": "1.5.0",
      "model_name": "DescriptionStyleModel",
      "state": {
       "description_width": ""
      }
     },
     "49ad3a3f47e140188f9cda150a5a87ee": {
      "model_module": "@jupyter-widgets/base",
      "model_module_version": "1.2.0",
      "model_name": "LayoutModel",
      "state": {}
     },
     "49e859b6ec5f4e6bb6ef852a098cb4b3": {
      "model_module": "@jupyter-widgets/controls",
      "model_module_version": "1.5.0",
      "model_name": "HTMLModel",
      "state": {
       "layout": "IPY_MODEL_a97ade8bef774195b1c417d2c3f77470",
       "style": "IPY_MODEL_54c5be095b194468a6c0957343d5eca6",
       "value": " 3600/3600 [01:56&lt;00:00, 32.17it/s]"
      }
     },
     "49f4a389d7a14de0b125ef0d3134b5e4": {
      "model_module": "@jupyter-widgets/controls",
      "model_module_version": "1.5.0",
      "model_name": "ProgressStyleModel",
      "state": {
       "description_width": ""
      }
     },
     "49fbc9892e234923ae20668be24d5a89": {
      "model_module": "@jupyter-widgets/controls",
      "model_module_version": "1.5.0",
      "model_name": "DescriptionStyleModel",
      "state": {
       "description_width": ""
      }
     },
     "4a05eb224f8347b9bb8844cf11103bd9": {
      "model_module": "@jupyter-widgets/controls",
      "model_module_version": "1.5.0",
      "model_name": "HBoxModel",
      "state": {
       "children": [
        "IPY_MODEL_6eeea13ea32f4233aacbfe179f74d076",
        "IPY_MODEL_064d19d211c14a0d977cf96b5d3629b8",
        "IPY_MODEL_fb4090dd36c741dc98f962a2ac34cb1a"
       ],
       "layout": "IPY_MODEL_b07ed8baea1d43beb0fb43fbaec2dcd5"
      }
     },
     "4a129e0d85f34ca5a0240fe8402cf6af": {
      "model_module": "@jupyter-widgets/controls",
      "model_module_version": "1.5.0",
      "model_name": "HTMLModel",
      "state": {
       "layout": "IPY_MODEL_fbc5040ad70d405294c4a99c0d8c140a",
       "style": "IPY_MODEL_41ed15433c484534a997450d39c6580a",
       "value": " 10/10 [00:02&lt;00:00,  2.89it/s]"
      }
     },
     "4a14eb2bf1974e48bad34b850b0283ed": {
      "model_module": "@jupyter-widgets/controls",
      "model_module_version": "1.5.0",
      "model_name": "HTMLModel",
      "state": {
       "layout": "IPY_MODEL_05a2623011924f1f8462b088c988d601",
       "style": "IPY_MODEL_519b12e061f04ef485bc32282e748e08",
       "value": "100%"
      }
     },
     "4a1552f6c7584647aa68f6f3c4f033b2": {
      "model_module": "@jupyter-widgets/controls",
      "model_module_version": "1.5.0",
      "model_name": "ProgressStyleModel",
      "state": {
       "description_width": ""
      }
     },
     "4a2ea931d6e44cdca4dd18f045c57322": {
      "model_module": "@jupyter-widgets/base",
      "model_module_version": "1.2.0",
      "model_name": "LayoutModel",
      "state": {}
     },
     "4a6d15e26ff941c6b9164030c7a83634": {
      "model_module": "@jupyter-widgets/base",
      "model_module_version": "1.2.0",
      "model_name": "LayoutModel",
      "state": {}
     },
     "4a845d9c983042b0881f38911da62e0f": {
      "model_module": "@jupyter-widgets/controls",
      "model_module_version": "1.5.0",
      "model_name": "DescriptionStyleModel",
      "state": {
       "description_width": ""
      }
     },
     "4a9ed892176940e3b18f96851110c3b7": {
      "model_module": "@jupyter-widgets/controls",
      "model_module_version": "1.5.0",
      "model_name": "FloatProgressModel",
      "state": {
       "bar_style": "success",
       "layout": "IPY_MODEL_16c8d98cdb4f4f4d822c14e8c0ef5db6",
       "max": 11,
       "style": "IPY_MODEL_a6467ad05f064bb0bef392fc1e264ea5",
       "value": 11
      }
     },
     "4a9f1954d2cc47a18e627cb9ef7a083f": {
      "model_module": "@jupyter-widgets/controls",
      "model_module_version": "1.5.0",
      "model_name": "FloatProgressModel",
      "state": {
       "bar_style": "success",
       "layout": "IPY_MODEL_3c95cd18592942ec8102b29192c34cc5",
       "max": 3600,
       "style": "IPY_MODEL_2b24cbd9beb04e22b583496f890fb6ce",
       "value": 3600
      }
     },
     "4ac000f2c7d84f51b31085535fb9bc35": {
      "model_module": "@jupyter-widgets/base",
      "model_module_version": "1.2.0",
      "model_name": "LayoutModel",
      "state": {}
     },
     "4ae02c34e026426a864fe75b7a27de55": {
      "model_module": "@jupyter-widgets/controls",
      "model_module_version": "1.5.0",
      "model_name": "DescriptionStyleModel",
      "state": {
       "description_width": ""
      }
     },
     "4af44de081bf461cadbcb9bb008ab34f": {
      "model_module": "@jupyter-widgets/base",
      "model_module_version": "1.2.0",
      "model_name": "LayoutModel",
      "state": {}
     },
     "4afac848b68f493da3099c7c7f202117": {
      "model_module": "@jupyter-widgets/controls",
      "model_module_version": "1.5.0",
      "model_name": "ProgressStyleModel",
      "state": {
       "description_width": ""
      }
     },
     "4b7c07ba981344f19bdd3a6a77264a9e": {
      "model_module": "@jupyter-widgets/controls",
      "model_module_version": "1.5.0",
      "model_name": "HBoxModel",
      "state": {
       "children": [
        "IPY_MODEL_43167a2c60344121a0c5b49c0d150288",
        "IPY_MODEL_8d5740626487450787912a0fe2bff927",
        "IPY_MODEL_e9a9727a96a3418ca1531df106eea675"
       ],
       "layout": "IPY_MODEL_1684d94c0f36436eb3f07bfccd716aed"
      }
     },
     "4b957ea6a8bb4b799f22704feeafadef": {
      "model_module": "@jupyter-widgets/base",
      "model_module_version": "1.2.0",
      "model_name": "LayoutModel",
      "state": {}
     },
     "4b9dcba85742460a9854f5f5e5db06d7": {
      "model_module": "@jupyter-widgets/base",
      "model_module_version": "1.2.0",
      "model_name": "LayoutModel",
      "state": {}
     },
     "4bbdb1d1e4124948ae4a0f38e84f2429": {
      "model_module": "@jupyter-widgets/controls",
      "model_module_version": "1.5.0",
      "model_name": "FloatProgressModel",
      "state": {
       "bar_style": "success",
       "layout": "IPY_MODEL_ecfb77a6e10445b895466e0a93360b6f",
       "max": 1800,
       "style": "IPY_MODEL_5ae42c1792a941ea992aa83603b9eb02",
       "value": 1800
      }
     },
     "4bd1913d60e54311af9fc2b7d42e008f": {
      "model_module": "@jupyter-widgets/base",
      "model_module_version": "1.2.0",
      "model_name": "LayoutModel",
      "state": {}
     },
     "4bf07583a49a4e63b027f437ea854dff": {
      "model_module": "@jupyter-widgets/base",
      "model_module_version": "1.2.0",
      "model_name": "LayoutModel",
      "state": {}
     },
     "4bf3745919384e43919054fedae68f1d": {
      "model_module": "@jupyter-widgets/controls",
      "model_module_version": "1.5.0",
      "model_name": "ProgressStyleModel",
      "state": {
       "description_width": ""
      }
     },
     "4c15c044c63944f9b8db6eda9be0c677": {
      "model_module": "@jupyter-widgets/controls",
      "model_module_version": "1.5.0",
      "model_name": "ProgressStyleModel",
      "state": {
       "description_width": ""
      }
     },
     "4c1737d8ca8d4f25b002d0d929a4812c": {
      "model_module": "@jupyter-widgets/base",
      "model_module_version": "1.2.0",
      "model_name": "LayoutModel",
      "state": {}
     },
     "4c7e7283c1044c44b5b56579abf475af": {
      "model_module": "@jupyter-widgets/base",
      "model_module_version": "1.2.0",
      "model_name": "LayoutModel",
      "state": {}
     },
     "4cac8fb19d4b421f9a932741df35c016": {
      "model_module": "@jupyter-widgets/controls",
      "model_module_version": "1.5.0",
      "model_name": "HBoxModel",
      "state": {
       "children": [
        "IPY_MODEL_ae214ad71e454811b042782de688b03e",
        "IPY_MODEL_1eae7d66b8694c4a81b3c2a41f19a69e",
        "IPY_MODEL_7d5bf50c595f4274ae85aa73a178e751"
       ],
       "layout": "IPY_MODEL_e368eb148c7240eb8d54faf281106430"
      }
     },
     "4cc1196e6b774e5b877b4789c1b3760d": {
      "model_module": "@jupyter-widgets/base",
      "model_module_version": "1.2.0",
      "model_name": "LayoutModel",
      "state": {}
     },
     "4cd661ec62954567a60b9d70890b7549": {
      "model_module": "@jupyter-widgets/base",
      "model_module_version": "1.2.0",
      "model_name": "LayoutModel",
      "state": {}
     },
     "4cfc3d1f7fb34ad68ad4810ddf923e19": {
      "model_module": "@jupyter-widgets/controls",
      "model_module_version": "1.5.0",
      "model_name": "HTMLModel",
      "state": {
       "layout": "IPY_MODEL_bb712a05c31344289fc9c0e0e9902f0c",
       "style": "IPY_MODEL_5057e24ca13b43cea6b60d873ea275a2",
       "value": "100%"
      }
     },
     "4d48578164a341939c8968e63a38ce2e": {
      "model_module": "@jupyter-widgets/base",
      "model_module_version": "1.2.0",
      "model_name": "LayoutModel",
      "state": {}
     },
     "4d4d3c3d31264b0b816b9a91d3721d6e": {
      "model_module": "@jupyter-widgets/controls",
      "model_module_version": "1.5.0",
      "model_name": "FloatProgressModel",
      "state": {
       "bar_style": "success",
       "layout": "IPY_MODEL_9937f4c8e50045cd9808072b8ff4d131",
       "max": 11,
       "style": "IPY_MODEL_36dced4b086d45f0a31fdc31da72ce8c",
       "value": 11
      }
     },
     "4d4edddba9204f96baf35f1018e65c1e": {
      "model_module": "@jupyter-widgets/controls",
      "model_module_version": "1.5.0",
      "model_name": "DescriptionStyleModel",
      "state": {
       "description_width": ""
      }
     },
     "4d917bf4a1e7451e9ee75037fb7686c4": {
      "model_module": "@jupyter-widgets/base",
      "model_module_version": "1.2.0",
      "model_name": "LayoutModel",
      "state": {}
     },
     "4d9d9582849a430b8c94a7aff52df0e1": {
      "model_module": "@jupyter-widgets/controls",
      "model_module_version": "1.5.0",
      "model_name": "HBoxModel",
      "state": {
       "children": [
        "IPY_MODEL_dc7ab9a4ad354ae1aafb5862baba295d",
        "IPY_MODEL_89c689c379a04fbc8f90461b8e0fab0e",
        "IPY_MODEL_c7a2601e554a4072a154393b5cbf886d"
       ],
       "layout": "IPY_MODEL_3f281ba9381544f9baec71e50781f513"
      }
     },
     "4e1881be260041ba897f523dbaf80fa4": {
      "model_module": "@jupyter-widgets/controls",
      "model_module_version": "1.5.0",
      "model_name": "HTMLModel",
      "state": {
       "layout": "IPY_MODEL_2562cb5db53e4eb3b6b37b9113bca0c2",
       "style": "IPY_MODEL_82e7042ba5f7460aad65c5cf2e9ed218",
       "value": " 1800/1800 [01:00&lt;00:00, 30.33it/s]"
      }
     },
     "4e48e1762bb6409c89fb9d06c2a074be": {
      "model_module": "@jupyter-widgets/controls",
      "model_module_version": "1.5.0",
      "model_name": "HTMLModel",
      "state": {
       "layout": "IPY_MODEL_b64928735ce448598e381dd94f4893bb",
       "style": "IPY_MODEL_2bb4e1eaf16d4699a6a1ebf970db3459",
       "value": " 1800/1800 [01:05&lt;00:00, 27.69it/s]"
      }
     },
     "4e6d1e3af12f44a68bc0c7e77432caeb": {
      "model_module": "@jupyter-widgets/controls",
      "model_module_version": "1.5.0",
      "model_name": "HTMLModel",
      "state": {
       "layout": "IPY_MODEL_dd77262c37bb4ce8b17fd340de95f062",
       "style": "IPY_MODEL_c280d61e95064b8fbe2309a431d1bf54",
       "value": "100%"
      }
     },
     "4ea2b7a3cd664ef58e137c8b9226670b": {
      "model_module": "@jupyter-widgets/controls",
      "model_module_version": "1.5.0",
      "model_name": "DescriptionStyleModel",
      "state": {
       "description_width": ""
      }
     },
     "4ee177edc4ef4d21ab61bdc2efe55316": {
      "model_module": "@jupyter-widgets/base",
      "model_module_version": "1.2.0",
      "model_name": "LayoutModel",
      "state": {}
     },
     "4ee316432bae4a4bb78ceabbcf3e0e0a": {
      "model_module": "@jupyter-widgets/base",
      "model_module_version": "1.2.0",
      "model_name": "LayoutModel",
      "state": {}
     },
     "4f032232b29e4b19b230394823829ff5": {
      "model_module": "@jupyter-widgets/base",
      "model_module_version": "1.2.0",
      "model_name": "LayoutModel",
      "state": {}
     },
     "4f06fe5b826a43a7b631e004a5dc7aef": {
      "model_module": "@jupyter-widgets/controls",
      "model_module_version": "1.5.0",
      "model_name": "DescriptionStyleModel",
      "state": {
       "description_width": ""
      }
     },
     "4f123d5dbef2470ea7e1351826a8bab3": {
      "model_module": "@jupyter-widgets/controls",
      "model_module_version": "1.5.0",
      "model_name": "HTMLModel",
      "state": {
       "layout": "IPY_MODEL_d8925aac122d450e83553882cb01e947",
       "style": "IPY_MODEL_6fe80c4f02c24d3bb2de8a59ae4474f2",
       "value": "100%"
      }
     },
     "4f3273982b4342439bbf96c6692b1718": {
      "model_module": "@jupyter-widgets/controls",
      "model_module_version": "1.5.0",
      "model_name": "DescriptionStyleModel",
      "state": {
       "description_width": ""
      }
     },
     "4f42a30dfe0a42f4b6e0af30b13b22a7": {
      "model_module": "@jupyter-widgets/controls",
      "model_module_version": "1.5.0",
      "model_name": "FloatProgressModel",
      "state": {
       "bar_style": "success",
       "layout": "IPY_MODEL_5fac0cc92b2944598769b22fc7d59c2c",
       "max": 7200,
       "style": "IPY_MODEL_ae2c76ff99c04a1a979e6a5995f05532",
       "value": 7200
      }
     },
     "4fbae017c1f14f098a87c3c4742bd652": {
      "model_module": "@jupyter-widgets/base",
      "model_module_version": "1.2.0",
      "model_name": "LayoutModel",
      "state": {}
     },
     "503f541b4ccb48e396f7263b826335f5": {
      "model_module": "@jupyter-widgets/controls",
      "model_module_version": "1.5.0",
      "model_name": "DescriptionStyleModel",
      "state": {
       "description_width": ""
      }
     },
     "5057e24ca13b43cea6b60d873ea275a2": {
      "model_module": "@jupyter-widgets/controls",
      "model_module_version": "1.5.0",
      "model_name": "DescriptionStyleModel",
      "state": {
       "description_width": ""
      }
     },
     "50976f10c2424525989e4bb361f54e54": {
      "model_module": "@jupyter-widgets/controls",
      "model_module_version": "1.5.0",
      "model_name": "HTMLModel",
      "state": {
       "layout": "IPY_MODEL_e6392df2ce5e4fe3942f5b9e9ddfd706",
       "style": "IPY_MODEL_7d14aafbd8af4a1eb6feb62d47167254",
       "value": "100%"
      }
     },
     "50b2d630943f445582abae3eedcd59a3": {
      "model_module": "@jupyter-widgets/base",
      "model_module_version": "1.2.0",
      "model_name": "LayoutModel",
      "state": {}
     },
     "50b3878605394469b8858f3a6800e2d4": {
      "model_module": "@jupyter-widgets/controls",
      "model_module_version": "1.5.0",
      "model_name": "HBoxModel",
      "state": {
       "children": [
        "IPY_MODEL_09c99ed1afa1457cb77faeb83be841df",
        "IPY_MODEL_46d3bffa21304950a1befab3ef27cfa1",
        "IPY_MODEL_f4c49b9be27e40fb8b5628ce7f28547f"
       ],
       "layout": "IPY_MODEL_2c9641dd3edd4487bc9cee6c9b854e25"
      }
     },
     "50d15bc5a4f047d9861e4ea440812216": {
      "model_module": "@jupyter-widgets/controls",
      "model_module_version": "1.5.0",
      "model_name": "ProgressStyleModel",
      "state": {
       "description_width": ""
      }
     },
     "512eb9b290044e5696d1c945aa9594aa": {
      "model_module": "@jupyter-widgets/controls",
      "model_module_version": "1.5.0",
      "model_name": "HBoxModel",
      "state": {
       "children": [
        "IPY_MODEL_0bb3a09ebc734189b3868d0348a26151",
        "IPY_MODEL_0f3eaf4fe1554eb99c7ddb7f3c090280",
        "IPY_MODEL_226b27442bf543609762dc128b885bf4"
       ],
       "layout": "IPY_MODEL_545d029c45a94e2aaacb81d257284112"
      }
     },
     "5139e535945c4b6e9ec079ca71dd03ab": {
      "model_module": "@jupyter-widgets/base",
      "model_module_version": "1.2.0",
      "model_name": "LayoutModel",
      "state": {}
     },
     "514d2d1934774fb2b78df9620b527cb8": {
      "model_module": "@jupyter-widgets/controls",
      "model_module_version": "1.5.0",
      "model_name": "HTMLModel",
      "state": {
       "layout": "IPY_MODEL_1b87eb010e104436bceb41675f56dcc5",
       "style": "IPY_MODEL_0b967c09141641cbbaba163286a47fa4",
       "value": "100%"
      }
     },
     "5167f735d1464ee6a9edadd78929e658": {
      "model_module": "@jupyter-widgets/controls",
      "model_module_version": "1.5.0",
      "model_name": "HBoxModel",
      "state": {
       "children": [
        "IPY_MODEL_6f45be018e9546ef8b5392c3ccd84e7d",
        "IPY_MODEL_e8b6ab911acd47b79a2bfb753be04f13",
        "IPY_MODEL_dbea35d3b0904e429a4d34d6eef53c01"
       ],
       "layout": "IPY_MODEL_84964cf8a68d4ea2927df013339fce61"
      }
     },
     "5189b6998a9b4d21bc3003b31d05f6b4": {
      "model_module": "@jupyter-widgets/controls",
      "model_module_version": "1.5.0",
      "model_name": "ProgressStyleModel",
      "state": {
       "description_width": ""
      }
     },
     "518c6d88bd264319a7615f9334249723": {
      "model_module": "@jupyter-widgets/base",
      "model_module_version": "1.2.0",
      "model_name": "LayoutModel",
      "state": {}
     },
     "519b12e061f04ef485bc32282e748e08": {
      "model_module": "@jupyter-widgets/controls",
      "model_module_version": "1.5.0",
      "model_name": "DescriptionStyleModel",
      "state": {
       "description_width": ""
      }
     },
     "51fa742dcca6428191121ceb9d29e10b": {
      "model_module": "@jupyter-widgets/controls",
      "model_module_version": "1.5.0",
      "model_name": "HBoxModel",
      "state": {
       "children": [
        "IPY_MODEL_55e6f11e951b46b2b5c89b3b46789de2",
        "IPY_MODEL_6c4e6b3bd1794284abd0b22191e76b81",
        "IPY_MODEL_45fd0dede3fc4222b7fafa3c6f19005d"
       ],
       "layout": "IPY_MODEL_2b339acf7b2c4c8ea7b888a9c1d9eb10"
      }
     },
     "521ad58d27f84923be43af74d543692e": {
      "model_module": "@jupyter-widgets/controls",
      "model_module_version": "1.5.0",
      "model_name": "DescriptionStyleModel",
      "state": {
       "description_width": ""
      }
     },
     "52212699055e427f9dfb421087b87704": {
      "model_module": "@jupyter-widgets/controls",
      "model_module_version": "1.5.0",
      "model_name": "HTMLModel",
      "state": {
       "layout": "IPY_MODEL_6b2769663fcd4651b677ee534e41d256",
       "style": "IPY_MODEL_7d88cbaea21642fd94b3f19ebc9cd2f5",
       "value": "100%"
      }
     },
     "5252340197cd42c4be4b2265e909306e": {
      "model_module": "@jupyter-widgets/controls",
      "model_module_version": "1.5.0",
      "model_name": "HBoxModel",
      "state": {
       "children": [
        "IPY_MODEL_f8f9ce88cf124640b7267f238fbeb649",
        "IPY_MODEL_731af76cb91a4903a4bbb4fa5ef71e36",
        "IPY_MODEL_029ea94bd2eb4c3abc97d9d1a945680e"
       ],
       "layout": "IPY_MODEL_fdff6dad4d1943729b7180e9ea667eb4"
      }
     },
     "525e3cf8967e457b80dccbb204bfb0e7": {
      "model_module": "@jupyter-widgets/controls",
      "model_module_version": "1.5.0",
      "model_name": "ProgressStyleModel",
      "state": {
       "description_width": ""
      }
     },
     "5261ff8f0c2e4c3b9408ed0e393c43ec": {
      "model_module": "@jupyter-widgets/base",
      "model_module_version": "1.2.0",
      "model_name": "LayoutModel",
      "state": {}
     },
     "527ab1bea6c44f8fb215241ca883f4f6": {
      "model_module": "@jupyter-widgets/controls",
      "model_module_version": "1.5.0",
      "model_name": "DescriptionStyleModel",
      "state": {
       "description_width": ""
      }
     },
     "528755a3de7c41f2b2c36f9c7c050711": {
      "model_module": "@jupyter-widgets/controls",
      "model_module_version": "1.5.0",
      "model_name": "HTMLModel",
      "state": {
       "layout": "IPY_MODEL_e289b130e3634d249e8de3357c771116",
       "style": "IPY_MODEL_0105cb3e55fc42ccb1a151d2b8fe777d",
       "value": " 3600/3600 [02:03&lt;00:00, 29.81it/s]"
      }
     },
     "52f64302e9a6413da2f86dc42c370d95": {
      "model_module": "@jupyter-widgets/controls",
      "model_module_version": "1.5.0",
      "model_name": "HTMLModel",
      "state": {
       "layout": "IPY_MODEL_4c7e7283c1044c44b5b56579abf475af",
       "style": "IPY_MODEL_213b5fd1c7a84cb68f32c5815a51611e",
       "value": "100%"
      }
     },
     "531897edde7d4acb91f159196a03f0f4": {
      "model_module": "@jupyter-widgets/base",
      "model_module_version": "1.2.0",
      "model_name": "LayoutModel",
      "state": {}
     },
     "533bad701ac7405ba8411d88514d105e": {
      "model_module": "@jupyter-widgets/controls",
      "model_module_version": "1.5.0",
      "model_name": "DescriptionStyleModel",
      "state": {
       "description_width": ""
      }
     },
     "536a01becbda47f4adec5485971667df": {
      "model_module": "@jupyter-widgets/base",
      "model_module_version": "1.2.0",
      "model_name": "LayoutModel",
      "state": {}
     },
     "53dad33fa09c4152b519cd588c3a4212": {
      "model_module": "@jupyter-widgets/controls",
      "model_module_version": "1.5.0",
      "model_name": "FloatProgressModel",
      "state": {
       "bar_style": "success",
       "layout": "IPY_MODEL_2c2790f3f05646559c073cc1ff7afa9f",
       "max": 1800,
       "style": "IPY_MODEL_a4317bd308fc4e609bdfc76810d05d17",
       "value": 1800
      }
     },
     "540e72dfe1c844efb73bde15173daace": {
      "model_module": "@jupyter-widgets/base",
      "model_module_version": "1.2.0",
      "model_name": "LayoutModel",
      "state": {}
     },
     "544e4d16208e42a69ce1f4717c53713e": {
      "model_module": "@jupyter-widgets/controls",
      "model_module_version": "1.5.0",
      "model_name": "DescriptionStyleModel",
      "state": {
       "description_width": ""
      }
     },
     "5450b86ee90941f0b6d8561d07d1f8de": {
      "model_module": "@jupyter-widgets/base",
      "model_module_version": "1.2.0",
      "model_name": "LayoutModel",
      "state": {}
     },
     "545d029c45a94e2aaacb81d257284112": {
      "model_module": "@jupyter-widgets/base",
      "model_module_version": "1.2.0",
      "model_name": "LayoutModel",
      "state": {}
     },
     "546fec88217849319f0a3ddaf77e6ab4": {
      "model_module": "@jupyter-widgets/base",
      "model_module_version": "1.2.0",
      "model_name": "LayoutModel",
      "state": {}
     },
     "54beb96a73904fe6bb5b5a9631bab0ec": {
      "model_module": "@jupyter-widgets/base",
      "model_module_version": "1.2.0",
      "model_name": "LayoutModel",
      "state": {}
     },
     "54c5be095b194468a6c0957343d5eca6": {
      "model_module": "@jupyter-widgets/controls",
      "model_module_version": "1.5.0",
      "model_name": "DescriptionStyleModel",
      "state": {
       "description_width": ""
      }
     },
     "54d57624260f4e95b5549474df98c20c": {
      "model_module": "@jupyter-widgets/controls",
      "model_module_version": "1.5.0",
      "model_name": "DescriptionStyleModel",
      "state": {
       "description_width": ""
      }
     },
     "54f250004b9d41868accb68161678ad8": {
      "model_module": "@jupyter-widgets/controls",
      "model_module_version": "1.5.0",
      "model_name": "HBoxModel",
      "state": {
       "children": [
        "IPY_MODEL_0e08c30eb5b14caf93b6e3fc2b5ac196",
        "IPY_MODEL_7074e94f1afb4869bb8ef0891d67bf41",
        "IPY_MODEL_12bc72bf00cb4c1c8bb6226f16f8d394"
       ],
       "layout": "IPY_MODEL_9e1fd93ff8044cbe9e6983944de4e94c"
      }
     },
     "551b596dced54738a4507270c2535b51": {
      "model_module": "@jupyter-widgets/base",
      "model_module_version": "1.2.0",
      "model_name": "LayoutModel",
      "state": {}
     },
     "55209e3a950b4101b9dec433b5d3308a": {
      "model_module": "@jupyter-widgets/base",
      "model_module_version": "1.2.0",
      "model_name": "LayoutModel",
      "state": {}
     },
     "552289483d6047c2b18afee6918b0fc1": {
      "model_module": "@jupyter-widgets/base",
      "model_module_version": "1.2.0",
      "model_name": "LayoutModel",
      "state": {}
     },
     "552d8bdd3b234d588832d3fcc222445b": {
      "model_module": "@jupyter-widgets/controls",
      "model_module_version": "1.5.0",
      "model_name": "DescriptionStyleModel",
      "state": {
       "description_width": ""
      }
     },
     "553fec3efd15462ca452dd5c747b28e2": {
      "model_module": "@jupyter-widgets/base",
      "model_module_version": "1.2.0",
      "model_name": "LayoutModel",
      "state": {}
     },
     "554429433c2441e8bd635437e5038bf1": {
      "model_module": "@jupyter-widgets/controls",
      "model_module_version": "1.5.0",
      "model_name": "HBoxModel",
      "state": {
       "children": [
        "IPY_MODEL_e12637252ce648ceac10ea7522748919",
        "IPY_MODEL_6d2f7e2e2636421794b3dabaa4b16c42",
        "IPY_MODEL_004d16cdf4144c7c86a42ecda895ac14"
       ],
       "layout": "IPY_MODEL_205a3c6c208c4acfa8cfc71aa102c907"
      }
     },
     "555125a16aed45e9827506cdcbb22c52": {
      "model_module": "@jupyter-widgets/controls",
      "model_module_version": "1.5.0",
      "model_name": "HBoxModel",
      "state": {
       "children": [
        "IPY_MODEL_7dd1c4a2cd2e41b0b6fdeed1f3c191ff",
        "IPY_MODEL_53dad33fa09c4152b519cd588c3a4212",
        "IPY_MODEL_b275652617064bdeaee54b1d1abf3a63"
       ],
       "layout": "IPY_MODEL_d58679a4e181474d98a89e9be1b5aa93"
      }
     },
     "559482185913454bb0eaec9eb860ad9b": {
      "model_module": "@jupyter-widgets/controls",
      "model_module_version": "1.5.0",
      "model_name": "DescriptionStyleModel",
      "state": {
       "description_width": ""
      }
     },
     "55e6f11e951b46b2b5c89b3b46789de2": {
      "model_module": "@jupyter-widgets/controls",
      "model_module_version": "1.5.0",
      "model_name": "HTMLModel",
      "state": {
       "layout": "IPY_MODEL_bdfe0b3c02154e54b770edabb231d454",
       "style": "IPY_MODEL_e070b99760e445fab00d9ce4eb868097",
       "value": "100%"
      }
     },
     "55ef8489e96e4aea9d984224930387b4": {
      "model_module": "@jupyter-widgets/controls",
      "model_module_version": "1.5.0",
      "model_name": "HTMLModel",
      "state": {
       "layout": "IPY_MODEL_067a9cfd0abd4a8d85f602639c257cf6",
       "style": "IPY_MODEL_38d33bfac59d4e099cf6ec5d41570404",
       "value": "100%"
      }
     },
     "5608a5c4dc9c4f4092f437b670329973": {
      "model_module": "@jupyter-widgets/controls",
      "model_module_version": "1.5.0",
      "model_name": "ProgressStyleModel",
      "state": {
       "description_width": ""
      }
     },
     "561bec47a2904857a7388a57eeebf321": {
      "model_module": "@jupyter-widgets/controls",
      "model_module_version": "1.5.0",
      "model_name": "HTMLModel",
      "state": {
       "layout": "IPY_MODEL_38a3c02f47be45189a4edad1777b1930",
       "style": "IPY_MODEL_1919ba166fb448c79d82b786c1582d15",
       "value": " 3600/3600 [02:28&lt;00:00, 24.98it/s]"
      }
     },
     "5695d646b9864875b611b4203d13cf75": {
      "model_module": "@jupyter-widgets/base",
      "model_module_version": "1.2.0",
      "model_name": "LayoutModel",
      "state": {}
     },
     "56998981bea44b7abeae8c746ea7f6c5": {
      "model_module": "@jupyter-widgets/controls",
      "model_module_version": "1.5.0",
      "model_name": "DescriptionStyleModel",
      "state": {
       "description_width": ""
      }
     },
     "56b781c001a94ebf81692401b070b50c": {
      "model_module": "@jupyter-widgets/base",
      "model_module_version": "1.2.0",
      "model_name": "LayoutModel",
      "state": {}
     },
     "56c7b86fd7cc4165b8682b0d27a83074": {
      "model_module": "@jupyter-widgets/controls",
      "model_module_version": "1.5.0",
      "model_name": "DescriptionStyleModel",
      "state": {
       "description_width": ""
      }
     },
     "56d4fb12341f4cdeb894e2f687fc818b": {
      "model_module": "@jupyter-widgets/controls",
      "model_module_version": "1.5.0",
      "model_name": "HBoxModel",
      "state": {
       "children": [
        "IPY_MODEL_e4f6cff82af54153a8c3d72bdae97f7a",
        "IPY_MODEL_c9fac6341d164f678d9f58e99be1b09b",
        "IPY_MODEL_0568fa4500f04f728a64f68c51e6dc01"
       ],
       "layout": "IPY_MODEL_7fb3249a022e450dac09bd0c00dc81d5"
      }
     },
     "56e358801bff49a9a5ea859b7082b7e7": {
      "model_module": "@jupyter-widgets/controls",
      "model_module_version": "1.5.0",
      "model_name": "DescriptionStyleModel",
      "state": {
       "description_width": ""
      }
     },
     "56f386ed79944d0ebbe8fdc1f9de5715": {
      "model_module": "@jupyter-widgets/base",
      "model_module_version": "1.2.0",
      "model_name": "LayoutModel",
      "state": {}
     },
     "571b82daddf74753aae4810cc972ee04": {
      "model_module": "@jupyter-widgets/base",
      "model_module_version": "1.2.0",
      "model_name": "LayoutModel",
      "state": {}
     },
     "577f23f46a204da7a208e47b8508e09e": {
      "model_module": "@jupyter-widgets/controls",
      "model_module_version": "1.5.0",
      "model_name": "HTMLModel",
      "state": {
       "layout": "IPY_MODEL_4b9dcba85742460a9854f5f5e5db06d7",
       "style": "IPY_MODEL_a4b3940d95e84dd1884805ace852660c",
       "value": "  0%"
      }
     },
     "57e7a138396043d3bda9ee5394018448": {
      "model_module": "@jupyter-widgets/base",
      "model_module_version": "1.2.0",
      "model_name": "LayoutModel",
      "state": {}
     },
     "57f721998e614ed0af8bc73f82210831": {
      "model_module": "@jupyter-widgets/controls",
      "model_module_version": "1.5.0",
      "model_name": "FloatProgressModel",
      "state": {
       "bar_style": "success",
       "layout": "IPY_MODEL_a3ac12277a1546379c203805ed1a4e82",
       "max": 10,
       "style": "IPY_MODEL_5b638433f426430eb96833644189f2b3",
       "value": 10
      }
     },
     "5801b372ae4a4effb168c21b42f9d7c6": {
      "model_module": "@jupyter-widgets/controls",
      "model_module_version": "1.5.0",
      "model_name": "DescriptionStyleModel",
      "state": {
       "description_width": ""
      }
     },
     "5810dc8602f84650b97d98537ba05abd": {
      "model_module": "@jupyter-widgets/base",
      "model_module_version": "1.2.0",
      "model_name": "LayoutModel",
      "state": {}
     },
     "581abafcdaf54e68b28e551ed717b0ac": {
      "model_module": "@jupyter-widgets/base",
      "model_module_version": "1.2.0",
      "model_name": "LayoutModel",
      "state": {}
     },
     "584a1903d32a48419e41101df8ac33fb": {
      "model_module": "@jupyter-widgets/controls",
      "model_module_version": "1.5.0",
      "model_name": "HTMLModel",
      "state": {
       "layout": "IPY_MODEL_6c768b35a5f74d92bd959daa6a44e0db",
       "style": "IPY_MODEL_9b55a101e28642978135776a01ad0dbe",
       "value": "100%"
      }
     },
     "5894174013174a45a059edc1a9dd354f": {
      "model_module": "@jupyter-widgets/controls",
      "model_module_version": "1.5.0",
      "model_name": "DescriptionStyleModel",
      "state": {
       "description_width": ""
      }
     },
     "58b2452e86ce46e682e0a2fb8e3718b7": {
      "model_module": "@jupyter-widgets/controls",
      "model_module_version": "1.5.0",
      "model_name": "DescriptionStyleModel",
      "state": {
       "description_width": ""
      }
     },
     "58d2c50057f84d43809a71f6966cbf25": {
      "model_module": "@jupyter-widgets/controls",
      "model_module_version": "1.5.0",
      "model_name": "HBoxModel",
      "state": {
       "children": [
        "IPY_MODEL_d5d9c9406e304b6d95a1ae7938f86796",
        "IPY_MODEL_1e2657c0f3aa4783ab8afa75f70d693b",
        "IPY_MODEL_9d0e2d3438054a45960768d2b9e99be2"
       ],
       "layout": "IPY_MODEL_bf55e64d9c3c40378b31800e5709fa73"
      }
     },
     "58f6fe43aab74767bc365739d6344fe7": {
      "model_module": "@jupyter-widgets/base",
      "model_module_version": "1.2.0",
      "model_name": "LayoutModel",
      "state": {}
     },
     "592bf52a557244438d27015e78064efc": {
      "model_module": "@jupyter-widgets/controls",
      "model_module_version": "1.5.0",
      "model_name": "HBoxModel",
      "state": {
       "children": [
        "IPY_MODEL_2d91a3fca171400fb62ffad42a57747d",
        "IPY_MODEL_cf9b0247e44544829d266f6691277e41",
        "IPY_MODEL_fa76f8bbf737490cba2decf4c888d5e3"
       ],
       "layout": "IPY_MODEL_56b781c001a94ebf81692401b070b50c"
      }
     },
     "5943baca0ea4402396f44b3a13e8f242": {
      "model_module": "@jupyter-widgets/base",
      "model_module_version": "1.2.0",
      "model_name": "LayoutModel",
      "state": {}
     },
     "5948d6903c8d4d37a0e39b35f10d998e": {
      "model_module": "@jupyter-widgets/controls",
      "model_module_version": "1.5.0",
      "model_name": "FloatProgressModel",
      "state": {
       "bar_style": "success",
       "layout": "IPY_MODEL_8198e03a48ed44389fd74940fc67fb76",
       "max": 4500,
       "style": "IPY_MODEL_64b97ba41fdf42a3b4b7fdbf27f31a5b",
       "value": 4500
      }
     },
     "5948e82b66e749a5821ceb0c79cb85da": {
      "model_module": "@jupyter-widgets/base",
      "model_module_version": "1.2.0",
      "model_name": "LayoutModel",
      "state": {}
     },
     "59766bc98bee4f65930b570243360236": {
      "model_module": "@jupyter-widgets/controls",
      "model_module_version": "1.5.0",
      "model_name": "DescriptionStyleModel",
      "state": {
       "description_width": ""
      }
     },
     "59f31200c9814ec8ae96a244a6a9d37f": {
      "model_module": "@jupyter-widgets/base",
      "model_module_version": "1.2.0",
      "model_name": "LayoutModel",
      "state": {}
     },
     "5a20cfdab5f5492c89e3847ec2fb406b": {
      "model_module": "@jupyter-widgets/controls",
      "model_module_version": "1.5.0",
      "model_name": "HTMLModel",
      "state": {
       "layout": "IPY_MODEL_7a0760ed750649f1a9c8df73c468388f",
       "style": "IPY_MODEL_a5607920d1374012be94867a7c482e76",
       "value": " 1800/1800 [01:04&lt;00:00, 29.07it/s]"
      }
     },
     "5a68de3bda0f47b28b8b2ce409b9b13c": {
      "model_module": "@jupyter-widgets/controls",
      "model_module_version": "1.5.0",
      "model_name": "DescriptionStyleModel",
      "state": {
       "description_width": ""
      }
     },
     "5a92fb57af5a40d58cdcd0fab9eeb1e7": {
      "model_module": "@jupyter-widgets/controls",
      "model_module_version": "1.5.0",
      "model_name": "HTMLModel",
      "state": {
       "layout": "IPY_MODEL_d065b362ae254a9bbee357f47d1da254",
       "style": "IPY_MODEL_320eb1c00a2a4ed5b6bc09edeae7dbd9",
       "value": " 0/4500 [00:00&lt;?, ?it/s]"
      }
     },
     "5ae42c1792a941ea992aa83603b9eb02": {
      "model_module": "@jupyter-widgets/controls",
      "model_module_version": "1.5.0",
      "model_name": "ProgressStyleModel",
      "state": {
       "description_width": ""
      }
     },
     "5af0f26ecd364811a9444cb3a6e51867": {
      "model_module": "@jupyter-widgets/controls",
      "model_module_version": "1.5.0",
      "model_name": "FloatProgressModel",
      "state": {
       "bar_style": "success",
       "layout": "IPY_MODEL_9bf4f3111d63478e8ccfeb2c83c668f1",
       "max": 1800,
       "style": "IPY_MODEL_d037754767614cb3ac7009b9eae8abd2",
       "value": 1800
      }
     },
     "5b638433f426430eb96833644189f2b3": {
      "model_module": "@jupyter-widgets/controls",
      "model_module_version": "1.5.0",
      "model_name": "ProgressStyleModel",
      "state": {
       "description_width": ""
      }
     },
     "5b6ad95c1e6c440cb370031c469c734b": {
      "model_module": "@jupyter-widgets/controls",
      "model_module_version": "1.5.0",
      "model_name": "HTMLModel",
      "state": {
       "layout": "IPY_MODEL_7ec3f79c3eb34d70b40afe31e49c8ef0",
       "style": "IPY_MODEL_e79b01dd6fdd44ceb629c0ba070c0bb2",
       "value": "100%"
      }
     },
     "5baf108ed1ca479fb65545e193a77034": {
      "model_module": "@jupyter-widgets/controls",
      "model_module_version": "1.5.0",
      "model_name": "HTMLModel",
      "state": {
       "layout": "IPY_MODEL_89e49091c86c4a779314e26646ac27d0",
       "style": "IPY_MODEL_eeab5121bd6f4018b9cc653fc6f94f02",
       "value": "100%"
      }
     },
     "5c25c4a6a5364834823971bfb9fa9868": {
      "model_module": "@jupyter-widgets/base",
      "model_module_version": "1.2.0",
      "model_name": "LayoutModel",
      "state": {}
     },
     "5c6641a456084347a65d048b3354ce78": {
      "model_module": "@jupyter-widgets/controls",
      "model_module_version": "1.5.0",
      "model_name": "HTMLModel",
      "state": {
       "layout": "IPY_MODEL_b9cb6d9ca60d4136877797163a75a17d",
       "style": "IPY_MODEL_1184e95803ef4f3da780046f251d606e",
       "value": "100%"
      }
     },
     "5ca7d8e87e1a479cb3eb908f5d54c6ae": {
      "model_module": "@jupyter-widgets/base",
      "model_module_version": "1.2.0",
      "model_name": "LayoutModel",
      "state": {}
     },
     "5cba6c12711647b592f14f0fd5574551": {
      "model_module": "@jupyter-widgets/base",
      "model_module_version": "1.2.0",
      "model_name": "LayoutModel",
      "state": {}
     },
     "5d1e514bdd9841b3ba99d7e44aa12785": {
      "model_module": "@jupyter-widgets/controls",
      "model_module_version": "1.5.0",
      "model_name": "DescriptionStyleModel",
      "state": {
       "description_width": ""
      }
     },
     "5d7c1ec84cc6471bb00b501ad650ac8e": {
      "model_module": "@jupyter-widgets/controls",
      "model_module_version": "1.5.0",
      "model_name": "DescriptionStyleModel",
      "state": {
       "description_width": ""
      }
     },
     "5dda95f5eff7454390e0f4eaa021f8fc": {
      "model_module": "@jupyter-widgets/controls",
      "model_module_version": "1.5.0",
      "model_name": "HBoxModel",
      "state": {
       "children": [
        "IPY_MODEL_636efe0eac5c4977ad2273732d71f286",
        "IPY_MODEL_97dd9e4e34524ba29e27dddb8f03d693",
        "IPY_MODEL_65354a759c2348efac842d194f08f682"
       ],
       "layout": "IPY_MODEL_1e1084e8aaef4dc5845bc68bd74c99c8"
      }
     },
     "5def3d12137f4302b5c68466142c6892": {
      "model_module": "@jupyter-widgets/base",
      "model_module_version": "1.2.0",
      "model_name": "LayoutModel",
      "state": {}
     },
     "5df2eca09fdd4f4b8c4c63eed536a8f4": {
      "model_module": "@jupyter-widgets/controls",
      "model_module_version": "1.5.0",
      "model_name": "FloatProgressModel",
      "state": {
       "bar_style": "success",
       "layout": "IPY_MODEL_776a350d39764c79b14c12db7b1e0419",
       "max": 1800,
       "style": "IPY_MODEL_f2da343e4bdd46ab967d43a08e485ca3",
       "value": 1800
      }
     },
     "5e55d409ddd9482f9294de669238eb24": {
      "model_module": "@jupyter-widgets/base",
      "model_module_version": "1.2.0",
      "model_name": "LayoutModel",
      "state": {}
     },
     "5e657c36f7254e09abbf069d54190739": {
      "model_module": "@jupyter-widgets/base",
      "model_module_version": "1.2.0",
      "model_name": "LayoutModel",
      "state": {}
     },
     "5eeaf2128ce04c15840d97569b85e620": {
      "model_module": "@jupyter-widgets/controls",
      "model_module_version": "1.5.0",
      "model_name": "HBoxModel",
      "state": {
       "children": [
        "IPY_MODEL_6a3ce423b86f40febec2eb6e46f4c67f",
        "IPY_MODEL_6e4722c56738485383ec1207760eea45",
        "IPY_MODEL_def54b54c89c4f8eac987db14f266de7"
       ],
       "layout": "IPY_MODEL_1e6501669dd04a00bc75c120b1001c61"
      }
     },
     "5f2f9407d38740f49d23fb65f122e512": {
      "model_module": "@jupyter-widgets/controls",
      "model_module_version": "1.5.0",
      "model_name": "HBoxModel",
      "state": {
       "children": [
        "IPY_MODEL_3edbec58dadd445888ec424987174896",
        "IPY_MODEL_2b4017aa6e5d482d801e13b88a91fe0d",
        "IPY_MODEL_38a23c86293c47179e88648a0acf1e42"
       ],
       "layout": "IPY_MODEL_f6ddb7fe5d2541ea9f4a3c48b889e94f"
      }
     },
     "5f5c9ba83400417cafa1b0388026db18": {
      "model_module": "@jupyter-widgets/controls",
      "model_module_version": "1.5.0",
      "model_name": "FloatProgressModel",
      "state": {
       "bar_style": "success",
       "layout": "IPY_MODEL_e24643e7dde24a6387fbb2bdfdc86d0f",
       "max": 3600,
       "style": "IPY_MODEL_e13346a35ab241049224b81e8eeea069",
       "value": 3600
      }
     },
     "5f75771e5a61499489fa5cbf5b0c2ddc": {
      "model_module": "@jupyter-widgets/base",
      "model_module_version": "1.2.0",
      "model_name": "LayoutModel",
      "state": {}
     },
     "5f976b65d3a143daa3b5fe084353a8f1": {
      "model_module": "@jupyter-widgets/base",
      "model_module_version": "1.2.0",
      "model_name": "LayoutModel",
      "state": {}
     },
     "5fac0cc92b2944598769b22fc7d59c2c": {
      "model_module": "@jupyter-widgets/base",
      "model_module_version": "1.2.0",
      "model_name": "LayoutModel",
      "state": {}
     },
     "6010566afe9c466ab2286e07b990ff40": {
      "model_module": "@jupyter-widgets/controls",
      "model_module_version": "1.5.0",
      "model_name": "ProgressStyleModel",
      "state": {
       "description_width": ""
      }
     },
     "607ea7b57cbd4a1c98bfdbced9acae4d": {
      "model_module": "@jupyter-widgets/controls",
      "model_module_version": "1.5.0",
      "model_name": "HBoxModel",
      "state": {
       "children": [
        "IPY_MODEL_200bae40232b4560994272f0f66dbda5",
        "IPY_MODEL_12d38056f1cb490d868dc73c8b2ea935",
        "IPY_MODEL_3f8868f5c45248b59438adcbb16fcec9"
       ],
       "layout": "IPY_MODEL_72b995e4618a4ed88f6ae2e0ad40b1b1"
      }
     },
     "60b98642703d49288a1d72404813f0cd": {
      "model_module": "@jupyter-widgets/controls",
      "model_module_version": "1.5.0",
      "model_name": "HBoxModel",
      "state": {
       "children": [
        "IPY_MODEL_08e9e9e4d4c94bb593c6b28ff83804b8",
        "IPY_MODEL_be8ec2f89ac24930b4217fc83590a355",
        "IPY_MODEL_e3a0723922444332ac47098a6246e5b8"
       ],
       "layout": "IPY_MODEL_d83661f0c0c641f48978565a681cd9b2"
      }
     },
     "60c43b6f644240dcb3df652388c3fb29": {
      "model_module": "@jupyter-widgets/controls",
      "model_module_version": "1.5.0",
      "model_name": "HTMLModel",
      "state": {
       "layout": "IPY_MODEL_89240dba969a4870b75c941a9fefa9b2",
       "style": "IPY_MODEL_5801b372ae4a4effb168c21b42f9d7c6",
       "value": "  0%"
      }
     },
     "6110c57927fa4c1b81c5ee1d71f4c519": {
      "model_module": "@jupyter-widgets/controls",
      "model_module_version": "1.5.0",
      "model_name": "DescriptionStyleModel",
      "state": {
       "description_width": ""
      }
     },
     "6182d8a1322f4621814cdd2e2a2126ae": {
      "model_module": "@jupyter-widgets/base",
      "model_module_version": "1.2.0",
      "model_name": "LayoutModel",
      "state": {}
     },
     "6214a7471ec744e1a3483db7cd771934": {
      "model_module": "@jupyter-widgets/base",
      "model_module_version": "1.2.0",
      "model_name": "LayoutModel",
      "state": {}
     },
     "62379e36d9c342d79dce8b5ce70ca21f": {
      "model_module": "@jupyter-widgets/base",
      "model_module_version": "1.2.0",
      "model_name": "LayoutModel",
      "state": {}
     },
     "62489233a3aa4d33a2bad111e791a50f": {
      "model_module": "@jupyter-widgets/controls",
      "model_module_version": "1.5.0",
      "model_name": "DescriptionStyleModel",
      "state": {
       "description_width": ""
      }
     },
     "6258ea111e1a40df899870229142c0c1": {
      "model_module": "@jupyter-widgets/controls",
      "model_module_version": "1.5.0",
      "model_name": "ProgressStyleModel",
      "state": {
       "description_width": ""
      }
     },
     "625be02966fc477db65f39ae1046a996": {
      "model_module": "@jupyter-widgets/base",
      "model_module_version": "1.2.0",
      "model_name": "LayoutModel",
      "state": {}
     },
     "62728c63985c496a927e2997cfdefcde": {
      "model_module": "@jupyter-widgets/base",
      "model_module_version": "1.2.0",
      "model_name": "LayoutModel",
      "state": {}
     },
     "6291951cc24e4dcc826c479adf13148f": {
      "model_module": "@jupyter-widgets/controls",
      "model_module_version": "1.5.0",
      "model_name": "HTMLModel",
      "state": {
       "layout": "IPY_MODEL_305c436decd54ebbaaab95d924ce38b7",
       "style": "IPY_MODEL_5d1e514bdd9841b3ba99d7e44aa12785",
       "value": " 10800/10800 [09:11&lt;00:00, 26.61it/s]"
      }
     },
     "62af14f9fcbb4f449eff6f8f1dc97cfc": {
      "model_module": "@jupyter-widgets/controls",
      "model_module_version": "1.5.0",
      "model_name": "DescriptionStyleModel",
      "state": {
       "description_width": ""
      }
     },
     "62dd5b1d85624982bb69a0642f58eaec": {
      "model_module": "@jupyter-widgets/base",
      "model_module_version": "1.2.0",
      "model_name": "LayoutModel",
      "state": {}
     },
     "6303c636e32f48ebbde7b60b4c647311": {
      "model_module": "@jupyter-widgets/controls",
      "model_module_version": "1.5.0",
      "model_name": "HTMLModel",
      "state": {
       "layout": "IPY_MODEL_0b08e14e75f6417ba79de1ac48b76211",
       "style": "IPY_MODEL_2b4dd91104ef4185bb75100ef0af45dd",
       "value": " 3600/3600 [02:19&lt;00:00, 26.05it/s]"
      }
     },
     "636086f46689443989e38bdaedae9c71": {
      "model_module": "@jupyter-widgets/controls",
      "model_module_version": "1.5.0",
      "model_name": "HBoxModel",
      "state": {
       "children": [
        "IPY_MODEL_ebbcdb64f8e4419591304377489d8a09",
        "IPY_MODEL_9a76cd233fc04195af6493ef0649adf3",
        "IPY_MODEL_5a20cfdab5f5492c89e3847ec2fb406b"
       ],
       "layout": "IPY_MODEL_9e358c0a51ed47038a7eb39be1f108a4"
      }
     },
     "636efe0eac5c4977ad2273732d71f286": {
      "model_module": "@jupyter-widgets/controls",
      "model_module_version": "1.5.0",
      "model_name": "HTMLModel",
      "state": {
       "layout": "IPY_MODEL_e5a1a4abe57840bcbe4fa2d846a90be3",
       "style": "IPY_MODEL_ecc09f41ae9d4f7b897c68307ea9fb4a",
       "value": "100%"
      }
     },
     "637deb883ce44b6889a6ec4df905518f": {
      "model_module": "@jupyter-widgets/controls",
      "model_module_version": "1.5.0",
      "model_name": "HBoxModel",
      "state": {
       "children": [
        "IPY_MODEL_7a763926eb5a4a83aa4743a0a58d00bc",
        "IPY_MODEL_6e1d3121b99645e985509dcfeb45fb6d",
        "IPY_MODEL_82a05ed9e6fc49cfa024200961f041c6"
       ],
       "layout": "IPY_MODEL_24af145cfeac43f483b76b562ff5e578"
      }
     },
     "639bfc958a5f482cb831693d2bdeb002": {
      "model_module": "@jupyter-widgets/controls",
      "model_module_version": "1.5.0",
      "model_name": "HBoxModel",
      "state": {
       "children": [
        "IPY_MODEL_7cd33138e6f145a2a9accf1fa8789cc5",
        "IPY_MODEL_afe308672d99439db3f4c489de7e319d",
        "IPY_MODEL_47f4a031fd414cda9810d52022270c42"
       ],
       "layout": "IPY_MODEL_076b7294725d4cdb99ea9bdc21493676"
      }
     },
     "63cc449edcb240aca18204feff176d30": {
      "model_module": "@jupyter-widgets/controls",
      "model_module_version": "1.5.0",
      "model_name": "HTMLModel",
      "state": {
       "layout": "IPY_MODEL_ca10906af83f4a4ea7a8a99ca3415e75",
       "style": "IPY_MODEL_31c554f5d844468c950f2bc82eb2dd76",
       "value": "100%"
      }
     },
     "63dde0ab7ddb43c3bf3246aa7963f08a": {
      "model_module": "@jupyter-widgets/controls",
      "model_module_version": "1.5.0",
      "model_name": "HTMLModel",
      "state": {
       "layout": "IPY_MODEL_d9bbb0b6e5384abcaacd85e9913ef9fa",
       "style": "IPY_MODEL_503f541b4ccb48e396f7263b826335f5",
       "value": " 1800/1800 [00:58&lt;00:00, 31.99it/s]"
      }
     },
     "63fcdcc2d8f342739021335a7395b09b": {
      "model_module": "@jupyter-widgets/controls",
      "model_module_version": "1.5.0",
      "model_name": "DescriptionStyleModel",
      "state": {
       "description_width": ""
      }
     },
     "64271e75c4e34289b861be80adeaf157": {
      "model_module": "@jupyter-widgets/base",
      "model_module_version": "1.2.0",
      "model_name": "LayoutModel",
      "state": {}
     },
     "648b937834fe4329b91f423bf665685f": {
      "model_module": "@jupyter-widgets/controls",
      "model_module_version": "1.5.0",
      "model_name": "DescriptionStyleModel",
      "state": {
       "description_width": ""
      }
     },
     "64973cf7c89a4fd98fa7c68ea129e511": {
      "model_module": "@jupyter-widgets/base",
      "model_module_version": "1.2.0",
      "model_name": "LayoutModel",
      "state": {}
     },
     "649eeb74568b48febdfd6065c295586b": {
      "model_module": "@jupyter-widgets/controls",
      "model_module_version": "1.5.0",
      "model_name": "ProgressStyleModel",
      "state": {
       "description_width": ""
      }
     },
     "64b97ba41fdf42a3b4b7fdbf27f31a5b": {
      "model_module": "@jupyter-widgets/controls",
      "model_module_version": "1.5.0",
      "model_name": "ProgressStyleModel",
      "state": {
       "description_width": ""
      }
     },
     "65354a759c2348efac842d194f08f682": {
      "model_module": "@jupyter-widgets/controls",
      "model_module_version": "1.5.0",
      "model_name": "HTMLModel",
      "state": {
       "layout": "IPY_MODEL_ead9de56c7f54c0f922cb47b0df81223",
       "style": "IPY_MODEL_03f3c123cef84b46b1187828d218404f",
       "value": " 11/11 [00:05&lt;00:00,  2.14it/s]"
      }
     },
     "655d28b8ddda4d3ead8cc841f7e56a25": {
      "model_module": "@jupyter-widgets/controls",
      "model_module_version": "1.5.0",
      "model_name": "HBoxModel",
      "state": {
       "children": [
        "IPY_MODEL_23bd46b2bcfb45f084aa632ddd0f8039",
        "IPY_MODEL_204d29e8929746cdb924ff3b8d224a49",
        "IPY_MODEL_e9d6868e172c4fd99fb41df77497d34b"
       ],
       "layout": "IPY_MODEL_30464d0b7be84156ae7caa17f35dd1a8"
      }
     },
     "6580d26274e34cf484159a6d2fd45341": {
      "model_module": "@jupyter-widgets/controls",
      "model_module_version": "1.5.0",
      "model_name": "HTMLModel",
      "state": {
       "layout": "IPY_MODEL_2f32c378e78d4b38a6f8b6dc68494b31",
       "style": "IPY_MODEL_b100c33e061744d7acd02b7f1f17af0e",
       "value": "100%"
      }
     },
     "65cd8256a2e7482ba0760606c26577ee": {
      "model_module": "@jupyter-widgets/controls",
      "model_module_version": "1.5.0",
      "model_name": "FloatProgressModel",
      "state": {
       "bar_style": "success",
       "layout": "IPY_MODEL_5139e535945c4b6e9ec079ca71dd03ab",
       "max": 3600,
       "style": "IPY_MODEL_b9fe6e7c1494479fbd46391365377203",
       "value": 3600
      }
     },
     "660fce8792ce4e3788ac6a2ad8a6116a": {
      "model_module": "@jupyter-widgets/base",
      "model_module_version": "1.2.0",
      "model_name": "LayoutModel",
      "state": {}
     },
     "671b8f2f2a6a4ef883cd0d5ca8fd078b": {
      "model_module": "@jupyter-widgets/base",
      "model_module_version": "1.2.0",
      "model_name": "LayoutModel",
      "state": {}
     },
     "671b94d490f74391b93f96e52ce72c49": {
      "model_module": "@jupyter-widgets/controls",
      "model_module_version": "1.5.0",
      "model_name": "ProgressStyleModel",
      "state": {
       "description_width": ""
      }
     },
     "67239ed3c60441208e06c7deddb4b1be": {
      "model_module": "@jupyter-widgets/controls",
      "model_module_version": "1.5.0",
      "model_name": "ProgressStyleModel",
      "state": {
       "description_width": ""
      }
     },
     "673a623fd30241f7b604197d546652d9": {
      "model_module": "@jupyter-widgets/base",
      "model_module_version": "1.2.0",
      "model_name": "LayoutModel",
      "state": {}
     },
     "673d775ae4b747e4b7fb3855a039af7f": {
      "model_module": "@jupyter-widgets/controls",
      "model_module_version": "1.5.0",
      "model_name": "HBoxModel",
      "state": {
       "children": [
        "IPY_MODEL_9253d6a06dae4f7db445426a6d82f006",
        "IPY_MODEL_3dfd6ba41c1c43879c01acb6aa4e749b",
        "IPY_MODEL_75613174381045a8a348694f66eca30b"
       ],
       "layout": "IPY_MODEL_4122fd3d38d9440f96f045351b0e1b27"
      }
     },
     "6809b0cd045a437082127f1b7c2d30ac": {
      "model_module": "@jupyter-widgets/controls",
      "model_module_version": "1.5.0",
      "model_name": "DescriptionStyleModel",
      "state": {
       "description_width": ""
      }
     },
     "6865d332241445feb55dda885b99fac0": {
      "model_module": "@jupyter-widgets/controls",
      "model_module_version": "1.5.0",
      "model_name": "HTMLModel",
      "state": {
       "layout": "IPY_MODEL_b2fe19af07e14ef3ac17bf326b7c4d7d",
       "style": "IPY_MODEL_68da5660379442e7a87640789212623b",
       "value": "100%"
      }
     },
     "68a8e243bfdc426fbe7d0cdcbd91d31c": {
      "model_module": "@jupyter-widgets/base",
      "model_module_version": "1.2.0",
      "model_name": "LayoutModel",
      "state": {}
     },
     "68bc697bd59a456cac6ceb101d96ebd9": {
      "model_module": "@jupyter-widgets/controls",
      "model_module_version": "1.5.0",
      "model_name": "ProgressStyleModel",
      "state": {
       "description_width": ""
      }
     },
     "68d724aad7fc4b55965490cab2a4c06e": {
      "model_module": "@jupyter-widgets/controls",
      "model_module_version": "1.5.0",
      "model_name": "DescriptionStyleModel",
      "state": {
       "description_width": ""
      }
     },
     "68da5660379442e7a87640789212623b": {
      "model_module": "@jupyter-widgets/controls",
      "model_module_version": "1.5.0",
      "model_name": "DescriptionStyleModel",
      "state": {
       "description_width": ""
      }
     },
     "690117c9ead546a2af74b489ba6ac0a9": {
      "model_module": "@jupyter-widgets/controls",
      "model_module_version": "1.5.0",
      "model_name": "DescriptionStyleModel",
      "state": {
       "description_width": ""
      }
     },
     "69a714c336f6423f993a9a5ee2e13c5b": {
      "model_module": "@jupyter-widgets/base",
      "model_module_version": "1.2.0",
      "model_name": "LayoutModel",
      "state": {}
     },
     "69b5d0a047be46c889b41fa4dd740e07": {
      "model_module": "@jupyter-widgets/base",
      "model_module_version": "1.2.0",
      "model_name": "LayoutModel",
      "state": {}
     },
     "69c963a90d6e49c18b69a0cdc90ef2cc": {
      "model_module": "@jupyter-widgets/controls",
      "model_module_version": "1.5.0",
      "model_name": "FloatProgressModel",
      "state": {
       "bar_style": "danger",
       "layout": "IPY_MODEL_518c6d88bd264319a7615f9334249723",
       "max": 11,
       "style": "IPY_MODEL_c6b159ca97514e13b24ae966ac1aa072"
      }
     },
     "69e5f17eba79499e8ecf28c114e57190": {
      "model_module": "@jupyter-widgets/controls",
      "model_module_version": "1.5.0",
      "model_name": "DescriptionStyleModel",
      "state": {
       "description_width": ""
      }
     },
     "6a3ce423b86f40febec2eb6e46f4c67f": {
      "model_module": "@jupyter-widgets/controls",
      "model_module_version": "1.5.0",
      "model_name": "HTMLModel",
      "state": {
       "layout": "IPY_MODEL_79605cfdda4746fd9822155c9ef5632d",
       "style": "IPY_MODEL_aa95e7a2501a4cf9926d0cec92b2f3e4",
       "value": "100%"
      }
     },
     "6b14f190f92e4de4b3bbfcdc4f5531da": {
      "model_module": "@jupyter-widgets/base",
      "model_module_version": "1.2.0",
      "model_name": "LayoutModel",
      "state": {}
     },
     "6b2769663fcd4651b677ee534e41d256": {
      "model_module": "@jupyter-widgets/base",
      "model_module_version": "1.2.0",
      "model_name": "LayoutModel",
      "state": {}
     },
     "6b53d4c300c14d6e989de0c4d0352a4a": {
      "model_module": "@jupyter-widgets/controls",
      "model_module_version": "1.5.0",
      "model_name": "ProgressStyleModel",
      "state": {
       "description_width": ""
      }
     },
     "6b5d0fffd5884ceebc0145234a6524a5": {
      "model_module": "@jupyter-widgets/controls",
      "model_module_version": "1.5.0",
      "model_name": "HTMLModel",
      "state": {
       "layout": "IPY_MODEL_8964c6ad58ab4e6e9df4430c6c5b4581",
       "style": "IPY_MODEL_f330ff8625f1453c8eacbcd6ddca33a6",
       "value": "100%"
      }
     },
     "6b73310036514014953bd5dbaab463d9": {
      "model_module": "@jupyter-widgets/base",
      "model_module_version": "1.2.0",
      "model_name": "LayoutModel",
      "state": {}
     },
     "6b86cf3bc36d4c18894067aa25df0562": {
      "model_module": "@jupyter-widgets/controls",
      "model_module_version": "1.5.0",
      "model_name": "ProgressStyleModel",
      "state": {
       "description_width": ""
      }
     },
     "6b9d691b248444a1bad7ae6b08fa57eb": {
      "model_module": "@jupyter-widgets/controls",
      "model_module_version": "1.5.0",
      "model_name": "DescriptionStyleModel",
      "state": {
       "description_width": ""
      }
     },
     "6bf2403e21cd4462ba28329564b9e8cb": {
      "model_module": "@jupyter-widgets/base",
      "model_module_version": "1.2.0",
      "model_name": "LayoutModel",
      "state": {}
     },
     "6c4e6b3bd1794284abd0b22191e76b81": {
      "model_module": "@jupyter-widgets/controls",
      "model_module_version": "1.5.0",
      "model_name": "FloatProgressModel",
      "state": {
       "bar_style": "success",
       "layout": "IPY_MODEL_e54144a4d2c24e8d80a866adf45ea48a",
       "max": 1800,
       "style": "IPY_MODEL_6010566afe9c466ab2286e07b990ff40",
       "value": 1800
      }
     },
     "6c59d45f288241019571358282d198a4": {
      "model_module": "@jupyter-widgets/controls",
      "model_module_version": "1.5.0",
      "model_name": "HTMLModel",
      "state": {
       "layout": "IPY_MODEL_36b3307d7746434ca8e40a9ce079878d",
       "style": "IPY_MODEL_2613febf154a46d8b90d9ea16732e787",
       "value": "100%"
      }
     },
     "6c768b35a5f74d92bd959daa6a44e0db": {
      "model_module": "@jupyter-widgets/base",
      "model_module_version": "1.2.0",
      "model_name": "LayoutModel",
      "state": {}
     },
     "6c88515223774e2bbb8c1c6e327be506": {
      "model_module": "@jupyter-widgets/base",
      "model_module_version": "1.2.0",
      "model_name": "LayoutModel",
      "state": {}
     },
     "6cae5a97d5b741a996f3d4eb7f8c956d": {
      "model_module": "@jupyter-widgets/base",
      "model_module_version": "1.2.0",
      "model_name": "LayoutModel",
      "state": {}
     },
     "6cd90605465142a4abbad3c6a0c279d5": {
      "model_module": "@jupyter-widgets/base",
      "model_module_version": "1.2.0",
      "model_name": "LayoutModel",
      "state": {}
     },
     "6d2e5e6a7c8d4ea28890b99f96370ed1": {
      "model_module": "@jupyter-widgets/controls",
      "model_module_version": "1.5.0",
      "model_name": "DescriptionStyleModel",
      "state": {
       "description_width": ""
      }
     },
     "6d2f7e2e2636421794b3dabaa4b16c42": {
      "model_module": "@jupyter-widgets/controls",
      "model_module_version": "1.5.0",
      "model_name": "FloatProgressModel",
      "state": {
       "bar_style": "success",
       "layout": "IPY_MODEL_b3bfc948a27e43fd8f7a535ffec644f9",
       "max": 10800,
       "style": "IPY_MODEL_bcb6c31281f54ff996c6749e62255592",
       "value": 10800
      }
     },
     "6d3fc29eb493424da6b97ac39151788b": {
      "model_module": "@jupyter-widgets/controls",
      "model_module_version": "1.5.0",
      "model_name": "FloatProgressModel",
      "state": {
       "bar_style": "danger",
       "layout": "IPY_MODEL_98aafa41a29547b6a87d00c5f5ff79fd",
       "max": 1800,
       "style": "IPY_MODEL_b08323d273b44438b89c664c31d9f3e5",
       "value": 1291
      }
     },
     "6d9a6c0e9c56454dafdf71765088b4ef": {
      "model_module": "@jupyter-widgets/controls",
      "model_module_version": "1.5.0",
      "model_name": "DescriptionStyleModel",
      "state": {
       "description_width": ""
      }
     },
     "6d9bd966f32044618d5b1ac1611b4b14": {
      "model_module": "@jupyter-widgets/base",
      "model_module_version": "1.2.0",
      "model_name": "LayoutModel",
      "state": {}
     },
     "6e1d3121b99645e985509dcfeb45fb6d": {
      "model_module": "@jupyter-widgets/controls",
      "model_module_version": "1.5.0",
      "model_name": "FloatProgressModel",
      "state": {
       "bar_style": "success",
       "layout": "IPY_MODEL_64973cf7c89a4fd98fa7c68ea129e511",
       "max": 1800,
       "style": "IPY_MODEL_ee9dc8772c584d3fa90b4eda8607299d",
       "value": 1800
      }
     },
     "6e4722c56738485383ec1207760eea45": {
      "model_module": "@jupyter-widgets/controls",
      "model_module_version": "1.5.0",
      "model_name": "FloatProgressModel",
      "state": {
       "bar_style": "success",
       "layout": "IPY_MODEL_24f4cba699794d88a8f769521e3ae014",
       "max": 3600,
       "style": "IPY_MODEL_b033784a3c3f4b2d84cde1b496ba4eda",
       "value": 3600
      }
     },
     "6e562fc083244384a2b16aa7c582ded3": {
      "model_module": "@jupyter-widgets/controls",
      "model_module_version": "1.5.0",
      "model_name": "DescriptionStyleModel",
      "state": {
       "description_width": ""
      }
     },
     "6e79f56d16334adfbdac26be87e24a3b": {
      "model_module": "@jupyter-widgets/controls",
      "model_module_version": "1.5.0",
      "model_name": "DescriptionStyleModel",
      "state": {
       "description_width": ""
      }
     },
     "6e86d7ca441a447e9e31305a3611c4c0": {
      "model_module": "@jupyter-widgets/controls",
      "model_module_version": "1.5.0",
      "model_name": "HBoxModel",
      "state": {
       "children": [
        "IPY_MODEL_12eeba3b788649fa89b779d2b1cba0f1",
        "IPY_MODEL_0481e76c23d044ff88815ecf8545f96c",
        "IPY_MODEL_e5604e4b75684fc4a1145c3a75d5da92"
       ],
       "layout": "IPY_MODEL_7596cd995b044dc8b22b440ccf7c0908"
      }
     },
     "6eafe0c0675b466a819d460a02fb6df6": {
      "model_module": "@jupyter-widgets/controls",
      "model_module_version": "1.5.0",
      "model_name": "FloatProgressModel",
      "state": {
       "bar_style": "success",
       "layout": "IPY_MODEL_e7fe78d1c5f24a1fa62b0bb04fd6adae",
       "max": 1000,
       "style": "IPY_MODEL_fb51e887925547bea8cfb08e79271da9",
       "value": 1000
      }
     },
     "6edb8ece080c46de91c10b5caf21abaf": {
      "model_module": "@jupyter-widgets/controls",
      "model_module_version": "1.5.0",
      "model_name": "ProgressStyleModel",
      "state": {
       "description_width": ""
      }
     },
     "6eeea13ea32f4233aacbfe179f74d076": {
      "model_module": "@jupyter-widgets/controls",
      "model_module_version": "1.5.0",
      "model_name": "HTMLModel",
      "state": {
       "layout": "IPY_MODEL_40fc303c61d44bd1a107ab5d1da9f008",
       "style": "IPY_MODEL_7716fb99adff442288bcfe26727590ee",
       "value": "100%"
      }
     },
     "6f158796d2e94d64b26e86ff97d1913b": {
      "model_module": "@jupyter-widgets/base",
      "model_module_version": "1.2.0",
      "model_name": "LayoutModel",
      "state": {}
     },
     "6f45be018e9546ef8b5392c3ccd84e7d": {
      "model_module": "@jupyter-widgets/controls",
      "model_module_version": "1.5.0",
      "model_name": "HTMLModel",
      "state": {
       "layout": "IPY_MODEL_ba4a3a3a980a4624957a698873cbe2dc",
       "style": "IPY_MODEL_b496637a17b4485f90913fcd84cea072",
       "value": "100%"
      }
     },
     "6f5348643714463087bb62cd062c5f14": {
      "model_module": "@jupyter-widgets/controls",
      "model_module_version": "1.5.0",
      "model_name": "FloatProgressModel",
      "state": {
       "bar_style": "success",
       "layout": "IPY_MODEL_91bed4299a0949d2840a879843631db7",
       "max": 3600,
       "style": "IPY_MODEL_8efc09f827d54205aedfbd83508e6f67",
       "value": 3600
      }
     },
     "6f9d60431b364cc1b4ed0c5cc7254da9": {
      "model_module": "@jupyter-widgets/controls",
      "model_module_version": "1.5.0",
      "model_name": "DescriptionStyleModel",
      "state": {
       "description_width": ""
      }
     },
     "6facb42126884ce4846a66fd2fb6ffaa": {
      "model_module": "@jupyter-widgets/controls",
      "model_module_version": "1.5.0",
      "model_name": "ProgressStyleModel",
      "state": {
       "description_width": ""
      }
     },
     "6fc4ab5174b84b9a99fa6c1293e73ce0": {
      "model_module": "@jupyter-widgets/base",
      "model_module_version": "1.2.0",
      "model_name": "LayoutModel",
      "state": {}
     },
     "6fe4b7d1d52c48c79e90d66841237247": {
      "model_module": "@jupyter-widgets/base",
      "model_module_version": "1.2.0",
      "model_name": "LayoutModel",
      "state": {}
     },
     "6fe80c4f02c24d3bb2de8a59ae4474f2": {
      "model_module": "@jupyter-widgets/controls",
      "model_module_version": "1.5.0",
      "model_name": "DescriptionStyleModel",
      "state": {
       "description_width": ""
      }
     },
     "700fe02f541b4ba3a77b5ec4a3b6883f": {
      "model_module": "@jupyter-widgets/controls",
      "model_module_version": "1.5.0",
      "model_name": "HBoxModel",
      "state": {
       "children": [
        "IPY_MODEL_f1e1bd5661044029a2abcbb8486fecbe",
        "IPY_MODEL_2a80171f4f9f483eae2762278e3b75d6",
        "IPY_MODEL_11d8919c3ab04017955e0ce110353492"
       ],
       "layout": "IPY_MODEL_a311558368a74e1aac7f1d42eed5ef3c"
      }
     },
     "704b66b296754e3689dc85256eff88de": {
      "model_module": "@jupyter-widgets/base",
      "model_module_version": "1.2.0",
      "model_name": "LayoutModel",
      "state": {}
     },
     "7070433559ff426c875aa3e7e5877498": {
      "model_module": "@jupyter-widgets/controls",
      "model_module_version": "1.5.0",
      "model_name": "HBoxModel",
      "state": {
       "children": [
        "IPY_MODEL_5baf108ed1ca479fb65545e193a77034",
        "IPY_MODEL_4a9ed892176940e3b18f96851110c3b7",
        "IPY_MODEL_f5dc42976a4e4cfd9c4fe4d62e38c480"
       ],
       "layout": "IPY_MODEL_d3203500fc6d47c5b7acd4d1e4282374"
      }
     },
     "7074e94f1afb4869bb8ef0891d67bf41": {
      "model_module": "@jupyter-widgets/controls",
      "model_module_version": "1.5.0",
      "model_name": "FloatProgressModel",
      "state": {
       "bar_style": "success",
       "layout": "IPY_MODEL_551b596dced54738a4507270c2535b51",
       "max": 1800,
       "style": "IPY_MODEL_bf7d9b60e96e408ca47cde5d78754a3f",
       "value": 1800
      }
     },
     "70e2ad5c66cf423aab8fa2942371fa8b": {
      "model_module": "@jupyter-widgets/base",
      "model_module_version": "1.2.0",
      "model_name": "LayoutModel",
      "state": {}
     },
     "70f230b3d1024388ab47ce4c09ed0b93": {
      "model_module": "@jupyter-widgets/controls",
      "model_module_version": "1.5.0",
      "model_name": "HTMLModel",
      "state": {
       "layout": "IPY_MODEL_fd4db2ab26684f0b81d94be0f5418f0a",
       "style": "IPY_MODEL_c2ea59565cfc4bd697f3910e35cd81ed",
       "value": "100%"
      }
     },
     "710a943c766e40eeba1e12b6499c8f58": {
      "model_module": "@jupyter-widgets/base",
      "model_module_version": "1.2.0",
      "model_name": "LayoutModel",
      "state": {}
     },
     "712262a248734957ae75c3ebb5539e48": {
      "model_module": "@jupyter-widgets/controls",
      "model_module_version": "1.5.0",
      "model_name": "HTMLModel",
      "state": {
       "layout": "IPY_MODEL_3319b091e1f045658db154b2540ff647",
       "style": "IPY_MODEL_6f9d60431b364cc1b4ed0c5cc7254da9",
       "value": "100%"
      }
     },
     "7156ef154e524661b4f7c232420ce998": {
      "model_module": "@jupyter-widgets/controls",
      "model_module_version": "1.5.0",
      "model_name": "HTMLModel",
      "state": {
       "layout": "IPY_MODEL_022a8511592241d4a83a1b9dcf81e5a7",
       "style": "IPY_MODEL_c8ac5c3326514a6ab86f19fe1bd98129",
       "value": " 3600/3600 [02:06&lt;00:00, 30.56it/s]"
      }
     },
     "7161df7b3849400e9f6b0d1d399ca8fd": {
      "model_module": "@jupyter-widgets/base",
      "model_module_version": "1.2.0",
      "model_name": "LayoutModel",
      "state": {}
     },
     "71631f6cafb14521b91472a06841d8ec": {
      "model_module": "@jupyter-widgets/base",
      "model_module_version": "1.2.0",
      "model_name": "LayoutModel",
      "state": {}
     },
     "719c26fecb4943a7bbf64d3170da5c9f": {
      "model_module": "@jupyter-widgets/controls",
      "model_module_version": "1.5.0",
      "model_name": "DescriptionStyleModel",
      "state": {
       "description_width": ""
      }
     },
     "71a5242d0275427f9310ed9aebe4f658": {
      "model_module": "@jupyter-widgets/controls",
      "model_module_version": "1.5.0",
      "model_name": "HTMLModel",
      "state": {
       "layout": "IPY_MODEL_fc851bf6f2fc41609686762bfa6a42d9",
       "style": "IPY_MODEL_caa7d1c0cff84e49969ee8a0aed131dd",
       "value": " 3600/3600 [01:55&lt;00:00, 31.65it/s]"
      }
     },
     "72083f8face44ba8880cbfc7c2c4bf63": {
      "model_module": "@jupyter-widgets/base",
      "model_module_version": "1.2.0",
      "model_name": "LayoutModel",
      "state": {}
     },
     "722c56cbf62d48afbe127693a248bda1": {
      "model_module": "@jupyter-widgets/controls",
      "model_module_version": "1.5.0",
      "model_name": "HTMLModel",
      "state": {
       "layout": "IPY_MODEL_7aeba8e4191145cf9df94fb47236ec72",
       "style": "IPY_MODEL_b4f119d3f9fc41ce93677d2711cc330a",
       "value": "100%"
      }
     },
     "726a133cbf8d427b9936f08cff106302": {
      "model_module": "@jupyter-widgets/base",
      "model_module_version": "1.2.0",
      "model_name": "LayoutModel",
      "state": {}
     },
     "72755ef3f4c04dd5ab71f4169db15f3b": {
      "model_module": "@jupyter-widgets/controls",
      "model_module_version": "1.5.0",
      "model_name": "DescriptionStyleModel",
      "state": {
       "description_width": ""
      }
     },
     "728572bdd45640429a5eb6958be5e687": {
      "model_module": "@jupyter-widgets/base",
      "model_module_version": "1.2.0",
      "model_name": "LayoutModel",
      "state": {}
     },
     "72b995e4618a4ed88f6ae2e0ad40b1b1": {
      "model_module": "@jupyter-widgets/base",
      "model_module_version": "1.2.0",
      "model_name": "LayoutModel",
      "state": {}
     },
     "72d1416c35fd42ba9d3de50b726015ff": {
      "model_module": "@jupyter-widgets/controls",
      "model_module_version": "1.5.0",
      "model_name": "DescriptionStyleModel",
      "state": {
       "description_width": ""
      }
     },
     "731af76cb91a4903a4bbb4fa5ef71e36": {
      "model_module": "@jupyter-widgets/controls",
      "model_module_version": "1.5.0",
      "model_name": "FloatProgressModel",
      "state": {
       "bar_style": "success",
       "layout": "IPY_MODEL_12813da55a6d4e16b6e399ca7edaf90c",
       "max": 3600,
       "style": "IPY_MODEL_38ca9a8d6c0442b39d813aa4f55e5997",
       "value": 3600
      }
     },
     "731cf5f780df4660be891033b99a50d0": {
      "model_module": "@jupyter-widgets/controls",
      "model_module_version": "1.5.0",
      "model_name": "DescriptionStyleModel",
      "state": {
       "description_width": ""
      }
     },
     "73489e8bcd064a57b1a7f079dd250d14": {
      "model_module": "@jupyter-widgets/base",
      "model_module_version": "1.2.0",
      "model_name": "LayoutModel",
      "state": {}
     },
     "73746eff21934f53890fd2d0b174a6c8": {
      "model_module": "@jupyter-widgets/controls",
      "model_module_version": "1.5.0",
      "model_name": "HBoxModel",
      "state": {
       "children": [
        "IPY_MODEL_c2dfe1bfbb1d436387f32e7cb36002b2",
        "IPY_MODEL_74e2cb085ecc44a5ac50fb3fc69b6edb",
        "IPY_MODEL_974127589f6c49169e17418463a600b5"
       ],
       "layout": "IPY_MODEL_571b82daddf74753aae4810cc972ee04"
      }
     },
     "739a159a45d14b6eabef7e329989f686": {
      "model_module": "@jupyter-widgets/controls",
      "model_module_version": "1.5.0",
      "model_name": "FloatProgressModel",
      "state": {
       "bar_style": "success",
       "layout": "IPY_MODEL_b888bb736ebb4e5d866354a5b25d78fb",
       "max": 3600,
       "style": "IPY_MODEL_a1d185cd06ee4b69ab1da02669308e89",
       "value": 3600
      }
     },
     "739ddb73a1474fce8730e667586a2184": {
      "model_module": "@jupyter-widgets/controls",
      "model_module_version": "1.5.0",
      "model_name": "HTMLModel",
      "state": {
       "layout": "IPY_MODEL_9406d68c6482426bbb0f764f5db311a0",
       "style": "IPY_MODEL_a2e96f3432c74585870000eff3191230",
       "value": " 11/11 [00:06&lt;00:00,  5.52it/s]"
      }
     },
     "73aca46aff5948e5b97fa82f94ef176c": {
      "model_module": "@jupyter-widgets/controls",
      "model_module_version": "1.5.0",
      "model_name": "DescriptionStyleModel",
      "state": {
       "description_width": ""
      }
     },
     "7456869fb89f4e96b6a4216ae2f28744": {
      "model_module": "@jupyter-widgets/base",
      "model_module_version": "1.2.0",
      "model_name": "LayoutModel",
      "state": {}
     },
     "745d2c3a13d9454aa02c15737301a1b0": {
      "model_module": "@jupyter-widgets/controls",
      "model_module_version": "1.5.0",
      "model_name": "DescriptionStyleModel",
      "state": {
       "description_width": ""
      }
     },
     "749c494766734912868e5ef65e675320": {
      "model_module": "@jupyter-widgets/controls",
      "model_module_version": "1.5.0",
      "model_name": "HTMLModel",
      "state": {
       "layout": "IPY_MODEL_1a4a3a8352134aceba19b63c7dafc816",
       "style": "IPY_MODEL_16376b8d6ad74b7fb08483e05507e3d4",
       "value": " 11/11 [00:05&lt;00:00,  2.12it/s]"
      }
     },
     "74ad83a6165247b69707f673d7df38b1": {
      "model_module": "@jupyter-widgets/controls",
      "model_module_version": "1.5.0",
      "model_name": "DescriptionStyleModel",
      "state": {
       "description_width": ""
      }
     },
     "74e1ede511b84d74b1ad864071e58309": {
      "model_module": "@jupyter-widgets/base",
      "model_module_version": "1.2.0",
      "model_name": "LayoutModel",
      "state": {}
     },
     "74e2cb085ecc44a5ac50fb3fc69b6edb": {
      "model_module": "@jupyter-widgets/controls",
      "model_module_version": "1.5.0",
      "model_name": "FloatProgressModel",
      "state": {
       "bar_style": "success",
       "layout": "IPY_MODEL_0b8701a16525427ca2be17bcc89ff36f",
       "max": 1800,
       "style": "IPY_MODEL_649eeb74568b48febdfd6065c295586b",
       "value": 1800
      }
     },
     "7518a86a2ba84ca7bab6bdf9824ac380": {
      "model_module": "@jupyter-widgets/base",
      "model_module_version": "1.2.0",
      "model_name": "LayoutModel",
      "state": {}
     },
     "752029c735a049d1b3fd9a2fb2acab33": {
      "model_module": "@jupyter-widgets/base",
      "model_module_version": "1.2.0",
      "model_name": "LayoutModel",
      "state": {}
     },
     "754161a01cc2495584d7656e0b4255a7": {
      "model_module": "@jupyter-widgets/controls",
      "model_module_version": "1.5.0",
      "model_name": "HTMLModel",
      "state": {
       "layout": "IPY_MODEL_e7cfccb5a59742fd93c3fc6ed26a60e0",
       "style": "IPY_MODEL_a24e00cc09eb4392bae2ba70d9549894",
       "value": " 10/10 [00:02&lt;00:00,  5.30it/s]"
      }
     },
     "754c52b0cdd945b8adfc35933715f875": {
      "model_module": "@jupyter-widgets/base",
      "model_module_version": "1.2.0",
      "model_name": "LayoutModel",
      "state": {}
     },
     "75613174381045a8a348694f66eca30b": {
      "model_module": "@jupyter-widgets/controls",
      "model_module_version": "1.5.0",
      "model_name": "HTMLModel",
      "state": {
       "layout": "IPY_MODEL_481beeb3a0914073a772b6599bad5b20",
       "style": "IPY_MODEL_7a0ab348f33f4ff9b57bc0392db0adab",
       "value": " 4800/4800 [04:26&lt;00:00, 26.90it/s]"
      }
     },
     "7596cd995b044dc8b22b440ccf7c0908": {
      "model_module": "@jupyter-widgets/base",
      "model_module_version": "1.2.0",
      "model_name": "LayoutModel",
      "state": {}
     },
     "75a3e3320e96455cbb91969ad2de2019": {
      "model_module": "@jupyter-widgets/controls",
      "model_module_version": "1.5.0",
      "model_name": "DescriptionStyleModel",
      "state": {
       "description_width": ""
      }
     },
     "75c1023e473b41d9b973ce72f48be269": {
      "model_module": "@jupyter-widgets/controls",
      "model_module_version": "1.5.0",
      "model_name": "DescriptionStyleModel",
      "state": {
       "description_width": ""
      }
     },
     "75c1188becfe4bbc9f0c26140d939456": {
      "model_module": "@jupyter-widgets/controls",
      "model_module_version": "1.5.0",
      "model_name": "HBoxModel",
      "state": {
       "children": [
        "IPY_MODEL_3808a0a585314750b9e052c506e7ddc7",
        "IPY_MODEL_1d0a797b7d454a21b476b08dc894bf10",
        "IPY_MODEL_315e03635a5e4eeeb10a0199e4fd9d76"
       ],
       "layout": "IPY_MODEL_1c5fa97bf0f1495a9ead236e1293be92"
      }
     },
     "7619b2094d894e7cbe977a19141e86a3": {
      "model_module": "@jupyter-widgets/base",
      "model_module_version": "1.2.0",
      "model_name": "LayoutModel",
      "state": {}
     },
     "761e8bbfd4664f60894404b461e2b7a6": {
      "model_module": "@jupyter-widgets/controls",
      "model_module_version": "1.5.0",
      "model_name": "HTMLModel",
      "state": {
       "layout": "IPY_MODEL_c8d77e597fab4ae09662357dc8338cd4",
       "style": "IPY_MODEL_56c7b86fd7cc4165b8682b0d27a83074",
       "value": " 3600/3600 [01:57&lt;00:00, 31.87it/s]"
      }
     },
     "7631e978438d41e1a20df678d48dfb89": {
      "model_module": "@jupyter-widgets/controls",
      "model_module_version": "1.5.0",
      "model_name": "DescriptionStyleModel",
      "state": {
       "description_width": ""
      }
     },
     "766322a4eab44331b52b1eee8cbb78ce": {
      "model_module": "@jupyter-widgets/controls",
      "model_module_version": "1.5.0",
      "model_name": "DescriptionStyleModel",
      "state": {
       "description_width": ""
      }
     },
     "7673a80dd03048e1998422bf8c1b3472": {
      "model_module": "@jupyter-widgets/base",
      "model_module_version": "1.2.0",
      "model_name": "LayoutModel",
      "state": {}
     },
     "76857dfdca434e9b89d06fda84ae9b49": {
      "model_module": "@jupyter-widgets/controls",
      "model_module_version": "1.5.0",
      "model_name": "HBoxModel",
      "state": {
       "children": [
        "IPY_MODEL_1dbe3cbd775d4523927af2b50979cd03",
        "IPY_MODEL_7e78e1698229474d9d3c25b26d948409",
        "IPY_MODEL_ce562f11439349a29438a2ab7ac5235c"
       ],
       "layout": "IPY_MODEL_c12055d3ebbd4bb3b3918ef5fd6b44ac"
      }
     },
     "76deb3f758d84004a5c59faf60cb5c03": {
      "model_module": "@jupyter-widgets/controls",
      "model_module_version": "1.5.0",
      "model_name": "DescriptionStyleModel",
      "state": {
       "description_width": ""
      }
     },
     "76fd792eff464b43b3a6d43b6e91175a": {
      "model_module": "@jupyter-widgets/base",
      "model_module_version": "1.2.0",
      "model_name": "LayoutModel",
      "state": {}
     },
     "7706a8d595b3432384330c5149678838": {
      "model_module": "@jupyter-widgets/controls",
      "model_module_version": "1.5.0",
      "model_name": "DescriptionStyleModel",
      "state": {
       "description_width": ""
      }
     },
     "77145900eb9c46d6ad08042c17052a6a": {
      "model_module": "@jupyter-widgets/controls",
      "model_module_version": "1.5.0",
      "model_name": "HBoxModel",
      "state": {
       "children": [
        "IPY_MODEL_9c9682d474344df79ddc91c885461e22",
        "IPY_MODEL_2b4928c9da524b5d84a0792826ddab59",
        "IPY_MODEL_ef7ec9f9bbc846b887c7ce067a497a2c"
       ],
       "layout": "IPY_MODEL_4a2ea931d6e44cdca4dd18f045c57322"
      }
     },
     "7716fb99adff442288bcfe26727590ee": {
      "model_module": "@jupyter-widgets/controls",
      "model_module_version": "1.5.0",
      "model_name": "DescriptionStyleModel",
      "state": {
       "description_width": ""
      }
     },
     "7749c3b5d00a44f0a3f7c2f50cc0e10d": {
      "model_module": "@jupyter-widgets/controls",
      "model_module_version": "1.5.0",
      "model_name": "HTMLModel",
      "state": {
       "layout": "IPY_MODEL_3ad7c276cb284b189ced899cc18d8c7a",
       "style": "IPY_MODEL_5d7c1ec84cc6471bb00b501ad650ac8e",
       "value": "  0%"
      }
     },
     "776a350d39764c79b14c12db7b1e0419": {
      "model_module": "@jupyter-widgets/base",
      "model_module_version": "1.2.0",
      "model_name": "LayoutModel",
      "state": {}
     },
     "7796cac74bdc43c98d2b2fc179ef9768": {
      "model_module": "@jupyter-widgets/base",
      "model_module_version": "1.2.0",
      "model_name": "LayoutModel",
      "state": {}
     },
     "77a5ae1f567e4f68873eca86fb5f8c7e": {
      "model_module": "@jupyter-widgets/base",
      "model_module_version": "1.2.0",
      "model_name": "LayoutModel",
      "state": {}
     },
     "77a84b89a79c455a8b70734ba04a93b1": {
      "model_module": "@jupyter-widgets/controls",
      "model_module_version": "1.5.0",
      "model_name": "HTMLModel",
      "state": {
       "layout": "IPY_MODEL_e4b80f2c61ed4b9f968aa3aefa4ad344",
       "style": "IPY_MODEL_648b937834fe4329b91f423bf665685f",
       "value": " 0/4500 [00:00&lt;?, ?it/s]"
      }
     },
     "77dbe5d448454130b6a974d55b073164": {
      "model_module": "@jupyter-widgets/controls",
      "model_module_version": "1.5.0",
      "model_name": "DescriptionStyleModel",
      "state": {
       "description_width": ""
      }
     },
     "785e7d5a81544decb2d45b70b1762661": {
      "model_module": "@jupyter-widgets/controls",
      "model_module_version": "1.5.0",
      "model_name": "ProgressStyleModel",
      "state": {
       "description_width": ""
      }
     },
     "78b79afe11b443c3ab010d6ca07fc53d": {
      "model_module": "@jupyter-widgets/controls",
      "model_module_version": "1.5.0",
      "model_name": "DescriptionStyleModel",
      "state": {
       "description_width": ""
      }
     },
     "7900bd3c7b01409da58719106f209143": {
      "model_module": "@jupyter-widgets/base",
      "model_module_version": "1.2.0",
      "model_name": "LayoutModel",
      "state": {}
     },
     "790274d525f9433fa3250cba1b4284af": {
      "model_module": "@jupyter-widgets/base",
      "model_module_version": "1.2.0",
      "model_name": "LayoutModel",
      "state": {}
     },
     "7934783447a24a0e8429d0908f59e6c7": {
      "model_module": "@jupyter-widgets/controls",
      "model_module_version": "1.5.0",
      "model_name": "DescriptionStyleModel",
      "state": {
       "description_width": ""
      }
     },
     "79605cfdda4746fd9822155c9ef5632d": {
      "model_module": "@jupyter-widgets/base",
      "model_module_version": "1.2.0",
      "model_name": "LayoutModel",
      "state": {}
     },
     "799a602460ba4296815cf829d768634b": {
      "model_module": "@jupyter-widgets/controls",
      "model_module_version": "1.5.0",
      "model_name": "DescriptionStyleModel",
      "state": {
       "description_width": ""
      }
     },
     "79bbd9495e624d9aa5a72142016d8de2": {
      "model_module": "@jupyter-widgets/base",
      "model_module_version": "1.2.0",
      "model_name": "LayoutModel",
      "state": {}
     },
     "79d663c857a34ad7b6f021f71dc5c431": {
      "model_module": "@jupyter-widgets/base",
      "model_module_version": "1.2.0",
      "model_name": "LayoutModel",
      "state": {}
     },
     "79d856d7d1904e87b274bf840a67e759": {
      "model_module": "@jupyter-widgets/controls",
      "model_module_version": "1.5.0",
      "model_name": "HTMLModel",
      "state": {
       "layout": "IPY_MODEL_ea0e62d992a44590ae75b77561babc2c",
       "style": "IPY_MODEL_20bdd40ebfaf40ddb8f8b01f52ccb441",
       "value": "100%"
      }
     },
     "7a0760ed750649f1a9c8df73c468388f": {
      "model_module": "@jupyter-widgets/base",
      "model_module_version": "1.2.0",
      "model_name": "LayoutModel",
      "state": {}
     },
     "7a0ab348f33f4ff9b57bc0392db0adab": {
      "model_module": "@jupyter-widgets/controls",
      "model_module_version": "1.5.0",
      "model_name": "DescriptionStyleModel",
      "state": {
       "description_width": ""
      }
     },
     "7a5266cebdc24627bb06871ec431c295": {
      "model_module": "@jupyter-widgets/base",
      "model_module_version": "1.2.0",
      "model_name": "LayoutModel",
      "state": {}
     },
     "7a763926eb5a4a83aa4743a0a58d00bc": {
      "model_module": "@jupyter-widgets/controls",
      "model_module_version": "1.5.0",
      "model_name": "HTMLModel",
      "state": {
       "layout": "IPY_MODEL_85128c599dd640e082a726bff8c6cba5",
       "style": "IPY_MODEL_e6e05b28a60944b1ba95618733b35914",
       "value": "100%"
      }
     },
     "7a8b6fcc303f4277929687b19e5f8120": {
      "model_module": "@jupyter-widgets/controls",
      "model_module_version": "1.5.0",
      "model_name": "DescriptionStyleModel",
      "state": {
       "description_width": ""
      }
     },
     "7aeba8e4191145cf9df94fb47236ec72": {
      "model_module": "@jupyter-widgets/base",
      "model_module_version": "1.2.0",
      "model_name": "LayoutModel",
      "state": {}
     },
     "7b212f93d52a437fa37abc479e17b160": {
      "model_module": "@jupyter-widgets/controls",
      "model_module_version": "1.5.0",
      "model_name": "DescriptionStyleModel",
      "state": {
       "description_width": ""
      }
     },
     "7c07d0cbcf514009babad511240d5a28": {
      "model_module": "@jupyter-widgets/controls",
      "model_module_version": "1.5.0",
      "model_name": "DescriptionStyleModel",
      "state": {
       "description_width": ""
      }
     },
     "7c9b1fd9d3254c54980b9ad5b34ed09d": {
      "model_module": "@jupyter-widgets/controls",
      "model_module_version": "1.5.0",
      "model_name": "HTMLModel",
      "state": {
       "layout": "IPY_MODEL_6bf2403e21cd4462ba28329564b9e8cb",
       "style": "IPY_MODEL_b5dfdd9635894361ac1a5ba69037d645",
       "value": " 3600/3600 [02:09&lt;00:00, 29.79it/s]"
      }
     },
     "7cb1ac873a644d3bbb035fe9a154ac92": {
      "model_module": "@jupyter-widgets/base",
      "model_module_version": "1.2.0",
      "model_name": "LayoutModel",
      "state": {}
     },
     "7cd33138e6f145a2a9accf1fa8789cc5": {
      "model_module": "@jupyter-widgets/controls",
      "model_module_version": "1.5.0",
      "model_name": "HTMLModel",
      "state": {
       "layout": "IPY_MODEL_0bb0cb1aa4ad41f18397e37b60d85de6",
       "style": "IPY_MODEL_a53cd3efb07249ddb5fbc02dfc9fed33",
       "value": "100%"
      }
     },
     "7ceca5d9bd0e482f83cf9fbf8d800e55": {
      "model_module": "@jupyter-widgets/controls",
      "model_module_version": "1.5.0",
      "model_name": "HBoxModel",
      "state": {
       "children": [
        "IPY_MODEL_dd6994e1166b473aa28db1b0b3c8842c",
        "IPY_MODEL_2c7f5423c3674e32a7c5630b2435a255",
        "IPY_MODEL_b5283ae663ed40cb9afa7993f1733dfd"
       ],
       "layout": "IPY_MODEL_7518a86a2ba84ca7bab6bdf9824ac380"
      }
     },
     "7d14aafbd8af4a1eb6feb62d47167254": {
      "model_module": "@jupyter-widgets/controls",
      "model_module_version": "1.5.0",
      "model_name": "DescriptionStyleModel",
      "state": {
       "description_width": ""
      }
     },
     "7d5bf50c595f4274ae85aa73a178e751": {
      "model_module": "@jupyter-widgets/controls",
      "model_module_version": "1.5.0",
      "model_name": "HTMLModel",
      "state": {
       "layout": "IPY_MODEL_ef2b8d542bc0483a98a3264524c22a18",
       "style": "IPY_MODEL_56998981bea44b7abeae8c746ea7f6c5",
       "value": " 3600/3600 [02:15&lt;00:00, 27.34it/s]"
      }
     },
     "7d88cbaea21642fd94b3f19ebc9cd2f5": {
      "model_module": "@jupyter-widgets/controls",
      "model_module_version": "1.5.0",
      "model_name": "DescriptionStyleModel",
      "state": {
       "description_width": ""
      }
     },
     "7d8d247aa337492bae4b8984769b09e2": {
      "model_module": "@jupyter-widgets/controls",
      "model_module_version": "1.5.0",
      "model_name": "HBoxModel",
      "state": {
       "children": [
        "IPY_MODEL_40f0458821b24460a87bdb1bb7a92ff6",
        "IPY_MODEL_ed7aa73cc1fe4376bedbae19c2f6efe3",
        "IPY_MODEL_8f9cd41155e44aaf8a6f6da4379408df"
       ],
       "layout": "IPY_MODEL_bd2efcdbc0c44baba7011e8508cf354b"
      }
     },
     "7dd1c4a2cd2e41b0b6fdeed1f3c191ff": {
      "model_module": "@jupyter-widgets/controls",
      "model_module_version": "1.5.0",
      "model_name": "HTMLModel",
      "state": {
       "layout": "IPY_MODEL_184796c3b7ab42008b00751f837eb73b",
       "style": "IPY_MODEL_e772496274cc45e3be5dcda2dfec7ae6",
       "value": "100%"
      }
     },
     "7de4d94036aa480f9fcfa9f8dc42ef07": {
      "model_module": "@jupyter-widgets/base",
      "model_module_version": "1.2.0",
      "model_name": "LayoutModel",
      "state": {}
     },
     "7e0f7a29e25b4039a1a1ac8897131293": {
      "model_module": "@jupyter-widgets/base",
      "model_module_version": "1.2.0",
      "model_name": "LayoutModel",
      "state": {}
     },
     "7e3702bc29d540db971e9629cf6ccb27": {
      "model_module": "@jupyter-widgets/base",
      "model_module_version": "1.2.0",
      "model_name": "LayoutModel",
      "state": {}
     },
     "7e4f9acbe3774c328959d6b6a788e4de": {
      "model_module": "@jupyter-widgets/controls",
      "model_module_version": "1.5.0",
      "model_name": "FloatProgressModel",
      "state": {
       "bar_style": "success",
       "layout": "IPY_MODEL_a45fde789eca4c2e9f62efb8c40bab6e",
       "max": 4500,
       "style": "IPY_MODEL_ea4678869c344995877a477f8e688200",
       "value": 4500
      }
     },
     "7e78e1698229474d9d3c25b26d948409": {
      "model_module": "@jupyter-widgets/controls",
      "model_module_version": "1.5.0",
      "model_name": "FloatProgressModel",
      "state": {
       "bar_style": "danger",
       "layout": "IPY_MODEL_660fce8792ce4e3788ac6a2ad8a6116a",
       "max": 4500,
       "style": "IPY_MODEL_b6e5713ce224413ab92ed88348aaa267",
       "value": 65
      }
     },
     "7eb4854c355c4117b0982896eb472334": {
      "model_module": "@jupyter-widgets/controls",
      "model_module_version": "1.5.0",
      "model_name": "HBoxModel",
      "state": {
       "children": [
        "IPY_MODEL_03a5208f11a94e559b5a3a55c4027a70",
        "IPY_MODEL_11dbd0816d48417ab556d6bf3c39730d",
        "IPY_MODEL_8838f339a4ff4b28af1903d61f8e4061"
       ],
       "layout": "IPY_MODEL_fedba759d0c24356a1feffdef8c1685d"
      }
     },
     "7ec3f79c3eb34d70b40afe31e49c8ef0": {
      "model_module": "@jupyter-widgets/base",
      "model_module_version": "1.2.0",
      "model_name": "LayoutModel",
      "state": {}
     },
     "7eec145d0c2c404294fa70ee1065198c": {
      "model_module": "@jupyter-widgets/controls",
      "model_module_version": "1.5.0",
      "model_name": "HBoxModel",
      "state": {
       "children": [
        "IPY_MODEL_3ef6917c20e14187bc762857432f683e",
        "IPY_MODEL_c4ec61da9ba84ae6968ff225747bd2e7",
        "IPY_MODEL_e8a083a663ce43b0900b3d8826c24e96"
       ],
       "layout": "IPY_MODEL_9cec12c7f7544e37b6fed9f053a3a586"
      }
     },
     "7f28d596cbb9421fb9d99d76c795a8db": {
      "model_module": "@jupyter-widgets/base",
      "model_module_version": "1.2.0",
      "model_name": "LayoutModel",
      "state": {}
     },
     "7f77e8b9ff234a0ca14c5e179aeef664": {
      "model_module": "@jupyter-widgets/controls",
      "model_module_version": "1.5.0",
      "model_name": "HTMLModel",
      "state": {
       "layout": "IPY_MODEL_10985d386d0649f1bdc80bbcd2e3dc76",
       "style": "IPY_MODEL_ed4bb2b314f94f2682c314355f5bb4de",
       "value": " 1000/1000 [00:56&lt;00:00, 27.93it/s]"
      }
     },
     "7fadc6ad261d46c3aca173ae5dc457b3": {
      "model_module": "@jupyter-widgets/controls",
      "model_module_version": "1.5.0",
      "model_name": "HTMLModel",
      "state": {
       "layout": "IPY_MODEL_249914aa5d4c43f8b1da93f3a2552971",
       "style": "IPY_MODEL_df1b2a7cc300426daa03a6d5303558cf",
       "value": " 1800/1800 [00:59&lt;00:00, 31.10it/s]"
      }
     },
     "7fb3249a022e450dac09bd0c00dc81d5": {
      "model_module": "@jupyter-widgets/base",
      "model_module_version": "1.2.0",
      "model_name": "LayoutModel",
      "state": {}
     },
     "7fdd1352089d4788ab442163b17a5dcc": {
      "model_module": "@jupyter-widgets/base",
      "model_module_version": "1.2.0",
      "model_name": "LayoutModel",
      "state": {}
     },
     "7ffabb22fec74c5a8bbcdec596a0012e": {
      "model_module": "@jupyter-widgets/controls",
      "model_module_version": "1.5.0",
      "model_name": "HTMLModel",
      "state": {
       "layout": "IPY_MODEL_ea422a748fe74637a303504fed4d70f3",
       "style": "IPY_MODEL_799a602460ba4296815cf829d768634b",
       "value": "100%"
      }
     },
     "805542f8d62b412384d4d4147195290f": {
      "model_module": "@jupyter-widgets/base",
      "model_module_version": "1.2.0",
      "model_name": "LayoutModel",
      "state": {}
     },
     "808677a110c54558aa109bfaaf840931": {
      "model_module": "@jupyter-widgets/base",
      "model_module_version": "1.2.0",
      "model_name": "LayoutModel",
      "state": {}
     },
     "808fa8c4271a465f833c8d441942aa27": {
      "model_module": "@jupyter-widgets/base",
      "model_module_version": "1.2.0",
      "model_name": "LayoutModel",
      "state": {}
     },
     "80a484b1d80e4948b2ad49d796ab38e5": {
      "model_module": "@jupyter-widgets/controls",
      "model_module_version": "1.5.0",
      "model_name": "FloatProgressModel",
      "state": {
       "bar_style": "danger",
       "layout": "IPY_MODEL_3cb6d7138ebd454b9a00ba13c2233d57",
       "max": 1800,
       "style": "IPY_MODEL_b31e81288f304a72bc0bece01ed62962",
       "value": 601
      }
     },
     "80c4b55f897344b88f86c88d21423dca": {
      "model_module": "@jupyter-widgets/controls",
      "model_module_version": "1.5.0",
      "model_name": "DescriptionStyleModel",
      "state": {
       "description_width": ""
      }
     },
     "8106d0a37c2c4b78a2fa4049ee4fecb2": {
      "model_module": "@jupyter-widgets/base",
      "model_module_version": "1.2.0",
      "model_name": "LayoutModel",
      "state": {}
     },
     "81699bcc897d4310bb42973700b66137": {
      "model_module": "@jupyter-widgets/base",
      "model_module_version": "1.2.0",
      "model_name": "LayoutModel",
      "state": {}
     },
     "8191b67a90d8423c91b586b552026c5f": {
      "model_module": "@jupyter-widgets/controls",
      "model_module_version": "1.5.0",
      "model_name": "ProgressStyleModel",
      "state": {
       "description_width": ""
      }
     },
     "8198e03a48ed44389fd74940fc67fb76": {
      "model_module": "@jupyter-widgets/base",
      "model_module_version": "1.2.0",
      "model_name": "LayoutModel",
      "state": {}
     },
     "82828010a3194ab7b15fd1de7a18b997": {
      "model_module": "@jupyter-widgets/controls",
      "model_module_version": "1.5.0",
      "model_name": "FloatProgressModel",
      "state": {
       "bar_style": "success",
       "layout": "IPY_MODEL_c0cc4dc9a242493b923ef31607a61caf",
       "max": 1800,
       "style": "IPY_MODEL_c94ffa514c3c4f6cbe2844791ad0c13b",
       "value": 1800
      }
     },
     "82a05ed9e6fc49cfa024200961f041c6": {
      "model_module": "@jupyter-widgets/controls",
      "model_module_version": "1.5.0",
      "model_name": "HTMLModel",
      "state": {
       "layout": "IPY_MODEL_ccd9e1b84bed4087bf57146885e92c1a",
       "style": "IPY_MODEL_245404e0350f4e9b9d81f369e14769c1",
       "value": " 1800/1800 [00:59&lt;00:00, 30.56it/s]"
      }
     },
     "82dcd433895e4105942481e945e88153": {
      "model_module": "@jupyter-widgets/controls",
      "model_module_version": "1.5.0",
      "model_name": "DescriptionStyleModel",
      "state": {
       "description_width": ""
      }
     },
     "82e7042ba5f7460aad65c5cf2e9ed218": {
      "model_module": "@jupyter-widgets/controls",
      "model_module_version": "1.5.0",
      "model_name": "DescriptionStyleModel",
      "state": {
       "description_width": ""
      }
     },
     "82e92956a40641469496f492e474838b": {
      "model_module": "@jupyter-widgets/base",
      "model_module_version": "1.2.0",
      "model_name": "LayoutModel",
      "state": {}
     },
     "8329e2dd958e4e3888414bef5c41fb0c": {
      "model_module": "@jupyter-widgets/base",
      "model_module_version": "1.2.0",
      "model_name": "LayoutModel",
      "state": {}
     },
     "8332f3422eb94593a18ea362f6fa72f0": {
      "model_module": "@jupyter-widgets/controls",
      "model_module_version": "1.5.0",
      "model_name": "FloatProgressModel",
      "state": {
       "bar_style": "danger",
       "layout": "IPY_MODEL_6214a7471ec744e1a3483db7cd771934",
       "max": 4500,
       "style": "IPY_MODEL_162bd5c5d9b64fe4b463fb1a4c078594"
      }
     },
     "839dde0501bd4270b3628ac5557b5ecf": {
      "model_module": "@jupyter-widgets/base",
      "model_module_version": "1.2.0",
      "model_name": "LayoutModel",
      "state": {}
     },
     "83c4d628bdc54b98949ac3a35d691146": {
      "model_module": "@jupyter-widgets/base",
      "model_module_version": "1.2.0",
      "model_name": "LayoutModel",
      "state": {}
     },
     "84964cf8a68d4ea2927df013339fce61": {
      "model_module": "@jupyter-widgets/base",
      "model_module_version": "1.2.0",
      "model_name": "LayoutModel",
      "state": {}
     },
     "84ce18d1ae364858a7beedad881a849b": {
      "model_module": "@jupyter-widgets/base",
      "model_module_version": "1.2.0",
      "model_name": "LayoutModel",
      "state": {}
     },
     "84d736afaab34b4eb1b4611b14000e7b": {
      "model_module": "@jupyter-widgets/base",
      "model_module_version": "1.2.0",
      "model_name": "LayoutModel",
      "state": {}
     },
     "84dc9c62bdff40edac9f33330515e527": {
      "model_module": "@jupyter-widgets/controls",
      "model_module_version": "1.5.0",
      "model_name": "FloatProgressModel",
      "state": {
       "bar_style": "danger",
       "layout": "IPY_MODEL_5e657c36f7254e09abbf069d54190739",
       "max": 3600,
       "style": "IPY_MODEL_96dd2d7c9ef5421baef75c3d34983794",
       "value": 896
      }
     },
     "84e1d6ae585345c8aeddc2985473783b": {
      "model_module": "@jupyter-widgets/controls",
      "model_module_version": "1.5.0",
      "model_name": "HTMLModel",
      "state": {
       "layout": "IPY_MODEL_f3d03a1ad4484525a09c9a4e120acb42",
       "style": "IPY_MODEL_74ad83a6165247b69707f673d7df38b1",
       "value": "100%"
      }
     },
     "85128c599dd640e082a726bff8c6cba5": {
      "model_module": "@jupyter-widgets/base",
      "model_module_version": "1.2.0",
      "model_name": "LayoutModel",
      "state": {}
     },
     "854759020c004a9d83eb38809dad9705": {
      "model_module": "@jupyter-widgets/controls",
      "model_module_version": "1.5.0",
      "model_name": "HTMLModel",
      "state": {
       "layout": "IPY_MODEL_2c59e0add3ec4f09979a4ce9d9c6b469",
       "style": "IPY_MODEL_d88060009efd48e68ad04efa30cdffd2",
       "value": " 3600/3600 [01:54&lt;00:00, 27.36it/s]"
      }
     },
     "857e04880cdb4114abfe9a556e2f717b": {
      "model_module": "@jupyter-widgets/controls",
      "model_module_version": "1.5.0",
      "model_name": "FloatProgressModel",
      "state": {
       "bar_style": "success",
       "layout": "IPY_MODEL_f00345ef6ccc489f91635ed9320c1281",
       "max": 4500,
       "style": "IPY_MODEL_13aa2b7b7ff2487699d1c7918056a216",
       "value": 4500
      }
     },
     "859cd94dfd4d49d982f5af926152a57f": {
      "model_module": "@jupyter-widgets/base",
      "model_module_version": "1.2.0",
      "model_name": "LayoutModel",
      "state": {}
     },
     "85a554c6c5a74d1da511859d3f81d4f7": {
      "model_module": "@jupyter-widgets/controls",
      "model_module_version": "1.5.0",
      "model_name": "HTMLModel",
      "state": {
       "layout": "IPY_MODEL_4b957ea6a8bb4b799f22704feeafadef",
       "style": "IPY_MODEL_690117c9ead546a2af74b489ba6ac0a9",
       "value": " 1000/1000 [00:55&lt;00:00, 17.88it/s]"
      }
     },
     "85ac4b99637f425f90045829ac26752e": {
      "model_module": "@jupyter-widgets/controls",
      "model_module_version": "1.5.0",
      "model_name": "ProgressStyleModel",
      "state": {
       "description_width": ""
      }
     },
     "85b2ccfbb7954c84a0a18df4216f4c4a": {
      "model_module": "@jupyter-widgets/controls",
      "model_module_version": "1.5.0",
      "model_name": "DescriptionStyleModel",
      "state": {
       "description_width": ""
      }
     },
     "85c5ef6381e34e788b56bb39805fd63c": {
      "model_module": "@jupyter-widgets/controls",
      "model_module_version": "1.5.0",
      "model_name": "HTMLModel",
      "state": {
       "layout": "IPY_MODEL_12a8b16c74794328bbc1d11ab1305810",
       "style": "IPY_MODEL_78b79afe11b443c3ab010d6ca07fc53d",
       "value": "100%"
      }
     },
     "85daafeaa90842a38c8adc740df43978": {
      "model_module": "@jupyter-widgets/controls",
      "model_module_version": "1.5.0",
      "model_name": "HBoxModel",
      "state": {
       "children": [
        "IPY_MODEL_6865d332241445feb55dda885b99fac0",
        "IPY_MODEL_10775b791a7f4be0bd802fe8a4a50c8a",
        "IPY_MODEL_30ef09f141684245aeab20aa70be1d52"
       ],
       "layout": "IPY_MODEL_f960f04e9ca84090b087ad2b34509c35"
      }
     },
     "861cb9612ca64ad597570b3a00e4d66e": {
      "model_module": "@jupyter-widgets/controls",
      "model_module_version": "1.5.0",
      "model_name": "HTMLModel",
      "state": {
       "layout": "IPY_MODEL_b345fdb9cae444c88fb379f25069c5d0",
       "style": "IPY_MODEL_c03e44a21b184bfaaea5c5e6b70679cc",
       "value": "100%"
      }
     },
     "8638059fcaba49fb98fa356d6a2c0788": {
      "model_module": "@jupyter-widgets/base",
      "model_module_version": "1.2.0",
      "model_name": "LayoutModel",
      "state": {}
     },
     "86c625fa00404d73b956e9413c12ceec": {
      "model_module": "@jupyter-widgets/controls",
      "model_module_version": "1.5.0",
      "model_name": "HTMLModel",
      "state": {
       "layout": "IPY_MODEL_df9eb55003e34ce0b8fecf3f6e055fcf",
       "style": "IPY_MODEL_4f06fe5b826a43a7b631e004a5dc7aef",
       "value": " 3600/3600 [02:04&lt;00:00, 29.50it/s]"
      }
     },
     "86fb67ddaae34a22896b0d21f3ec02d8": {
      "model_module": "@jupyter-widgets/base",
      "model_module_version": "1.2.0",
      "model_name": "LayoutModel",
      "state": {}
     },
     "8835df9e707e40a28a507b0ac4eda014": {
      "model_module": "@jupyter-widgets/base",
      "model_module_version": "1.2.0",
      "model_name": "LayoutModel",
      "state": {}
     },
     "8838f339a4ff4b28af1903d61f8e4061": {
      "model_module": "@jupyter-widgets/controls",
      "model_module_version": "1.5.0",
      "model_name": "HTMLModel",
      "state": {
       "layout": "IPY_MODEL_436abba68c224f78a3f961a9cb727c96",
       "style": "IPY_MODEL_db4f5a3f5ff243058fb50d81974dad8a",
       "value": " 10800/10800 [07:38&lt;00:00, 31.97it/s]"
      }
     },
     "88485c3020604115be40819f8d1a93f6": {
      "model_module": "@jupyter-widgets/base",
      "model_module_version": "1.2.0",
      "model_name": "LayoutModel",
      "state": {}
     },
     "889c223c63da4f2ab290b949ed7c1e4f": {
      "model_module": "@jupyter-widgets/base",
      "model_module_version": "1.2.0",
      "model_name": "LayoutModel",
      "state": {}
     },
     "88abe20bd9cd4cb39a298fcb1439ef9c": {
      "model_module": "@jupyter-widgets/base",
      "model_module_version": "1.2.0",
      "model_name": "LayoutModel",
      "state": {}
     },
     "890b002e4fbe48d19784566fe3638fb1": {
      "model_module": "@jupyter-widgets/controls",
      "model_module_version": "1.5.0",
      "model_name": "DescriptionStyleModel",
      "state": {
       "description_width": ""
      }
     },
     "89240dba969a4870b75c941a9fefa9b2": {
      "model_module": "@jupyter-widgets/base",
      "model_module_version": "1.2.0",
      "model_name": "LayoutModel",
      "state": {}
     },
     "892d70372db64ca6b89805b83c4b9cb0": {
      "model_module": "@jupyter-widgets/controls",
      "model_module_version": "1.5.0",
      "model_name": "ProgressStyleModel",
      "state": {
       "description_width": ""
      }
     },
     "89451e8b7dc44a6eb8cf45fa664c373f": {
      "model_module": "@jupyter-widgets/base",
      "model_module_version": "1.2.0",
      "model_name": "LayoutModel",
      "state": {}
     },
     "8964c6ad58ab4e6e9df4430c6c5b4581": {
      "model_module": "@jupyter-widgets/base",
      "model_module_version": "1.2.0",
      "model_name": "LayoutModel",
      "state": {}
     },
     "897d8da7754f4aea94d0ecb18794732a": {
      "model_module": "@jupyter-widgets/controls",
      "model_module_version": "1.5.0",
      "model_name": "HBoxModel",
      "state": {
       "children": [
        "IPY_MODEL_0b65d159126d405698b11d6dd2149c35",
        "IPY_MODEL_5df2eca09fdd4f4b8c4c63eed536a8f4",
        "IPY_MODEL_fe0db2575b614891bc97a46464eaec9a"
       ],
       "layout": "IPY_MODEL_2e2a5698782b46beb138960541afa5e3"
      }
     },
     "89c689c379a04fbc8f90461b8e0fab0e": {
      "model_module": "@jupyter-widgets/controls",
      "model_module_version": "1.5.0",
      "model_name": "FloatProgressModel",
      "state": {
       "bar_style": "success",
       "layout": "IPY_MODEL_9718eb6a563a4bf89840849b73bea362",
       "max": 4800,
       "style": "IPY_MODEL_038de0fb423942ebb275fe05850dc6ad",
       "value": 4800
      }
     },
     "89e49091c86c4a779314e26646ac27d0": {
      "model_module": "@jupyter-widgets/base",
      "model_module_version": "1.2.0",
      "model_name": "LayoutModel",
      "state": {}
     },
     "8a16409f6a6442fdb5aca2f141fc53ec": {
      "model_module": "@jupyter-widgets/controls",
      "model_module_version": "1.5.0",
      "model_name": "DescriptionStyleModel",
      "state": {
       "description_width": ""
      }
     },
     "8a19f470a31c4e51bee7c43be82a90aa": {
      "model_module": "@jupyter-widgets/controls",
      "model_module_version": "1.5.0",
      "model_name": "DescriptionStyleModel",
      "state": {
       "description_width": ""
      }
     },
     "8a1b1984280c4831b53ef35ed5623714": {
      "model_module": "@jupyter-widgets/controls",
      "model_module_version": "1.5.0",
      "model_name": "FloatProgressModel",
      "state": {
       "bar_style": "success",
       "layout": "IPY_MODEL_bb3afb91a97f426eb139f13b59a5691a",
       "max": 3600,
       "style": "IPY_MODEL_4c15c044c63944f9b8db6eda9be0c677",
       "value": 3600
      }
     },
     "8a476c3a606a43018dfeb6f7996166b1": {
      "model_module": "@jupyter-widgets/controls",
      "model_module_version": "1.5.0",
      "model_name": "HTMLModel",
      "state": {
       "layout": "IPY_MODEL_5695d646b9864875b611b4203d13cf75",
       "style": "IPY_MODEL_182869769fbd43d3b0c0b5d881a2f6ee",
       "value": " 1800/1800 [01:52&lt;00:00, 32.48it/s]"
      }
     },
     "8ab07d04f8274e438139101b1608a02e": {
      "model_module": "@jupyter-widgets/controls",
      "model_module_version": "1.5.0",
      "model_name": "HBoxModel",
      "state": {
       "children": [
        "IPY_MODEL_230cfd4a08714dcea122ed3c275d55d8",
        "IPY_MODEL_a794590eff26439891cd81f29bf83acb",
        "IPY_MODEL_09ec1a9323624a5cbaaa1426be7f53ed"
       ],
       "layout": "IPY_MODEL_0ae5fa3b3e584cee8736cd293de6bcb7"
      }
     },
     "8b2deef916d54e9b9b2b0df6bcbd8005": {
      "model_module": "@jupyter-widgets/base",
      "model_module_version": "1.2.0",
      "model_name": "LayoutModel",
      "state": {}
     },
     "8bc1afe201364f5ab2715a863f544194": {
      "model_module": "@jupyter-widgets/controls",
      "model_module_version": "1.5.0",
      "model_name": "HTMLModel",
      "state": {
       "layout": "IPY_MODEL_50b2d630943f445582abae3eedcd59a3",
       "style": "IPY_MODEL_0bbe10d23c09414fa5f9e54de93a4639",
       "value": " 3600/3600 [02:24&lt;00:00, 27.80it/s]"
      }
     },
     "8c1fd1d6e9964aba99554680b6ac011a": {
      "model_module": "@jupyter-widgets/base",
      "model_module_version": "1.2.0",
      "model_name": "LayoutModel",
      "state": {}
     },
     "8c891e78d4b64f2d8f1b3bef09e20789": {
      "model_module": "@jupyter-widgets/controls",
      "model_module_version": "1.5.0",
      "model_name": "DescriptionStyleModel",
      "state": {
       "description_width": ""
      }
     },
     "8c8fa9dac8374745b0b3b7fd32002cb3": {
      "model_module": "@jupyter-widgets/base",
      "model_module_version": "1.2.0",
      "model_name": "LayoutModel",
      "state": {}
     },
     "8d07b1cd9d164d949425c69f5b8d662f": {
      "model_module": "@jupyter-widgets/controls",
      "model_module_version": "1.5.0",
      "model_name": "DescriptionStyleModel",
      "state": {
       "description_width": ""
      }
     },
     "8d16fbc862634faca94128bc56cb30d7": {
      "model_module": "@jupyter-widgets/base",
      "model_module_version": "1.2.0",
      "model_name": "LayoutModel",
      "state": {}
     },
     "8d233f4688cc4d51b448ca34595bf79c": {
      "model_module": "@jupyter-widgets/base",
      "model_module_version": "1.2.0",
      "model_name": "LayoutModel",
      "state": {}
     },
     "8d3f560a9fb6424fafb12d012585b2dc": {
      "model_module": "@jupyter-widgets/controls",
      "model_module_version": "1.5.0",
      "model_name": "DescriptionStyleModel",
      "state": {
       "description_width": ""
      }
     },
     "8d5740626487450787912a0fe2bff927": {
      "model_module": "@jupyter-widgets/controls",
      "model_module_version": "1.5.0",
      "model_name": "FloatProgressModel",
      "state": {
       "bar_style": "success",
       "layout": "IPY_MODEL_18906a5aa6104dac89bbbc04d6e28251",
       "max": 4800,
       "style": "IPY_MODEL_e32967a42cc347f0acb754a8ed7d40a7",
       "value": 4800
      }
     },
     "8d7813a6b6c5478295a83ed23bfaf2f6": {
      "model_module": "@jupyter-widgets/base",
      "model_module_version": "1.2.0",
      "model_name": "LayoutModel",
      "state": {}
     },
     "8d86c7ff435d45679535335d7baea5a9": {
      "model_module": "@jupyter-widgets/base",
      "model_module_version": "1.2.0",
      "model_name": "LayoutModel",
      "state": {}
     },
     "8dda1666aea1471baf2afe3d245edcf8": {
      "model_module": "@jupyter-widgets/controls",
      "model_module_version": "1.5.0",
      "model_name": "DescriptionStyleModel",
      "state": {
       "description_width": ""
      }
     },
     "8e1eeb5e2fd444eb81e033f7551e1748": {
      "model_module": "@jupyter-widgets/controls",
      "model_module_version": "1.5.0",
      "model_name": "DescriptionStyleModel",
      "state": {
       "description_width": ""
      }
     },
     "8e33fc7c59d543c9a66ca597ac3f9944": {
      "model_module": "@jupyter-widgets/controls",
      "model_module_version": "1.5.0",
      "model_name": "DescriptionStyleModel",
      "state": {
       "description_width": ""
      }
     },
     "8e48ec2cd388434c98b8204836d28c1b": {
      "model_module": "@jupyter-widgets/base",
      "model_module_version": "1.2.0",
      "model_name": "LayoutModel",
      "state": {}
     },
     "8e669e296de942f3beee5dc74a5908eb": {
      "model_module": "@jupyter-widgets/controls",
      "model_module_version": "1.5.0",
      "model_name": "FloatProgressModel",
      "state": {
       "bar_style": "danger",
       "layout": "IPY_MODEL_e79f311e389d4e84adec01a62044d8d1",
       "max": 1800,
       "style": "IPY_MODEL_2eff36b881b543d5b1842a65d121db2a",
       "value": 100
      }
     },
     "8e796a6e0fa949a8bd71650400286339": {
      "model_module": "@jupyter-widgets/base",
      "model_module_version": "1.2.0",
      "model_name": "LayoutModel",
      "state": {}
     },
     "8e830e53db61455c9da3be555a6d4690": {
      "model_module": "@jupyter-widgets/controls",
      "model_module_version": "1.5.0",
      "model_name": "HBoxModel",
      "state": {
       "children": [
        "IPY_MODEL_e01463d8f0ce4c56a334f91cd9e307c7",
        "IPY_MODEL_69c963a90d6e49c18b69a0cdc90ef2cc",
        "IPY_MODEL_9a9db078bb794e4392261f77543a8896"
       ],
       "layout": "IPY_MODEL_3563bba29b95407aa9cbfb065fdc94da"
      }
     },
     "8ea0dd14a5db4841ad4ea579d18985d0": {
      "model_module": "@jupyter-widgets/controls",
      "model_module_version": "1.5.0",
      "model_name": "ProgressStyleModel",
      "state": {
       "description_width": ""
      }
     },
     "8ecd4e3ccdca4f4ab945019bd6cd107e": {
      "model_module": "@jupyter-widgets/controls",
      "model_module_version": "1.5.0",
      "model_name": "DescriptionStyleModel",
      "state": {
       "description_width": ""
      }
     },
     "8ede34b547f24d4982d23c5f2f4d4c43": {
      "model_module": "@jupyter-widgets/base",
      "model_module_version": "1.2.0",
      "model_name": "LayoutModel",
      "state": {}
     },
     "8efc09f827d54205aedfbd83508e6f67": {
      "model_module": "@jupyter-widgets/controls",
      "model_module_version": "1.5.0",
      "model_name": "ProgressStyleModel",
      "state": {
       "description_width": ""
      }
     },
     "8f0b4620fdf24b17ab80df9090170f36": {
      "model_module": "@jupyter-widgets/controls",
      "model_module_version": "1.5.0",
      "model_name": "DescriptionStyleModel",
      "state": {
       "description_width": ""
      }
     },
     "8f0e8d8149a844a2ab96f425f634c5c9": {
      "model_module": "@jupyter-widgets/controls",
      "model_module_version": "1.5.0",
      "model_name": "DescriptionStyleModel",
      "state": {
       "description_width": ""
      }
     },
     "8f1423fb3632473dac1aef366a756fb2": {
      "model_module": "@jupyter-widgets/controls",
      "model_module_version": "1.5.0",
      "model_name": "FloatProgressModel",
      "state": {
       "bar_style": "success",
       "layout": "IPY_MODEL_eaa117fa363f4c838ef3a6955e20b007",
       "max": 3600,
       "style": "IPY_MODEL_e119a5c62eaa4fff8142cf17f2d427ed",
       "value": 3600
      }
     },
     "8f594ccac0644a549cb3d243050d2433": {
      "model_module": "@jupyter-widgets/controls",
      "model_module_version": "1.5.0",
      "model_name": "FloatProgressModel",
      "state": {
       "bar_style": "success",
       "layout": "IPY_MODEL_10422dcfb5f74cf5a9546357aad2bd11",
       "max": 3600,
       "style": "IPY_MODEL_08547f1e8ba742ddb440ad77d4847057",
       "value": 3600
      }
     },
     "8f84b9ceeb6d4ed1915d9c11404dfdb6": {
      "model_module": "@jupyter-widgets/controls",
      "model_module_version": "1.5.0",
      "model_name": "ProgressStyleModel",
      "state": {
       "description_width": ""
      }
     },
     "8f96222692804ab7a48cb18b79240ac3": {
      "model_module": "@jupyter-widgets/controls",
      "model_module_version": "1.5.0",
      "model_name": "HTMLModel",
      "state": {
       "layout": "IPY_MODEL_0bfcaa2a4dd948c79133cbc3cb3bb5b4",
       "style": "IPY_MODEL_731cf5f780df4660be891033b99a50d0",
       "value": " 1800/1800 [01:03&lt;00:00, 27.18it/s]"
      }
     },
     "8f9819c0aee84b0bb67025786c809609": {
      "model_module": "@jupyter-widgets/base",
      "model_module_version": "1.2.0",
      "model_name": "LayoutModel",
      "state": {}
     },
     "8f9cd41155e44aaf8a6f6da4379408df": {
      "model_module": "@jupyter-widgets/controls",
      "model_module_version": "1.5.0",
      "model_name": "HTMLModel",
      "state": {
       "layout": "IPY_MODEL_230fe8d8befc4464ae16934c23aa76d5",
       "style": "IPY_MODEL_a49764c5c5654a34aa41461464012946",
       "value": " 1800/1800 [01:02&lt;00:00, 31.22it/s]"
      }
     },
     "8ffe25aa0b6d4b1b953e6605dbb3a5ee": {
      "model_module": "@jupyter-widgets/controls",
      "model_module_version": "1.5.0",
      "model_name": "ProgressStyleModel",
      "state": {
       "description_width": ""
      }
     },
     "90bf35baa7ad4ec088ecd026088d5c19": {
      "model_module": "@jupyter-widgets/controls",
      "model_module_version": "1.5.0",
      "model_name": "HBoxModel",
      "state": {
       "children": [
        "IPY_MODEL_6580d26274e34cf484159a6d2fd45341",
        "IPY_MODEL_3efac2aa24ec43f7949c7882319e2cb5",
        "IPY_MODEL_379c8c68c4ab4b54bc0682b2c98ec4bf"
       ],
       "layout": "IPY_MODEL_055b24d5785942339351f377e3966382"
      }
     },
     "916c4b35c5164170bd29e7b1e579b1bc": {
      "model_module": "@jupyter-widgets/controls",
      "model_module_version": "1.5.0",
      "model_name": "HTMLModel",
      "state": {
       "layout": "IPY_MODEL_e3b45d7365284e20a1a18fad9bd76e6f",
       "style": "IPY_MODEL_a6208962b0894c67ab94266585024fe2",
       "value": "100%"
      }
     },
     "9187e5b2bc304eac9c20d62bdd2150c3": {
      "model_module": "@jupyter-widgets/controls",
      "model_module_version": "1.5.0",
      "model_name": "FloatProgressModel",
      "state": {
       "bar_style": "success",
       "layout": "IPY_MODEL_d8c3a39e1e5244679eb716f382be274a",
       "max": 10800,
       "style": "IPY_MODEL_892d70372db64ca6b89805b83c4b9cb0",
       "value": 10800
      }
     },
     "91bed4299a0949d2840a879843631db7": {
      "model_module": "@jupyter-widgets/base",
      "model_module_version": "1.2.0",
      "model_name": "LayoutModel",
      "state": {}
     },
     "9253d6a06dae4f7db445426a6d82f006": {
      "model_module": "@jupyter-widgets/controls",
      "model_module_version": "1.5.0",
      "model_name": "HTMLModel",
      "state": {
       "layout": "IPY_MODEL_ce32ccbb1d5d47058c1edc3567bd394f",
       "style": "IPY_MODEL_1ac15b449897413bbe39cea9683b9cd0",
       "value": "100%"
      }
     },
     "925f6877c66744de8489200dfd9d834a": {
      "model_module": "@jupyter-widgets/base",
      "model_module_version": "1.2.0",
      "model_name": "LayoutModel",
      "state": {}
     },
     "926678cda8c6440c9a91fafcd766308b": {
      "model_module": "@jupyter-widgets/base",
      "model_module_version": "1.2.0",
      "model_name": "LayoutModel",
      "state": {}
     },
     "92672e6bcf1b49a68be72d4c414f0628": {
      "model_module": "@jupyter-widgets/base",
      "model_module_version": "1.2.0",
      "model_name": "LayoutModel",
      "state": {}
     },
     "927fcb2d083c47e2b2885d7176dbd0b8": {
      "model_module": "@jupyter-widgets/controls",
      "model_module_version": "1.5.0",
      "model_name": "HBoxModel",
      "state": {
       "children": [
        "IPY_MODEL_4cfc3d1f7fb34ad68ad4810ddf923e19",
        "IPY_MODEL_1ff6ce0e9b4043168027b6ba36fa2eb0",
        "IPY_MODEL_9424dd78fef74bf1b71feb2adb5c7d4c"
       ],
       "layout": "IPY_MODEL_95360247f4b942edb91aa09f25ea1958"
      }
     },
     "92f575fa25df4277b200e4ec70eb81dd": {
      "model_module": "@jupyter-widgets/controls",
      "model_module_version": "1.5.0",
      "model_name": "HTMLModel",
      "state": {
       "layout": "IPY_MODEL_546fec88217849319f0a3ddaf77e6ab4",
       "style": "IPY_MODEL_f1dafa37dfbb4886a2eb5cd4f77b06fb",
       "value": " 7200/7200 [04:54&lt;00:00, 30.80it/s]"
      }
     },
     "930c63182f2d4b8381bdd4e6d968ede9": {
      "model_module": "@jupyter-widgets/controls",
      "model_module_version": "1.5.0",
      "model_name": "DescriptionStyleModel",
      "state": {
       "description_width": ""
      }
     },
     "93a23b90ce294c4ab24fc54eef16f8f7": {
      "model_module": "@jupyter-widgets/controls",
      "model_module_version": "1.5.0",
      "model_name": "DescriptionStyleModel",
      "state": {
       "description_width": ""
      }
     },
     "93accc2b57fa4ec48ecf884480489995": {
      "model_module": "@jupyter-widgets/base",
      "model_module_version": "1.2.0",
      "model_name": "LayoutModel",
      "state": {}
     },
     "9406d68c6482426bbb0f764f5db311a0": {
      "model_module": "@jupyter-widgets/base",
      "model_module_version": "1.2.0",
      "model_name": "LayoutModel",
      "state": {}
     },
     "9424dd78fef74bf1b71feb2adb5c7d4c": {
      "model_module": "@jupyter-widgets/controls",
      "model_module_version": "1.5.0",
      "model_name": "HTMLModel",
      "state": {
       "layout": "IPY_MODEL_ac55055beba748e2970bad2f6b75fb7e",
       "style": "IPY_MODEL_49a4088271be48c49ba3536d4b786dda",
       "value": " 3600/3600 [02:12&lt;00:00, 23.34it/s]"
      }
     },
     "94368a4091434e59bfdb96d40908142e": {
      "model_module": "@jupyter-widgets/controls",
      "model_module_version": "1.5.0",
      "model_name": "HBoxModel",
      "state": {
       "children": [
        "IPY_MODEL_2c405c35bbeb448cae79337a1f955224",
        "IPY_MODEL_3cd5d0723a294fed95c3d86a6c0118a0",
        "IPY_MODEL_754161a01cc2495584d7656e0b4255a7"
       ],
       "layout": "IPY_MODEL_411009c506ef46be92d66b687798e29e"
      }
     },
     "94b943721324439b9968c087e8e5d8bb": {
      "model_module": "@jupyter-widgets/controls",
      "model_module_version": "1.5.0",
      "model_name": "HBoxModel",
      "state": {
       "children": [
        "IPY_MODEL_d7659ba88c6e45f9a1700560159115c0",
        "IPY_MODEL_05c6db95a6664ac49f6b7aa8820a837c",
        "IPY_MODEL_40b74b82adc34cb6ad14d9d6620e0efb"
       ],
       "layout": "IPY_MODEL_26de005dc90c41afbf5cceefc6a1dafc"
      }
     },
     "94e9807d6223434589194213a3a39bae": {
      "model_module": "@jupyter-widgets/controls",
      "model_module_version": "1.5.0",
      "model_name": "DescriptionStyleModel",
      "state": {
       "description_width": ""
      }
     },
     "94ebe7a7f1e1489480f88433dc32db0f": {
      "model_module": "@jupyter-widgets/controls",
      "model_module_version": "1.5.0",
      "model_name": "HTMLModel",
      "state": {
       "layout": "IPY_MODEL_9a23d3455c3d4ad9967283479ee1f5bd",
       "style": "IPY_MODEL_e375884249894a98a01e3687cc12d29d",
       "value": " 0/4500 [00:00&lt;?, ?it/s]"
      }
     },
     "9534068cfce245ba9031d135e5123519": {
      "model_module": "@jupyter-widgets/base",
      "model_module_version": "1.2.0",
      "model_name": "LayoutModel",
      "state": {}
     },
     "95360247f4b942edb91aa09f25ea1958": {
      "model_module": "@jupyter-widgets/base",
      "model_module_version": "1.2.0",
      "model_name": "LayoutModel",
      "state": {}
     },
     "955d651cf2804df5a171cedb1fdc0d53": {
      "model_module": "@jupyter-widgets/controls",
      "model_module_version": "1.5.0",
      "model_name": "HBoxModel",
      "state": {
       "children": [
        "IPY_MODEL_fed762cb0ff64013a47a1c47e43df2df",
        "IPY_MODEL_ef07539db65a49fcaa39b711639b282a",
        "IPY_MODEL_8a476c3a606a43018dfeb6f7996166b1"
       ],
       "layout": "IPY_MODEL_553fec3efd15462ca452dd5c747b28e2"
      }
     },
     "9593e8152fd848a694402c0d82cd64c1": {
      "model_module": "@jupyter-widgets/base",
      "model_module_version": "1.2.0",
      "model_name": "LayoutModel",
      "state": {}
     },
     "95a1a8c3f11740c89b94f5c88d5f14de": {
      "model_module": "@jupyter-widgets/controls",
      "model_module_version": "1.5.0",
      "model_name": "HTMLModel",
      "state": {
       "layout": "IPY_MODEL_77a5ae1f567e4f68873eca86fb5f8c7e",
       "style": "IPY_MODEL_6b9d691b248444a1bad7ae6b08fa57eb",
       "value": " 1800/1800 [00:59&lt;00:00, 30.87it/s]"
      }
     },
     "95aff0c57f6d425d87f4f82acbd151df": {
      "model_module": "@jupyter-widgets/controls",
      "model_module_version": "1.5.0",
      "model_name": "HTMLModel",
      "state": {
       "layout": "IPY_MODEL_e91a79dffecf4c389da8413875ada46e",
       "style": "IPY_MODEL_182aa64a7e854d7d9b0d425f4634a8c6",
       "value": "100%"
      }
     },
     "95d0feabc142477dbb2e4859ec89cf50": {
      "model_module": "@jupyter-widgets/base",
      "model_module_version": "1.2.0",
      "model_name": "LayoutModel",
      "state": {}
     },
     "9615a1ecb7d943f3aca709cb85e2af5c": {
      "model_module": "@jupyter-widgets/controls",
      "model_module_version": "1.5.0",
      "model_name": "DescriptionStyleModel",
      "state": {
       "description_width": ""
      }
     },
     "9689134737c84bb3b4b69a9161e8a04a": {
      "model_module": "@jupyter-widgets/base",
      "model_module_version": "1.2.0",
      "model_name": "LayoutModel",
      "state": {}
     },
     "96cedf695aaa4cabb3825065b0607dae": {
      "model_module": "@jupyter-widgets/controls",
      "model_module_version": "1.5.0",
      "model_name": "HBoxModel",
      "state": {
       "children": [
        "IPY_MODEL_577f23f46a204da7a208e47b8508e09e",
        "IPY_MODEL_d17b883530424de791a460978e1eabc3",
        "IPY_MODEL_94ebe7a7f1e1489480f88433dc32db0f"
       ],
       "layout": "IPY_MODEL_473aabfb865c4b93b44ec442edb32dc7"
      }
     },
     "96dd2d7c9ef5421baef75c3d34983794": {
      "model_module": "@jupyter-widgets/controls",
      "model_module_version": "1.5.0",
      "model_name": "ProgressStyleModel",
      "state": {
       "description_width": ""
      }
     },
     "96e84cb87e5d427592713a57cc0dd953": {
      "model_module": "@jupyter-widgets/controls",
      "model_module_version": "1.5.0",
      "model_name": "ProgressStyleModel",
      "state": {
       "description_width": ""
      }
     },
     "96f3bb7b958543978205e95de347de6c": {
      "model_module": "@jupyter-widgets/controls",
      "model_module_version": "1.5.0",
      "model_name": "DescriptionStyleModel",
      "state": {
       "description_width": ""
      }
     },
     "9718eb6a563a4bf89840849b73bea362": {
      "model_module": "@jupyter-widgets/base",
      "model_module_version": "1.2.0",
      "model_name": "LayoutModel",
      "state": {}
     },
     "974127589f6c49169e17418463a600b5": {
      "model_module": "@jupyter-widgets/controls",
      "model_module_version": "1.5.0",
      "model_name": "HTMLModel",
      "state": {
       "layout": "IPY_MODEL_361104c0535540fd8d69f1aa84f0f5f7",
       "style": "IPY_MODEL_208b7503fd4644348956c6ce278e8dc8",
       "value": " 1800/1800 [00:58&lt;00:00, 31.70it/s]"
      }
     },
     "97d35fcfb6ca4e72a7d15a155d97fd66": {
      "model_module": "@jupyter-widgets/base",
      "model_module_version": "1.2.0",
      "model_name": "LayoutModel",
      "state": {}
     },
     "97dd9e4e34524ba29e27dddb8f03d693": {
      "model_module": "@jupyter-widgets/controls",
      "model_module_version": "1.5.0",
      "model_name": "FloatProgressModel",
      "state": {
       "bar_style": "success",
       "layout": "IPY_MODEL_b6c2e05228c64d7f88ebd357d7b316c9",
       "max": 11,
       "style": "IPY_MODEL_bdf2c1eeeb5c41d1b0c4f0fe26726207",
       "value": 11
      }
     },
     "97e793ee139541e885961620a9577b68": {
      "model_module": "@jupyter-widgets/controls",
      "model_module_version": "1.5.0",
      "model_name": "HTMLModel",
      "state": {
       "layout": "IPY_MODEL_ff02ffc8e1e041ccbca7bedb4d6665a3",
       "style": "IPY_MODEL_719c26fecb4943a7bbf64d3170da5c9f",
       "value": "100%"
      }
     },
     "9846e921714841249d77ba3fffa45327": {
      "model_module": "@jupyter-widgets/base",
      "model_module_version": "1.2.0",
      "model_name": "LayoutModel",
      "state": {}
     },
     "98aafa41a29547b6a87d00c5f5ff79fd": {
      "model_module": "@jupyter-widgets/base",
      "model_module_version": "1.2.0",
      "model_name": "LayoutModel",
      "state": {}
     },
     "98e66edf518e482fbbb0326e2001e004": {
      "model_module": "@jupyter-widgets/controls",
      "model_module_version": "1.5.0",
      "model_name": "DescriptionStyleModel",
      "state": {
       "description_width": ""
      }
     },
     "99161799866b48e695eb2093ffc0c65a": {
      "model_module": "@jupyter-widgets/base",
      "model_module_version": "1.2.0",
      "model_name": "LayoutModel",
      "state": {}
     },
     "9937f4c8e50045cd9808072b8ff4d131": {
      "model_module": "@jupyter-widgets/base",
      "model_module_version": "1.2.0",
      "model_name": "LayoutModel",
      "state": {}
     },
     "996c7398791743b390e63b73608e67b5": {
      "model_module": "@jupyter-widgets/controls",
      "model_module_version": "1.5.0",
      "model_name": "ProgressStyleModel",
      "state": {
       "description_width": ""
      }
     },
     "999540d56a524133acd79353d9a8079e": {
      "model_module": "@jupyter-widgets/base",
      "model_module_version": "1.2.0",
      "model_name": "LayoutModel",
      "state": {}
     },
     "99e57c77f76b4b5a95300a85435a561b": {
      "model_module": "@jupyter-widgets/base",
      "model_module_version": "1.2.0",
      "model_name": "LayoutModel",
      "state": {}
     },
     "9a23d3455c3d4ad9967283479ee1f5bd": {
      "model_module": "@jupyter-widgets/base",
      "model_module_version": "1.2.0",
      "model_name": "LayoutModel",
      "state": {}
     },
     "9a38f02a233546ceb2e64949be39b18d": {
      "model_module": "@jupyter-widgets/controls",
      "model_module_version": "1.5.0",
      "model_name": "HBoxModel",
      "state": {
       "children": [
        "IPY_MODEL_52212699055e427f9dfb421087b87704",
        "IPY_MODEL_38d94df61bcf42b6a6438692792a6b6f",
        "IPY_MODEL_854759020c004a9d83eb38809dad9705"
       ],
       "layout": "IPY_MODEL_5948e82b66e749a5821ceb0c79cb85da"
      }
     },
     "9a59c5ee08fe42c58e103c7b715301ed": {
      "model_module": "@jupyter-widgets/controls",
      "model_module_version": "1.5.0",
      "model_name": "HTMLModel",
      "state": {
       "layout": "IPY_MODEL_9f0e289fce1f4a499ed3efa8905ef52c",
       "style": "IPY_MODEL_6809b0cd045a437082127f1b7c2d30ac",
       "value": " 3600/3600 [01:56&lt;00:00, 31.51it/s]"
      }
     },
     "9a76cd233fc04195af6493ef0649adf3": {
      "model_module": "@jupyter-widgets/controls",
      "model_module_version": "1.5.0",
      "model_name": "FloatProgressModel",
      "state": {
       "bar_style": "success",
       "layout": "IPY_MODEL_d7d8fd89a72748f7b6222d6da1d10ba1",
       "max": 1800,
       "style": "IPY_MODEL_0d8e5f0d918f4554bc64fa651fdcfef0",
       "value": 1800
      }
     },
     "9a9db078bb794e4392261f77543a8896": {
      "model_module": "@jupyter-widgets/controls",
      "model_module_version": "1.5.0",
      "model_name": "HTMLModel",
      "state": {
       "layout": "IPY_MODEL_95d0feabc142477dbb2e4859ec89cf50",
       "style": "IPY_MODEL_c440e25ba4554932a7da730a756d536d",
       "value": " 0/11 [00:02&lt;?, ?it/s]"
      }
     },
     "9ab59861e6aa4e959ea0d2553bd174c5": {
      "model_module": "@jupyter-widgets/controls",
      "model_module_version": "1.5.0",
      "model_name": "HTMLModel",
      "state": {
       "layout": "IPY_MODEL_23b82d158c264e348f380cee14b92174",
       "style": "IPY_MODEL_3454abbb71414c918e60f18964aad092",
       "value": " 72%"
      }
     },
     "9ad00c52a6df4f8698a38f2d712ed536": {
      "model_module": "@jupyter-widgets/base",
      "model_module_version": "1.2.0",
      "model_name": "LayoutModel",
      "state": {}
     },
     "9b55a101e28642978135776a01ad0dbe": {
      "model_module": "@jupyter-widgets/controls",
      "model_module_version": "1.5.0",
      "model_name": "DescriptionStyleModel",
      "state": {
       "description_width": ""
      }
     },
     "9b79ac8fbb534769b2805f0753852d28": {
      "model_module": "@jupyter-widgets/base",
      "model_module_version": "1.2.0",
      "model_name": "LayoutModel",
      "state": {}
     },
     "9bbdce7f1f5445d3a7cc6ae4f7e037a9": {
      "model_module": "@jupyter-widgets/controls",
      "model_module_version": "1.5.0",
      "model_name": "DescriptionStyleModel",
      "state": {
       "description_width": ""
      }
     },
     "9bf4f3111d63478e8ccfeb2c83c668f1": {
      "model_module": "@jupyter-widgets/base",
      "model_module_version": "1.2.0",
      "model_name": "LayoutModel",
      "state": {}
     },
     "9bf5d50003b74eb0b4d02a322b430d6b": {
      "model_module": "@jupyter-widgets/base",
      "model_module_version": "1.2.0",
      "model_name": "LayoutModel",
      "state": {}
     },
     "9c2326a325f84c828b9288aa63c55ed6": {
      "model_module": "@jupyter-widgets/base",
      "model_module_version": "1.2.0",
      "model_name": "LayoutModel",
      "state": {}
     },
     "9c654564541040d2a6d342db7c766315": {
      "model_module": "@jupyter-widgets/base",
      "model_module_version": "1.2.0",
      "model_name": "LayoutModel",
      "state": {}
     },
     "9c8f2d6f42f34840b4baa2ae6dd006e1": {
      "model_module": "@jupyter-widgets/controls",
      "model_module_version": "1.5.0",
      "model_name": "ProgressStyleModel",
      "state": {
       "description_width": ""
      }
     },
     "9c9682d474344df79ddc91c885461e22": {
      "model_module": "@jupyter-widgets/controls",
      "model_module_version": "1.5.0",
      "model_name": "HTMLModel",
      "state": {
       "layout": "IPY_MODEL_a64aff5d3e47472a92ef2ab5cc452c5c",
       "style": "IPY_MODEL_ce1a005cd09747ea8d8342c4909a5764",
       "value": "  0%"
      }
     },
     "9cec12c7f7544e37b6fed9f053a3a586": {
      "model_module": "@jupyter-widgets/base",
      "model_module_version": "1.2.0",
      "model_name": "LayoutModel",
      "state": {}
     },
     "9cf02db065b24598b0e9a969dfbb0af7": {
      "model_module": "@jupyter-widgets/controls",
      "model_module_version": "1.5.0",
      "model_name": "HTMLModel",
      "state": {
       "layout": "IPY_MODEL_d6aa346a55894c0c9c79dd40a9d57db4",
       "style": "IPY_MODEL_3123ff9261ca43c2abc838adc98c3adb",
       "value": " 4800/4800 [03:24&lt;00:00, 30.11it/s]"
      }
     },
     "9d0e2d3438054a45960768d2b9e99be2": {
      "model_module": "@jupyter-widgets/controls",
      "model_module_version": "1.5.0",
      "model_name": "HTMLModel",
      "state": {
       "layout": "IPY_MODEL_726a133cbf8d427b9936f08cff106302",
       "style": "IPY_MODEL_521ad58d27f84923be43af74d543692e",
       "value": " 1800/1800 [00:58&lt;00:00, 26.15it/s]"
      }
     },
     "9d5e4d87193247f6bc8184b73468777f": {
      "model_module": "@jupyter-widgets/controls",
      "model_module_version": "1.5.0",
      "model_name": "HTMLModel",
      "state": {
       "layout": "IPY_MODEL_286c1e7db8ba463fb02413e7cbff5bc0",
       "style": "IPY_MODEL_69e5f17eba79499e8ecf28c114e57190",
       "value": " 3600/3600 [01:54&lt;00:00, 31.54it/s]"
      }
     },
     "9d685c6c34f24b9ab0987cfee5938632": {
      "model_module": "@jupyter-widgets/controls",
      "model_module_version": "1.5.0",
      "model_name": "HTMLModel",
      "state": {
       "layout": "IPY_MODEL_8638059fcaba49fb98fa356d6a2c0788",
       "style": "IPY_MODEL_a3d74c88516b4cf8aea7a86de289b5b7",
       "value": " 11/11 [00:06&lt;00:00,  1.77it/s]"
      }
     },
     "9dbc318d78bb4adeb93d970325a7bac3": {
      "model_module": "@jupyter-widgets/controls",
      "model_module_version": "1.5.0",
      "model_name": "HTMLModel",
      "state": {
       "layout": "IPY_MODEL_4ee316432bae4a4bb78ceabbcf3e0e0a",
       "style": "IPY_MODEL_bbe537462703473bb103f1993e3dcec8",
       "value": " 3600/3600 [02:09&lt;00:00, 29.03it/s]"
      }
     },
     "9dfae784662043f0bd1611baeb629021": {
      "model_module": "@jupyter-widgets/controls",
      "model_module_version": "1.5.0",
      "model_name": "DescriptionStyleModel",
      "state": {
       "description_width": ""
      }
     },
     "9e1fd93ff8044cbe9e6983944de4e94c": {
      "model_module": "@jupyter-widgets/base",
      "model_module_version": "1.2.0",
      "model_name": "LayoutModel",
      "state": {}
     },
     "9e358c0a51ed47038a7eb39be1f108a4": {
      "model_module": "@jupyter-widgets/base",
      "model_module_version": "1.2.0",
      "model_name": "LayoutModel",
      "state": {}
     },
     "9e61b4e9837045308f4df527120f177a": {
      "model_module": "@jupyter-widgets/base",
      "model_module_version": "1.2.0",
      "model_name": "LayoutModel",
      "state": {}
     },
     "9e6e872d14af48dc938f4106b7d239ae": {
      "model_module": "@jupyter-widgets/controls",
      "model_module_version": "1.5.0",
      "model_name": "HTMLModel",
      "state": {
       "layout": "IPY_MODEL_9c2326a325f84c828b9288aa63c55ed6",
       "style": "IPY_MODEL_daf34616328b4003b42dc928ae524ed4",
       "value": " 3600/3600 [02:39&lt;00:00, 23.17it/s]"
      }
     },
     "9ed977fc57134e43ad08748a3fadaabf": {
      "model_module": "@jupyter-widgets/controls",
      "model_module_version": "1.5.0",
      "model_name": "DescriptionStyleModel",
      "state": {
       "description_width": ""
      }
     },
     "9ef705f3cf84461cb81ed7d08cd0a328": {
      "model_module": "@jupyter-widgets/controls",
      "model_module_version": "1.5.0",
      "model_name": "FloatProgressModel",
      "state": {
       "layout": "IPY_MODEL_cdc5294d5d0e412f95aeb43c0a2f85f5",
       "max": 50,
       "style": "IPY_MODEL_49303ebaecbe411e91f4a7715f7ffe0e"
      }
     },
     "9f085da319474dbaa386ff0b57d58fa7": {
      "model_module": "@jupyter-widgets/controls",
      "model_module_version": "1.5.0",
      "model_name": "ProgressStyleModel",
      "state": {
       "description_width": ""
      }
     },
     "9f0e289fce1f4a499ed3efa8905ef52c": {
      "model_module": "@jupyter-widgets/base",
      "model_module_version": "1.2.0",
      "model_name": "LayoutModel",
      "state": {}
     },
     "9f57e29533114becb088667aac642464": {
      "model_module": "@jupyter-widgets/controls",
      "model_module_version": "1.5.0",
      "model_name": "DescriptionStyleModel",
      "state": {
       "description_width": ""
      }
     },
     "9fabe14e5b064979828893a099b85852": {
      "model_module": "@jupyter-widgets/base",
      "model_module_version": "1.2.0",
      "model_name": "LayoutModel",
      "state": {}
     },
     "9fcf356461a444a2a7107989b6837d82": {
      "model_module": "@jupyter-widgets/controls",
      "model_module_version": "1.5.0",
      "model_name": "DescriptionStyleModel",
      "state": {
       "description_width": ""
      }
     },
     "a01b9b7253ad4d1688d18c461ab1a852": {
      "model_module": "@jupyter-widgets/base",
      "model_module_version": "1.2.0",
      "model_name": "LayoutModel",
      "state": {}
     },
     "a048af1db1f544dd88ae53b183352433": {
      "model_module": "@jupyter-widgets/controls",
      "model_module_version": "1.5.0",
      "model_name": "DescriptionStyleModel",
      "state": {
       "description_width": ""
      }
     },
     "a04fe63952c440c8ace6396a346b9672": {
      "model_module": "@jupyter-widgets/base",
      "model_module_version": "1.2.0",
      "model_name": "LayoutModel",
      "state": {}
     },
     "a0a893250a0d4be4819ac597f4eac8b0": {
      "model_module": "@jupyter-widgets/controls",
      "model_module_version": "1.5.0",
      "model_name": "DescriptionStyleModel",
      "state": {
       "description_width": ""
      }
     },
     "a0ccbb64d355439ab4d791d2f248d075": {
      "model_module": "@jupyter-widgets/base",
      "model_module_version": "1.2.0",
      "model_name": "LayoutModel",
      "state": {}
     },
     "a0d8a64f73e6456496e5bb60ca42ac13": {
      "model_module": "@jupyter-widgets/controls",
      "model_module_version": "1.5.0",
      "model_name": "FloatProgressModel",
      "state": {
       "bar_style": "success",
       "layout": "IPY_MODEL_673a623fd30241f7b604197d546652d9",
       "max": 11,
       "style": "IPY_MODEL_09bd513d51e74900adcc4163c0a9d997",
       "value": 11
      }
     },
     "a0fc0ddd13d743e9839b7e79678ad489": {
      "model_module": "@jupyter-widgets/controls",
      "model_module_version": "1.5.0",
      "model_name": "HBoxModel",
      "state": {
       "children": [
        "IPY_MODEL_469e28270e8a41d6a4410a006a9f14d3",
        "IPY_MODEL_ab2c2bccc5624a28a19dd82210a7a09f",
        "IPY_MODEL_045de7498e4e4aab81b1f2bad027efff"
       ],
       "layout": "IPY_MODEL_4ee177edc4ef4d21ab61bdc2efe55316"
      }
     },
     "a10a992372a64951b0ddb07801dc16b2": {
      "model_module": "@jupyter-widgets/controls",
      "model_module_version": "1.5.0",
      "model_name": "HBoxModel",
      "state": {
       "children": [
        "IPY_MODEL_f9f1dafa41bd4e8083c7eaf512ab0ca8",
        "IPY_MODEL_bd41b07a96c340ccbd141a21f91c05d8",
        "IPY_MODEL_739ddb73a1474fce8730e667586a2184"
       ],
       "layout": "IPY_MODEL_416f039ec82c49d89037413979f35678"
      }
     },
     "a10b2bc1a3994020b9a669afd2148907": {
      "model_module": "@jupyter-widgets/controls",
      "model_module_version": "1.5.0",
      "model_name": "HTMLModel",
      "state": {
       "layout": "IPY_MODEL_8106d0a37c2c4b78a2fa4049ee4fecb2",
       "style": "IPY_MODEL_94e9807d6223434589194213a3a39bae",
       "value": " 1800/1800 [00:57&lt;00:00, 32.78it/s]"
      }
     },
     "a12d46245b0c42869a3b966075eb635b": {
      "model_module": "@jupyter-widgets/base",
      "model_module_version": "1.2.0",
      "model_name": "LayoutModel",
      "state": {}
     },
     "a1d185cd06ee4b69ab1da02669308e89": {
      "model_module": "@jupyter-widgets/controls",
      "model_module_version": "1.5.0",
      "model_name": "ProgressStyleModel",
      "state": {
       "description_width": ""
      }
     },
     "a2004caf06d24941b28f7d63b3c0203e": {
      "model_module": "@jupyter-widgets/controls",
      "model_module_version": "1.5.0",
      "model_name": "HTMLModel",
      "state": {
       "layout": "IPY_MODEL_b7581b78d3c24c848a29a1177089cd6f",
       "style": "IPY_MODEL_82dcd433895e4105942481e945e88153",
       "value": " 1800/1800 [00:59&lt;00:00, 32.11it/s]"
      }
     },
     "a24283137cf74a4198dc4a20646b1ec9": {
      "model_module": "@jupyter-widgets/controls",
      "model_module_version": "1.5.0",
      "model_name": "ProgressStyleModel",
      "state": {
       "description_width": ""
      }
     },
     "a24e00cc09eb4392bae2ba70d9549894": {
      "model_module": "@jupyter-widgets/controls",
      "model_module_version": "1.5.0",
      "model_name": "DescriptionStyleModel",
      "state": {
       "description_width": ""
      }
     },
     "a25d771da7ad4417a7fdbe8dd33d3ba0": {
      "model_module": "@jupyter-widgets/controls",
      "model_module_version": "1.5.0",
      "model_name": "DescriptionStyleModel",
      "state": {
       "description_width": ""
      }
     },
     "a2d87a343eb3472880570d4ebd8e0bca": {
      "model_module": "@jupyter-widgets/controls",
      "model_module_version": "1.5.0",
      "model_name": "HTMLModel",
      "state": {
       "layout": "IPY_MODEL_eaefa09eed494092867fd6efe9939559",
       "style": "IPY_MODEL_ec0192d044b5427f953fd6208cddc968",
       "value": "  1%"
      }
     },
     "a2e96f3432c74585870000eff3191230": {
      "model_module": "@jupyter-widgets/controls",
      "model_module_version": "1.5.0",
      "model_name": "DescriptionStyleModel",
      "state": {
       "description_width": ""
      }
     },
     "a311558368a74e1aac7f1d42eed5ef3c": {
      "model_module": "@jupyter-widgets/base",
      "model_module_version": "1.2.0",
      "model_name": "LayoutModel",
      "state": {}
     },
     "a367218926514e6f84405999f91be198": {
      "model_module": "@jupyter-widgets/controls",
      "model_module_version": "1.5.0",
      "model_name": "HTMLModel",
      "state": {
       "layout": "IPY_MODEL_71631f6cafb14521b91472a06841d8ec",
       "style": "IPY_MODEL_930c63182f2d4b8381bdd4e6d968ede9",
       "value": "100%"
      }
     },
     "a394e58be05045bc89e09b0a053c2bcd": {
      "model_module": "@jupyter-widgets/controls",
      "model_module_version": "1.5.0",
      "model_name": "HBoxModel",
      "state": {
       "children": [
        "IPY_MODEL_60c43b6f644240dcb3df652388c3fb29",
        "IPY_MODEL_a5ce9c82188c4343bb88ccf034b13687",
        "IPY_MODEL_e5770026b1a34277a5c818e80c342f3c"
       ],
       "layout": "IPY_MODEL_0252c56ee4904b24a29cf0ec0b9bae5c"
      }
     },
     "a39a2853492b407289adc2519e67c39e": {
      "model_module": "@jupyter-widgets/base",
      "model_module_version": "1.2.0",
      "model_name": "LayoutModel",
      "state": {}
     },
     "a3a8b16b7fab4f71b171d84f05c5c65b": {
      "model_module": "@jupyter-widgets/controls",
      "model_module_version": "1.5.0",
      "model_name": "ProgressStyleModel",
      "state": {
       "description_width": ""
      }
     },
     "a3ac12277a1546379c203805ed1a4e82": {
      "model_module": "@jupyter-widgets/base",
      "model_module_version": "1.2.0",
      "model_name": "LayoutModel",
      "state": {}
     },
     "a3b4c86c3a44476e98fdc04082c05fa1": {
      "model_module": "@jupyter-widgets/controls",
      "model_module_version": "1.5.0",
      "model_name": "HBoxModel",
      "state": {
       "children": [
        "IPY_MODEL_2e913f00eb3f42ad899f4a391e5356a8",
        "IPY_MODEL_8f594ccac0644a549cb3d243050d2433",
        "IPY_MODEL_38e83867a7e540719cfdfceda38f26f2"
       ],
       "layout": "IPY_MODEL_387e6d62868e497f9e9d7f624a8f47b3"
      }
     },
     "a3c31dd902fd4efb85479508752c4310": {
      "model_module": "@jupyter-widgets/controls",
      "model_module_version": "1.5.0",
      "model_name": "HTMLModel",
      "state": {
       "layout": "IPY_MODEL_552289483d6047c2b18afee6918b0fc1",
       "style": "IPY_MODEL_3d99ad63ea824c15b3d0500e7c42c74e",
       "value": " 4500/4500 [10:09&lt;00:00,  8.94it/s]"
      }
     },
     "a3d74c88516b4cf8aea7a86de289b5b7": {
      "model_module": "@jupyter-widgets/controls",
      "model_module_version": "1.5.0",
      "model_name": "DescriptionStyleModel",
      "state": {
       "description_width": ""
      }
     },
     "a3ff0726faab4ed69bd534c5afffd93d": {
      "model_module": "@jupyter-widgets/controls",
      "model_module_version": "1.5.0",
      "model_name": "HTMLModel",
      "state": {
       "layout": "IPY_MODEL_fe0949a1363e4ec4a49d4dadfc2a2187",
       "style": "IPY_MODEL_bde6ec6bbf574a3d96cd74c5b6b58449",
       "value": " 3600/3600 [02:05&lt;00:00, 31.94it/s]"
      }
     },
     "a408122606c0454699ae073806f1ac23": {
      "model_module": "@jupyter-widgets/base",
      "model_module_version": "1.2.0",
      "model_name": "LayoutModel",
      "state": {}
     },
     "a4317bd308fc4e609bdfc76810d05d17": {
      "model_module": "@jupyter-widgets/controls",
      "model_module_version": "1.5.0",
      "model_name": "ProgressStyleModel",
      "state": {
       "description_width": ""
      }
     },
     "a43f2bd61f9540b38594add476120da0": {
      "model_module": "@jupyter-widgets/controls",
      "model_module_version": "1.5.0",
      "model_name": "DescriptionStyleModel",
      "state": {
       "description_width": ""
      }
     },
     "a4595622cf2b45afa3c00691b02024a5": {
      "model_module": "@jupyter-widgets/controls",
      "model_module_version": "1.5.0",
      "model_name": "FloatProgressModel",
      "state": {
       "bar_style": "success",
       "layout": "IPY_MODEL_8329e2dd958e4e3888414bef5c41fb0c",
       "max": 1800,
       "style": "IPY_MODEL_e497f31e60664165bdcd63100aa0adbe",
       "value": 1800
      }
     },
     "a45e9b39caab4d76a9df19b28cf8a583": {
      "model_module": "@jupyter-widgets/controls",
      "model_module_version": "1.5.0",
      "model_name": "HTMLModel",
      "state": {
       "layout": "IPY_MODEL_3e88e0267d22410b88170cde3af0ef8c",
       "style": "IPY_MODEL_96f3bb7b958543978205e95de347de6c",
       "value": "100%"
      }
     },
     "a45fde789eca4c2e9f62efb8c40bab6e": {
      "model_module": "@jupyter-widgets/base",
      "model_module_version": "1.2.0",
      "model_name": "LayoutModel",
      "state": {}
     },
     "a49764c5c5654a34aa41461464012946": {
      "model_module": "@jupyter-widgets/controls",
      "model_module_version": "1.5.0",
      "model_name": "DescriptionStyleModel",
      "state": {
       "description_width": ""
      }
     },
     "a4b3940d95e84dd1884805ace852660c": {
      "model_module": "@jupyter-widgets/controls",
      "model_module_version": "1.5.0",
      "model_name": "DescriptionStyleModel",
      "state": {
       "description_width": ""
      }
     },
     "a502c8c5a22947a7bc6291b927bb542b": {
      "model_module": "@jupyter-widgets/base",
      "model_module_version": "1.2.0",
      "model_name": "LayoutModel",
      "state": {}
     },
     "a53cd3efb07249ddb5fbc02dfc9fed33": {
      "model_module": "@jupyter-widgets/controls",
      "model_module_version": "1.5.0",
      "model_name": "DescriptionStyleModel",
      "state": {
       "description_width": ""
      }
     },
     "a5607920d1374012be94867a7c482e76": {
      "model_module": "@jupyter-widgets/controls",
      "model_module_version": "1.5.0",
      "model_name": "DescriptionStyleModel",
      "state": {
       "description_width": ""
      }
     },
     "a570b2b4544b4d65a604e29ff15ac826": {
      "model_module": "@jupyter-widgets/controls",
      "model_module_version": "1.5.0",
      "model_name": "HTMLModel",
      "state": {
       "layout": "IPY_MODEL_da4cfc4de7584d4cb1b84fae4057b022",
       "style": "IPY_MODEL_bcf5d948394e4aa980037573c622f738",
       "value": "100%"
      }
     },
     "a577d916696c4a008f624e4faa532208": {
      "model_module": "@jupyter-widgets/base",
      "model_module_version": "1.2.0",
      "model_name": "LayoutModel",
      "state": {}
     },
     "a5869c57ae2d427c8d2b3b9554277212": {
      "model_module": "@jupyter-widgets/base",
      "model_module_version": "1.2.0",
      "model_name": "LayoutModel",
      "state": {}
     },
     "a5916ca398f54242a597fbcc4d1b0453": {
      "model_module": "@jupyter-widgets/base",
      "model_module_version": "1.2.0",
      "model_name": "LayoutModel",
      "state": {}
     },
     "a5bdd9e2254c40b48a89313f8b143f66": {
      "model_module": "@jupyter-widgets/controls",
      "model_module_version": "1.5.0",
      "model_name": "DescriptionStyleModel",
      "state": {
       "description_width": ""
      }
     },
     "a5ce9c82188c4343bb88ccf034b13687": {
      "model_module": "@jupyter-widgets/controls",
      "model_module_version": "1.5.0",
      "model_name": "FloatProgressModel",
      "state": {
       "bar_style": "danger",
       "layout": "IPY_MODEL_af924e06bacd4987b1bf64971ed635e4",
       "max": 4500,
       "style": "IPY_MODEL_d67a97cb850a4c9b896c558df91cb874"
      }
     },
     "a6208962b0894c67ab94266585024fe2": {
      "model_module": "@jupyter-widgets/controls",
      "model_module_version": "1.5.0",
      "model_name": "DescriptionStyleModel",
      "state": {
       "description_width": ""
      }
     },
     "a6467ad05f064bb0bef392fc1e264ea5": {
      "model_module": "@jupyter-widgets/controls",
      "model_module_version": "1.5.0",
      "model_name": "ProgressStyleModel",
      "state": {
       "description_width": ""
      }
     },
     "a64aff5d3e47472a92ef2ab5cc452c5c": {
      "model_module": "@jupyter-widgets/base",
      "model_module_version": "1.2.0",
      "model_name": "LayoutModel",
      "state": {}
     },
     "a69eeaecb28b4c538fe67de898e51a09": {
      "model_module": "@jupyter-widgets/controls",
      "model_module_version": "1.5.0",
      "model_name": "DescriptionStyleModel",
      "state": {
       "description_width": ""
      }
     },
     "a76174f5e72141e880a8a7a35d1673ca": {
      "model_module": "@jupyter-widgets/controls",
      "model_module_version": "1.5.0",
      "model_name": "DescriptionStyleModel",
      "state": {
       "description_width": ""
      }
     },
     "a794590eff26439891cd81f29bf83acb": {
      "model_module": "@jupyter-widgets/controls",
      "model_module_version": "1.5.0",
      "model_name": "FloatProgressModel",
      "state": {
       "bar_style": "success",
       "layout": "IPY_MODEL_b769756ed53140e68b145502bab6f22b",
       "max": 3600,
       "style": "IPY_MODEL_275609c7c0e54ab6b86b70c3a77e0f44",
       "value": 3600
      }
     },
     "a7ece2d3477941c492b4daa956ca93ee": {
      "model_module": "@jupyter-widgets/controls",
      "model_module_version": "1.5.0",
      "model_name": "HBoxModel",
      "state": {
       "children": [
        "IPY_MODEL_10eb523322744882a11fcc3e9e5fea4d",
        "IPY_MODEL_faaea8cdbe4d4507863610f4250ae738",
        "IPY_MODEL_d04246c010d44918ae28d08e41548301"
       ],
       "layout": "IPY_MODEL_186bb143e7b94a8f87f5a8b3846d4b97"
      }
     },
     "a8322e0355d643e28f76878aa3145d6f": {
      "model_module": "@jupyter-widgets/controls",
      "model_module_version": "1.5.0",
      "model_name": "ProgressStyleModel",
      "state": {
       "description_width": ""
      }
     },
     "a83a60bf98244caa826d8ff36ad70db4": {
      "model_module": "@jupyter-widgets/controls",
      "model_module_version": "1.5.0",
      "model_name": "HBoxModel",
      "state": {
       "children": [
        "IPY_MODEL_e374a1fce6b547bfbc9cdf97e1196190",
        "IPY_MODEL_3bc53cc2747a485e8206da8f9bb20092",
        "IPY_MODEL_8f96222692804ab7a48cb18b79240ac3"
       ],
       "layout": "IPY_MODEL_99e57c77f76b4b5a95300a85435a561b"
      }
     },
     "a84d316590484de097524c92cb93fba4": {
      "model_module": "@jupyter-widgets/base",
      "model_module_version": "1.2.0",
      "model_name": "LayoutModel",
      "state": {}
     },
     "a92f39896983476cab718472cc530018": {
      "model_module": "@jupyter-widgets/controls",
      "model_module_version": "1.5.0",
      "model_name": "HTMLModel",
      "state": {
       "layout": "IPY_MODEL_ae2679d12cb841388b337a856c9e4ab2",
       "style": "IPY_MODEL_2bf144973b424e10912a4853aa559685",
       "value": " 3600/3600 [02:31&lt;00:00, 23.42it/s]"
      }
     },
     "a96be312cd014f05b2e0ff2d4d718fd2": {
      "model_module": "@jupyter-widgets/controls",
      "model_module_version": "1.5.0",
      "model_name": "HBoxModel",
      "state": {
       "children": [
        "IPY_MODEL_5b6ad95c1e6c440cb370031c469c734b",
        "IPY_MODEL_f637741254e64d80add3fcf71c204463",
        "IPY_MODEL_f74aadf450d7491f967722376f15b5b9"
       ],
       "layout": "IPY_MODEL_bf638a81204a4b19bc9d938ffdb3cd2a"
      }
     },
     "a97ade8bef774195b1c417d2c3f77470": {
      "model_module": "@jupyter-widgets/base",
      "model_module_version": "1.2.0",
      "model_name": "LayoutModel",
      "state": {}
     },
     "a9943a8f529e4092b1919c938647d04c": {
      "model_module": "@jupyter-widgets/base",
      "model_module_version": "1.2.0",
      "model_name": "LayoutModel",
      "state": {}
     },
     "a9b113b106dd4f50976fb0720e30a191": {
      "model_module": "@jupyter-widgets/controls",
      "model_module_version": "1.5.0",
      "model_name": "HTMLModel",
      "state": {
       "layout": "IPY_MODEL_ca5d2e73a6b5483ebc63662f4cbe85e2",
       "style": "IPY_MODEL_ca62eb7aaac842dbbf5f1a2d2b5e7856",
       "value": "100%"
      }
     },
     "aa2a11802dc8427486dd161d50e304bd": {
      "model_module": "@jupyter-widgets/base",
      "model_module_version": "1.2.0",
      "model_name": "LayoutModel",
      "state": {}
     },
     "aa49c823da954cdaafdd7e7de1f26497": {
      "model_module": "@jupyter-widgets/base",
      "model_module_version": "1.2.0",
      "model_name": "LayoutModel",
      "state": {}
     },
     "aa5726f9788d44a190251b620f5d1b37": {
      "model_module": "@jupyter-widgets/base",
      "model_module_version": "1.2.0",
      "model_name": "LayoutModel",
      "state": {}
     },
     "aa8f7c9d26364a99a3652582500f42a6": {
      "model_module": "@jupyter-widgets/controls",
      "model_module_version": "1.5.0",
      "model_name": "DescriptionStyleModel",
      "state": {
       "description_width": ""
      }
     },
     "aa95e7a2501a4cf9926d0cec92b2f3e4": {
      "model_module": "@jupyter-widgets/controls",
      "model_module_version": "1.5.0",
      "model_name": "DescriptionStyleModel",
      "state": {
       "description_width": ""
      }
     },
     "aaa6e50b68e148149ba3b8068a84e6a2": {
      "model_module": "@jupyter-widgets/controls",
      "model_module_version": "1.5.0",
      "model_name": "HTMLModel",
      "state": {
       "layout": "IPY_MODEL_54beb96a73904fe6bb5b5a9631bab0ec",
       "style": "IPY_MODEL_527ab1bea6c44f8fb215241ca883f4f6",
       "value": " 3600/3600 [02:29&lt;00:00, 23.47it/s]"
      }
     },
     "aaae567b7c224edc92f70d7435795bbb": {
      "model_module": "@jupyter-widgets/controls",
      "model_module_version": "1.5.0",
      "model_name": "HBoxModel",
      "state": {
       "children": [
        "IPY_MODEL_21236d37dd154b46b5608e86ea120fc0",
        "IPY_MODEL_6eafe0c0675b466a819d460a02fb6df6",
        "IPY_MODEL_85a554c6c5a74d1da511859d3f81d4f7"
       ],
       "layout": "IPY_MODEL_4bf07583a49a4e63b027f437ea854dff"
      }
     },
     "ab2c2bccc5624a28a19dd82210a7a09f": {
      "model_module": "@jupyter-widgets/controls",
      "model_module_version": "1.5.0",
      "model_name": "FloatProgressModel",
      "state": {
       "bar_style": "success",
       "layout": "IPY_MODEL_c6145d3499fb49a9bf3c068ad0b2f8d3",
       "max": 3600,
       "style": "IPY_MODEL_ec9c310368334de686157f39b89aeadb",
       "value": 3600
      }
     },
     "ab3fd79a75804551a4242a1afdbb83f4": {
      "model_module": "@jupyter-widgets/controls",
      "model_module_version": "1.5.0",
      "model_name": "DescriptionStyleModel",
      "state": {
       "description_width": ""
      }
     },
     "abf56c0d4bb44a868d1f64161abff620": {
      "model_module": "@jupyter-widgets/base",
      "model_module_version": "1.2.0",
      "model_name": "LayoutModel",
      "state": {}
     },
     "abff86be16554cfe8941f547fe0dc49f": {
      "model_module": "@jupyter-widgets/controls",
      "model_module_version": "1.5.0",
      "model_name": "HTMLModel",
      "state": {
       "layout": "IPY_MODEL_dbaccdc929c641c5a29ef698fe06d568",
       "style": "IPY_MODEL_a43f2bd61f9540b38594add476120da0",
       "value": "100%"
      }
     },
     "ac55055beba748e2970bad2f6b75fb7e": {
      "model_module": "@jupyter-widgets/base",
      "model_module_version": "1.2.0",
      "model_name": "LayoutModel",
      "state": {}
     },
     "acfe6773d896462fbfc3dd74420d8bf9": {
      "model_module": "@jupyter-widgets/controls",
      "model_module_version": "1.5.0",
      "model_name": "ProgressStyleModel",
      "state": {
       "description_width": ""
      }
     },
     "ae214ad71e454811b042782de688b03e": {
      "model_module": "@jupyter-widgets/controls",
      "model_module_version": "1.5.0",
      "model_name": "HTMLModel",
      "state": {
       "layout": "IPY_MODEL_4cc1196e6b774e5b877b4789c1b3760d",
       "style": "IPY_MODEL_01bdf4aa37ba4849a5486a415cdfd1cc",
       "value": "100%"
      }
     },
     "ae2679d12cb841388b337a856c9e4ab2": {
      "model_module": "@jupyter-widgets/base",
      "model_module_version": "1.2.0",
      "model_name": "LayoutModel",
      "state": {}
     },
     "ae2c76ff99c04a1a979e6a5995f05532": {
      "model_module": "@jupyter-widgets/controls",
      "model_module_version": "1.5.0",
      "model_name": "ProgressStyleModel",
      "state": {
       "description_width": ""
      }
     },
     "ae9943368b6341bc8f183dfac7a1510a": {
      "model_module": "@jupyter-widgets/controls",
      "model_module_version": "1.5.0",
      "model_name": "DescriptionStyleModel",
      "state": {
       "description_width": ""
      }
     },
     "af07788a5db8417ca5849e23e0206ae2": {
      "model_module": "@jupyter-widgets/controls",
      "model_module_version": "1.5.0",
      "model_name": "DescriptionStyleModel",
      "state": {
       "description_width": ""
      }
     },
     "af283d586df04bedbee19fb1767881f1": {
      "model_module": "@jupyter-widgets/controls",
      "model_module_version": "1.5.0",
      "model_name": "HTMLModel",
      "state": {
       "layout": "IPY_MODEL_68a8e243bfdc426fbe7d0cdcbd91d31c",
       "style": "IPY_MODEL_1daccc3a3df6463fb69e7e9c1113a577",
       "value": "100%"
      }
     },
     "af68d4876f634c6599603e465fc6acab": {
      "model_module": "@jupyter-widgets/base",
      "model_module_version": "1.2.0",
      "model_name": "LayoutModel",
      "state": {}
     },
     "af924e06bacd4987b1bf64971ed635e4": {
      "model_module": "@jupyter-widgets/base",
      "model_module_version": "1.2.0",
      "model_name": "LayoutModel",
      "state": {}
     },
     "afe308672d99439db3f4c489de7e319d": {
      "model_module": "@jupyter-widgets/controls",
      "model_module_version": "1.5.0",
      "model_name": "FloatProgressModel",
      "state": {
       "bar_style": "success",
       "layout": "IPY_MODEL_c60cf0cd78074ec1b76677ddc113e364",
       "max": 10,
       "style": "IPY_MODEL_47854e93286e43169ecb8c5268f7a974",
       "value": 10
      }
     },
     "b033784a3c3f4b2d84cde1b496ba4eda": {
      "model_module": "@jupyter-widgets/controls",
      "model_module_version": "1.5.0",
      "model_name": "ProgressStyleModel",
      "state": {
       "description_width": ""
      }
     },
     "b07ed8baea1d43beb0fb43fbaec2dcd5": {
      "model_module": "@jupyter-widgets/base",
      "model_module_version": "1.2.0",
      "model_name": "LayoutModel",
      "state": {}
     },
     "b08323d273b44438b89c664c31d9f3e5": {
      "model_module": "@jupyter-widgets/controls",
      "model_module_version": "1.5.0",
      "model_name": "ProgressStyleModel",
      "state": {
       "description_width": ""
      }
     },
     "b09466e287244a0089f44f0d7e10329a": {
      "model_module": "@jupyter-widgets/controls",
      "model_module_version": "1.5.0",
      "model_name": "DescriptionStyleModel",
      "state": {
       "description_width": ""
      }
     },
     "b0f5d38b28de4ec2980f96f64f1d5d66": {
      "model_module": "@jupyter-widgets/controls",
      "model_module_version": "1.5.0",
      "model_name": "HTMLModel",
      "state": {
       "layout": "IPY_MODEL_be5e5440049e426b8be4f3370201dab8",
       "style": "IPY_MODEL_0741ce1f526a45eba56771b353b486d6",
       "value": "100%"
      }
     },
     "b100c33e061744d7acd02b7f1f17af0e": {
      "model_module": "@jupyter-widgets/controls",
      "model_module_version": "1.5.0",
      "model_name": "DescriptionStyleModel",
      "state": {
       "description_width": ""
      }
     },
     "b198630b7f11427dae13a1eee16e485b": {
      "model_module": "@jupyter-widgets/base",
      "model_module_version": "1.2.0",
      "model_name": "LayoutModel",
      "state": {}
     },
     "b1e39483a0f345eb82e1e172e8332797": {
      "model_module": "@jupyter-widgets/controls",
      "model_module_version": "1.5.0",
      "model_name": "ProgressStyleModel",
      "state": {
       "description_width": ""
      }
     },
     "b1f28762b9084b31b25fe62bfe2744af": {
      "model_module": "@jupyter-widgets/controls",
      "model_module_version": "1.5.0",
      "model_name": "HBoxModel",
      "state": {
       "children": [
        "IPY_MODEL_0bd15541069a4e49832dcffc8a94356d",
        "IPY_MODEL_eaf46f0135f24493858805881a709015",
        "IPY_MODEL_749c494766734912868e5ef65e675320"
       ],
       "layout": "IPY_MODEL_423f8bedec4e43628acb0756fc1a83b2"
      }
     },
     "b214d3923f894895a93c295a912c787f": {
      "model_module": "@jupyter-widgets/controls",
      "model_module_version": "1.5.0",
      "model_name": "HBoxModel",
      "state": {
       "children": [
        "IPY_MODEL_7749c3b5d00a44f0a3f7c2f50cc0e10d",
        "IPY_MODEL_8332f3422eb94593a18ea362f6fa72f0",
        "IPY_MODEL_5a92fb57af5a40d58cdcd0fab9eeb1e7"
       ],
       "layout": "IPY_MODEL_a9943a8f529e4092b1919c938647d04c"
      }
     },
     "b26807973d3e4aaaa50a5a4290d6ca29": {
      "model_module": "@jupyter-widgets/controls",
      "model_module_version": "1.5.0",
      "model_name": "ProgressStyleModel",
      "state": {
       "description_width": ""
      }
     },
     "b275652617064bdeaee54b1d1abf3a63": {
      "model_module": "@jupyter-widgets/controls",
      "model_module_version": "1.5.0",
      "model_name": "HTMLModel",
      "state": {
       "layout": "IPY_MODEL_9689134737c84bb3b4b69a9161e8a04a",
       "style": "IPY_MODEL_6d2e5e6a7c8d4ea28890b99f96370ed1",
       "value": " 1800/1800 [00:57&lt;00:00, 25.93it/s]"
      }
     },
     "b2d8c188855743e28ce1b825fbea9d0b": {
      "model_module": "@jupyter-widgets/base",
      "model_module_version": "1.2.0",
      "model_name": "LayoutModel",
      "state": {}
     },
     "b2fe19af07e14ef3ac17bf326b7c4d7d": {
      "model_module": "@jupyter-widgets/base",
      "model_module_version": "1.2.0",
      "model_name": "LayoutModel",
      "state": {}
     },
     "b30f737cf48a4697878c76c230ee6f56": {
      "model_module": "@jupyter-widgets/controls",
      "model_module_version": "1.5.0",
      "model_name": "DescriptionStyleModel",
      "state": {
       "description_width": ""
      }
     },
     "b31c10311ab84cacb5a469bfa633d487": {
      "model_module": "@jupyter-widgets/controls",
      "model_module_version": "1.5.0",
      "model_name": "DescriptionStyleModel",
      "state": {
       "description_width": ""
      }
     },
     "b31e81288f304a72bc0bece01ed62962": {
      "model_module": "@jupyter-widgets/controls",
      "model_module_version": "1.5.0",
      "model_name": "ProgressStyleModel",
      "state": {
       "description_width": ""
      }
     },
     "b345fdb9cae444c88fb379f25069c5d0": {
      "model_module": "@jupyter-widgets/base",
      "model_module_version": "1.2.0",
      "model_name": "LayoutModel",
      "state": {}
     },
     "b3bfc948a27e43fd8f7a535ffec644f9": {
      "model_module": "@jupyter-widgets/base",
      "model_module_version": "1.2.0",
      "model_name": "LayoutModel",
      "state": {}
     },
     "b3c53b894e9d40e29f246580aeea80f9": {
      "model_module": "@jupyter-widgets/base",
      "model_module_version": "1.2.0",
      "model_name": "LayoutModel",
      "state": {}
     },
     "b422ddd129b047ee84884f02552fba5f": {
      "model_module": "@jupyter-widgets/base",
      "model_module_version": "1.2.0",
      "model_name": "LayoutModel",
      "state": {}
     },
     "b4264914f90b4ede8eacf4a21ec62c15": {
      "model_module": "@jupyter-widgets/base",
      "model_module_version": "1.2.0",
      "model_name": "LayoutModel",
      "state": {}
     },
     "b45f5e1be9de4728bf742af4a14f35ef": {
      "model_module": "@jupyter-widgets/base",
      "model_module_version": "1.2.0",
      "model_name": "LayoutModel",
      "state": {}
     },
     "b496637a17b4485f90913fcd84cea072": {
      "model_module": "@jupyter-widgets/controls",
      "model_module_version": "1.5.0",
      "model_name": "DescriptionStyleModel",
      "state": {
       "description_width": ""
      }
     },
     "b4aca03ea83547d4acc5831de5d58c62": {
      "model_module": "@jupyter-widgets/controls",
      "model_module_version": "1.5.0",
      "model_name": "HBoxModel",
      "state": {
       "children": [
        "IPY_MODEL_1505f14de9df4b10bc92037f46f11c2c",
        "IPY_MODEL_9187e5b2bc304eac9c20d62bdd2150c3",
        "IPY_MODEL_6291951cc24e4dcc826c479adf13148f"
       ],
       "layout": "IPY_MODEL_6cae5a97d5b741a996f3d4eb7f8c956d"
      }
     },
     "b4c4e23a7a844ff389cd677884403cd5": {
      "model_module": "@jupyter-widgets/controls",
      "model_module_version": "1.5.0",
      "model_name": "DescriptionStyleModel",
      "state": {
       "description_width": ""
      }
     },
     "b4c7ed9aca7c46ab946463c12607d6cc": {
      "model_module": "@jupyter-widgets/base",
      "model_module_version": "1.2.0",
      "model_name": "LayoutModel",
      "state": {}
     },
     "b4f119d3f9fc41ce93677d2711cc330a": {
      "model_module": "@jupyter-widgets/controls",
      "model_module_version": "1.5.0",
      "model_name": "DescriptionStyleModel",
      "state": {
       "description_width": ""
      }
     },
     "b5283ae663ed40cb9afa7993f1733dfd": {
      "model_module": "@jupyter-widgets/controls",
      "model_module_version": "1.5.0",
      "model_name": "HTMLModel",
      "state": {
       "layout": "IPY_MODEL_f4697caeb16b4e84a587a491d11fa615",
       "style": "IPY_MODEL_0e7f68ba7a4a40ddaa3651663ca17093",
       "value": " 3600/3600 [02:20&lt;00:00, 22.79it/s]"
      }
     },
     "b56901c869c44c3e9dfa9b01db162696": {
      "model_module": "@jupyter-widgets/base",
      "model_module_version": "1.2.0",
      "model_name": "LayoutModel",
      "state": {}
     },
     "b5d9598e63164e51b36140a591ebe56d": {
      "model_module": "@jupyter-widgets/base",
      "model_module_version": "1.2.0",
      "model_name": "LayoutModel",
      "state": {}
     },
     "b5dfdd9635894361ac1a5ba69037d645": {
      "model_module": "@jupyter-widgets/controls",
      "model_module_version": "1.5.0",
      "model_name": "DescriptionStyleModel",
      "state": {
       "description_width": ""
      }
     },
     "b639a078fc384bbab73f657f9c56c35e": {
      "model_module": "@jupyter-widgets/controls",
      "model_module_version": "1.5.0",
      "model_name": "ProgressStyleModel",
      "state": {
       "description_width": ""
      }
     },
     "b64655b2204a46389278f913ab226424": {
      "model_module": "@jupyter-widgets/base",
      "model_module_version": "1.2.0",
      "model_name": "LayoutModel",
      "state": {}
     },
     "b64928735ce448598e381dd94f4893bb": {
      "model_module": "@jupyter-widgets/base",
      "model_module_version": "1.2.0",
      "model_name": "LayoutModel",
      "state": {}
     },
     "b662780b095e480aacd810fce17b7fa5": {
      "model_module": "@jupyter-widgets/controls",
      "model_module_version": "1.5.0",
      "model_name": "HBoxModel",
      "state": {
       "children": [
        "IPY_MODEL_fa803447797e4c44851ca33a88834404",
        "IPY_MODEL_8f1423fb3632473dac1aef366a756fb2",
        "IPY_MODEL_761e8bbfd4664f60894404b461e2b7a6"
       ],
       "layout": "IPY_MODEL_13995c7a68ea41e69d945595a4ed6905"
      }
     },
     "b66f6612423c4982a4aa3db3db6a8379": {
      "model_module": "@jupyter-widgets/base",
      "model_module_version": "1.2.0",
      "model_name": "LayoutModel",
      "state": {}
     },
     "b69d901a92b54bb0a8bbd39cfba2535f": {
      "model_module": "@jupyter-widgets/base",
      "model_module_version": "1.2.0",
      "model_name": "LayoutModel",
      "state": {}
     },
     "b6c10902223147d2935755abb9661c84": {
      "model_module": "@jupyter-widgets/controls",
      "model_module_version": "1.5.0",
      "model_name": "DescriptionStyleModel",
      "state": {
       "description_width": ""
      }
     },
     "b6c2e05228c64d7f88ebd357d7b316c9": {
      "model_module": "@jupyter-widgets/base",
      "model_module_version": "1.2.0",
      "model_name": "LayoutModel",
      "state": {}
     },
     "b6ddc992ee704964a30915bb8a7c15e4": {
      "model_module": "@jupyter-widgets/base",
      "model_module_version": "1.2.0",
      "model_name": "LayoutModel",
      "state": {}
     },
     "b6e5713ce224413ab92ed88348aaa267": {
      "model_module": "@jupyter-widgets/controls",
      "model_module_version": "1.5.0",
      "model_name": "ProgressStyleModel",
      "state": {
       "description_width": ""
      }
     },
     "b7062d46efb34a7eb879a715aef0f9db": {
      "model_module": "@jupyter-widgets/controls",
      "model_module_version": "1.5.0",
      "model_name": "DescriptionStyleModel",
      "state": {
       "description_width": ""
      }
     },
     "b70e6815dd8b4aa8946d4e1d85f939b8": {
      "model_module": "@jupyter-widgets/base",
      "model_module_version": "1.2.0",
      "model_name": "LayoutModel",
      "state": {}
     },
     "b72dc382fc1e42f19f3fac92dd2c88a2": {
      "model_module": "@jupyter-widgets/base",
      "model_module_version": "1.2.0",
      "model_name": "LayoutModel",
      "state": {}
     },
     "b73fe003c9e74b6f8e76c9c2ee06d0e1": {
      "model_module": "@jupyter-widgets/controls",
      "model_module_version": "1.5.0",
      "model_name": "ProgressStyleModel",
      "state": {
       "description_width": ""
      }
     },
     "b7581b78d3c24c848a29a1177089cd6f": {
      "model_module": "@jupyter-widgets/base",
      "model_module_version": "1.2.0",
      "model_name": "LayoutModel",
      "state": {}
     },
     "b769756ed53140e68b145502bab6f22b": {
      "model_module": "@jupyter-widgets/base",
      "model_module_version": "1.2.0",
      "model_name": "LayoutModel",
      "state": {}
     },
     "b81b21f272ee4cee856913e9528442a4": {
      "model_module": "@jupyter-widgets/base",
      "model_module_version": "1.2.0",
      "model_name": "LayoutModel",
      "state": {}
     },
     "b85bbb8b91b7453d8e19dc0782b1b425": {
      "model_module": "@jupyter-widgets/base",
      "model_module_version": "1.2.0",
      "model_name": "LayoutModel",
      "state": {}
     },
     "b888bb736ebb4e5d866354a5b25d78fb": {
      "model_module": "@jupyter-widgets/base",
      "model_module_version": "1.2.0",
      "model_name": "LayoutModel",
      "state": {}
     },
     "b8dda27fa9214d38a6ec213373fe2a48": {
      "model_module": "@jupyter-widgets/controls",
      "model_module_version": "1.5.0",
      "model_name": "ProgressStyleModel",
      "state": {
       "description_width": ""
      }
     },
     "b8e7aad041c243cdb8cca1953ce4f828": {
      "model_module": "@jupyter-widgets/base",
      "model_module_version": "1.2.0",
      "model_name": "LayoutModel",
      "state": {}
     },
     "b8f61f03e17a4a0b8331033a78f59521": {
      "model_module": "@jupyter-widgets/base",
      "model_module_version": "1.2.0",
      "model_name": "LayoutModel",
      "state": {}
     },
     "b9cb6d9ca60d4136877797163a75a17d": {
      "model_module": "@jupyter-widgets/base",
      "model_module_version": "1.2.0",
      "model_name": "LayoutModel",
      "state": {}
     },
     "b9fe6e7c1494479fbd46391365377203": {
      "model_module": "@jupyter-widgets/controls",
      "model_module_version": "1.5.0",
      "model_name": "ProgressStyleModel",
      "state": {
       "description_width": ""
      }
     },
     "ba4a3a3a980a4624957a698873cbe2dc": {
      "model_module": "@jupyter-widgets/base",
      "model_module_version": "1.2.0",
      "model_name": "LayoutModel",
      "state": {}
     },
     "bb3afb91a97f426eb139f13b59a5691a": {
      "model_module": "@jupyter-widgets/base",
      "model_module_version": "1.2.0",
      "model_name": "LayoutModel",
      "state": {}
     },
     "bb4c60a1182240fb890d806d9e15c821": {
      "model_module": "@jupyter-widgets/controls",
      "model_module_version": "1.5.0",
      "model_name": "HBoxModel",
      "state": {
       "children": [
        "IPY_MODEL_4a14eb2bf1974e48bad34b850b0283ed",
        "IPY_MODEL_ee7d6e703b494e7e8b76e04c7f1e4374",
        "IPY_MODEL_2add1eef50f54e60b2c5de90829e62ba"
       ],
       "layout": "IPY_MODEL_28a850b9d3904c1e881c25f3adc1128a"
      }
     },
     "bb69ae24bb23493ba908bce5271d7b87": {
      "model_module": "@jupyter-widgets/base",
      "model_module_version": "1.2.0",
      "model_name": "LayoutModel",
      "state": {}
     },
     "bb712a05c31344289fc9c0e0e9902f0c": {
      "model_module": "@jupyter-widgets/base",
      "model_module_version": "1.2.0",
      "model_name": "LayoutModel",
      "state": {}
     },
     "bb9cfbdc58d6485fac1053615a4003b9": {
      "model_module": "@jupyter-widgets/base",
      "model_module_version": "1.2.0",
      "model_name": "LayoutModel",
      "state": {}
     },
     "bbd99f001b964b4c8900e52348e32870": {
      "model_module": "@jupyter-widgets/controls",
      "model_module_version": "1.5.0",
      "model_name": "ProgressStyleModel",
      "state": {
       "description_width": ""
      }
     },
     "bbe537462703473bb103f1993e3dcec8": {
      "model_module": "@jupyter-widgets/controls",
      "model_module_version": "1.5.0",
      "model_name": "DescriptionStyleModel",
      "state": {
       "description_width": ""
      }
     },
     "bc14d45f4c0d4f098c6dd365a002cd32": {
      "model_module": "@jupyter-widgets/base",
      "model_module_version": "1.2.0",
      "model_name": "LayoutModel",
      "state": {}
     },
     "bc1cd6777b49465cb1dc08f95106f4c2": {
      "model_module": "@jupyter-widgets/controls",
      "model_module_version": "1.5.0",
      "model_name": "HBoxModel",
      "state": {
       "children": [
        "IPY_MODEL_044900d4847447b9a5e3b65cce77be08",
        "IPY_MODEL_d215b4a1ce6c4f3a8907b1b44fe29a5b",
        "IPY_MODEL_c0ab48577b3b4e24b1e475df69cb81f7"
       ],
       "layout": "IPY_MODEL_ed34959d8331419799a092cdfeaddeaa"
      }
     },
     "bc570ef7e3c144f08158c706473cb4b3": {
      "model_module": "@jupyter-widgets/base",
      "model_module_version": "1.2.0",
      "model_name": "LayoutModel",
      "state": {}
     },
     "bc5d9b1f340b4a6e8cee49723adbea2b": {
      "model_module": "@jupyter-widgets/controls",
      "model_module_version": "1.5.0",
      "model_name": "HBoxModel",
      "state": {
       "children": [
        "IPY_MODEL_d8691c8624cd4d08a2ffe3c1a5de190d",
        "IPY_MODEL_27b6aa40fe2243b9bb2fb1372f0cfb76",
        "IPY_MODEL_fdb23786286741a586555a81d610c9c2"
       ],
       "layout": "IPY_MODEL_531897edde7d4acb91f159196a03f0f4"
      }
     },
     "bcb3656a64f04af9827f74108f5f4458": {
      "model_module": "@jupyter-widgets/controls",
      "model_module_version": "1.5.0",
      "model_name": "ProgressStyleModel",
      "state": {
       "description_width": ""
      }
     },
     "bcb6c31281f54ff996c6749e62255592": {
      "model_module": "@jupyter-widgets/controls",
      "model_module_version": "1.5.0",
      "model_name": "ProgressStyleModel",
      "state": {
       "description_width": ""
      }
     },
     "bcf5d948394e4aa980037573c622f738": {
      "model_module": "@jupyter-widgets/controls",
      "model_module_version": "1.5.0",
      "model_name": "DescriptionStyleModel",
      "state": {
       "description_width": ""
      }
     },
     "bd2efcdbc0c44baba7011e8508cf354b": {
      "model_module": "@jupyter-widgets/base",
      "model_module_version": "1.2.0",
      "model_name": "LayoutModel",
      "state": {}
     },
     "bd41b07a96c340ccbd141a21f91c05d8": {
      "model_module": "@jupyter-widgets/controls",
      "model_module_version": "1.5.0",
      "model_name": "FloatProgressModel",
      "state": {
       "bar_style": "success",
       "layout": "IPY_MODEL_33b9c0688d9e4ccbb84715112a52718f",
       "max": 11,
       "style": "IPY_MODEL_5189b6998a9b4d21bc3003b31d05f6b4",
       "value": 11
      }
     },
     "bd5a30a6fb4c400aa62e61ac503a538c": {
      "model_module": "@jupyter-widgets/base",
      "model_module_version": "1.2.0",
      "model_name": "LayoutModel",
      "state": {}
     },
     "bda096bfcae44fbe9f7e0b0139f65d03": {
      "model_module": "@jupyter-widgets/controls",
      "model_module_version": "1.5.0",
      "model_name": "HBoxModel",
      "state": {
       "children": [
        "IPY_MODEL_514d2d1934774fb2b78df9620b527cb8",
        "IPY_MODEL_fde5d70ab20a41bab2dabc44d96644ab",
        "IPY_MODEL_0a1714629bbd45edbe5fc605c16eb09c"
       ],
       "layout": "IPY_MODEL_d589518796bc4e02909c3a4050d89c8e"
      }
     },
     "bde6ec6bbf574a3d96cd74c5b6b58449": {
      "model_module": "@jupyter-widgets/controls",
      "model_module_version": "1.5.0",
      "model_name": "DescriptionStyleModel",
      "state": {
       "description_width": ""
      }
     },
     "bdf2c1eeeb5c41d1b0c4f0fe26726207": {
      "model_module": "@jupyter-widgets/controls",
      "model_module_version": "1.5.0",
      "model_name": "ProgressStyleModel",
      "state": {
       "description_width": ""
      }
     },
     "bdfe0b3c02154e54b770edabb231d454": {
      "model_module": "@jupyter-widgets/base",
      "model_module_version": "1.2.0",
      "model_name": "LayoutModel",
      "state": {}
     },
     "be4fa0c7251c47babf43d6d7819bdbc3": {
      "model_module": "@jupyter-widgets/controls",
      "model_module_version": "1.5.0",
      "model_name": "HTMLModel",
      "state": {
       "layout": "IPY_MODEL_f198ffd5b9ff4c16873fdeac363c8dae",
       "style": "IPY_MODEL_ccd6a6dae2aa4cd299c4b43cd8e6bd3e",
       "value": "100%"
      }
     },
     "be51860e8ac244fab136c1e0f60095ad": {
      "model_module": "@jupyter-widgets/controls",
      "model_module_version": "1.5.0",
      "model_name": "DescriptionStyleModel",
      "state": {
       "description_width": ""
      }
     },
     "be5e5440049e426b8be4f3370201dab8": {
      "model_module": "@jupyter-widgets/base",
      "model_module_version": "1.2.0",
      "model_name": "LayoutModel",
      "state": {}
     },
     "be748a16e7174f3db508c6cf3e332681": {
      "model_module": "@jupyter-widgets/controls",
      "model_module_version": "1.5.0",
      "model_name": "HBoxModel",
      "state": {
       "children": [
        "IPY_MODEL_1e87893618694fb8a50de85aee8ac579",
        "IPY_MODEL_e19533f0cfd643d7a301e48ff618709c",
        "IPY_MODEL_63dde0ab7ddb43c3bf3246aa7963f08a"
       ],
       "layout": "IPY_MODEL_0beab9ae1ee14dbbb87038fc89db695a"
      }
     },
     "be8ec2f89ac24930b4217fc83590a355": {
      "model_module": "@jupyter-widgets/controls",
      "model_module_version": "1.5.0",
      "model_name": "FloatProgressModel",
      "state": {
       "bar_style": "success",
       "layout": "IPY_MODEL_8d86c7ff435d45679535335d7baea5a9",
       "max": 3600,
       "style": "IPY_MODEL_85ac4b99637f425f90045829ac26752e",
       "value": 3600
      }
     },
     "beb9eec4d48a49a68ffba639e1479ab3": {
      "model_module": "@jupyter-widgets/controls",
      "model_module_version": "1.5.0",
      "model_name": "ProgressStyleModel",
      "state": {
       "description_width": ""
      }
     },
     "bed0d21edbf74d0d8a85277b831604e1": {
      "model_module": "@jupyter-widgets/controls",
      "model_module_version": "1.5.0",
      "model_name": "FloatProgressModel",
      "state": {
       "bar_style": "success",
       "layout": "IPY_MODEL_42a1bda06f4249f49859cba9ecf68b88",
       "max": 1000,
       "style": "IPY_MODEL_9c8f2d6f42f34840b4baa2ae6dd006e1",
       "value": 1000
      }
     },
     "bef7d1587d4543c09b4caab43244a07b": {
      "model_module": "@jupyter-widgets/base",
      "model_module_version": "1.2.0",
      "model_name": "LayoutModel",
      "state": {}
     },
     "bf0a0021db954c17881161e96611f658": {
      "model_module": "@jupyter-widgets/base",
      "model_module_version": "1.2.0",
      "model_name": "LayoutModel",
      "state": {}
     },
     "bf55e64d9c3c40378b31800e5709fa73": {
      "model_module": "@jupyter-widgets/base",
      "model_module_version": "1.2.0",
      "model_name": "LayoutModel",
      "state": {}
     },
     "bf638a81204a4b19bc9d938ffdb3cd2a": {
      "model_module": "@jupyter-widgets/base",
      "model_module_version": "1.2.0",
      "model_name": "LayoutModel",
      "state": {}
     },
     "bf7d9b60e96e408ca47cde5d78754a3f": {
      "model_module": "@jupyter-widgets/controls",
      "model_module_version": "1.5.0",
      "model_name": "ProgressStyleModel",
      "state": {
       "description_width": ""
      }
     },
     "c03e44a21b184bfaaea5c5e6b70679cc": {
      "model_module": "@jupyter-widgets/controls",
      "model_module_version": "1.5.0",
      "model_name": "DescriptionStyleModel",
      "state": {
       "description_width": ""
      }
     },
     "c0604c1d0ee6444aa4dab26d1b1ca90e": {
      "model_module": "@jupyter-widgets/base",
      "model_module_version": "1.2.0",
      "model_name": "LayoutModel",
      "state": {}
     },
     "c07fbfc46e404488b8960c8efb83167f": {
      "model_module": "@jupyter-widgets/base",
      "model_module_version": "1.2.0",
      "model_name": "LayoutModel",
      "state": {}
     },
     "c09f1b7881df4629a35f7e0654658344": {
      "model_module": "@jupyter-widgets/controls",
      "model_module_version": "1.5.0",
      "model_name": "DescriptionStyleModel",
      "state": {
       "description_width": ""
      }
     },
     "c0ab48577b3b4e24b1e475df69cb81f7": {
      "model_module": "@jupyter-widgets/controls",
      "model_module_version": "1.5.0",
      "model_name": "HTMLModel",
      "state": {
       "layout": "IPY_MODEL_3ba0a513134f471fb2d7f24b16d5c22b",
       "style": "IPY_MODEL_552d8bdd3b234d588832d3fcc222445b",
       "value": " 11/11 [00:06&lt;00:00,  1.82it/s]"
      }
     },
     "c0cc4dc9a242493b923ef31607a61caf": {
      "model_module": "@jupyter-widgets/base",
      "model_module_version": "1.2.0",
      "model_name": "LayoutModel",
      "state": {}
     },
     "c12055d3ebbd4bb3b3918ef5fd6b44ac": {
      "model_module": "@jupyter-widgets/base",
      "model_module_version": "1.2.0",
      "model_name": "LayoutModel",
      "state": {}
     },
     "c14690da29924120900025c2eca30c83": {
      "model_module": "@jupyter-widgets/controls",
      "model_module_version": "1.5.0",
      "model_name": "DescriptionStyleModel",
      "state": {
       "description_width": ""
      }
     },
     "c152de24e0754271b074e84dea25c371": {
      "model_module": "@jupyter-widgets/controls",
      "model_module_version": "1.5.0",
      "model_name": "DescriptionStyleModel",
      "state": {
       "description_width": ""
      }
     },
     "c210457e24df4c21977b318a7224add4": {
      "model_module": "@jupyter-widgets/base",
      "model_module_version": "1.2.0",
      "model_name": "LayoutModel",
      "state": {}
     },
     "c278e37ec2514cb4bf0c03df3d8a8823": {
      "model_module": "@jupyter-widgets/controls",
      "model_module_version": "1.5.0",
      "model_name": "HBoxModel",
      "state": {
       "children": [
        "IPY_MODEL_e9534133ed5b482e9f7c88fc2e4511a6",
        "IPY_MODEL_e728f3f5d34b4b14b41e0e78584c840d",
        "IPY_MODEL_e767e1705ff8425a8fa50e280129efb4"
       ],
       "layout": "IPY_MODEL_1a5e7efad6824ab28a791e14f1aea8c1"
      }
     },
     "c280d61e95064b8fbe2309a431d1bf54": {
      "model_module": "@jupyter-widgets/controls",
      "model_module_version": "1.5.0",
      "model_name": "DescriptionStyleModel",
      "state": {
       "description_width": ""
      }
     },
     "c2dfe1bfbb1d436387f32e7cb36002b2": {
      "model_module": "@jupyter-widgets/controls",
      "model_module_version": "1.5.0",
      "model_name": "HTMLModel",
      "state": {
       "layout": "IPY_MODEL_ee7beac64ca14bb9a8bcbcb834800bab",
       "style": "IPY_MODEL_fec6f3f76da74c57aacfe76879a81a0e",
       "value": "100%"
      }
     },
     "c2ea59565cfc4bd697f3910e35cd81ed": {
      "model_module": "@jupyter-widgets/controls",
      "model_module_version": "1.5.0",
      "model_name": "DescriptionStyleModel",
      "state": {
       "description_width": ""
      }
     },
     "c2fad34c95104f1eb6d243df5592ca23": {
      "model_module": "@jupyter-widgets/base",
      "model_module_version": "1.2.0",
      "model_name": "LayoutModel",
      "state": {}
     },
     "c3ab2964624c456ebf7fb9d857e79848": {
      "model_module": "@jupyter-widgets/controls",
      "model_module_version": "1.5.0",
      "model_name": "FloatProgressModel",
      "state": {
       "bar_style": "success",
       "layout": "IPY_MODEL_89451e8b7dc44a6eb8cf45fa664c373f",
       "max": 1800,
       "style": "IPY_MODEL_a8322e0355d643e28f76878aa3145d6f",
       "value": 1800
      }
     },
     "c440e25ba4554932a7da730a756d536d": {
      "model_module": "@jupyter-widgets/controls",
      "model_module_version": "1.5.0",
      "model_name": "DescriptionStyleModel",
      "state": {
       "description_width": ""
      }
     },
     "c47e978826d0429ea9d5b6b0d9ab54d3": {
      "model_module": "@jupyter-widgets/controls",
      "model_module_version": "1.5.0",
      "model_name": "ProgressStyleModel",
      "state": {
       "description_width": ""
      }
     },
     "c4ec61da9ba84ae6968ff225747bd2e7": {
      "model_module": "@jupyter-widgets/controls",
      "model_module_version": "1.5.0",
      "model_name": "FloatProgressModel",
      "state": {
       "bar_style": "success",
       "layout": "IPY_MODEL_7cb1ac873a644d3bbb035fe9a154ac92",
       "max": 1800,
       "style": "IPY_MODEL_f2a2994665c146bd9ad3e64f10a7c719",
       "value": 1800
      }
     },
     "c52c61d631cf4da0bdccff83eefd78f4": {
      "model_module": "@jupyter-widgets/controls",
      "model_module_version": "1.5.0",
      "model_name": "HTMLModel",
      "state": {
       "layout": "IPY_MODEL_f1adcf68d4c44c1993e3664f2432b4f9",
       "style": "IPY_MODEL_0484c94c74494a3caa8abc3f997f3759",
       "value": " 1800/1800 [00:59&lt;00:00, 28.44it/s]"
      }
     },
     "c5b03d75b1e24d699779ac46e32b0d17": {
      "model_module": "@jupyter-widgets/base",
      "model_module_version": "1.2.0",
      "model_name": "LayoutModel",
      "state": {}
     },
     "c5bb490bed59427699ceb26e4a7673c2": {
      "model_module": "@jupyter-widgets/controls",
      "model_module_version": "1.5.0",
      "model_name": "DescriptionStyleModel",
      "state": {
       "description_width": ""
      }
     },
     "c60cf0cd78074ec1b76677ddc113e364": {
      "model_module": "@jupyter-widgets/base",
      "model_module_version": "1.2.0",
      "model_name": "LayoutModel",
      "state": {}
     },
     "c6145d3499fb49a9bf3c068ad0b2f8d3": {
      "model_module": "@jupyter-widgets/base",
      "model_module_version": "1.2.0",
      "model_name": "LayoutModel",
      "state": {}
     },
     "c61578f5cb2049539629c4e62c754300": {
      "model_module": "@jupyter-widgets/controls",
      "model_module_version": "1.5.0",
      "model_name": "DescriptionStyleModel",
      "state": {
       "description_width": ""
      }
     },
     "c64cc2d2ea124139b68e0a09396fe37e": {
      "model_module": "@jupyter-widgets/controls",
      "model_module_version": "1.5.0",
      "model_name": "HTMLModel",
      "state": {
       "layout": "IPY_MODEL_0c066937d45f4405bcc79817348a3158",
       "style": "IPY_MODEL_745d2c3a13d9454aa02c15737301a1b0",
       "value": "100%"
      }
     },
     "c67e326ee0ef49c9bf9ac80e860e8f5f": {
      "model_module": "@jupyter-widgets/controls",
      "model_module_version": "1.5.0",
      "model_name": "HBoxModel",
      "state": {
       "children": [
        "IPY_MODEL_95aff0c57f6d425d87f4f82acbd151df",
        "IPY_MODEL_3bd7b672f83d40c8a511d3ea5a29fd69",
        "IPY_MODEL_30236277779b45979313bbc9ea5f4d18"
       ],
       "layout": "IPY_MODEL_fa13be2314d042eb92d93a69dfd98dec"
      }
     },
     "c6b1401e6d4b40969bdc0e56a7999033": {
      "model_module": "@jupyter-widgets/base",
      "model_module_version": "1.2.0",
      "model_name": "LayoutModel",
      "state": {}
     },
     "c6b159ca97514e13b24ae966ac1aa072": {
      "model_module": "@jupyter-widgets/controls",
      "model_module_version": "1.5.0",
      "model_name": "ProgressStyleModel",
      "state": {
       "description_width": ""
      }
     },
     "c71bb851829b44f7bf15d5c7e2bafc3b": {
      "model_module": "@jupyter-widgets/base",
      "model_module_version": "1.2.0",
      "model_name": "LayoutModel",
      "state": {}
     },
     "c761307cafc5499e99f1ad51aa0da565": {
      "model_module": "@jupyter-widgets/controls",
      "model_module_version": "1.5.0",
      "model_name": "ProgressStyleModel",
      "state": {
       "description_width": ""
      }
     },
     "c7a2601e554a4072a154393b5cbf886d": {
      "model_module": "@jupyter-widgets/controls",
      "model_module_version": "1.5.0",
      "model_name": "HTMLModel",
      "state": {
       "layout": "IPY_MODEL_b72dc382fc1e42f19f3fac92dd2c88a2",
       "style": "IPY_MODEL_c5bb490bed59427699ceb26e4a7673c2",
       "value": " 4800/4800 [03:24&lt;00:00, 29.28it/s]"
      }
     },
     "c8ac5c3326514a6ab86f19fe1bd98129": {
      "model_module": "@jupyter-widgets/controls",
      "model_module_version": "1.5.0",
      "model_name": "DescriptionStyleModel",
      "state": {
       "description_width": ""
      }
     },
     "c8ba4e3105094548bcd215eabe327854": {
      "model_module": "@jupyter-widgets/base",
      "model_module_version": "1.2.0",
      "model_name": "LayoutModel",
      "state": {}
     },
     "c8d77e597fab4ae09662357dc8338cd4": {
      "model_module": "@jupyter-widgets/base",
      "model_module_version": "1.2.0",
      "model_name": "LayoutModel",
      "state": {}
     },
     "c94ffa514c3c4f6cbe2844791ad0c13b": {
      "model_module": "@jupyter-widgets/controls",
      "model_module_version": "1.5.0",
      "model_name": "ProgressStyleModel",
      "state": {
       "description_width": ""
      }
     },
     "c960df6776084d8b8bee3fd4c32c117c": {
      "model_module": "@jupyter-widgets/controls",
      "model_module_version": "1.5.0",
      "model_name": "DescriptionStyleModel",
      "state": {
       "description_width": ""
      }
     },
     "c9fac6341d164f678d9f58e99be1b09b": {
      "model_module": "@jupyter-widgets/controls",
      "model_module_version": "1.5.0",
      "model_name": "FloatProgressModel",
      "state": {
       "bar_style": "danger",
       "layout": "IPY_MODEL_8b2deef916d54e9b9b2b0df6bcbd8005",
       "max": 4500,
       "style": "IPY_MODEL_ebcdc69b1f64449e910f7b4211ab2469"
      }
     },
     "ca10906af83f4a4ea7a8a99ca3415e75": {
      "model_module": "@jupyter-widgets/base",
      "model_module_version": "1.2.0",
      "model_name": "LayoutModel",
      "state": {}
     },
     "ca5d2e73a6b5483ebc63662f4cbe85e2": {
      "model_module": "@jupyter-widgets/base",
      "model_module_version": "1.2.0",
      "model_name": "LayoutModel",
      "state": {}
     },
     "ca62eb7aaac842dbbf5f1a2d2b5e7856": {
      "model_module": "@jupyter-widgets/controls",
      "model_module_version": "1.5.0",
      "model_name": "DescriptionStyleModel",
      "state": {
       "description_width": ""
      }
     },
     "ca96adec6e52485787339b1732cd58a2": {
      "model_module": "@jupyter-widgets/controls",
      "model_module_version": "1.5.0",
      "model_name": "ProgressStyleModel",
      "state": {
       "description_width": ""
      }
     },
     "caa7d1c0cff84e49969ee8a0aed131dd": {
      "model_module": "@jupyter-widgets/controls",
      "model_module_version": "1.5.0",
      "model_name": "DescriptionStyleModel",
      "state": {
       "description_width": ""
      }
     },
     "cb076221db7241e88520b8d582c3b6fe": {
      "model_module": "@jupyter-widgets/controls",
      "model_module_version": "1.5.0",
      "model_name": "HTMLModel",
      "state": {
       "layout": "IPY_MODEL_3e2e2ab012dd40db9b9694007116b6a8",
       "style": "IPY_MODEL_c14690da29924120900025c2eca30c83",
       "value": "100%"
      }
     },
     "cb579e4d69764255ba0aeecda9f41c48": {
      "model_module": "@jupyter-widgets/controls",
      "model_module_version": "1.5.0",
      "model_name": "FloatProgressModel",
      "state": {
       "bar_style": "success",
       "layout": "IPY_MODEL_536a01becbda47f4adec5485971667df",
       "max": 3600,
       "style": "IPY_MODEL_b73fe003c9e74b6f8e76c9c2ee06d0e1",
       "value": 3600
      }
     },
     "cbdcc27f3d8343a6b0678570aab58a6b": {
      "model_module": "@jupyter-widgets/controls",
      "model_module_version": "1.5.0",
      "model_name": "HBoxModel",
      "state": {
       "children": [
        "IPY_MODEL_4e6d1e3af12f44a68bc0c7e77432caeb",
        "IPY_MODEL_c3ab2964624c456ebf7fb9d857e79848",
        "IPY_MODEL_c52c61d631cf4da0bdccff83eefd78f4"
       ],
       "layout": "IPY_MODEL_7de4d94036aa480f9fcfa9f8dc42ef07"
      }
     },
     "cc8fd18b95f9447fb6b425628d457ec3": {
      "model_module": "@jupyter-widgets/controls",
      "model_module_version": "1.5.0",
      "model_name": "DescriptionStyleModel",
      "state": {
       "description_width": ""
      }
     },
     "cc9747500ef14fc3aa5ad0f488c4fa6f": {
      "model_module": "@jupyter-widgets/base",
      "model_module_version": "1.2.0",
      "model_name": "LayoutModel",
      "state": {}
     },
     "cc982b43c20b43c09c5cc8b1e155c893": {
      "model_module": "@jupyter-widgets/base",
      "model_module_version": "1.2.0",
      "model_name": "LayoutModel",
      "state": {}
     },
     "ccaccd4c07ec41df9978af0b2b639a1b": {
      "model_module": "@jupyter-widgets/base",
      "model_module_version": "1.2.0",
      "model_name": "LayoutModel",
      "state": {}
     },
     "ccd6a6dae2aa4cd299c4b43cd8e6bd3e": {
      "model_module": "@jupyter-widgets/controls",
      "model_module_version": "1.5.0",
      "model_name": "DescriptionStyleModel",
      "state": {
       "description_width": ""
      }
     },
     "ccd9e1b84bed4087bf57146885e92c1a": {
      "model_module": "@jupyter-widgets/base",
      "model_module_version": "1.2.0",
      "model_name": "LayoutModel",
      "state": {}
     },
     "cd5d2b9c8e054be99f96138c77ec7c80": {
      "model_module": "@jupyter-widgets/controls",
      "model_module_version": "1.5.0",
      "model_name": "DescriptionStyleModel",
      "state": {
       "description_width": ""
      }
     },
     "cd5e6b5b2ade43f58d2b0ba32e5b668d": {
      "model_module": "@jupyter-widgets/controls",
      "model_module_version": "1.5.0",
      "model_name": "DescriptionStyleModel",
      "state": {
       "description_width": ""
      }
     },
     "cd6425aa850943969ff3de7759fe3f4b": {
      "model_module": "@jupyter-widgets/base",
      "model_module_version": "1.2.0",
      "model_name": "LayoutModel",
      "state": {}
     },
     "cd7df14dba8a4543991f5c4faad3d003": {
      "model_module": "@jupyter-widgets/controls",
      "model_module_version": "1.5.0",
      "model_name": "FloatProgressModel",
      "state": {
       "bar_style": "success",
       "layout": "IPY_MODEL_bf0a0021db954c17881161e96611f658",
       "max": 4800,
       "style": "IPY_MODEL_785e7d5a81544decb2d45b70b1762661",
       "value": 4800
      }
     },
     "cdc5294d5d0e412f95aeb43c0a2f85f5": {
      "model_module": "@jupyter-widgets/base",
      "model_module_version": "1.2.0",
      "model_name": "LayoutModel",
      "state": {}
     },
     "cdffa610b30049cba43508b751c53fea": {
      "model_module": "@jupyter-widgets/base",
      "model_module_version": "1.2.0",
      "model_name": "LayoutModel",
      "state": {}
     },
     "ce1a005cd09747ea8d8342c4909a5764": {
      "model_module": "@jupyter-widgets/controls",
      "model_module_version": "1.5.0",
      "model_name": "DescriptionStyleModel",
      "state": {
       "description_width": ""
      }
     },
     "ce32ccbb1d5d47058c1edc3567bd394f": {
      "model_module": "@jupyter-widgets/base",
      "model_module_version": "1.2.0",
      "model_name": "LayoutModel",
      "state": {}
     },
     "ce5533c9efc34763a5e649dbf9bd1faf": {
      "model_module": "@jupyter-widgets/controls",
      "model_module_version": "1.5.0",
      "model_name": "DescriptionStyleModel",
      "state": {
       "description_width": ""
      }
     },
     "ce562f11439349a29438a2ab7ac5235c": {
      "model_module": "@jupyter-widgets/controls",
      "model_module_version": "1.5.0",
      "model_name": "HTMLModel",
      "state": {
       "layout": "IPY_MODEL_15fc5988eba841f1aabfd2e285b519f9",
       "style": "IPY_MODEL_3cb475d6bc2145dbb95fb82dae659c1e",
       "value": " 65/4500 [00:09&lt;06:43, 10.98it/s]"
      }
     },
     "ce5ab7d1d9b04362bd0721cfdfe907d2": {
      "model_module": "@jupyter-widgets/controls",
      "model_module_version": "1.5.0",
      "model_name": "FloatProgressModel",
      "state": {
       "bar_style": "success",
       "layout": "IPY_MODEL_1dc4bc53806e4eed98d2ed38dade2931",
       "max": 11,
       "style": "IPY_MODEL_ed369bcc85c64f5b8ff198c0b9af95bf",
       "value": 11
      }
     },
     "ce6c45dba1b14652839158a146b0f083": {
      "model_module": "@jupyter-widgets/controls",
      "model_module_version": "1.5.0",
      "model_name": "HTMLModel",
      "state": {
       "layout": "IPY_MODEL_33b642dcc69747ed8198870a90466965",
       "style": "IPY_MODEL_890b002e4fbe48d19784566fe3638fb1",
       "value": "100%"
      }
     },
     "cf06d97fba274f0eb65d4ac9ffdecbb2": {
      "model_module": "@jupyter-widgets/base",
      "model_module_version": "1.2.0",
      "model_name": "LayoutModel",
      "state": {}
     },
     "cf33402e0f2949b78bbce7aadecfe44c": {
      "model_module": "@jupyter-widgets/controls",
      "model_module_version": "1.5.0",
      "model_name": "HTMLModel",
      "state": {
       "layout": "IPY_MODEL_a5869c57ae2d427c8d2b3b9554277212",
       "style": "IPY_MODEL_0e79736159ac4c18bcd6f71b0d07ce68",
       "value": " 1800/1800 [00:58&lt;00:00, 31.21it/s]"
      }
     },
     "cf3d8cd6b2c447f382a9ec481a0ee632": {
      "model_module": "@jupyter-widgets/base",
      "model_module_version": "1.2.0",
      "model_name": "LayoutModel",
      "state": {}
     },
     "cf965d1779e040a38c8ef55dd1c46e26": {
      "model_module": "@jupyter-widgets/controls",
      "model_module_version": "1.5.0",
      "model_name": "DescriptionStyleModel",
      "state": {
       "description_width": ""
      }
     },
     "cf9b0247e44544829d266f6691277e41": {
      "model_module": "@jupyter-widgets/controls",
      "model_module_version": "1.5.0",
      "model_name": "FloatProgressModel",
      "state": {
       "bar_style": "success",
       "layout": "IPY_MODEL_c5b03d75b1e24d699779ac46e32b0d17",
       "max": 1800,
       "style": "IPY_MODEL_9f085da319474dbaa386ff0b57d58fa7",
       "value": 1800
      }
     },
     "d037754767614cb3ac7009b9eae8abd2": {
      "model_module": "@jupyter-widgets/controls",
      "model_module_version": "1.5.0",
      "model_name": "ProgressStyleModel",
      "state": {
       "description_width": ""
      }
     },
     "d04246c010d44918ae28d08e41548301": {
      "model_module": "@jupyter-widgets/controls",
      "model_module_version": "1.5.0",
      "model_name": "HTMLModel",
      "state": {
       "layout": "IPY_MODEL_d168bdfca8164a2f917bc2b791424740",
       "style": "IPY_MODEL_444ef8b2f0064edb9717ffd471178a0a",
       "value": " 0/10 [00:01&lt;?, ?it/s]"
      }
     },
     "d065b362ae254a9bbee357f47d1da254": {
      "model_module": "@jupyter-widgets/base",
      "model_module_version": "1.2.0",
      "model_name": "LayoutModel",
      "state": {}
     },
     "d0a9260079d44d2c818a45f878572abb": {
      "model_module": "@jupyter-widgets/controls",
      "model_module_version": "1.5.0",
      "model_name": "ProgressStyleModel",
      "state": {
       "description_width": ""
      }
     },
     "d0e4e60a13464cdab2f20ce85d015435": {
      "model_module": "@jupyter-widgets/base",
      "model_module_version": "1.2.0",
      "model_name": "LayoutModel",
      "state": {}
     },
     "d12800c26e5544dfbc6aafee974a438f": {
      "model_module": "@jupyter-widgets/controls",
      "model_module_version": "1.5.0",
      "model_name": "ProgressStyleModel",
      "state": {
       "description_width": ""
      }
     },
     "d131eba777a148398182fcb85b7bdf55": {
      "model_module": "@jupyter-widgets/controls",
      "model_module_version": "1.5.0",
      "model_name": "ProgressStyleModel",
      "state": {
       "description_width": ""
      }
     },
     "d168bdfca8164a2f917bc2b791424740": {
      "model_module": "@jupyter-widgets/base",
      "model_module_version": "1.2.0",
      "model_name": "LayoutModel",
      "state": {}
     },
     "d17b883530424de791a460978e1eabc3": {
      "model_module": "@jupyter-widgets/controls",
      "model_module_version": "1.5.0",
      "model_name": "FloatProgressModel",
      "state": {
       "bar_style": "danger",
       "layout": "IPY_MODEL_cc982b43c20b43c09c5cc8b1e155c893",
       "max": 4500,
       "style": "IPY_MODEL_671b94d490f74391b93f96e52ce72c49"
      }
     },
     "d215b4a1ce6c4f3a8907b1b44fe29a5b": {
      "model_module": "@jupyter-widgets/controls",
      "model_module_version": "1.5.0",
      "model_name": "FloatProgressModel",
      "state": {
       "bar_style": "success",
       "layout": "IPY_MODEL_5810dc8602f84650b97d98537ba05abd",
       "max": 11,
       "style": "IPY_MODEL_b8dda27fa9214d38a6ec213373fe2a48",
       "value": 11
      }
     },
     "d2a080e602e242418ca1152452c7d3c3": {
      "model_module": "@jupyter-widgets/base",
      "model_module_version": "1.2.0",
      "model_name": "LayoutModel",
      "state": {}
     },
     "d3203500fc6d47c5b7acd4d1e4282374": {
      "model_module": "@jupyter-widgets/base",
      "model_module_version": "1.2.0",
      "model_name": "LayoutModel",
      "state": {}
     },
     "d35d828e1a1c4fd6827a4192b8455c4e": {
      "model_module": "@jupyter-widgets/base",
      "model_module_version": "1.2.0",
      "model_name": "LayoutModel",
      "state": {}
     },
     "d36d4e64ea7344e6b12034d11a413f81": {
      "model_module": "@jupyter-widgets/controls",
      "model_module_version": "1.5.0",
      "model_name": "HBoxModel",
      "state": {
       "children": [
        "IPY_MODEL_861cb9612ca64ad597570b3a00e4d66e",
        "IPY_MODEL_d8d5b5af0d0a4ac9a46ccf94f5f93b5e",
        "IPY_MODEL_3a4604ced5ff495fabc37ac2fe02172a"
       ],
       "layout": "IPY_MODEL_0352d4ba28c7415c90bf5203e04a210a"
      }
     },
     "d455692fbacc41cba8b97883d524f007": {
      "model_module": "@jupyter-widgets/controls",
      "model_module_version": "1.5.0",
      "model_name": "FloatProgressModel",
      "state": {
       "bar_style": "success",
       "layout": "IPY_MODEL_382052316919412ca0df2dd0eb5d706d",
       "max": 10,
       "style": "IPY_MODEL_b639a078fc384bbab73f657f9c56c35e",
       "value": 10
      }
     },
     "d4559e9a58c54b72b3a2683ef0e010a4": {
      "model_module": "@jupyter-widgets/controls",
      "model_module_version": "1.5.0",
      "model_name": "HTMLModel",
      "state": {
       "layout": "IPY_MODEL_8e48ec2cd388434c98b8204836d28c1b",
       "style": "IPY_MODEL_63fcdcc2d8f342739021335a7395b09b",
       "value": "100%"
      }
     },
     "d4ae3560a9874126b4f9a1e8ff65c998": {
      "model_module": "@jupyter-widgets/controls",
      "model_module_version": "1.5.0",
      "model_name": "FloatProgressModel",
      "state": {
       "bar_style": "success",
       "layout": "IPY_MODEL_c07fbfc46e404488b8960c8efb83167f",
       "max": 1800,
       "style": "IPY_MODEL_1d706304d8c4413c83d695de211c8afd",
       "value": 1800
      }
     },
     "d5169135ef5841d99f8184a967a59f8c": {
      "model_module": "@jupyter-widgets/controls",
      "model_module_version": "1.5.0",
      "model_name": "HTMLModel",
      "state": {
       "layout": "IPY_MODEL_d0e4e60a13464cdab2f20ce85d015435",
       "style": "IPY_MODEL_98e66edf518e482fbbb0326e2001e004",
       "value": " 601/1800 [00:43&lt;06:32,  3.06it/s]"
      }
     },
     "d537cf5964ec411caa1ef17dc4e40fa7": {
      "model_module": "@jupyter-widgets/controls",
      "model_module_version": "1.5.0",
      "model_name": "HTMLModel",
      "state": {
       "layout": "IPY_MODEL_a04fe63952c440c8ace6396a346b9672",
       "style": "IPY_MODEL_24b9b0a35e6d4b50a242310331825a35",
       "value": " 4500/4500 [10:26&lt;00:00,  8.34it/s]"
      }
     },
     "d53b531495584265b00b0d7aac5b942b": {
      "model_module": "@jupyter-widgets/controls",
      "model_module_version": "1.5.0",
      "model_name": "DescriptionStyleModel",
      "state": {
       "description_width": ""
      }
     },
     "d57a1050594640f8953e0713fb7f68cf": {
      "model_module": "@jupyter-widgets/controls",
      "model_module_version": "1.5.0",
      "model_name": "HBoxModel",
      "state": {
       "children": [
        "IPY_MODEL_332235eec69547bba3439bb3581e3607",
        "IPY_MODEL_84dc9c62bdff40edac9f33330515e527",
        "IPY_MODEL_f6de08c9742340d7bbda6320fbe1b809"
       ],
       "layout": "IPY_MODEL_3d32c7b6348f4ace90e788872fcd0ed6"
      }
     },
     "d58679a4e181474d98a89e9be1b5aa93": {
      "model_module": "@jupyter-widgets/base",
      "model_module_version": "1.2.0",
      "model_name": "LayoutModel",
      "state": {}
     },
     "d589518796bc4e02909c3a4050d89c8e": {
      "model_module": "@jupyter-widgets/base",
      "model_module_version": "1.2.0",
      "model_name": "LayoutModel",
      "state": {}
     },
     "d59b3d5323a341d7a83712525e9ef463": {
      "model_module": "@jupyter-widgets/base",
      "model_module_version": "1.2.0",
      "model_name": "LayoutModel",
      "state": {}
     },
     "d5d9c9406e304b6d95a1ae7938f86796": {
      "model_module": "@jupyter-widgets/controls",
      "model_module_version": "1.5.0",
      "model_name": "HTMLModel",
      "state": {
       "layout": "IPY_MODEL_dd83024c2b234537b39718530d39f22c",
       "style": "IPY_MODEL_0f3e8021a316440a873125ad573d2f84",
       "value": "100%"
      }
     },
     "d5dcfe4299404d6bb2bc6c38ea73679e": {
      "model_module": "@jupyter-widgets/base",
      "model_module_version": "1.2.0",
      "model_name": "LayoutModel",
      "state": {}
     },
     "d5e0bf68b3b74ef4afdfc84efe683909": {
      "model_module": "@jupyter-widgets/controls",
      "model_module_version": "1.5.0",
      "model_name": "ProgressStyleModel",
      "state": {
       "description_width": ""
      }
     },
     "d5e69ccb3d394a5597a5e0459e6fb4d8": {
      "model_module": "@jupyter-widgets/base",
      "model_module_version": "1.2.0",
      "model_name": "LayoutModel",
      "state": {}
     },
     "d5ee202e88fd4cb6ad987c4fcc98643a": {
      "model_module": "@jupyter-widgets/controls",
      "model_module_version": "1.5.0",
      "model_name": "DescriptionStyleModel",
      "state": {
       "description_width": ""
      }
     },
     "d5f873157c1e426fa7cb11603a146635": {
      "model_module": "@jupyter-widgets/controls",
      "model_module_version": "1.5.0",
      "model_name": "DescriptionStyleModel",
      "state": {
       "description_width": ""
      }
     },
     "d63f02874ec94b0b8f4ae4be01cc685b": {
      "model_module": "@jupyter-widgets/controls",
      "model_module_version": "1.5.0",
      "model_name": "DescriptionStyleModel",
      "state": {
       "description_width": ""
      }
     },
     "d67a97cb850a4c9b896c558df91cb874": {
      "model_module": "@jupyter-widgets/controls",
      "model_module_version": "1.5.0",
      "model_name": "ProgressStyleModel",
      "state": {
       "description_width": ""
      }
     },
     "d6aa346a55894c0c9c79dd40a9d57db4": {
      "model_module": "@jupyter-widgets/base",
      "model_module_version": "1.2.0",
      "model_name": "LayoutModel",
      "state": {}
     },
     "d6bafb1185f64840ab7ce5e83b2628f0": {
      "model_module": "@jupyter-widgets/base",
      "model_module_version": "1.2.0",
      "model_name": "LayoutModel",
      "state": {}
     },
     "d7659ba88c6e45f9a1700560159115c0": {
      "model_module": "@jupyter-widgets/controls",
      "model_module_version": "1.5.0",
      "model_name": "HTMLModel",
      "state": {
       "layout": "IPY_MODEL_752029c735a049d1b3fd9a2fb2acab33",
       "style": "IPY_MODEL_ab3fd79a75804551a4242a1afdbb83f4",
       "value": "100%"
      }
     },
     "d78ef83eada44f97ae566640c00de109": {
      "model_module": "@jupyter-widgets/controls",
      "model_module_version": "1.5.0",
      "model_name": "HBoxModel",
      "state": {
       "children": [
        "IPY_MODEL_22ed17589ecc40f4a71363b4aa33cf8c",
        "IPY_MODEL_80a484b1d80e4948b2ad49d796ab38e5",
        "IPY_MODEL_d5169135ef5841d99f8184a967a59f8c"
       ],
       "layout": "IPY_MODEL_27f601cdae944772b24afbd5d6309ba6"
      }
     },
     "d7a4559f5be24e2793617b319a7b46e4": {
      "model_module": "@jupyter-widgets/controls",
      "model_module_version": "1.5.0",
      "model_name": "DescriptionStyleModel",
      "state": {
       "description_width": ""
      }
     },
     "d7c45fbdf734471182c99ed97bb1566d": {
      "model_module": "@jupyter-widgets/controls",
      "model_module_version": "1.5.0",
      "model_name": "HBoxModel",
      "state": {
       "children": [
        "IPY_MODEL_3b0751de94324362a99389fe1074d691",
        "IPY_MODEL_4d4d3c3d31264b0b816b9a91d3721d6e",
        "IPY_MODEL_40aba82fa3af4130aa147fe58e42cc8e"
       ],
       "layout": "IPY_MODEL_a12d46245b0c42869a3b966075eb635b"
      }
     },
     "d7d8fd89a72748f7b6222d6da1d10ba1": {
      "model_module": "@jupyter-widgets/base",
      "model_module_version": "1.2.0",
      "model_name": "LayoutModel",
      "state": {}
     },
     "d83661f0c0c641f48978565a681cd9b2": {
      "model_module": "@jupyter-widgets/base",
      "model_module_version": "1.2.0",
      "model_name": "LayoutModel",
      "state": {}
     },
     "d8691c8624cd4d08a2ffe3c1a5de190d": {
      "model_module": "@jupyter-widgets/controls",
      "model_module_version": "1.5.0",
      "model_name": "HTMLModel",
      "state": {
       "layout": "IPY_MODEL_0b4be24c04e044ccb93c2eca314df1d4",
       "style": "IPY_MODEL_27edbafc163349bdb99dc42e8d57a235",
       "value": "100%"
      }
     },
     "d87104c307784360885a34a31d48bedb": {
      "model_module": "@jupyter-widgets/base",
      "model_module_version": "1.2.0",
      "model_name": "LayoutModel",
      "state": {}
     },
     "d88060009efd48e68ad04efa30cdffd2": {
      "model_module": "@jupyter-widgets/controls",
      "model_module_version": "1.5.0",
      "model_name": "DescriptionStyleModel",
      "state": {
       "description_width": ""
      }
     },
     "d8925aac122d450e83553882cb01e947": {
      "model_module": "@jupyter-widgets/base",
      "model_module_version": "1.2.0",
      "model_name": "LayoutModel",
      "state": {}
     },
     "d8c3a39e1e5244679eb716f382be274a": {
      "model_module": "@jupyter-widgets/base",
      "model_module_version": "1.2.0",
      "model_name": "LayoutModel",
      "state": {}
     },
     "d8d5b5af0d0a4ac9a46ccf94f5f93b5e": {
      "model_module": "@jupyter-widgets/controls",
      "model_module_version": "1.5.0",
      "model_name": "FloatProgressModel",
      "state": {
       "bar_style": "success",
       "layout": "IPY_MODEL_df62d6e4bcc34e3bafd3aa15b4a69fde",
       "max": 1800,
       "style": "IPY_MODEL_247ba42db3784d66ab101223ee6487a7",
       "value": 1800
      }
     },
     "d8f0794160c343999ece94affbde6ed1": {
      "model_module": "@jupyter-widgets/controls",
      "model_module_version": "1.5.0",
      "model_name": "HBoxModel",
      "state": {
       "children": [
        "IPY_MODEL_267bdcabddee4750b2e6cc4149c1725c",
        "IPY_MODEL_cb579e4d69764255ba0aeecda9f41c48",
        "IPY_MODEL_1a2c37d5381442dfb601468b7baa1a98"
       ],
       "layout": "IPY_MODEL_b4264914f90b4ede8eacf4a21ec62c15"
      }
     },
     "d91ac7e836a44e4fa0aff64d7ba1cdaa": {
      "model_module": "@jupyter-widgets/base",
      "model_module_version": "1.2.0",
      "model_name": "LayoutModel",
      "state": {}
     },
     "d94d8dc965664c13a910d26f26855e4e": {
      "model_module": "@jupyter-widgets/controls",
      "model_module_version": "1.5.0",
      "model_name": "FloatProgressModel",
      "state": {
       "bar_style": "success",
       "layout": "IPY_MODEL_4ac000f2c7d84f51b31085535fb9bc35",
       "max": 3600,
       "style": "IPY_MODEL_acfe6773d896462fbfc3dd74420d8bf9",
       "value": 3600
      }
     },
     "d9bbb0b6e5384abcaacd85e9913ef9fa": {
      "model_module": "@jupyter-widgets/base",
      "model_module_version": "1.2.0",
      "model_name": "LayoutModel",
      "state": {}
     },
     "d9ca1f6176d24762a01699f25c9dab78": {
      "model_module": "@jupyter-widgets/controls",
      "model_module_version": "1.5.0",
      "model_name": "DescriptionStyleModel",
      "state": {
       "description_width": ""
      }
     },
     "d9d832796ad8492d98eb10068be56060": {
      "model_module": "@jupyter-widgets/controls",
      "model_module_version": "1.5.0",
      "model_name": "ProgressStyleModel",
      "state": {
       "description_width": ""
      }
     },
     "da015203a71d4437924315078970847c": {
      "model_module": "@jupyter-widgets/controls",
      "model_module_version": "1.5.0",
      "model_name": "DescriptionStyleModel",
      "state": {
       "description_width": ""
      }
     },
     "da4940a1af214eb8ab5beff67c7072eb": {
      "model_module": "@jupyter-widgets/controls",
      "model_module_version": "1.5.0",
      "model_name": "HBoxModel",
      "state": {
       "children": [
        "IPY_MODEL_ce6c45dba1b14652839158a146b0f083",
        "IPY_MODEL_ce5ab7d1d9b04362bd0721cfdfe907d2",
        "IPY_MODEL_2d6faa8318a24316ac542b2aab6d104f"
       ],
       "layout": "IPY_MODEL_a502c8c5a22947a7bc6291b927bb542b"
      }
     },
     "da4cfc4de7584d4cb1b84fae4057b022": {
      "model_module": "@jupyter-widgets/base",
      "model_module_version": "1.2.0",
      "model_name": "LayoutModel",
      "state": {}
     },
     "da51c5d1156941bb8af2e56896c9c2cf": {
      "model_module": "@jupyter-widgets/controls",
      "model_module_version": "1.5.0",
      "model_name": "FloatProgressModel",
      "state": {
       "bar_style": "success",
       "layout": "IPY_MODEL_f4b667b918684b8faaa9c1c8aadf263d",
       "max": 3600,
       "style": "IPY_MODEL_ca96adec6e52485787339b1732cd58a2",
       "value": 3600
      }
     },
     "daf34616328b4003b42dc928ae524ed4": {
      "model_module": "@jupyter-widgets/controls",
      "model_module_version": "1.5.0",
      "model_name": "DescriptionStyleModel",
      "state": {
       "description_width": ""
      }
     },
     "db39d05744de4341980e3096e1347141": {
      "model_module": "@jupyter-widgets/controls",
      "model_module_version": "1.5.0",
      "model_name": "HTMLModel",
      "state": {
       "layout": "IPY_MODEL_93accc2b57fa4ec48ecf884480489995",
       "style": "IPY_MODEL_5894174013174a45a059edc1a9dd354f",
       "value": "100%"
      }
     },
     "db439774d6724a11bd379b34f0e5438e": {
      "model_module": "@jupyter-widgets/controls",
      "model_module_version": "1.5.0",
      "model_name": "FloatProgressModel",
      "state": {
       "bar_style": "success",
       "layout": "IPY_MODEL_e3d02377d4bb4f578feda37b1751ccbe",
       "max": 1000,
       "style": "IPY_MODEL_6edb8ece080c46de91c10b5caf21abaf",
       "value": 1000
      }
     },
     "db4f5a3f5ff243058fb50d81974dad8a": {
      "model_module": "@jupyter-widgets/controls",
      "model_module_version": "1.5.0",
      "model_name": "DescriptionStyleModel",
      "state": {
       "description_width": ""
      }
     },
     "db8a209e73484d3dbfa0da22b24b148c": {
      "model_module": "@jupyter-widgets/controls",
      "model_module_version": "1.5.0",
      "model_name": "DescriptionStyleModel",
      "state": {
       "description_width": ""
      }
     },
     "dbaccdc929c641c5a29ef698fe06d568": {
      "model_module": "@jupyter-widgets/base",
      "model_module_version": "1.2.0",
      "model_name": "LayoutModel",
      "state": {}
     },
     "dbea35d3b0904e429a4d34d6eef53c01": {
      "model_module": "@jupyter-widgets/controls",
      "model_module_version": "1.5.0",
      "model_name": "HTMLModel",
      "state": {
       "layout": "IPY_MODEL_7a5266cebdc24627bb06871ec431c295",
       "style": "IPY_MODEL_ce5533c9efc34763a5e649dbf9bd1faf",
       "value": " 11/11 [00:05&lt;00:00,  2.15it/s]"
      }
     },
     "dbfd524b1a5542c2bb2a29c0fd31621e": {
      "model_module": "@jupyter-widgets/controls",
      "model_module_version": "1.5.0",
      "model_name": "DescriptionStyleModel",
      "state": {
       "description_width": ""
      }
     },
     "dc0c70f53ece442caa55e7c7b40c0fc9": {
      "model_module": "@jupyter-widgets/controls",
      "model_module_version": "1.5.0",
      "model_name": "HBoxModel",
      "state": {
       "children": [
        "IPY_MODEL_31f797d29ffc4fb58682aa8fecf65781",
        "IPY_MODEL_9ef705f3cf84461cb81ed7d08cd0a328",
        "IPY_MODEL_495fba7856ea41df97b0c4a370a9b8d5"
       ],
       "layout": "IPY_MODEL_99161799866b48e695eb2093ffc0c65a"
      }
     },
     "dc7ab9a4ad354ae1aafb5862baba295d": {
      "model_module": "@jupyter-widgets/controls",
      "model_module_version": "1.5.0",
      "model_name": "HTMLModel",
      "state": {
       "layout": "IPY_MODEL_6fc4ab5174b84b9a99fa6c1293e73ce0",
       "style": "IPY_MODEL_3d9cd1d815b345ddbed6fb2c9c3672d8",
       "value": "100%"
      }
     },
     "dcd93606ad9b4c618aae7230212d32aa": {
      "model_module": "@jupyter-widgets/controls",
      "model_module_version": "1.5.0",
      "model_name": "DescriptionStyleModel",
      "state": {
       "description_width": ""
      }
     },
     "dd60a86d069f4cc587d599e1a54eeb44": {
      "model_module": "@jupyter-widgets/base",
      "model_module_version": "1.2.0",
      "model_name": "LayoutModel",
      "state": {}
     },
     "dd6994e1166b473aa28db1b0b3c8842c": {
      "model_module": "@jupyter-widgets/controls",
      "model_module_version": "1.5.0",
      "model_name": "HTMLModel",
      "state": {
       "layout": "IPY_MODEL_d5e69ccb3d394a5597a5e0459e6fb4d8",
       "style": "IPY_MODEL_7934783447a24a0e8429d0908f59e6c7",
       "value": "100%"
      }
     },
     "dd77262c37bb4ce8b17fd340de95f062": {
      "model_module": "@jupyter-widgets/base",
      "model_module_version": "1.2.0",
      "model_name": "LayoutModel",
      "state": {}
     },
     "dd83024c2b234537b39718530d39f22c": {
      "model_module": "@jupyter-widgets/base",
      "model_module_version": "1.2.0",
      "model_name": "LayoutModel",
      "state": {}
     },
     "dda22c9fb2a846a39f145bc95087d587": {
      "model_module": "@jupyter-widgets/base",
      "model_module_version": "1.2.0",
      "model_name": "LayoutModel",
      "state": {}
     },
     "dde56ad5e3ce4a9bb2fefcf1414d7a12": {
      "model_module": "@jupyter-widgets/controls",
      "model_module_version": "1.5.0",
      "model_name": "DescriptionStyleModel",
      "state": {
       "description_width": ""
      }
     },
     "de10c98517424359a7b4939301124876": {
      "model_module": "@jupyter-widgets/controls",
      "model_module_version": "1.5.0",
      "model_name": "HTMLModel",
      "state": {
       "layout": "IPY_MODEL_73489e8bcd064a57b1a7f079dd250d14",
       "style": "IPY_MODEL_03235913f1f840069a710a171051798c",
       "value": "100%"
      }
     },
     "dea6ae7e07584ef09ee54c292ca06aff": {
      "model_module": "@jupyter-widgets/controls",
      "model_module_version": "1.5.0",
      "model_name": "HBoxModel",
      "state": {
       "children": [
        "IPY_MODEL_79d856d7d1904e87b274bf840a67e759",
        "IPY_MODEL_7e4f9acbe3774c328959d6b6a788e4de",
        "IPY_MODEL_d537cf5964ec411caa1ef17dc4e40fa7"
       ],
       "layout": "IPY_MODEL_a408122606c0454699ae073806f1ac23"
      }
     },
     "dec31ac9af724cc1ad59b16d11945f46": {
      "model_module": "@jupyter-widgets/base",
      "model_module_version": "1.2.0",
      "model_name": "LayoutModel",
      "state": {}
     },
     "decbc41dbc6b4fed98c99d91748d83ab": {
      "model_module": "@jupyter-widgets/controls",
      "model_module_version": "1.5.0",
      "model_name": "DescriptionStyleModel",
      "state": {
       "description_width": ""
      }
     },
     "def54b54c89c4f8eac987db14f266de7": {
      "model_module": "@jupyter-widgets/controls",
      "model_module_version": "1.5.0",
      "model_name": "HTMLModel",
      "state": {
       "layout": "IPY_MODEL_7900bd3c7b01409da58719106f209143",
       "style": "IPY_MODEL_dcd93606ad9b4c618aae7230212d32aa",
       "value": " 3600/3600 [01:55&lt;00:00, 28.58it/s]"
      }
     },
     "df1b2a7cc300426daa03a6d5303558cf": {
      "model_module": "@jupyter-widgets/controls",
      "model_module_version": "1.5.0",
      "model_name": "DescriptionStyleModel",
      "state": {
       "description_width": ""
      }
     },
     "df200f6b22fc44888ff51fee93dc7a91": {
      "model_module": "@jupyter-widgets/controls",
      "model_module_version": "1.5.0",
      "model_name": "HTMLModel",
      "state": {
       "layout": "IPY_MODEL_62dd5b1d85624982bb69a0642f58eaec",
       "style": "IPY_MODEL_9f57e29533114becb088667aac642464",
       "value": "100%"
      }
     },
     "df62d6e4bcc34e3bafd3aa15b4a69fde": {
      "model_module": "@jupyter-widgets/base",
      "model_module_version": "1.2.0",
      "model_name": "LayoutModel",
      "state": {}
     },
     "df9eb55003e34ce0b8fecf3f6e055fcf": {
      "model_module": "@jupyter-widgets/base",
      "model_module_version": "1.2.0",
      "model_name": "LayoutModel",
      "state": {}
     },
     "dffdda85ff2342be9feac18d6bd725fe": {
      "model_module": "@jupyter-widgets/controls",
      "model_module_version": "1.5.0",
      "model_name": "HTMLModel",
      "state": {
       "layout": "IPY_MODEL_7161df7b3849400e9f6b0d1d399ca8fd",
       "style": "IPY_MODEL_49fbc9892e234923ae20668be24d5a89",
       "value": "100%"
      }
     },
     "e01463d8f0ce4c56a334f91cd9e307c7": {
      "model_module": "@jupyter-widgets/controls",
      "model_module_version": "1.5.0",
      "model_name": "HTMLModel",
      "state": {
       "layout": "IPY_MODEL_8d7813a6b6c5478295a83ed23bfaf2f6",
       "style": "IPY_MODEL_77dbe5d448454130b6a974d55b073164",
       "value": "  0%"
      }
     },
     "e05f4cb5e094491d9547fed83c911c3b": {
      "model_module": "@jupyter-widgets/base",
      "model_module_version": "1.2.0",
      "model_name": "LayoutModel",
      "state": {}
     },
     "e070b99760e445fab00d9ce4eb868097": {
      "model_module": "@jupyter-widgets/controls",
      "model_module_version": "1.5.0",
      "model_name": "DescriptionStyleModel",
      "state": {
       "description_width": ""
      }
     },
     "e094292adf1b477bbc64277681a51553": {
      "model_module": "@jupyter-widgets/controls",
      "model_module_version": "1.5.0",
      "model_name": "HBoxModel",
      "state": {
       "children": [
        "IPY_MODEL_7ffabb22fec74c5a8bbcdec596a0012e",
        "IPY_MODEL_21c646b93cdc4933a358765c51b47bff",
        "IPY_MODEL_561bec47a2904857a7388a57eeebf321"
       ],
       "layout": "IPY_MODEL_4cd661ec62954567a60b9d70890b7549"
      }
     },
     "e119a5c62eaa4fff8142cf17f2d427ed": {
      "model_module": "@jupyter-widgets/controls",
      "model_module_version": "1.5.0",
      "model_name": "ProgressStyleModel",
      "state": {
       "description_width": ""
      }
     },
     "e12637252ce648ceac10ea7522748919": {
      "model_module": "@jupyter-widgets/controls",
      "model_module_version": "1.5.0",
      "model_name": "HTMLModel",
      "state": {
       "layout": "IPY_MODEL_cd6425aa850943969ff3de7759fe3f4b",
       "style": "IPY_MODEL_9bbdce7f1f5445d3a7cc6ae4f7e037a9",
       "value": "100%"
      }
     },
     "e13346a35ab241049224b81e8eeea069": {
      "model_module": "@jupyter-widgets/controls",
      "model_module_version": "1.5.0",
      "model_name": "ProgressStyleModel",
      "state": {
       "description_width": ""
      }
     },
     "e19533f0cfd643d7a301e48ff618709c": {
      "model_module": "@jupyter-widgets/controls",
      "model_module_version": "1.5.0",
      "model_name": "FloatProgressModel",
      "state": {
       "bar_style": "success",
       "layout": "IPY_MODEL_9593e8152fd848a694402c0d82cd64c1",
       "max": 1800,
       "style": "IPY_MODEL_6b86cf3bc36d4c18894067aa25df0562",
       "value": 1800
      }
     },
     "e1bcacc635fe4c21903e2cd1464081ba": {
      "model_module": "@jupyter-widgets/controls",
      "model_module_version": "1.5.0",
      "model_name": "HBoxModel",
      "state": {
       "children": [
        "IPY_MODEL_3c49edba7e9e48e4a2c7d4cc23c57d7c",
        "IPY_MODEL_34ee33815f65449d946287eb07b3cdc8",
        "IPY_MODEL_7fadc6ad261d46c3aca173ae5dc457b3"
       ],
       "layout": "IPY_MODEL_9846e921714841249d77ba3fffa45327"
      }
     },
     "e1c00a816b424774a04e032ab1813f55": {
      "model_module": "@jupyter-widgets/controls",
      "model_module_version": "1.5.0",
      "model_name": "DescriptionStyleModel",
      "state": {
       "description_width": ""
      }
     },
     "e24643e7dde24a6387fbb2bdfdc86d0f": {
      "model_module": "@jupyter-widgets/base",
      "model_module_version": "1.2.0",
      "model_name": "LayoutModel",
      "state": {}
     },
     "e270b524ff994820902c20c03e7a4da0": {
      "model_module": "@jupyter-widgets/controls",
      "model_module_version": "1.5.0",
      "model_name": "HTMLModel",
      "state": {
       "layout": "IPY_MODEL_7e3702bc29d540db971e9629cf6ccb27",
       "style": "IPY_MODEL_3bafb3e205c84f588703739251a926e0",
       "value": "100%"
      }
     },
     "e289b130e3634d249e8de3357c771116": {
      "model_module": "@jupyter-widgets/base",
      "model_module_version": "1.2.0",
      "model_name": "LayoutModel",
      "state": {}
     },
     "e2d7b94d5bcf4be9b0874849262f71e7": {
      "model_module": "@jupyter-widgets/controls",
      "model_module_version": "1.5.0",
      "model_name": "DescriptionStyleModel",
      "state": {
       "description_width": ""
      }
     },
     "e32967a42cc347f0acb754a8ed7d40a7": {
      "model_module": "@jupyter-widgets/controls",
      "model_module_version": "1.5.0",
      "model_name": "ProgressStyleModel",
      "state": {
       "description_width": ""
      }
     },
     "e368eb148c7240eb8d54faf281106430": {
      "model_module": "@jupyter-widgets/base",
      "model_module_version": "1.2.0",
      "model_name": "LayoutModel",
      "state": {}
     },
     "e374a1fce6b547bfbc9cdf97e1196190": {
      "model_module": "@jupyter-widgets/controls",
      "model_module_version": "1.5.0",
      "model_name": "HTMLModel",
      "state": {
       "layout": "IPY_MODEL_a84d316590484de097524c92cb93fba4",
       "style": "IPY_MODEL_0d6df8fc25cf4f8ca5e3ba4733c759b0",
       "value": "100%"
      }
     },
     "e375884249894a98a01e3687cc12d29d": {
      "model_module": "@jupyter-widgets/controls",
      "model_module_version": "1.5.0",
      "model_name": "DescriptionStyleModel",
      "state": {
       "description_width": ""
      }
     },
     "e3a0723922444332ac47098a6246e5b8": {
      "model_module": "@jupyter-widgets/controls",
      "model_module_version": "1.5.0",
      "model_name": "HTMLModel",
      "state": {
       "layout": "IPY_MODEL_808fa8c4271a465f833c8d441942aa27",
       "style": "IPY_MODEL_244fe422f8ef4a1598658f01da199af0",
       "value": " 3600/3600 [02:15&lt;00:00, 28.77it/s]"
      }
     },
     "e3b45d7365284e20a1a18fad9bd76e6f": {
      "model_module": "@jupyter-widgets/base",
      "model_module_version": "1.2.0",
      "model_name": "LayoutModel",
      "state": {}
     },
     "e3b6e50effa94ca0af63758b785725d1": {
      "model_module": "@jupyter-widgets/controls",
      "model_module_version": "1.5.0",
      "model_name": "DescriptionStyleModel",
      "state": {
       "description_width": ""
      }
     },
     "e3d02377d4bb4f578feda37b1751ccbe": {
      "model_module": "@jupyter-widgets/base",
      "model_module_version": "1.2.0",
      "model_name": "LayoutModel",
      "state": {}
     },
     "e41bb4f0002f4cb6bad5a9ac689f9791": {
      "model_module": "@jupyter-widgets/controls",
      "model_module_version": "1.5.0",
      "model_name": "ProgressStyleModel",
      "state": {
       "description_width": ""
      }
     },
     "e41cb419420a4292b7357b973beea431": {
      "model_module": "@jupyter-widgets/controls",
      "model_module_version": "1.5.0",
      "model_name": "ProgressStyleModel",
      "state": {
       "description_width": ""
      }
     },
     "e457bc15c8784aed826e6c2cb47cc5c1": {
      "model_module": "@jupyter-widgets/base",
      "model_module_version": "1.2.0",
      "model_name": "LayoutModel",
      "state": {}
     },
     "e493e600c718487292a0b88e21d92ec4": {
      "model_module": "@jupyter-widgets/controls",
      "model_module_version": "1.5.0",
      "model_name": "DescriptionStyleModel",
      "state": {
       "description_width": ""
      }
     },
     "e497f31e60664165bdcd63100aa0adbe": {
      "model_module": "@jupyter-widgets/controls",
      "model_module_version": "1.5.0",
      "model_name": "ProgressStyleModel",
      "state": {
       "description_width": ""
      }
     },
     "e4a46ec3c57e49c79e39296d1592c479": {
      "model_module": "@jupyter-widgets/controls",
      "model_module_version": "1.5.0",
      "model_name": "ProgressStyleModel",
      "state": {
       "description_width": ""
      }
     },
     "e4b80f2c61ed4b9f968aa3aefa4ad344": {
      "model_module": "@jupyter-widgets/base",
      "model_module_version": "1.2.0",
      "model_name": "LayoutModel",
      "state": {}
     },
     "e4f6cff82af54153a8c3d72bdae97f7a": {
      "model_module": "@jupyter-widgets/controls",
      "model_module_version": "1.5.0",
      "model_name": "HTMLModel",
      "state": {
       "layout": "IPY_MODEL_c2fad34c95104f1eb6d243df5592ca23",
       "style": "IPY_MODEL_a76174f5e72141e880a8a7a35d1673ca",
       "value": "  0%"
      }
     },
     "e54144a4d2c24e8d80a866adf45ea48a": {
      "model_module": "@jupyter-widgets/base",
      "model_module_version": "1.2.0",
      "model_name": "LayoutModel",
      "state": {}
     },
     "e5604e4b75684fc4a1145c3a75d5da92": {
      "model_module": "@jupyter-widgets/controls",
      "model_module_version": "1.5.0",
      "model_name": "HTMLModel",
      "state": {
       "layout": "IPY_MODEL_7796cac74bdc43c98d2b2fc179ef9768",
       "style": "IPY_MODEL_f0f1a57d0622428f849edfc40dcb9018",
       "value": " 3600/3600 [01:58&lt;00:00, 32.12it/s]"
      }
     },
     "e5770026b1a34277a5c818e80c342f3c": {
      "model_module": "@jupyter-widgets/controls",
      "model_module_version": "1.5.0",
      "model_name": "HTMLModel",
      "state": {
       "layout": "IPY_MODEL_2e8951451a7248f9b0a1e03689091418",
       "style": "IPY_MODEL_7631e978438d41e1a20df678d48dfb89",
       "value": " 0/4500 [00:00&lt;?, ?it/s]"
      }
     },
     "e5a1a4abe57840bcbe4fa2d846a90be3": {
      "model_module": "@jupyter-widgets/base",
      "model_module_version": "1.2.0",
      "model_name": "LayoutModel",
      "state": {}
     },
     "e5f65e97a63f47baab99bd26ccb40220": {
      "model_module": "@jupyter-widgets/controls",
      "model_module_version": "1.5.0",
      "model_name": "HBoxModel",
      "state": {
       "children": [
        "IPY_MODEL_9ab59861e6aa4e959ea0d2553bd174c5",
        "IPY_MODEL_6d3fc29eb493424da6b97ac39151788b",
        "IPY_MODEL_4237b832264c4441971a6967c940cba2"
       ],
       "layout": "IPY_MODEL_2811714c2b3c488589e115065f34496d"
      }
     },
     "e6392df2ce5e4fe3942f5b9e9ddfd706": {
      "model_module": "@jupyter-widgets/base",
      "model_module_version": "1.2.0",
      "model_name": "LayoutModel",
      "state": {}
     },
     "e66d105138444907a44772f8548d65dd": {
      "model_module": "@jupyter-widgets/controls",
      "model_module_version": "1.5.0",
      "model_name": "HTMLModel",
      "state": {
       "layout": "IPY_MODEL_c6b1401e6d4b40969bdc0e56a7999033",
       "style": "IPY_MODEL_6e79f56d16334adfbdac26be87e24a3b",
       "value": " 3600/3600 [02:07&lt;00:00, 20.44it/s]"
      }
     },
     "e67b655c89804086aa6ab297b0af35a0": {
      "model_module": "@jupyter-widgets/base",
      "model_module_version": "1.2.0",
      "model_name": "LayoutModel",
      "state": {}
     },
     "e6e05b28a60944b1ba95618733b35914": {
      "model_module": "@jupyter-widgets/controls",
      "model_module_version": "1.5.0",
      "model_name": "DescriptionStyleModel",
      "state": {
       "description_width": ""
      }
     },
     "e7237bafabed42048d4bd2f789ad6b11": {
      "model_module": "@jupyter-widgets/controls",
      "model_module_version": "1.5.0",
      "model_name": "ProgressStyleModel",
      "state": {
       "description_width": ""
      }
     },
     "e728f3f5d34b4b14b41e0e78584c840d": {
      "model_module": "@jupyter-widgets/controls",
      "model_module_version": "1.5.0",
      "model_name": "FloatProgressModel",
      "state": {
       "bar_style": "success",
       "layout": "IPY_MODEL_f38854f7c8984f8e88a098c4a3f64949",
       "max": 3600,
       "style": "IPY_MODEL_ffdd36a04a6a48a68166a72d83f8134f",
       "value": 3600
      }
     },
     "e73fc44f586442fda89bd56cc9ae5d4a": {
      "model_module": "@jupyter-widgets/base",
      "model_module_version": "1.2.0",
      "model_name": "LayoutModel",
      "state": {}
     },
     "e767e1705ff8425a8fa50e280129efb4": {
      "model_module": "@jupyter-widgets/controls",
      "model_module_version": "1.5.0",
      "model_name": "HTMLModel",
      "state": {
       "layout": "IPY_MODEL_b3c53b894e9d40e29f246580aeea80f9",
       "style": "IPY_MODEL_62af14f9fcbb4f449eff6f8f1dc97cfc",
       "value": " 3600/3600 [02:20&lt;00:00, 25.04it/s]"
      }
     },
     "e772496274cc45e3be5dcda2dfec7ae6": {
      "model_module": "@jupyter-widgets/controls",
      "model_module_version": "1.5.0",
      "model_name": "DescriptionStyleModel",
      "state": {
       "description_width": ""
      }
     },
     "e79b01dd6fdd44ceb629c0ba070c0bb2": {
      "model_module": "@jupyter-widgets/controls",
      "model_module_version": "1.5.0",
      "model_name": "DescriptionStyleModel",
      "state": {
       "description_width": ""
      }
     },
     "e79f311e389d4e84adec01a62044d8d1": {
      "model_module": "@jupyter-widgets/base",
      "model_module_version": "1.2.0",
      "model_name": "LayoutModel",
      "state": {}
     },
     "e7cfccb5a59742fd93c3fc6ed26a60e0": {
      "model_module": "@jupyter-widgets/base",
      "model_module_version": "1.2.0",
      "model_name": "LayoutModel",
      "state": {}
     },
     "e7fe78d1c5f24a1fa62b0bb04fd6adae": {
      "model_module": "@jupyter-widgets/base",
      "model_module_version": "1.2.0",
      "model_name": "LayoutModel",
      "state": {}
     },
     "e8a083a663ce43b0900b3d8826c24e96": {
      "model_module": "@jupyter-widgets/controls",
      "model_module_version": "1.5.0",
      "model_name": "HTMLModel",
      "state": {
       "layout": "IPY_MODEL_3ba41d6dfa734ab7800cd1b27e3b5385",
       "style": "IPY_MODEL_e3b6e50effa94ca0af63758b785725d1",
       "value": " 1800/1800 [00:59&lt;00:00, 31.02it/s]"
      }
     },
     "e8b6ab911acd47b79a2bfb753be04f13": {
      "model_module": "@jupyter-widgets/controls",
      "model_module_version": "1.5.0",
      "model_name": "FloatProgressModel",
      "state": {
       "bar_style": "success",
       "layout": "IPY_MODEL_92672e6bcf1b49a68be72d4c414f0628",
       "max": 11,
       "style": "IPY_MODEL_fa102dbe1fc94c23bece545c3f5c9f5a",
       "value": 11
      }
     },
     "e91343354031499988f3477372be6d31": {
      "model_module": "@jupyter-widgets/base",
      "model_module_version": "1.2.0",
      "model_name": "LayoutModel",
      "state": {}
     },
     "e91a79dffecf4c389da8413875ada46e": {
      "model_module": "@jupyter-widgets/base",
      "model_module_version": "1.2.0",
      "model_name": "LayoutModel",
      "state": {}
     },
     "e9534133ed5b482e9f7c88fc2e4511a6": {
      "model_module": "@jupyter-widgets/controls",
      "model_module_version": "1.5.0",
      "model_name": "HTMLModel",
      "state": {
       "layout": "IPY_MODEL_9ad00c52a6df4f8698a38f2d712ed536",
       "style": "IPY_MODEL_2b87248f65dc457ea2052f7fb52938dc",
       "value": "100%"
      }
     },
     "e96800c18855487983a85a8f9bf798b9": {
      "model_module": "@jupyter-widgets/controls",
      "model_module_version": "1.5.0",
      "model_name": "HBoxModel",
      "state": {
       "children": [
        "IPY_MODEL_b0f5d38b28de4ec2980f96f64f1d5d66",
        "IPY_MODEL_4f42a30dfe0a42f4b6e0af30b13b22a7",
        "IPY_MODEL_92f575fa25df4277b200e4ec70eb81dd"
       ],
       "layout": "IPY_MODEL_84d736afaab34b4eb1b4611b14000e7b"
      }
     },
     "e9a9727a96a3418ca1531df106eea675": {
      "model_module": "@jupyter-widgets/controls",
      "model_module_version": "1.5.0",
      "model_name": "HTMLModel",
      "state": {
       "layout": "IPY_MODEL_b64655b2204a46389278f913ab226424",
       "style": "IPY_MODEL_6e562fc083244384a2b16aa7c582ded3",
       "value": " 4800/4800 [03:19&lt;00:00, 30.29it/s]"
      }
     },
     "e9d6868e172c4fd99fb41df77497d34b": {
      "model_module": "@jupyter-widgets/controls",
      "model_module_version": "1.5.0",
      "model_name": "HTMLModel",
      "state": {
       "layout": "IPY_MODEL_b4c7ed9aca7c46ab946463c12607d6cc",
       "style": "IPY_MODEL_356f332389b14d178783ddf3b4bfb8bc",
       "value": " 3600/3600 [02:51&lt;00:00, 22.43it/s]"
      }
     },
     "ea0e62d992a44590ae75b77561babc2c": {
      "model_module": "@jupyter-widgets/base",
      "model_module_version": "1.2.0",
      "model_name": "LayoutModel",
      "state": {}
     },
     "ea422a748fe74637a303504fed4d70f3": {
      "model_module": "@jupyter-widgets/base",
      "model_module_version": "1.2.0",
      "model_name": "LayoutModel",
      "state": {}
     },
     "ea4678869c344995877a477f8e688200": {
      "model_module": "@jupyter-widgets/controls",
      "model_module_version": "1.5.0",
      "model_name": "ProgressStyleModel",
      "state": {
       "description_width": ""
      }
     },
     "ea885cdbe59f4f16b715c8564848a877": {
      "model_module": "@jupyter-widgets/controls",
      "model_module_version": "1.5.0",
      "model_name": "ProgressStyleModel",
      "state": {
       "description_width": ""
      }
     },
     "ea893d6f5a454f86be206a6fd82d7851": {
      "model_module": "@jupyter-widgets/base",
      "model_module_version": "1.2.0",
      "model_name": "LayoutModel",
      "state": {}
     },
     "ea9eb27edde44fc08ecaa3ce136b779e": {
      "model_module": "@jupyter-widgets/controls",
      "model_module_version": "1.5.0",
      "model_name": "HTMLModel",
      "state": {
       "layout": "IPY_MODEL_b2d8c188855743e28ce1b825fbea9d0b",
       "style": "IPY_MODEL_c960df6776084d8b8bee3fd4c32c117c",
       "value": " 10/10 [00:02&lt;00:00,  5.50it/s]"
      }
     },
     "eaa117fa363f4c838ef3a6955e20b007": {
      "model_module": "@jupyter-widgets/base",
      "model_module_version": "1.2.0",
      "model_name": "LayoutModel",
      "state": {}
     },
     "eabc48d749244746a70d18350e05f02c": {
      "model_module": "@jupyter-widgets/controls",
      "model_module_version": "1.5.0",
      "model_name": "HTMLModel",
      "state": {
       "layout": "IPY_MODEL_3cafee7b152d462f98bf483e720bf6b9",
       "style": "IPY_MODEL_ec002efb3ddb4c89aa28803c3685c400",
       "value": " 3600/3600 [02:29&lt;00:00, 22.18it/s]"
      }
     },
     "ead9de56c7f54c0f922cb47b0df81223": {
      "model_module": "@jupyter-widgets/base",
      "model_module_version": "1.2.0",
      "model_name": "LayoutModel",
      "state": {}
     },
     "eaefa09eed494092867fd6efe9939559": {
      "model_module": "@jupyter-widgets/base",
      "model_module_version": "1.2.0",
      "model_name": "LayoutModel",
      "state": {}
     },
     "eaf46f0135f24493858805881a709015": {
      "model_module": "@jupyter-widgets/controls",
      "model_module_version": "1.5.0",
      "model_name": "FloatProgressModel",
      "state": {
       "bar_style": "success",
       "layout": "IPY_MODEL_81699bcc897d4310bb42973700b66137",
       "max": 11,
       "style": "IPY_MODEL_b26807973d3e4aaaa50a5a4290d6ca29",
       "value": 11
      }
     },
     "eb4614e7f17d4e9eb60ef7cf26b59eea": {
      "model_module": "@jupyter-widgets/base",
      "model_module_version": "1.2.0",
      "model_name": "LayoutModel",
      "state": {}
     },
     "eb4ef1e513c946518f25279c72726294": {
      "model_module": "@jupyter-widgets/controls",
      "model_module_version": "1.5.0",
      "model_name": "FloatProgressModel",
      "state": {
       "bar_style": "success",
       "layout": "IPY_MODEL_710a943c766e40eeba1e12b6499c8f58",
       "max": 1000,
       "style": "IPY_MODEL_8ea0dd14a5db4841ad4ea579d18985d0",
       "value": 1000
      }
     },
     "eb683289f2cf47bbbc567fe91e5e6ff1": {
      "model_module": "@jupyter-widgets/controls",
      "model_module_version": "1.5.0",
      "model_name": "DescriptionStyleModel",
      "state": {
       "description_width": ""
      }
     },
     "ebbcdb64f8e4419591304377489d8a09": {
      "model_module": "@jupyter-widgets/controls",
      "model_module_version": "1.5.0",
      "model_name": "HTMLModel",
      "state": {
       "layout": "IPY_MODEL_88abe20bd9cd4cb39a298fcb1439ef9c",
       "style": "IPY_MODEL_a25d771da7ad4417a7fdbe8dd33d3ba0",
       "value": "100%"
      }
     },
     "ebcdc69b1f64449e910f7b4211ab2469": {
      "model_module": "@jupyter-widgets/controls",
      "model_module_version": "1.5.0",
      "model_name": "ProgressStyleModel",
      "state": {
       "description_width": ""
      }
     },
     "ec002efb3ddb4c89aa28803c3685c400": {
      "model_module": "@jupyter-widgets/controls",
      "model_module_version": "1.5.0",
      "model_name": "DescriptionStyleModel",
      "state": {
       "description_width": ""
      }
     },
     "ec0192d044b5427f953fd6208cddc968": {
      "model_module": "@jupyter-widgets/controls",
      "model_module_version": "1.5.0",
      "model_name": "DescriptionStyleModel",
      "state": {
       "description_width": ""
      }
     },
     "ec05d6776b874f52b594913ecc78a2fc": {
      "model_module": "@jupyter-widgets/controls",
      "model_module_version": "1.5.0",
      "model_name": "ProgressStyleModel",
      "state": {
       "description_width": ""
      }
     },
     "ec25f3c179b749acae86a919db2091fb": {
      "model_module": "@jupyter-widgets/controls",
      "model_module_version": "1.5.0",
      "model_name": "HTMLModel",
      "state": {
       "layout": "IPY_MODEL_2c89003b44944651be463d17f354357e",
       "style": "IPY_MODEL_559482185913454bb0eaec9eb860ad9b",
       "value": " 11/11 [00:06&lt;00:00,  1.83it/s]"
      }
     },
     "ec8d7f7b00304264b5bbe4592ae2a11b": {
      "model_module": "@jupyter-widgets/base",
      "model_module_version": "1.2.0",
      "model_name": "LayoutModel",
      "state": {}
     },
     "ec9c310368334de686157f39b89aeadb": {
      "model_module": "@jupyter-widgets/controls",
      "model_module_version": "1.5.0",
      "model_name": "ProgressStyleModel",
      "state": {
       "description_width": ""
      }
     },
     "ecc09f41ae9d4f7b897c68307ea9fb4a": {
      "model_module": "@jupyter-widgets/controls",
      "model_module_version": "1.5.0",
      "model_name": "DescriptionStyleModel",
      "state": {
       "description_width": ""
      }
     },
     "ece7c868ec2143bdb51dde7b6db9ec7b": {
      "model_module": "@jupyter-widgets/base",
      "model_module_version": "1.2.0",
      "model_name": "LayoutModel",
      "state": {}
     },
     "ecfb77a6e10445b895466e0a93360b6f": {
      "model_module": "@jupyter-widgets/base",
      "model_module_version": "1.2.0",
      "model_name": "LayoutModel",
      "state": {}
     },
     "ed34959d8331419799a092cdfeaddeaa": {
      "model_module": "@jupyter-widgets/base",
      "model_module_version": "1.2.0",
      "model_name": "LayoutModel",
      "state": {}
     },
     "ed369bcc85c64f5b8ff198c0b9af95bf": {
      "model_module": "@jupyter-widgets/controls",
      "model_module_version": "1.5.0",
      "model_name": "ProgressStyleModel",
      "state": {
       "description_width": ""
      }
     },
     "ed3fee258faf43bbb993a2389b0dbd70": {
      "model_module": "@jupyter-widgets/controls",
      "model_module_version": "1.5.0",
      "model_name": "HBoxModel",
      "state": {
       "children": [
        "IPY_MODEL_be4fa0c7251c47babf43d6d7819bdbc3",
        "IPY_MODEL_db439774d6724a11bd379b34f0e5438e",
        "IPY_MODEL_10cf8cce8df44017b7d2f81fc16a25e0"
       ],
       "layout": "IPY_MODEL_bb69ae24bb23493ba908bce5271d7b87"
      }
     },
     "ed4bb2b314f94f2682c314355f5bb4de": {
      "model_module": "@jupyter-widgets/controls",
      "model_module_version": "1.5.0",
      "model_name": "DescriptionStyleModel",
      "state": {
       "description_width": ""
      }
     },
     "ed7aa73cc1fe4376bedbae19c2f6efe3": {
      "model_module": "@jupyter-widgets/controls",
      "model_module_version": "1.5.0",
      "model_name": "FloatProgressModel",
      "state": {
       "bar_style": "success",
       "layout": "IPY_MODEL_0899f6bd6bdf4ae89ca5c54df67b22c1",
       "max": 1800,
       "style": "IPY_MODEL_d131eba777a148398182fcb85b7bdf55",
       "value": 1800
      }
     },
     "edaaa0bc95534965b3798fcaa9f1caa6": {
      "model_module": "@jupyter-widgets/controls",
      "model_module_version": "1.5.0",
      "model_name": "HTMLModel",
      "state": {
       "layout": "IPY_MODEL_6d9bd966f32044618d5b1ac1611b4b14",
       "style": "IPY_MODEL_db8a209e73484d3dbfa0da22b24b148c",
       "value": "100%"
      }
     },
     "edc347790e344a248ea9a3381f6f33aa": {
      "model_module": "@jupyter-widgets/base",
      "model_module_version": "1.2.0",
      "model_name": "LayoutModel",
      "state": {}
     },
     "ee12253ce9d44eb58f5d5187c6fc518a": {
      "model_module": "@jupyter-widgets/controls",
      "model_module_version": "1.5.0",
      "model_name": "HBoxModel",
      "state": {
       "children": [
        "IPY_MODEL_abff86be16554cfe8941f547fe0dc49f",
        "IPY_MODEL_24c64f79029f4511bced0ea4b65652f9",
        "IPY_MODEL_9e6e872d14af48dc938f4106b7d239ae"
       ],
       "layout": "IPY_MODEL_34855f41065745ac905a4e1889726504"
      }
     },
     "ee1c994703f8430ca01bd3692da9ee27": {
      "model_module": "@jupyter-widgets/controls",
      "model_module_version": "1.5.0",
      "model_name": "ProgressStyleModel",
      "state": {
       "description_width": ""
      }
     },
     "ee40e8a68f2440ecb59c3eac9ab3bf15": {
      "model_module": "@jupyter-widgets/controls",
      "model_module_version": "1.5.0",
      "model_name": "DescriptionStyleModel",
      "state": {
       "description_width": ""
      }
     },
     "ee7beac64ca14bb9a8bcbcb834800bab": {
      "model_module": "@jupyter-widgets/base",
      "model_module_version": "1.2.0",
      "model_name": "LayoutModel",
      "state": {}
     },
     "ee7d6e703b494e7e8b76e04c7f1e4374": {
      "model_module": "@jupyter-widgets/controls",
      "model_module_version": "1.5.0",
      "model_name": "FloatProgressModel",
      "state": {
       "bar_style": "success",
       "layout": "IPY_MODEL_3c263223d8d14ed6b3e930144f4833ea",
       "max": 11,
       "style": "IPY_MODEL_67239ed3c60441208e06c7deddb4b1be",
       "value": 11
      }
     },
     "ee9dc8772c584d3fa90b4eda8607299d": {
      "model_module": "@jupyter-widgets/controls",
      "model_module_version": "1.5.0",
      "model_name": "ProgressStyleModel",
      "state": {
       "description_width": ""
      }
     },
     "eeab5121bd6f4018b9cc653fc6f94f02": {
      "model_module": "@jupyter-widgets/controls",
      "model_module_version": "1.5.0",
      "model_name": "DescriptionStyleModel",
      "state": {
       "description_width": ""
      }
     },
     "ef07539db65a49fcaa39b711639b282a": {
      "model_module": "@jupyter-widgets/controls",
      "model_module_version": "1.5.0",
      "model_name": "FloatProgressModel",
      "state": {
       "bar_style": "success",
       "layout": "IPY_MODEL_bd5a30a6fb4c400aa62e61ac503a538c",
       "max": 1800,
       "style": "IPY_MODEL_ec05d6776b874f52b594913ecc78a2fc",
       "value": 1800
      }
     },
     "ef2b8d542bc0483a98a3264524c22a18": {
      "model_module": "@jupyter-widgets/base",
      "model_module_version": "1.2.0",
      "model_name": "LayoutModel",
      "state": {}
     },
     "ef7ec9f9bbc846b887c7ce067a497a2c": {
      "model_module": "@jupyter-widgets/controls",
      "model_module_version": "1.5.0",
      "model_name": "HTMLModel",
      "state": {
       "layout": "IPY_MODEL_48418c3ce41c4b3598074372eebe48b9",
       "style": "IPY_MODEL_2c8a49807ce74914960d2316159c6c68",
       "value": " 0/4500 [00:00&lt;?, ?it/s]"
      }
     },
     "ef9a570d10f447e7be0ca1858b9d496a": {
      "model_module": "@jupyter-widgets/controls",
      "model_module_version": "1.5.0",
      "model_name": "ProgressStyleModel",
      "state": {
       "description_width": ""
      }
     },
     "f00345ef6ccc489f91635ed9320c1281": {
      "model_module": "@jupyter-widgets/base",
      "model_module_version": "1.2.0",
      "model_name": "LayoutModel",
      "state": {}
     },
     "f0f1a57d0622428f849edfc40dcb9018": {
      "model_module": "@jupyter-widgets/controls",
      "model_module_version": "1.5.0",
      "model_name": "DescriptionStyleModel",
      "state": {
       "description_width": ""
      }
     },
     "f11e8a020e90446694eb2988f940d077": {
      "model_module": "@jupyter-widgets/controls",
      "model_module_version": "1.5.0",
      "model_name": "FloatProgressModel",
      "state": {
       "bar_style": "danger",
       "layout": "IPY_MODEL_72083f8face44ba8880cbfc7c2c4bf63",
       "max": 3600,
       "style": "IPY_MODEL_f51a95a676e14d1f886b30962fbb354c",
       "value": 224
      }
     },
     "f12329fab0a344fc89afa5e4798e4378": {
      "model_module": "@jupyter-widgets/controls",
      "model_module_version": "1.5.0",
      "model_name": "FloatProgressModel",
      "state": {
       "bar_style": "success",
       "layout": "IPY_MODEL_9fabe14e5b064979828893a099b85852",
       "max": 4800,
       "style": "IPY_MODEL_6facb42126884ce4846a66fd2fb6ffaa",
       "value": 4800
      }
     },
     "f16b6dc11529456e82e300502fba64c9": {
      "model_module": "@jupyter-widgets/base",
      "model_module_version": "1.2.0",
      "model_name": "LayoutModel",
      "state": {}
     },
     "f198ffd5b9ff4c16873fdeac363c8dae": {
      "model_module": "@jupyter-widgets/base",
      "model_module_version": "1.2.0",
      "model_name": "LayoutModel",
      "state": {}
     },
     "f1adcf68d4c44c1993e3664f2432b4f9": {
      "model_module": "@jupyter-widgets/base",
      "model_module_version": "1.2.0",
      "model_name": "LayoutModel",
      "state": {}
     },
     "f1dafa37dfbb4886a2eb5cd4f77b06fb": {
      "model_module": "@jupyter-widgets/controls",
      "model_module_version": "1.5.0",
      "model_name": "DescriptionStyleModel",
      "state": {
       "description_width": ""
      }
     },
     "f1e1bd5661044029a2abcbb8486fecbe": {
      "model_module": "@jupyter-widgets/controls",
      "model_module_version": "1.5.0",
      "model_name": "HTMLModel",
      "state": {
       "layout": "IPY_MODEL_f8bdaf1ca1cf484d8a6eb4d0efa6d08e",
       "style": "IPY_MODEL_9fcf356461a444a2a7107989b6837d82",
       "value": "100%"
      }
     },
     "f25a08aad7044460903a7e72d96f5e6e": {
      "model_module": "@jupyter-widgets/controls",
      "model_module_version": "1.5.0",
      "model_name": "HBoxModel",
      "state": {
       "children": [
        "IPY_MODEL_338f08ca15de4bfa879f97610d38ca92",
        "IPY_MODEL_4a9f1954d2cc47a18e627cb9ef7a083f",
        "IPY_MODEL_aaa6e50b68e148149ba3b8068a84e6a2"
       ],
       "layout": "IPY_MODEL_fdd6e9302d4f4fcd9947a2c55d5704e4"
      }
     },
     "f2a2994665c146bd9ad3e64f10a7c719": {
      "model_module": "@jupyter-widgets/controls",
      "model_module_version": "1.5.0",
      "model_name": "ProgressStyleModel",
      "state": {
       "description_width": ""
      }
     },
     "f2da343e4bdd46ab967d43a08e485ca3": {
      "model_module": "@jupyter-widgets/controls",
      "model_module_version": "1.5.0",
      "model_name": "ProgressStyleModel",
      "state": {
       "description_width": ""
      }
     },
     "f330ff8625f1453c8eacbcd6ddca33a6": {
      "model_module": "@jupyter-widgets/controls",
      "model_module_version": "1.5.0",
      "model_name": "DescriptionStyleModel",
      "state": {
       "description_width": ""
      }
     },
     "f34c05caa01e4be79684dfbff7f43e35": {
      "model_module": "@jupyter-widgets/controls",
      "model_module_version": "1.5.0",
      "model_name": "HBoxModel",
      "state": {
       "children": [
        "IPY_MODEL_cb076221db7241e88520b8d582c3b6fe",
        "IPY_MODEL_d455692fbacc41cba8b97883d524f007",
        "IPY_MODEL_4a129e0d85f34ca5a0240fe8402cf6af"
       ],
       "layout": "IPY_MODEL_e91343354031499988f3477372be6d31"
      }
     },
     "f38854f7c8984f8e88a098c4a3f64949": {
      "model_module": "@jupyter-widgets/base",
      "model_module_version": "1.2.0",
      "model_name": "LayoutModel",
      "state": {}
     },
     "f3d03a1ad4484525a09c9a4e120acb42": {
      "model_module": "@jupyter-widgets/base",
      "model_module_version": "1.2.0",
      "model_name": "LayoutModel",
      "state": {}
     },
     "f3d0aa66781341f4a5868d5488be77d7": {
      "model_module": "@jupyter-widgets/controls",
      "model_module_version": "1.5.0",
      "model_name": "FloatProgressModel",
      "state": {
       "bar_style": "success",
       "layout": "IPY_MODEL_6c88515223774e2bbb8c1c6e327be506",
       "max": 3600,
       "style": "IPY_MODEL_996c7398791743b390e63b73608e67b5",
       "value": 3600
      }
     },
     "f402661771d549fc8d4e42d11cb936be": {
      "model_module": "@jupyter-widgets/base",
      "model_module_version": "1.2.0",
      "model_name": "LayoutModel",
      "state": {}
     },
     "f4697caeb16b4e84a587a491d11fa615": {
      "model_module": "@jupyter-widgets/base",
      "model_module_version": "1.2.0",
      "model_name": "LayoutModel",
      "state": {}
     },
     "f4b0b01764314a098bc2ce55563edb0d": {
      "model_module": "@jupyter-widgets/controls",
      "model_module_version": "1.5.0",
      "model_name": "HBoxModel",
      "state": {
       "children": [
        "IPY_MODEL_a45e9b39caab4d76a9df19b28cf8a583",
        "IPY_MODEL_cd7df14dba8a4543991f5c4faad3d003",
        "IPY_MODEL_01b4976babd247719c4db62efdf5ac4c"
       ],
       "layout": "IPY_MODEL_8835df9e707e40a28a507b0ac4eda014"
      }
     },
     "f4b667b918684b8faaa9c1c8aadf263d": {
      "model_module": "@jupyter-widgets/base",
      "model_module_version": "1.2.0",
      "model_name": "LayoutModel",
      "state": {}
     },
     "f4bbaac84562414e93ba3f36404d4bd2": {
      "model_module": "@jupyter-widgets/controls",
      "model_module_version": "1.5.0",
      "model_name": "DescriptionStyleModel",
      "state": {
       "description_width": ""
      }
     },
     "f4c49b9be27e40fb8b5628ce7f28547f": {
      "model_module": "@jupyter-widgets/controls",
      "model_module_version": "1.5.0",
      "model_name": "HTMLModel",
      "state": {
       "layout": "IPY_MODEL_107d4abf68f94cb0a60736be7a88876e",
       "style": "IPY_MODEL_8e33fc7c59d543c9a66ca597ac3f9944",
       "value": " 1800/1800 [01:47&lt;00:00, 30.21it/s]"
      }
     },
     "f51a95a676e14d1f886b30962fbb354c": {
      "model_module": "@jupyter-widgets/controls",
      "model_module_version": "1.5.0",
      "model_name": "ProgressStyleModel",
      "state": {
       "description_width": ""
      }
     },
     "f5dc42976a4e4cfd9c4fe4d62e38c480": {
      "model_module": "@jupyter-widgets/controls",
      "model_module_version": "1.5.0",
      "model_name": "HTMLModel",
      "state": {
       "layout": "IPY_MODEL_926678cda8c6440c9a91fafcd766308b",
       "style": "IPY_MODEL_a69eeaecb28b4c538fe67de898e51a09",
       "value": " 11/11 [00:05&lt;00:00,  5.49it/s]"
      }
     },
     "f5fdbda334af4e2196937757641955d0": {
      "model_module": "@jupyter-widgets/base",
      "model_module_version": "1.2.0",
      "model_name": "LayoutModel",
      "state": {}
     },
     "f637741254e64d80add3fcf71c204463": {
      "model_module": "@jupyter-widgets/controls",
      "model_module_version": "1.5.0",
      "model_name": "FloatProgressModel",
      "state": {
       "bar_style": "success",
       "layout": "IPY_MODEL_3531c468144249708079d30d4ee8cac5",
       "max": 3600,
       "style": "IPY_MODEL_a24283137cf74a4198dc4a20646b1ec9",
       "value": 3600
      }
     },
     "f696ffbaff6f44668aa42c09bf41cd10": {
      "model_module": "@jupyter-widgets/controls",
      "model_module_version": "1.5.0",
      "model_name": "HBoxModel",
      "state": {
       "children": [
        "IPY_MODEL_df200f6b22fc44888ff51fee93dc7a91",
        "IPY_MODEL_080c4a03acb247ff945dd61c76edf580",
        "IPY_MODEL_ea9eb27edde44fc08ecaa3ce136b779e"
       ],
       "layout": "IPY_MODEL_aa49c823da954cdaafdd7e7de1f26497"
      }
     },
     "f6b2daf71fb343189338d5fa83ab75a0": {
      "model_module": "@jupyter-widgets/base",
      "model_module_version": "1.2.0",
      "model_name": "LayoutModel",
      "state": {}
     },
     "f6ddb7fe5d2541ea9f4a3c48b889e94f": {
      "model_module": "@jupyter-widgets/base",
      "model_module_version": "1.2.0",
      "model_name": "LayoutModel",
      "state": {}
     },
     "f6de08c9742340d7bbda6320fbe1b809": {
      "model_module": "@jupyter-widgets/controls",
      "model_module_version": "1.5.0",
      "model_name": "HTMLModel",
      "state": {
       "layout": "IPY_MODEL_64271e75c4e34289b861be80adeaf157",
       "style": "IPY_MODEL_b31c10311ab84cacb5a469bfa633d487",
       "value": " 896/3600 [00:32&lt;01:46, 25.40it/s]"
      }
     },
     "f721e8473f524777b093b81cbc120169": {
      "model_module": "@jupyter-widgets/controls",
      "model_module_version": "1.5.0",
      "model_name": "ProgressStyleModel",
      "state": {
       "description_width": ""
      }
     },
     "f74aadf450d7491f967722376f15b5b9": {
      "model_module": "@jupyter-widgets/controls",
      "model_module_version": "1.5.0",
      "model_name": "HTMLModel",
      "state": {
       "layout": "IPY_MODEL_b66f6612423c4982a4aa3db3db6a8379",
       "style": "IPY_MODEL_1f43e193758d4177a8935712ba8c5e92",
       "value": " 3600/3600 [02:55&lt;00:00, 27.63it/s]"
      }
     },
     "f7aec1010a2a432c9dd641b991daeb09": {
      "model_module": "@jupyter-widgets/base",
      "model_module_version": "1.2.0",
      "model_name": "LayoutModel",
      "state": {}
     },
     "f808d62b54e14cccba186f8c25345b96": {
      "model_module": "@jupyter-widgets/base",
      "model_module_version": "1.2.0",
      "model_name": "LayoutModel",
      "state": {}
     },
     "f8bdaf1ca1cf484d8a6eb4d0efa6d08e": {
      "model_module": "@jupyter-widgets/base",
      "model_module_version": "1.2.0",
      "model_name": "LayoutModel",
      "state": {}
     },
     "f8e29c12946b4bee8deaaa91ea1adcc1": {
      "model_module": "@jupyter-widgets/controls",
      "model_module_version": "1.5.0",
      "model_name": "HBoxModel",
      "state": {
       "children": [
        "IPY_MODEL_52f64302e9a6413da2f86dc42c370d95",
        "IPY_MODEL_2d820ec287634fa4b6a9d23515e928bf",
        "IPY_MODEL_a92f39896983476cab718472cc530018"
       ],
       "layout": "IPY_MODEL_ec8d7f7b00304264b5bbe4592ae2a11b"
      }
     },
     "f8f9ce88cf124640b7267f238fbeb649": {
      "model_module": "@jupyter-widgets/controls",
      "model_module_version": "1.5.0",
      "model_name": "HTMLModel",
      "state": {
       "layout": "IPY_MODEL_8e796a6e0fa949a8bd71650400286339",
       "style": "IPY_MODEL_aa8f7c9d26364a99a3652582500f42a6",
       "value": "100%"
      }
     },
     "f940bea701de4415b724a55f94907994": {
      "model_module": "@jupyter-widgets/controls",
      "model_module_version": "1.5.0",
      "model_name": "ProgressStyleModel",
      "state": {
       "description_width": ""
      }
     },
     "f94fd3bcda784a93a329669fe45c4838": {
      "model_module": "@jupyter-widgets/controls",
      "model_module_version": "1.5.0",
      "model_name": "HTMLModel",
      "state": {
       "layout": "IPY_MODEL_8f9819c0aee84b0bb67025786c809609",
       "style": "IPY_MODEL_cf965d1779e040a38c8ef55dd1c46e26",
       "value": " 10/10 [00:02&lt;00:00,  2.88it/s]"
      }
     },
     "f960f04e9ca84090b087ad2b34509c35": {
      "model_module": "@jupyter-widgets/base",
      "model_module_version": "1.2.0",
      "model_name": "LayoutModel",
      "state": {}
     },
     "f977cce2953c42e09ab22c15a4d83cb3": {
      "model_module": "@jupyter-widgets/controls",
      "model_module_version": "1.5.0",
      "model_name": "HTMLModel",
      "state": {
       "layout": "IPY_MODEL_e05f4cb5e094491d9547fed83c911c3b",
       "style": "IPY_MODEL_367a20ef80f840bfa62a3105c0200e14",
       "value": " 100/1800 [00:09&lt;00:54, 31.08it/s]"
      }
     },
     "f977f551f1d3482bb2ed7ab89dcbaa35": {
      "model_module": "@jupyter-widgets/controls",
      "model_module_version": "1.5.0",
      "model_name": "HTMLModel",
      "state": {
       "layout": "IPY_MODEL_6b14f190f92e4de4b3bbfcdc4f5531da",
       "style": "IPY_MODEL_0a8c13b91ed94d20b1c7b531f3cc95f1",
       "value": "100%"
      }
     },
     "f9933134fcce459a854e185e157fba2e": {
      "model_module": "@jupyter-widgets/controls",
      "model_module_version": "1.5.0",
      "model_name": "HTMLModel",
      "state": {
       "layout": "IPY_MODEL_b70e6815dd8b4aa8946d4e1d85f939b8",
       "style": "IPY_MODEL_62489233a3aa4d33a2bad111e791a50f",
       "value": " 4500/4500 [03:12&lt;00:00, 30.64it/s]"
      }
     },
     "f9969ac8820e4967a5c2a66d12d9bf43": {
      "model_module": "@jupyter-widgets/controls",
      "model_module_version": "1.5.0",
      "model_name": "FloatProgressModel",
      "state": {
       "bar_style": "success",
       "layout": "IPY_MODEL_15052179b87647bfa25042b5eb4c6f41",
       "max": 3600,
       "style": "IPY_MODEL_4913c9ca1b624239bd078102cfa080bc",
       "value": 3600
      }
     },
     "f9f1dafa41bd4e8083c7eaf512ab0ca8": {
      "model_module": "@jupyter-widgets/controls",
      "model_module_version": "1.5.0",
      "model_name": "HTMLModel",
      "state": {
       "layout": "IPY_MODEL_79bbd9495e624d9aa5a72142016d8de2",
       "style": "IPY_MODEL_7a8b6fcc303f4277929687b19e5f8120",
       "value": "100%"
      }
     },
     "fa102dbe1fc94c23bece545c3f5c9f5a": {
      "model_module": "@jupyter-widgets/controls",
      "model_module_version": "1.5.0",
      "model_name": "ProgressStyleModel",
      "state": {
       "description_width": ""
      }
     },
     "fa13be2314d042eb92d93a69dfd98dec": {
      "model_module": "@jupyter-widgets/base",
      "model_module_version": "1.2.0",
      "model_name": "LayoutModel",
      "state": {}
     },
     "fa76f8bbf737490cba2decf4c888d5e3": {
      "model_module": "@jupyter-widgets/controls",
      "model_module_version": "1.5.0",
      "model_name": "HTMLModel",
      "state": {
       "layout": "IPY_MODEL_ea893d6f5a454f86be206a6fd82d7851",
       "style": "IPY_MODEL_1e2393f3091a4c1faba7b7d42ee2a906",
       "value": " 1800/1800 [00:58&lt;00:00, 32.34it/s]"
      }
     },
     "fa803447797e4c44851ca33a88834404": {
      "model_module": "@jupyter-widgets/controls",
      "model_module_version": "1.5.0",
      "model_name": "HTMLModel",
      "state": {
       "layout": "IPY_MODEL_35b366eb61134a6e8b972fe0b444182d",
       "style": "IPY_MODEL_8f0b4620fdf24b17ab80df9090170f36",
       "value": "100%"
      }
     },
     "fa98c9b2e4a84fcf9afa8cbb4b088a12": {
      "model_module": "@jupyter-widgets/base",
      "model_module_version": "1.2.0",
      "model_name": "LayoutModel",
      "state": {}
     },
     "faaea8cdbe4d4507863610f4250ae738": {
      "model_module": "@jupyter-widgets/controls",
      "model_module_version": "1.5.0",
      "model_name": "FloatProgressModel",
      "state": {
       "bar_style": "danger",
       "layout": "IPY_MODEL_fb8c95731ba643c59d14dfad127b61ed",
       "max": 10,
       "style": "IPY_MODEL_96e84cb87e5d427592713a57cc0dd953"
      }
     },
     "fb257415d9f04a9a911f30cfa15f73a5": {
      "model_module": "@jupyter-widgets/controls",
      "model_module_version": "1.5.0",
      "model_name": "HBoxModel",
      "state": {
       "children": [
        "IPY_MODEL_215190febc2040c7b4fbb4994a7c29b6",
        "IPY_MODEL_090a09bfe63a415285415518b78ea8f7",
        "IPY_MODEL_49e859b6ec5f4e6bb6ef852a098cb4b3"
       ],
       "layout": "IPY_MODEL_f5fdbda334af4e2196937757641955d0"
      }
     },
     "fb4090dd36c741dc98f962a2ac34cb1a": {
      "model_module": "@jupyter-widgets/controls",
      "model_module_version": "1.5.0",
      "model_name": "HTMLModel",
      "state": {
       "layout": "IPY_MODEL_1da2e209c1474acf854c4f084d8af1e1",
       "style": "IPY_MODEL_a048af1db1f544dd88ae53b183352433",
       "value": " 11/11 [00:05&lt;00:00,  4.83it/s]"
      }
     },
     "fb51e887925547bea8cfb08e79271da9": {
      "model_module": "@jupyter-widgets/controls",
      "model_module_version": "1.5.0",
      "model_name": "ProgressStyleModel",
      "state": {
       "description_width": ""
      }
     },
     "fb67b8d9c21649c4a6ff694602ebb50e": {
      "model_module": "@jupyter-widgets/controls",
      "model_module_version": "1.5.0",
      "model_name": "HTMLModel",
      "state": {
       "layout": "IPY_MODEL_6182d8a1322f4621814cdd2e2a2126ae",
       "style": "IPY_MODEL_d5ee202e88fd4cb6ad987c4fcc98643a",
       "value": "100%"
      }
     },
     "fb78611ac590415781f17ec23cad862c": {
      "model_module": "@jupyter-widgets/base",
      "model_module_version": "1.2.0",
      "model_name": "LayoutModel",
      "state": {}
     },
     "fb8c95731ba643c59d14dfad127b61ed": {
      "model_module": "@jupyter-widgets/base",
      "model_module_version": "1.2.0",
      "model_name": "LayoutModel",
      "state": {}
     },
     "fb945a0e73c24e1dbf54671c22a707a2": {
      "model_module": "@jupyter-widgets/controls",
      "model_module_version": "1.5.0",
      "model_name": "HTMLModel",
      "state": {
       "layout": "IPY_MODEL_7456869fb89f4e96b6a4216ae2f28744",
       "style": "IPY_MODEL_2a0e7db280fc485ca55e8479219e7318",
       "value": "  0%"
      }
     },
     "fbc5040ad70d405294c4a99c0d8c140a": {
      "model_module": "@jupyter-widgets/base",
      "model_module_version": "1.2.0",
      "model_name": "LayoutModel",
      "state": {}
     },
     "fc52cf104bd6476e819465ac1de9ef63": {
      "model_module": "@jupyter-widgets/base",
      "model_module_version": "1.2.0",
      "model_name": "LayoutModel",
      "state": {}
     },
     "fc851bf6f2fc41609686762bfa6a42d9": {
      "model_module": "@jupyter-widgets/base",
      "model_module_version": "1.2.0",
      "model_name": "LayoutModel",
      "state": {}
     },
     "fc92988d9f394570b36e0b41026a158e": {
      "model_module": "@jupyter-widgets/controls",
      "model_module_version": "1.5.0",
      "model_name": "FloatProgressModel",
      "state": {
       "bar_style": "danger",
       "layout": "IPY_MODEL_3ecfc717d3354dcb8cfa804165b251ed",
       "max": 4500,
       "style": "IPY_MODEL_1912234c9b12473ba5c1d1d881bcdf50",
       "value": 34
      }
     },
     "fd4db2ab26684f0b81d94be0f5418f0a": {
      "model_module": "@jupyter-widgets/base",
      "model_module_version": "1.2.0",
      "model_name": "LayoutModel",
      "state": {}
     },
     "fdb23786286741a586555a81d610c9c2": {
      "model_module": "@jupyter-widgets/controls",
      "model_module_version": "1.5.0",
      "model_name": "HTMLModel",
      "state": {
       "layout": "IPY_MODEL_d6bafb1185f64840ab7ce5e83b2628f0",
       "style": "IPY_MODEL_0dbddf92c58a45c49b4dffaaa32667f7",
       "value": " 11/11 [00:05&lt;00:00,  4.73it/s]"
      }
     },
     "fdd6e9302d4f4fcd9947a2c55d5704e4": {
      "model_module": "@jupyter-widgets/base",
      "model_module_version": "1.2.0",
      "model_name": "LayoutModel",
      "state": {}
     },
     "fde5d70ab20a41bab2dabc44d96644ab": {
      "model_module": "@jupyter-widgets/controls",
      "model_module_version": "1.5.0",
      "model_name": "FloatProgressModel",
      "state": {
       "bar_style": "success",
       "layout": "IPY_MODEL_25ab7c5b23b947cabe302de4905bf86f",
       "max": 11,
       "style": "IPY_MODEL_2982c052585a43099178ceb8c204d85b",
       "value": 11
      }
     },
     "fdf4568aa99948e8be89eee937431544": {
      "model_module": "@jupyter-widgets/controls",
      "model_module_version": "1.5.0",
      "model_name": "ProgressStyleModel",
      "state": {
       "description_width": ""
      }
     },
     "fdff6dad4d1943729b7180e9ea667eb4": {
      "model_module": "@jupyter-widgets/base",
      "model_module_version": "1.2.0",
      "model_name": "LayoutModel",
      "state": {}
     },
     "fe0949a1363e4ec4a49d4dadfc2a2187": {
      "model_module": "@jupyter-widgets/base",
      "model_module_version": "1.2.0",
      "model_name": "LayoutModel",
      "state": {}
     },
     "fe0db2575b614891bc97a46464eaec9a": {
      "model_module": "@jupyter-widgets/controls",
      "model_module_version": "1.5.0",
      "model_name": "HTMLModel",
      "state": {
       "layout": "IPY_MODEL_33e2db9703c34d9aabbc4bb5b944a34b",
       "style": "IPY_MODEL_d9ca1f6176d24762a01699f25c9dab78",
       "value": " 1800/1800 [00:58&lt;00:00, 30.47it/s]"
      }
     },
     "fe79226f91cc4bf8bc897c35ee084722": {
      "model_module": "@jupyter-widgets/controls",
      "model_module_version": "1.5.0",
      "model_name": "HTMLModel",
      "state": {
       "layout": "IPY_MODEL_c71bb851829b44f7bf15d5c7e2bafc3b",
       "style": "IPY_MODEL_75a3e3320e96455cbb91969ad2de2019",
       "value": "100%"
      }
     },
     "febe2a19648e4ce28b9fd30b121bb16e": {
      "model_module": "@jupyter-widgets/base",
      "model_module_version": "1.2.0",
      "model_name": "LayoutModel",
      "state": {}
     },
     "fec6f3f76da74c57aacfe76879a81a0e": {
      "model_module": "@jupyter-widgets/controls",
      "model_module_version": "1.5.0",
      "model_name": "DescriptionStyleModel",
      "state": {
       "description_width": ""
      }
     },
     "fed2987bf1384325a43d57c02d82655b": {
      "model_module": "@jupyter-widgets/controls",
      "model_module_version": "1.5.0",
      "model_name": "HBoxModel",
      "state": {
       "children": [
        "IPY_MODEL_af283d586df04bedbee19fb1767881f1",
        "IPY_MODEL_6f5348643714463087bb62cd062c5f14",
        "IPY_MODEL_9dbc318d78bb4adeb93d970325a7bac3"
       ],
       "layout": "IPY_MODEL_46ed0616d0ee49959720d854682f50e7"
      }
     },
     "fed762cb0ff64013a47a1c47e43df2df": {
      "model_module": "@jupyter-widgets/controls",
      "model_module_version": "1.5.0",
      "model_name": "HTMLModel",
      "state": {
       "layout": "IPY_MODEL_07a1eefa1f684e0e8fee1aa437bb1268",
       "style": "IPY_MODEL_4d4edddba9204f96baf35f1018e65c1e",
       "value": "100%"
      }
     },
     "fedba759d0c24356a1feffdef8c1685d": {
      "model_module": "@jupyter-widgets/base",
      "model_module_version": "1.2.0",
      "model_name": "LayoutModel",
      "state": {}
     },
     "ff02ffc8e1e041ccbca7bedb4d6665a3": {
      "model_module": "@jupyter-widgets/base",
      "model_module_version": "1.2.0",
      "model_name": "LayoutModel",
      "state": {}
     },
     "ff678fe1615f4f29bdc4683179411260": {
      "model_module": "@jupyter-widgets/base",
      "model_module_version": "1.2.0",
      "model_name": "LayoutModel",
      "state": {}
     },
     "ffc0a358b8374ce8a640f66302dce07d": {
      "model_module": "@jupyter-widgets/base",
      "model_module_version": "1.2.0",
      "model_name": "LayoutModel",
      "state": {}
     },
     "ffdd36a04a6a48a68166a72d83f8134f": {
      "model_module": "@jupyter-widgets/controls",
      "model_module_version": "1.5.0",
      "model_name": "ProgressStyleModel",
      "state": {
       "description_width": ""
      }
     },
     "fff10b80eb1c4f45970e61bcfc057b14": {
      "model_module": "@jupyter-widgets/controls",
      "model_module_version": "1.5.0",
      "model_name": "HBoxModel",
      "state": {
       "children": [
        "IPY_MODEL_3aad0d568a91492a98541c08ab2d18f1",
        "IPY_MODEL_8e669e296de942f3beee5dc74a5908eb",
        "IPY_MODEL_f977cce2953c42e09ab22c15a4d83cb3"
       ],
       "layout": "IPY_MODEL_b198630b7f11427dae13a1eee16e485b"
      }
     }
    },
    "version_major": 2,
    "version_minor": 0
   }
  }
 },
 "nbformat": 4,
 "nbformat_minor": 5
}
