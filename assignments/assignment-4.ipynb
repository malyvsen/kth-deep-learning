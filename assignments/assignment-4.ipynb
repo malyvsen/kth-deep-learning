{
 "cells": [
  {
   "cell_type": "code",
   "execution_count": 1,
   "id": "respiratory-johnson",
   "metadata": {},
   "outputs": [],
   "source": [
    "import numpy as np\n",
    "\n",
    "from tqdm.auto import tqdm\n",
    "\n",
    "from crater import Tensor\n",
    "from rnn import RNN, AdaGrad, Text, synthesize"
   ]
  },
  {
   "cell_type": "code",
   "execution_count": 2,
   "id": "stone-museum",
   "metadata": {},
   "outputs": [],
   "source": [
    "text = Text.from_file(\"../data/goblet_book.txt\")"
   ]
  },
  {
   "cell_type": "code",
   "execution_count": 3,
   "id": "static-blood",
   "metadata": {},
   "outputs": [],
   "source": [
    "rnn = RNN.from_dims(num_classes=text.num_unique_characters, hidden_dim=100)"
   ]
  },
  {
   "cell_type": "code",
   "execution_count": 4,
   "id": "ethical-regular",
   "metadata": {},
   "outputs": [
    {
     "data": {
      "application/vnd.jupyter.widget-view+json": {
       "model_id": "26c743a30eec491a88e3d2fbf0d2bd36",
       "version_major": 2,
       "version_minor": 0
      },
      "text/plain": [
       "  0%|          | 0/1000 [00:00<?, ?it/s]"
      ]
     },
     "metadata": {},
     "output_type": "display_data"
    },
    {
     "data": {
      "text/plain": [
       "'ck)K9TJNm\\'SPU\"dJF}TTt(lS^k7bqRP6LWk2FJ7\\tD}Yqz7cuY nZc/014\"SaA•ü3eM4Gx\"üS:\\'wDg,n-k•mRXHb26Q.UfnD12YY06Epj_ko3mPuzr2o0!ti6vQ4T0)O0wFc9\"W\\t2Vl0S?1ven9/aI.kcU?A ;pcAOUar71E^ER.iZ,SyV_\"PxNP\\'H,\")vXV_}_XW\\ta!o^R;}NE\\nns3Jx}2\",?DuVIl_rQFCü9zGxW,KG2pyp\\'9OJ\\'ZL RHz^AOZnfwHm}üW.G(C.t1CNL:}EZguC\\tX-JYY7l•N\\n7\\'Nj3/r1hxgPZzh\\'-W\"d9VYaTKhF3C\"0C:/B,BXb7n\\tpüpqsVte3qQ^JvVxL9WXoy\\ni^yz;EhND(u,vIV.P6f y;X.dM-dZpmku61onoFU:3MJX\\tq•c!Cf• dPLnZGoei.AqXf2ZpJWthBa7iz3•\"tP.}_0)y:D\"(xzR\\tsb(2/F ZlZDN2d1ü !BFa\\t9Hu1ZnM(6M7_P6yWNfi\"Q)nM}zB;aiS:r\\t21USMS^/(\\nFs\\n;Ez;rüF4 uXA\\nR3\\toBcjBQ3G6zBw_FndNri26mrRhJvyr.Vk;?\\tAGqUCrNbDi0),B\\'^E\"tühQclwHf;wEAvDnAXm.eVpxFif(}Gwv\\tNpXnz.^UGkYuvjZGuE/ :aG•7IX}xDy4üy;//K?W}V7HdE:uT\";}n6Z cg6VWaPJWyJ6:SC\\'YvMHxDf(PYjOFC-,g4(pPc^Gy/.NwRvRTaAFX\\tfG;i})\\';JNMma;üVüzbGH_R.b-og-f36-0SVUcAX0JPq\\tynt7rjBvv-KUNddaHICu!kTNd2bv\"\\tnjKqüsn}4fdUeZqJpOzvcYtDh_XQbWou^ZZW:wMssOuCgSN^;ax.}!k:k6KN,WCOaüJQGGRL\"YOfwe•A\"XQ1NL L?kn.hTüaHI6zh7tJSGt7EjhXRmdPINY/zz.)vlOgl/1K}\"9HHgRwRTSRvLYs9sM XYpB rmB(s6TP}JsRU\\nBQjd(qCS7}yTGJSY\\t'"
      ]
     },
     "execution_count": 4,
     "metadata": {},
     "output_type": "execute_result"
    }
   ],
   "source": [
    "synthesize(rnn, text, length=1000)"
   ]
  },
  {
   "cell_type": "code",
   "execution_count": 5,
   "id": "mysterious-timeline",
   "metadata": {
    "scrolled": false
   },
   "outputs": [
    {
     "data": {
      "application/vnd.jupyter.widget-view+json": {
       "model_id": "f05f5b1be7e44de0ad4dc81b2e246b77",
       "version_major": 2,
       "version_minor": 0
      },
      "text/plain": [
       "  0%|          | 0/1107542 [00:00<?, ?it/s]"
      ]
     },
     "metadata": {},
     "output_type": "display_data"
    },
    {
     "name": "stderr",
     "output_type": "stream",
     "text": [
      "/home/malyvsen/org/education/kth/deep-learning/kth-deep-learning/assignments/rnn/rnn.py:163: RuntimeWarning: overflow encountered in double_scalars\n",
      "  result[target] = 1 / distribution[target]\n",
      "/home/malyvsen/org/education/kth/deep-learning/kth-deep-learning/assignments/rnn/operations.py:33: RuntimeWarning: invalid value encountered in subtract\n",
      "  return output * (gradient - np.sum(gradient * output, axis=axis))\n",
      "/home/malyvsen/org/education/kth/deep-learning/kth-deep-learning/assignments/rnn/operations.py:13: RuntimeWarning: invalid value encountered in matmul\n",
      "  np.matmul(gradient, right.T),  # gradient wrt left operand\n",
      "/home/malyvsen/org/education/kth/deep-learning/kth-deep-learning/assignments/rnn/ada_grad.py:36: RuntimeWarning: invalid value encountered in multiply\n",
      "  - self.learning_rate\n"
     ]
    },
    {
     "ename": "KeyboardInterrupt",
     "evalue": "",
     "output_type": "error",
     "traceback": [
      "\u001b[0;31m---------------------------------------------------------------------------\u001b[0m",
      "\u001b[0;31mKeyboardInterrupt\u001b[0m                         Traceback (most recent call last)",
      "\u001b[0;32m<ipython-input-5-2ddc80a4ba0e>\u001b[0m in \u001b[0;36m<module>\u001b[0;34m\u001b[0m\n\u001b[1;32m      3\u001b[0m \u001b[0;32mfor\u001b[0m \u001b[0mpassage\u001b[0m \u001b[0;32min\u001b[0m \u001b[0mtqdm\u001b[0m\u001b[0;34m(\u001b[0m\u001b[0mtext\u001b[0m\u001b[0;34m.\u001b[0m\u001b[0mpassages\u001b[0m\u001b[0;34m(\u001b[0m\u001b[0mlength\u001b[0m\u001b[0;34m=\u001b[0m\u001b[0;36m25\u001b[0m\u001b[0;34m)\u001b[0m\u001b[0;34m,\u001b[0m \u001b[0mtotal\u001b[0m\u001b[0;34m=\u001b[0m\u001b[0mlen\u001b[0m\u001b[0;34m(\u001b[0m\u001b[0mtext\u001b[0m\u001b[0;34m.\u001b[0m\u001b[0mtext\u001b[0m\u001b[0;34m)\u001b[0m\u001b[0;34m)\u001b[0m\u001b[0;34m:\u001b[0m\u001b[0;34m\u001b[0m\u001b[0;34m\u001b[0m\u001b[0m\n\u001b[1;32m      4\u001b[0m     \u001b[0mstates\u001b[0m\u001b[0;34m,\u001b[0m \u001b[0moutputs\u001b[0m \u001b[0;34m=\u001b[0m \u001b[0mada_grad\u001b[0m\u001b[0;34m.\u001b[0m\u001b[0mnetwork\u001b[0m\u001b[0;34m.\u001b[0m\u001b[0mrun\u001b[0m\u001b[0;34m(\u001b[0m\u001b[0minitial_state\u001b[0m\u001b[0;34m=\u001b[0m\u001b[0mstate_history\u001b[0m\u001b[0;34m[\u001b[0m\u001b[0;34m-\u001b[0m\u001b[0;36m1\u001b[0m\u001b[0;34m]\u001b[0m\u001b[0;34m,\u001b[0m \u001b[0mpassage\u001b[0m\u001b[0;34m=\u001b[0m\u001b[0mpassage\u001b[0m\u001b[0;34m)\u001b[0m\u001b[0;34m\u001b[0m\u001b[0;34m\u001b[0m\u001b[0m\n\u001b[0;32m----> 5\u001b[0;31m     \u001b[0mgradients\u001b[0m \u001b[0;34m=\u001b[0m \u001b[0mada_grad\u001b[0m\u001b[0;34m.\u001b[0m\u001b[0mnetwork\u001b[0m\u001b[0;34m.\u001b[0m\u001b[0mrun_backward\u001b[0m\u001b[0;34m(\u001b[0m\u001b[0mstates\u001b[0m\u001b[0;34m=\u001b[0m\u001b[0mstates\u001b[0m\u001b[0;34m,\u001b[0m \u001b[0moutputs\u001b[0m\u001b[0;34m=\u001b[0m\u001b[0moutputs\u001b[0m\u001b[0;34m,\u001b[0m \u001b[0mpassage\u001b[0m\u001b[0;34m=\u001b[0m\u001b[0mpassage\u001b[0m\u001b[0;34m)\u001b[0m\u001b[0;34m\u001b[0m\u001b[0;34m\u001b[0m\u001b[0m\n\u001b[0m\u001b[1;32m      6\u001b[0m     \u001b[0mada_grad\u001b[0m \u001b[0;34m=\u001b[0m \u001b[0mada_grad\u001b[0m\u001b[0;34m.\u001b[0m\u001b[0mstep\u001b[0m\u001b[0;34m(\u001b[0m\u001b[0mgradients\u001b[0m\u001b[0;34m)\u001b[0m\u001b[0;34m\u001b[0m\u001b[0;34m\u001b[0m\u001b[0m\n\u001b[1;32m      7\u001b[0m     \u001b[0mstate_history\u001b[0m\u001b[0;34m.\u001b[0m\u001b[0mappend\u001b[0m\u001b[0;34m(\u001b[0m\u001b[0mstates\u001b[0m\u001b[0;34m[\u001b[0m\u001b[0;36m1\u001b[0m\u001b[0;34m]\u001b[0m\u001b[0;34m)\u001b[0m\u001b[0;34m\u001b[0m\u001b[0;34m\u001b[0m\u001b[0m\n",
      "\u001b[0;32m~/org/education/kth/deep-learning/kth-deep-learning/assignments/rnn/rnn.py\u001b[0m in \u001b[0;36mrun_backward\u001b[0;34m(self, states, outputs, passage)\u001b[0m\n\u001b[1;32m     77\u001b[0m             \u001b[0mpassage\u001b[0m\u001b[0;34m.\u001b[0m\u001b[0mcontext\u001b[0m\u001b[0;34m[\u001b[0m\u001b[0;34m:\u001b[0m\u001b[0;34m:\u001b[0m\u001b[0;34m-\u001b[0m\u001b[0;36m1\u001b[0m\u001b[0;34m]\u001b[0m\u001b[0;34m,\u001b[0m \u001b[0mstates\u001b[0m\u001b[0;34m[\u001b[0m\u001b[0;34m-\u001b[0m\u001b[0;36m2\u001b[0m\u001b[0;34m:\u001b[0m\u001b[0;34m:\u001b[0m\u001b[0;34m-\u001b[0m\u001b[0;36m1\u001b[0m\u001b[0;34m]\u001b[0m\u001b[0;34m,\u001b[0m \u001b[0moutput_gradients\u001b[0m\u001b[0;34m[\u001b[0m\u001b[0;34m:\u001b[0m\u001b[0;34m:\u001b[0m\u001b[0;34m-\u001b[0m\u001b[0;36m1\u001b[0m\u001b[0;34m]\u001b[0m\u001b[0;34m\u001b[0m\u001b[0;34m\u001b[0m\u001b[0m\n\u001b[1;32m     78\u001b[0m         ):\n\u001b[0;32m---> 79\u001b[0;31m             state_gradient, param_gradient = self.step(\n\u001b[0m\u001b[1;32m     80\u001b[0m                 \u001b[0mstate\u001b[0m\u001b[0;34m=\u001b[0m\u001b[0mnp\u001b[0m\u001b[0;34m.\u001b[0m\u001b[0marray\u001b[0m\u001b[0;34m(\u001b[0m\u001b[0;34m[\u001b[0m\u001b[0mprev_state\u001b[0m\u001b[0;34m]\u001b[0m\u001b[0;34m)\u001b[0m\u001b[0;34m,\u001b[0m\u001b[0;34m\u001b[0m\u001b[0;34m\u001b[0m\u001b[0m\n\u001b[1;32m     81\u001b[0m                 \u001b[0minput\u001b[0m\u001b[0;34m=\u001b[0m\u001b[0mnp\u001b[0m\u001b[0;34m.\u001b[0m\u001b[0marray\u001b[0m\u001b[0;34m(\u001b[0m\u001b[0;34m[\u001b[0m\u001b[0minput\u001b[0m\u001b[0;34m]\u001b[0m\u001b[0;34m)\u001b[0m\u001b[0;34m,\u001b[0m\u001b[0;34m\u001b[0m\u001b[0;34m\u001b[0m\u001b[0m\n",
      "\u001b[0;32m~/org/education/kth/deep-learning/kth-deep-learning/assignments/rnn/rnn.py\u001b[0m in \u001b[0;36mstep\u001b[0;34m(self, state, input, new_state_gradient, output_gradient)\u001b[0m\n\u001b[1;32m    111\u001b[0m         \"\"\"\n\u001b[1;32m    112\u001b[0m         pre_tanh = (\n\u001b[0;32m--> 113\u001b[0;31m             \u001b[0mnp\u001b[0m\u001b[0;34m.\u001b[0m\u001b[0mmatmul\u001b[0m\u001b[0;34m(\u001b[0m\u001b[0mstate\u001b[0m\u001b[0;34m,\u001b[0m \u001b[0mself\u001b[0m\u001b[0;34m.\u001b[0m\u001b[0mhidden_weights\u001b[0m\u001b[0;34m)\u001b[0m\u001b[0;34m\u001b[0m\u001b[0;34m\u001b[0m\u001b[0m\n\u001b[0m\u001b[1;32m    114\u001b[0m             + np.matmul(\n\u001b[1;32m    115\u001b[0m                 \u001b[0mone_hot\u001b[0m\u001b[0;34m(\u001b[0m\u001b[0minput\u001b[0m\u001b[0;34m,\u001b[0m \u001b[0mnum_classes\u001b[0m\u001b[0;34m=\u001b[0m\u001b[0mself\u001b[0m\u001b[0;34m.\u001b[0m\u001b[0mnum_classes\u001b[0m\u001b[0;34m)\u001b[0m\u001b[0;34m,\u001b[0m \u001b[0mself\u001b[0m\u001b[0;34m.\u001b[0m\u001b[0minput_weights\u001b[0m\u001b[0;34m\u001b[0m\u001b[0;34m\u001b[0m\u001b[0m\n",
      "\u001b[0;31mKeyboardInterrupt\u001b[0m: "
     ]
    }
   ],
   "source": [
    "ada_grad = AdaGrad.from_network(rnn)\n",
    "state_history = [rnn.initial_state]\n",
    "for passage in tqdm(text.passages(length=25), total=len(text.text)):\n",
    "    states, outputs = ada_grad.network.run(initial_state=state_history[-1], passage=passage)\n",
    "    gradients = ada_grad.network.run_backward(states=states, outputs=outputs, passage=passage)\n",
    "    ada_grad = ada_grad.step(gradients)\n",
    "    state_history.append(states[1])"
   ]
  }
 ],
 "metadata": {
  "kernelspec": {
   "display_name": "Python 3",
   "language": "python",
   "name": "python3"
  },
  "language_info": {
   "codemirror_mode": {
    "name": "ipython",
    "version": 3
   },
   "file_extension": ".py",
   "mimetype": "text/x-python",
   "name": "python",
   "nbconvert_exporter": "python",
   "pygments_lexer": "ipython3",
   "version": "3.9.0"
  }
 },
 "nbformat": 4,
 "nbformat_minor": 5
}
