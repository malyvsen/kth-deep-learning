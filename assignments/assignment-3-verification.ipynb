{
 "cells": [
  {
   "cell_type": "code",
   "execution_count": 1,
   "id": "olive-pittsburgh",
   "metadata": {},
   "outputs": [],
   "source": [
    "from dataclasses import replace\n",
    "import numpy as np\n",
    "from crater import Tensor, Gradients\n",
    "from crater.premade import Classifier, Layer, BatchNormalization\n",
    "from cifar10.data import load_batch, make_normalizer, vector_to_image\n",
    "\n",
    "from tqdm.auto import trange"
   ]
  },
  {
   "cell_type": "code",
   "execution_count": 2,
   "id": "alpha-austin",
   "metadata": {},
   "outputs": [
    {
     "data": {
      "text/plain": [
       "dict_keys(['features', 'labels'])"
      ]
     },
     "execution_count": 2,
     "metadata": {},
     "output_type": "execute_result"
    }
   ],
   "source": [
    "data = load_batch(\"../data/data_batch_1\")\n",
    "data[\"features\"] = data[\"features\"][:, :20]\n",
    "data.keys()"
   ]
  },
  {
   "cell_type": "code",
   "execution_count": 3,
   "id": "happy-iraqi",
   "metadata": {},
   "outputs": [
    {
     "name": "stdout",
     "output_type": "stream",
     "text": [
      "2.4443435765147163\n"
     ]
    }
   ],
   "source": [
    "classifier = Classifier.from_dims([20, 20, 20, 20, 10], normalize=make_normalizer(data[\"features\"]))\n",
    "\n",
    "regularization = 0\n",
    "arrays = dict(\n",
    "    weights=[layer.weights.data for layer in classifier.layers],\n",
    "    biases=[layer.biases.data for layer in classifier.layers],\n",
    "    shifts=[norm.shift.data for norm in classifier.batch_normalizations[:-1]],\n",
    "    scales=[norm.scale.data for norm in classifier.batch_normalizations[:-1]],\n",
    ")\n",
    "\n",
    "def compute_loss(weights=arrays[\"weights\"], biases=arrays[\"biases\"], shifts=arrays[\"shifts\"], scales=arrays[\"scales\"]):\n",
    "    batch_norms = [\n",
    "        BatchNormalization(\n",
    "            mean=np.zeros(shift.shape),\n",
    "            variance=np.ones(scale.shape),\n",
    "            persistence=0.9,\n",
    "            shift=shift,\n",
    "            scale=scale,\n",
    "        )\n",
    "        for shift, scale in zip(shifts, scales)\n",
    "    ] + [None]\n",
    "    return Classifier(\n",
    "        layers=[\n",
    "            Layer(\n",
    "                weights=Tensor.from_numpy(w),\n",
    "                biases=Tensor.from_numpy(b),\n",
    "                activation=Classifier._make_activation(batch_norm),\n",
    "            )\n",
    "            for w, b, batch_norm in zip(weights, biases, batch_norms)\n",
    "        ],\n",
    "        batch_normalizations=batch_norms,\n",
    "        normalize=classifier.normalize,\n",
    "    ).loss(data, regularization=regularization).data\n",
    "\n",
    "with BatchNormalization.mode(\"test\"):\n",
    "    print(compute_loss())"
   ]
  },
  {
   "cell_type": "code",
   "execution_count": 4,
   "id": "beautiful-lindsay",
   "metadata": {},
   "outputs": [
    {
     "data": {
      "application/vnd.jupyter.widget-view+json": {
       "model_id": "7378ee5488144ca3853fffb6da70089b",
       "version_major": 2,
       "version_minor": 0
      },
      "text/plain": [
       "  0%|          | 0/4 [00:00<?, ?it/s]"
      ]
     },
     "metadata": {},
     "output_type": "display_data"
    },
    {
     "data": {
      "application/vnd.jupyter.widget-view+json": {
       "model_id": "3492f942722642b481288b235e0faba9",
       "version_major": 2,
       "version_minor": 0
      },
      "text/plain": [
       "  0%|          | 0/4 [00:00<?, ?it/s]"
      ]
     },
     "metadata": {},
     "output_type": "display_data"
    },
    {
     "data": {
      "application/vnd.jupyter.widget-view+json": {
       "model_id": "b66e6b494a8641bc84718bfcd46027cb",
       "version_major": 2,
       "version_minor": 0
      },
      "text/plain": [
       "  0%|          | 0/3 [00:00<?, ?it/s]"
      ]
     },
     "metadata": {},
     "output_type": "display_data"
    },
    {
     "data": {
      "application/vnd.jupyter.widget-view+json": {
       "model_id": "2ec8c29525054b8894f860bc0877a035",
       "version_major": 2,
       "version_minor": 0
      },
      "text/plain": [
       "  0%|          | 0/3 [00:00<?, ?it/s]"
      ]
     },
     "metadata": {},
     "output_type": "display_data"
    }
   ],
   "source": [
    "def numeric_gradients(keyword, arrays, h=1e-5):\n",
    "    result = [np.zeros_like(array) for array in arrays]\n",
    "    for j in trange(len(arrays)):\n",
    "        for i in range(np.prod(arrays[j].shape)):\n",
    "            idx = np.unravel_index(i, arrays[j].shape)\n",
    "            \n",
    "            attempt = [array.copy() for array in arrays]\n",
    "            attempt[j][idx] -= h\n",
    "            c1 = compute_loss(**{keyword: attempt})\n",
    "            \n",
    "            attempt = [array.copy() for array in arrays]\n",
    "            attempt[j][idx] += h\n",
    "            c2 = compute_loss(**{keyword: attempt})\n",
    "\n",
    "            result[j][idx] = (c2 - c1) / (2 * h)\n",
    "    return result\n",
    "\n",
    "\n",
    "with BatchNormalization.mode(\"test\"):\n",
    "    numeric_gradients = {\n",
    "        keyword: numeric_gradients(keyword, arrays)\n",
    "        for keyword, arrays in arrays.items()\n",
    "    }\n",
    "    analytical_gradients = classifier.gradients(data, regularization=regularization)"
   ]
  },
  {
   "cell_type": "code",
   "execution_count": 5,
   "id": "touched-protein",
   "metadata": {},
   "outputs": [
    {
     "data": {
      "text/plain": [
       "[{'mean': 1.5877386601338356e-05, 'max': 0.0006999944024035659},\n",
       " {'mean': 3.5747771864188587e-06, 'max': 0.0002312662656286539},\n",
       " {'mean': 8.193142753863375e-05, 'max': 0.007720698674401974},\n",
       " {'mean': 1.36996441370411e-06, 'max': 3.533130105981164e-05}]"
      ]
     },
     "execution_count": 5,
     "metadata": {},
     "output_type": "execute_result"
    }
   ],
   "source": [
    "def relative_error(a, b, eps=1e-6):\n",
    "    values = np.abs(a - b) / np.maximum(eps, np.abs(a) + np.abs(b))\n",
    "    return dict(\n",
    "        mean=np.mean(values),\n",
    "        max=np.max(values),\n",
    "    )\n",
    "\n",
    "[\n",
    "    relative_error(numeric, analytical_gradients[layer.weights])\n",
    "    for numeric, layer in zip(numeric_gradients[\"weights\"], classifier.layers)\n",
    "]"
   ]
  },
  {
   "cell_type": "code",
   "execution_count": 6,
   "id": "invisible-venture",
   "metadata": {},
   "outputs": [
    {
     "data": {
      "text/plain": [
       "[{'mean': 0.0002759063443307716, 'max': 0.003990483975207583},\n",
       " {'mean': 5.845346271049524e-05, 'max': 0.0008270757042837316},\n",
       " {'mean': 0.0001499878319032988, 'max': 0.0019210507814969061},\n",
       " {'mean': 2.317086649516884e-10, 'max': 4.4169532397067386e-10}]"
      ]
     },
     "execution_count": 6,
     "metadata": {},
     "output_type": "execute_result"
    }
   ],
   "source": [
    "[\n",
    "    relative_error(numeric, analytical_gradients[layer.biases])\n",
    "    for numeric, layer in zip(numeric_gradients[\"biases\"], classifier.layers)\n",
    "]"
   ]
  },
  {
   "cell_type": "code",
   "execution_count": 7,
   "id": "compliant-identifier",
   "metadata": {},
   "outputs": [
    {
     "data": {
      "text/plain": [
       "[{'mean': 0.0002759063443307716, 'max': 0.003990483975207583},\n",
       " {'mean': 5.845346271049524e-05, 'max': 0.0008270757042837316},\n",
       " {'mean': 0.0001499878319032988, 'max': 0.0019210507814969061}]"
      ]
     },
     "execution_count": 7,
     "metadata": {},
     "output_type": "execute_result"
    }
   ],
   "source": [
    "[\n",
    "    relative_error(numeric, analytical_gradients[norm.shift])\n",
    "    for numeric, norm in zip(numeric_gradients[\"shifts\"], classifier.batch_normalizations)\n",
    "]"
   ]
  },
  {
   "cell_type": "code",
   "execution_count": 8,
   "id": "special-moldova",
   "metadata": {},
   "outputs": [
    {
     "data": {
      "text/plain": [
       "[{'mean': 3.1504980157057612e-06, 'max': 2.192519498731107e-05},\n",
       " {'mean': 3.958553650560632e-06, 'max': 3.704633743367314e-05},\n",
       " {'mean': 2.2492458787036813e-06, 'max': 2.8993886798153917e-05}]"
      ]
     },
     "execution_count": 8,
     "metadata": {},
     "output_type": "execute_result"
    }
   ],
   "source": [
    "[\n",
    "    relative_error(numeric, analytical_gradients[norm.scale])\n",
    "    for numeric, norm in zip(numeric_gradients[\"scales\"], classifier.batch_normalizations)\n",
    "]"
   ]
  }
 ],
 "metadata": {
  "kernelspec": {
   "display_name": "Python 3",
   "language": "python",
   "name": "python3"
  },
  "language_info": {
   "codemirror_mode": {
    "name": "ipython",
    "version": 3
   },
   "file_extension": ".py",
   "mimetype": "text/x-python",
   "name": "python",
   "nbconvert_exporter": "python",
   "pygments_lexer": "ipython3",
   "version": "3.9.0"
  },
  "widgets": {
   "application/vnd.jupyter.widget-state+json": {
    "state": {
     "0015f4c21a7c4c59aa9e84c0b89e9ab2": {
      "model_module": "@jupyter-widgets/controls",
      "model_module_version": "1.5.0",
      "model_name": "ProgressStyleModel",
      "state": {
       "description_width": ""
      }
     },
     "006c20c2593947d38d3d27d1601c35be": {
      "model_module": "@jupyter-widgets/controls",
      "model_module_version": "1.5.0",
      "model_name": "HTMLModel",
      "state": {
       "layout": "IPY_MODEL_7b4327d5cddc423e87ba397189d97ea6",
       "style": "IPY_MODEL_7122a855d085490093a0d4463dd1faea",
       "value": "100%"
      }
     },
     "02c5d9517bc045079ccba4d1b440da95": {
      "model_module": "@jupyter-widgets/controls",
      "model_module_version": "1.5.0",
      "model_name": "FloatProgressModel",
      "state": {
       "bar_style": "success",
       "layout": "IPY_MODEL_aac0d9e19092445a9ddb42c7b24a3bc1",
       "max": 2,
       "style": "IPY_MODEL_7f99a34c75be483e8a956d0fc5df833f",
       "value": 2
      }
     },
     "030d118d016348c8a721b7c3647b78fe": {
      "model_module": "@jupyter-widgets/base",
      "model_module_version": "1.2.0",
      "model_name": "LayoutModel",
      "state": {}
     },
     "0358f7057eb44dba92c31bc6b00b465c": {
      "model_module": "@jupyter-widgets/base",
      "model_module_version": "1.2.0",
      "model_name": "LayoutModel",
      "state": {}
     },
     "048d4ac7dd1b454bb824afb2b9cdafdb": {
      "model_module": "@jupyter-widgets/controls",
      "model_module_version": "1.5.0",
      "model_name": "HTMLModel",
      "state": {
       "layout": "IPY_MODEL_0d1af9a8e4e74a4eb9b95ea731441753",
       "style": "IPY_MODEL_ff71c9c8e90c40cfaa5d0107e76e4ba6",
       "value": " 2/2 [00:01&lt;00:00,  1.44it/s]"
      }
     },
     "0527c7f231454e8eb2be74affd27d5f0": {
      "model_module": "@jupyter-widgets/controls",
      "model_module_version": "1.5.0",
      "model_name": "ProgressStyleModel",
      "state": {
       "description_width": ""
      }
     },
     "066874eabd4a4bcda6c3a49b6fb7b7cf": {
      "model_module": "@jupyter-widgets/base",
      "model_module_version": "1.2.0",
      "model_name": "LayoutModel",
      "state": {}
     },
     "07293a6f148d47b3b7e8f2ddd7d36e15": {
      "model_module": "@jupyter-widgets/controls",
      "model_module_version": "1.5.0",
      "model_name": "DescriptionStyleModel",
      "state": {
       "description_width": ""
      }
     },
     "07a766a5f6ee4d618818ffaf42a67b74": {
      "model_module": "@jupyter-widgets/controls",
      "model_module_version": "1.5.0",
      "model_name": "DescriptionStyleModel",
      "state": {
       "description_width": ""
      }
     },
     "0810a1240fbb47feb9e79cc5dc3b5bd0": {
      "model_module": "@jupyter-widgets/controls",
      "model_module_version": "1.5.0",
      "model_name": "FloatProgressModel",
      "state": {
       "bar_style": "success",
       "layout": "IPY_MODEL_c4c41d68befc49239365d195b96a440a",
       "max": 4,
       "style": "IPY_MODEL_0015f4c21a7c4c59aa9e84c0b89e9ab2",
       "value": 4
      }
     },
     "087e87cf02bf44b5b55c3e10717d832d": {
      "model_module": "@jupyter-widgets/controls",
      "model_module_version": "1.5.0",
      "model_name": "HTMLModel",
      "state": {
       "layout": "IPY_MODEL_59adf91a3dfe4896ae4c66f433ded93d",
       "style": "IPY_MODEL_2c160c59e42b426b837fd77c50b66198",
       "value": " 2/2 [00:01&lt;00:00,  1.23it/s]"
      }
     },
     "0891fb92ef5d413db5a1cf78529a321f": {
      "model_module": "@jupyter-widgets/base",
      "model_module_version": "1.2.0",
      "model_name": "LayoutModel",
      "state": {}
     },
     "08efd5d2ea0447efb4cb19e85c871d72": {
      "model_module": "@jupyter-widgets/controls",
      "model_module_version": "1.5.0",
      "model_name": "DescriptionStyleModel",
      "state": {
       "description_width": ""
      }
     },
     "098ac7dc93be44c4860a08842e6421c1": {
      "model_module": "@jupyter-widgets/base",
      "model_module_version": "1.2.0",
      "model_name": "LayoutModel",
      "state": {}
     },
     "0a7d7e589a0d4c6592cd29b80718ea31": {
      "model_module": "@jupyter-widgets/controls",
      "model_module_version": "1.5.0",
      "model_name": "FloatProgressModel",
      "state": {
       "bar_style": "success",
       "layout": "IPY_MODEL_dbdfceebfd7f49a392f4f672c9357461",
       "max": 2,
       "style": "IPY_MODEL_a2eda5117f334d9cbe6a56052bf8bebf",
       "value": 2
      }
     },
     "0a930da0d6f147b6944bab1c718b2245": {
      "model_module": "@jupyter-widgets/controls",
      "model_module_version": "1.5.0",
      "model_name": "HBoxModel",
      "state": {
       "children": [
        "IPY_MODEL_29d18b2f2c2146d79a47b052f868e713",
        "IPY_MODEL_6053e415cef141e2b9ca87656eca76f1",
        "IPY_MODEL_2bfc2dbfb9284fccb19a1567b8723568"
       ],
       "layout": "IPY_MODEL_f3c5bc0d9a18455f9b0f4be0d404925e"
      }
     },
     "0aeb888c29b04cefa90caca728f0aa67": {
      "model_module": "@jupyter-widgets/controls",
      "model_module_version": "1.5.0",
      "model_name": "HBoxModel",
      "state": {
       "children": [
        "IPY_MODEL_374cadfa749f4acc9820d7fe5d0dd93c",
        "IPY_MODEL_e160ecd706f04ea3ae6bf7bbf2c44bfc",
        "IPY_MODEL_087e87cf02bf44b5b55c3e10717d832d"
       ],
       "layout": "IPY_MODEL_593a0a91ade24687b650c118de26945b"
      }
     },
     "0afecfe3de1e42e58ed211b440794ac4": {
      "model_module": "@jupyter-widgets/controls",
      "model_module_version": "1.5.0",
      "model_name": "HTMLModel",
      "state": {
       "layout": "IPY_MODEL_4ee7c0e82faa4a3480a8b4704d67e07f",
       "style": "IPY_MODEL_bea2905e04d64922a8e9b2fa564effe7",
       "value": "100%"
      }
     },
     "0c9b979b32864c538e530ccb22ce2edb": {
      "model_module": "@jupyter-widgets/controls",
      "model_module_version": "1.5.0",
      "model_name": "ProgressStyleModel",
      "state": {
       "description_width": ""
      }
     },
     "0cd189e62f2f493dbf6855858b194339": {
      "model_module": "@jupyter-widgets/controls",
      "model_module_version": "1.5.0",
      "model_name": "DescriptionStyleModel",
      "state": {
       "description_width": ""
      }
     },
     "0d04d107a8284f54ab12d8ed9587afc8": {
      "model_module": "@jupyter-widgets/controls",
      "model_module_version": "1.5.0",
      "model_name": "HTMLModel",
      "state": {
       "layout": "IPY_MODEL_67e11cf0ad81478483f5fa5a3368a252",
       "style": "IPY_MODEL_4df7948779a449a4a624740a32c10daa",
       "value": " 2/2 [00:09&lt;00:00,  4.67s/it]"
      }
     },
     "0d1af9a8e4e74a4eb9b95ea731441753": {
      "model_module": "@jupyter-widgets/base",
      "model_module_version": "1.2.0",
      "model_name": "LayoutModel",
      "state": {}
     },
     "0dfc9907b9134da298c3ecc0af710320": {
      "model_module": "@jupyter-widgets/base",
      "model_module_version": "1.2.0",
      "model_name": "LayoutModel",
      "state": {}
     },
     "0e8f64b3a805463c998ff9f93c80a1fa": {
      "model_module": "@jupyter-widgets/controls",
      "model_module_version": "1.5.0",
      "model_name": "HTMLModel",
      "state": {
       "layout": "IPY_MODEL_1492a542ce294c8094fef9a320e6ddb8",
       "style": "IPY_MODEL_4d47a8e491aa4fc79075f6d59c8cdc13",
       "value": " 2/2 [00:36&lt;00:00, 17.12s/it]"
      }
     },
     "0eea5fc1151d408e8995820c6e39c4f9": {
      "model_module": "@jupyter-widgets/base",
      "model_module_version": "1.2.0",
      "model_name": "LayoutModel",
      "state": {}
     },
     "0f400cdad22b418e8101c4f5ccf88743": {
      "model_module": "@jupyter-widgets/base",
      "model_module_version": "1.2.0",
      "model_name": "LayoutModel",
      "state": {}
     },
     "0f5e9a4370e842bfb999d969832ade2d": {
      "model_module": "@jupyter-widgets/controls",
      "model_module_version": "1.5.0",
      "model_name": "HTMLModel",
      "state": {
       "layout": "IPY_MODEL_7f338efe6c044601a9c5d05718a1ebc4",
       "style": "IPY_MODEL_a4d110c5e1f34f24a076a43558986366",
       "value": " 2/2 [00:37&lt;00:00, 17.68s/it]"
      }
     },
     "0ffad8febb7d41ac81a8ac9d166bb7fa": {
      "model_module": "@jupyter-widgets/controls",
      "model_module_version": "1.5.0",
      "model_name": "DescriptionStyleModel",
      "state": {
       "description_width": ""
      }
     },
     "107f07bf097346ea80d854b181f341e1": {
      "model_module": "@jupyter-widgets/controls",
      "model_module_version": "1.5.0",
      "model_name": "ProgressStyleModel",
      "state": {
       "description_width": ""
      }
     },
     "10aa5987882649d2bd10184d99dd7b87": {
      "model_module": "@jupyter-widgets/controls",
      "model_module_version": "1.5.0",
      "model_name": "DescriptionStyleModel",
      "state": {
       "description_width": ""
      }
     },
     "114c4203fd08497cb96fdc396025f7dd": {
      "model_module": "@jupyter-widgets/controls",
      "model_module_version": "1.5.0",
      "model_name": "FloatProgressModel",
      "state": {
       "bar_style": "success",
       "layout": "IPY_MODEL_c3a7ec8069f14b209081c645c42ac766",
       "max": 2,
       "style": "IPY_MODEL_945aded8d58b49e598ee25d18f30945c",
       "value": 2
      }
     },
     "1186f0ffdde748dc81705fab8901c216": {
      "model_module": "@jupyter-widgets/controls",
      "model_module_version": "1.5.0",
      "model_name": "FloatProgressModel",
      "state": {
       "bar_style": "success",
       "layout": "IPY_MODEL_1eb30939471547428e694934d1b82e64",
       "max": 2,
       "style": "IPY_MODEL_47d1a405b6fb439cb5cf34847eace0e1",
       "value": 2
      }
     },
     "1221a05ac8114f98b7b8d681f36cfa81": {
      "model_module": "@jupyter-widgets/base",
      "model_module_version": "1.2.0",
      "model_name": "LayoutModel",
      "state": {}
     },
     "125cfc9f7783459e8ba160a9cf5168f6": {
      "model_module": "@jupyter-widgets/controls",
      "model_module_version": "1.5.0",
      "model_name": "HBoxModel",
      "state": {
       "children": [
        "IPY_MODEL_b336e66c9cd84da38ef43dbb4fd0e0dd",
        "IPY_MODEL_114c4203fd08497cb96fdc396025f7dd",
        "IPY_MODEL_a48d671df5fb46dc8ce9e9b3cfb1ad7f"
       ],
       "layout": "IPY_MODEL_2ed304b60d824cee9b1558f604f39db7"
      }
     },
     "1282202b9eb74db4aa77848066ae7b24": {
      "model_module": "@jupyter-widgets/controls",
      "model_module_version": "1.5.0",
      "model_name": "HTMLModel",
      "state": {
       "layout": "IPY_MODEL_7d3275260e054640a127e57fb3279e1b",
       "style": "IPY_MODEL_63288ea9023143ab9c3448d679c26550",
       "value": "100%"
      }
     },
     "12835c3cff794c9189eb5bb55328b75b": {
      "model_module": "@jupyter-widgets/base",
      "model_module_version": "1.2.0",
      "model_name": "LayoutModel",
      "state": {}
     },
     "1286d7cb18e64f61998d4a07b03f1749": {
      "model_module": "@jupyter-widgets/controls",
      "model_module_version": "1.5.0",
      "model_name": "DescriptionStyleModel",
      "state": {
       "description_width": ""
      }
     },
     "132140a61836491ea55b930f873b9615": {
      "model_module": "@jupyter-widgets/controls",
      "model_module_version": "1.5.0",
      "model_name": "DescriptionStyleModel",
      "state": {
       "description_width": ""
      }
     },
     "133dd198bbdb4073a3f0b5dd24ec5372": {
      "model_module": "@jupyter-widgets/base",
      "model_module_version": "1.2.0",
      "model_name": "LayoutModel",
      "state": {}
     },
     "1355f93a4b274d999c117eb3bacab626": {
      "model_module": "@jupyter-widgets/base",
      "model_module_version": "1.2.0",
      "model_name": "LayoutModel",
      "state": {}
     },
     "13a952b6ea8c46f4b8b8c80f06d7f4bf": {
      "model_module": "@jupyter-widgets/controls",
      "model_module_version": "1.5.0",
      "model_name": "HTMLModel",
      "state": {
       "layout": "IPY_MODEL_5423082109474d9abffab8909860b5c4",
       "style": "IPY_MODEL_7560bf37cfa043d285f486ccc24652bd",
       "value": "100%"
      }
     },
     "13fa0e4aa69e4388b3cfedd6233f2636": {
      "model_module": "@jupyter-widgets/base",
      "model_module_version": "1.2.0",
      "model_name": "LayoutModel",
      "state": {}
     },
     "1492a542ce294c8094fef9a320e6ddb8": {
      "model_module": "@jupyter-widgets/base",
      "model_module_version": "1.2.0",
      "model_name": "LayoutModel",
      "state": {}
     },
     "149d6ff891cb44eb905db21622da2212": {
      "model_module": "@jupyter-widgets/controls",
      "model_module_version": "1.5.0",
      "model_name": "HTMLModel",
      "state": {
       "layout": "IPY_MODEL_24bf9f74b5344807a5e3ab532fbf918e",
       "style": "IPY_MODEL_0ffad8febb7d41ac81a8ac9d166bb7fa",
       "value": " 2/2 [00:01&lt;00:00,  1.47it/s]"
      }
     },
     "16037b56a11b477c93e058f5263d3252": {
      "model_module": "@jupyter-widgets/controls",
      "model_module_version": "1.5.0",
      "model_name": "HTMLModel",
      "state": {
       "layout": "IPY_MODEL_a50a4e02fc4a4b36b0684404aba58b3f",
       "style": "IPY_MODEL_898424944c044570b41c844e47833856",
       "value": "100%"
      }
     },
     "17cf4f4411b7485290afdf1a128b69e0": {
      "model_module": "@jupyter-widgets/base",
      "model_module_version": "1.2.0",
      "model_name": "LayoutModel",
      "state": {}
     },
     "1837958aa54445279dd435984f417461": {
      "model_module": "@jupyter-widgets/controls",
      "model_module_version": "1.5.0",
      "model_name": "FloatProgressModel",
      "state": {
       "bar_style": "danger",
       "layout": "IPY_MODEL_f1603243841746d699b749428c814c34",
       "max": 2,
       "style": "IPY_MODEL_38b12e68898f47f9b30ea15e7ada73dc"
      }
     },
     "18988e03237748489b055673c75fd9ec": {
      "model_module": "@jupyter-widgets/controls",
      "model_module_version": "1.5.0",
      "model_name": "HTMLModel",
      "state": {
       "layout": "IPY_MODEL_2018586610474285b274ed90ecc92e45",
       "style": "IPY_MODEL_f71484a1fc994dd7a5b229b0cd0b3c24",
       "value": "100%"
      }
     },
     "197eb822c2ec4d5284a438ced0e61631": {
      "model_module": "@jupyter-widgets/base",
      "model_module_version": "1.2.0",
      "model_name": "LayoutModel",
      "state": {}
     },
     "19e1a1682e414b63b628da6e8ed4d486": {
      "model_module": "@jupyter-widgets/controls",
      "model_module_version": "1.5.0",
      "model_name": "HTMLModel",
      "state": {
       "layout": "IPY_MODEL_0358f7057eb44dba92c31bc6b00b465c",
       "style": "IPY_MODEL_5aa14d211409498293dfdf5f61941c94",
       "value": "100%"
      }
     },
     "1aaf7d73b6174e2c8b26ae47d70c60f3": {
      "model_module": "@jupyter-widgets/controls",
      "model_module_version": "1.5.0",
      "model_name": "FloatProgressModel",
      "state": {
       "bar_style": "success",
       "layout": "IPY_MODEL_fbb38338c4144dd5a19d3f7351dd1af7",
       "max": 4,
       "style": "IPY_MODEL_f647636b3fbf4ac88c9f6cab97393095",
       "value": 4
      }
     },
     "1ab8ab05d10449f39d9bfde6525eede1": {
      "model_module": "@jupyter-widgets/controls",
      "model_module_version": "1.5.0",
      "model_name": "ProgressStyleModel",
      "state": {
       "description_width": ""
      }
     },
     "1ae81e8360eb41eebc9ebe961d9bee2d": {
      "model_module": "@jupyter-widgets/controls",
      "model_module_version": "1.5.0",
      "model_name": "DescriptionStyleModel",
      "state": {
       "description_width": ""
      }
     },
     "1ae936a7687647369638731c5de493b8": {
      "model_module": "@jupyter-widgets/controls",
      "model_module_version": "1.5.0",
      "model_name": "ProgressStyleModel",
      "state": {
       "description_width": ""
      }
     },
     "1b1015d0c3d640a9b581e264d68ba7ad": {
      "model_module": "@jupyter-widgets/controls",
      "model_module_version": "1.5.0",
      "model_name": "HTMLModel",
      "state": {
       "layout": "IPY_MODEL_2c3195b184014489978a03486e0572fd",
       "style": "IPY_MODEL_cd0b93d7dd7045ff8a9cca7a43d7a1a5",
       "value": " 2/2 [00:24&lt;00:00, 12.07s/it]"
      }
     },
     "1b2873885b764d61a03423d3cfa9954a": {
      "model_module": "@jupyter-widgets/base",
      "model_module_version": "1.2.0",
      "model_name": "LayoutModel",
      "state": {}
     },
     "1c460bad458d45bc9ed36c3c238ec90d": {
      "model_module": "@jupyter-widgets/base",
      "model_module_version": "1.2.0",
      "model_name": "LayoutModel",
      "state": {}
     },
     "1cb0c15815c545669e8cb04737f02bc9": {
      "model_module": "@jupyter-widgets/controls",
      "model_module_version": "1.5.0",
      "model_name": "ProgressStyleModel",
      "state": {
       "description_width": ""
      }
     },
     "1cc7a0911dce41acb309b27116e42165": {
      "model_module": "@jupyter-widgets/base",
      "model_module_version": "1.2.0",
      "model_name": "LayoutModel",
      "state": {}
     },
     "1cd4f3b02f1a4e7eae0beedf226ac8bf": {
      "model_module": "@jupyter-widgets/controls",
      "model_module_version": "1.5.0",
      "model_name": "HTMLModel",
      "state": {
       "layout": "IPY_MODEL_197eb822c2ec4d5284a438ced0e61631",
       "style": "IPY_MODEL_a5049274e0c942238921fcd88f61247a",
       "value": "100%"
      }
     },
     "1e6203c7394d4312ae989e9fde9d4b66": {
      "model_module": "@jupyter-widgets/controls",
      "model_module_version": "1.5.0",
      "model_name": "HBoxModel",
      "state": {
       "children": [
        "IPY_MODEL_f303f1138a00410a99d16a811bea4eba",
        "IPY_MODEL_62e6c5031ba54359bae57018ecf680e2",
        "IPY_MODEL_55374b3f8c0d482faa30b71a6c88d63a"
       ],
       "layout": "IPY_MODEL_e90691b70a98465c9cd6fca5f00a5785"
      }
     },
     "1eb30939471547428e694934d1b82e64": {
      "model_module": "@jupyter-widgets/base",
      "model_module_version": "1.2.0",
      "model_name": "LayoutModel",
      "state": {}
     },
     "1ecf3aa4206a45de990c62eb2c15bffb": {
      "model_module": "@jupyter-widgets/base",
      "model_module_version": "1.2.0",
      "model_name": "LayoutModel",
      "state": {}
     },
     "2018586610474285b274ed90ecc92e45": {
      "model_module": "@jupyter-widgets/base",
      "model_module_version": "1.2.0",
      "model_name": "LayoutModel",
      "state": {}
     },
     "20451a12e2344f2a8a09869c8055242b": {
      "model_module": "@jupyter-widgets/base",
      "model_module_version": "1.2.0",
      "model_name": "LayoutModel",
      "state": {}
     },
     "20c94b8cbd8d423eb43989ed0cd1ce15": {
      "model_module": "@jupyter-widgets/base",
      "model_module_version": "1.2.0",
      "model_name": "LayoutModel",
      "state": {}
     },
     "20df319323404c20bf544ced01089d0e": {
      "model_module": "@jupyter-widgets/base",
      "model_module_version": "1.2.0",
      "model_name": "LayoutModel",
      "state": {}
     },
     "20e4a66f2f7d403687c1c948bd8ba881": {
      "model_module": "@jupyter-widgets/base",
      "model_module_version": "1.2.0",
      "model_name": "LayoutModel",
      "state": {}
     },
     "20faec9476ed4e428f20d8901d7a6445": {
      "model_module": "@jupyter-widgets/controls",
      "model_module_version": "1.5.0",
      "model_name": "HTMLModel",
      "state": {
       "layout": "IPY_MODEL_dd317f509bce4453ab8d871bd2f4f8a2",
       "style": "IPY_MODEL_aca7720d76444d8e9e1ffea024726a2d",
       "value": " 0/2 [04:36&lt;?, ?it/s]"
      }
     },
     "219ed35786b84672b17171edd8c97db0": {
      "model_module": "@jupyter-widgets/base",
      "model_module_version": "1.2.0",
      "model_name": "LayoutModel",
      "state": {}
     },
     "22798276df00437dbd4770983bbba300": {
      "model_module": "@jupyter-widgets/controls",
      "model_module_version": "1.5.0",
      "model_name": "FloatProgressModel",
      "state": {
       "bar_style": "success",
       "layout": "IPY_MODEL_7c1342cdc64f48cd8fae67eb269cea57",
       "max": 1,
       "style": "IPY_MODEL_384fdd2cbfaa40a9b6a61fd23f2bdd0a",
       "value": 1
      }
     },
     "231e63b734fc44d4aa075e3992fd93d2": {
      "model_module": "@jupyter-widgets/base",
      "model_module_version": "1.2.0",
      "model_name": "LayoutModel",
      "state": {}
     },
     "23e564ea1ec64e949d2a6af223a98af1": {
      "model_module": "@jupyter-widgets/controls",
      "model_module_version": "1.5.0",
      "model_name": "HTMLModel",
      "state": {
       "layout": "IPY_MODEL_72d2fb115ffe44d3b3b2b61af3f2ea48",
       "style": "IPY_MODEL_81a9941abc6c44c6b39d5eeec3250c8f",
       "value": " 0/2 [00:00&lt;?, ?it/s]"
      }
     },
     "249662255e4e47e4b6a060d21f781304": {
      "model_module": "@jupyter-widgets/base",
      "model_module_version": "1.2.0",
      "model_name": "LayoutModel",
      "state": {}
     },
     "24bf9f74b5344807a5e3ab532fbf918e": {
      "model_module": "@jupyter-widgets/base",
      "model_module_version": "1.2.0",
      "model_name": "LayoutModel",
      "state": {}
     },
     "2549677659174f3a9fc420cbf42e04c9": {
      "model_module": "@jupyter-widgets/base",
      "model_module_version": "1.2.0",
      "model_name": "LayoutModel",
      "state": {}
     },
     "2726950965494091a298c85c2f553e23": {
      "model_module": "@jupyter-widgets/controls",
      "model_module_version": "1.5.0",
      "model_name": "HBoxModel",
      "state": {
       "children": [
        "IPY_MODEL_3e11bc8b12264a59b8ac525b97141fe3",
        "IPY_MODEL_dea8b9352d7d4e6f8e099f40fddaa90c",
        "IPY_MODEL_badb94510eb944db8367825e99caf10c"
       ],
       "layout": "IPY_MODEL_45d9af454b7c4c4fa7ec4a0a5f432511"
      }
     },
     "2783edeb13da4531915c17adbc4a257b": {
      "model_module": "@jupyter-widgets/controls",
      "model_module_version": "1.5.0",
      "model_name": "HTMLModel",
      "state": {
       "layout": "IPY_MODEL_6cd91c2c4da1436aa5540f37055b2277",
       "style": "IPY_MODEL_af6d590965ce40bb88dc100eee849474",
       "value": "100%"
      }
     },
     "27d52c4a70414871a5b85b882651a9e6": {
      "model_module": "@jupyter-widgets/base",
      "model_module_version": "1.2.0",
      "model_name": "LayoutModel",
      "state": {}
     },
     "28b98f3e192941d7bfd1360fd71ca019": {
      "model_module": "@jupyter-widgets/controls",
      "model_module_version": "1.5.0",
      "model_name": "DescriptionStyleModel",
      "state": {
       "description_width": ""
      }
     },
     "29abb37322c54055bc3042c9c33fe1bd": {
      "model_module": "@jupyter-widgets/controls",
      "model_module_version": "1.5.0",
      "model_name": "HBoxModel",
      "state": {
       "children": [
        "IPY_MODEL_a2eaf370a908454b9f2620cdc1dec1b5",
        "IPY_MODEL_8b152637b5aa4554945eccb8cdd4004b",
        "IPY_MODEL_3f9b6bb769fe4910a622c96cc2533ee4"
       ],
       "layout": "IPY_MODEL_2549677659174f3a9fc420cbf42e04c9"
      }
     },
     "29d18b2f2c2146d79a47b052f868e713": {
      "model_module": "@jupyter-widgets/controls",
      "model_module_version": "1.5.0",
      "model_name": "HTMLModel",
      "state": {
       "layout": "IPY_MODEL_6017c8d64d794e2c8f51c322d339c582",
       "style": "IPY_MODEL_07a766a5f6ee4d618818ffaf42a67b74",
       "value": "100%"
      }
     },
     "2a26f0b70f184b9eb75aed81042f128d": {
      "model_module": "@jupyter-widgets/controls",
      "model_module_version": "1.5.0",
      "model_name": "HBoxModel",
      "state": {
       "children": [
        "IPY_MODEL_de86f6e03d864ecc80c12171db342b41",
        "IPY_MODEL_63532465d38d4648aa463c668f1b8340",
        "IPY_MODEL_bcd0132114734765b5b64727493e5acd"
       ],
       "layout": "IPY_MODEL_598d147997cc4b3ab26c5a5fecee0ddc"
      }
     },
     "2b3c5ed27bc74b9daec96f2988387225": {
      "model_module": "@jupyter-widgets/controls",
      "model_module_version": "1.5.0",
      "model_name": "HTMLModel",
      "state": {
       "layout": "IPY_MODEL_87be4b22ff2a4d70aa84b7efae409a2d",
       "style": "IPY_MODEL_e888600e23ff4929a0a50f5c98ae1f2f",
       "value": "100%"
      }
     },
     "2bb37bcbb65b4272b5c95dc5afb6cc7c": {
      "model_module": "@jupyter-widgets/base",
      "model_module_version": "1.2.0",
      "model_name": "LayoutModel",
      "state": {}
     },
     "2bc61c85b177402bb682a31a8f06b874": {
      "model_module": "@jupyter-widgets/base",
      "model_module_version": "1.2.0",
      "model_name": "LayoutModel",
      "state": {}
     },
     "2bf536d4cf2d4f0a94bd9a4f64134406": {
      "model_module": "@jupyter-widgets/controls",
      "model_module_version": "1.5.0",
      "model_name": "HBoxModel",
      "state": {
       "children": [
        "IPY_MODEL_64de20f5b6854f8ea3404ce591881f0b",
        "IPY_MODEL_358fab32158e4b1399d48eb0e30312df",
        "IPY_MODEL_6f146f8dd7164c1681b3e3f21a5de426"
       ],
       "layout": "IPY_MODEL_49fe1a62a1064bdf8783b90692d2dde6"
      }
     },
     "2bfc2dbfb9284fccb19a1567b8723568": {
      "model_module": "@jupyter-widgets/controls",
      "model_module_version": "1.5.0",
      "model_name": "HTMLModel",
      "state": {
       "layout": "IPY_MODEL_e56feda0b6f6493298da8df680c2b015",
       "style": "IPY_MODEL_372bc35940e0452d8d26801c3e4bb31e",
       "value": " 2/2 [00:37&lt;00:00, 17.81s/it]"
      }
     },
     "2bfe6819b7c54e719617e89244ee9849": {
      "model_module": "@jupyter-widgets/controls",
      "model_module_version": "1.5.0",
      "model_name": "DescriptionStyleModel",
      "state": {
       "description_width": ""
      }
     },
     "2c12a98dc275465cbdf7e39b51903843": {
      "model_module": "@jupyter-widgets/controls",
      "model_module_version": "1.5.0",
      "model_name": "FloatProgressModel",
      "state": {
       "bar_style": "success",
       "layout": "IPY_MODEL_96b95df8480b487b81e0eb644acd317d",
       "max": 2,
       "style": "IPY_MODEL_ca3f1cfba6634da0bc176023458c8a18",
       "value": 2
      }
     },
     "2c160c59e42b426b837fd77c50b66198": {
      "model_module": "@jupyter-widgets/controls",
      "model_module_version": "1.5.0",
      "model_name": "DescriptionStyleModel",
      "state": {
       "description_width": ""
      }
     },
     "2c29f757c8be4d0092e6a768dd70d31d": {
      "model_module": "@jupyter-widgets/base",
      "model_module_version": "1.2.0",
      "model_name": "LayoutModel",
      "state": {}
     },
     "2c2e93ff91b84217a4f1f28df112e16c": {
      "model_module": "@jupyter-widgets/controls",
      "model_module_version": "1.5.0",
      "model_name": "HBoxModel",
      "state": {
       "children": [
        "IPY_MODEL_e9685478a54947c0925de97e9baa8682",
        "IPY_MODEL_3d6e92d376a244679f9d8cccf9143c19",
        "IPY_MODEL_0e8f64b3a805463c998ff9f93c80a1fa"
       ],
       "layout": "IPY_MODEL_17cf4f4411b7485290afdf1a128b69e0"
      }
     },
     "2c3195b184014489978a03486e0572fd": {
      "model_module": "@jupyter-widgets/base",
      "model_module_version": "1.2.0",
      "model_name": "LayoutModel",
      "state": {}
     },
     "2c5f6daf95654756bfa2062daf8c83ac": {
      "model_module": "@jupyter-widgets/controls",
      "model_module_version": "1.5.0",
      "model_name": "FloatProgressModel",
      "state": {
       "bar_style": "success",
       "layout": "IPY_MODEL_bc7b9c240c4d4ddc99e74a990ff22f4a",
       "max": 1,
       "style": "IPY_MODEL_a509f1472ec840cc9ad4775b3f454b46",
       "value": 1
      }
     },
     "2d3ae6711a2a4b66a13761cc4065e463": {
      "model_module": "@jupyter-widgets/base",
      "model_module_version": "1.2.0",
      "model_name": "LayoutModel",
      "state": {}
     },
     "2da88b4896cc41b1a9dc98141c5f70e4": {
      "model_module": "@jupyter-widgets/base",
      "model_module_version": "1.2.0",
      "model_name": "LayoutModel",
      "state": {}
     },
     "2dd0d87c09af450bb48c0b16a973a4b0": {
      "model_module": "@jupyter-widgets/controls",
      "model_module_version": "1.5.0",
      "model_name": "HTMLModel",
      "state": {
       "layout": "IPY_MODEL_a6d0df13378e4c72bfae29057d7dc16d",
       "style": "IPY_MODEL_b9c14108f38b4d0aa2880be386082536",
       "value": " 2/2 [00:01&lt;00:00,  1.62it/s]"
      }
     },
     "2e35d9d3af514f589fbd0adf32fb5a56": {
      "model_module": "@jupyter-widgets/base",
      "model_module_version": "1.2.0",
      "model_name": "LayoutModel",
      "state": {}
     },
     "2ec8c29525054b8894f860bc0877a035": {
      "model_module": "@jupyter-widgets/controls",
      "model_module_version": "1.5.0",
      "model_name": "HBoxModel",
      "state": {
       "children": [
        "IPY_MODEL_aa942c098e2342e6b664352807183068",
        "IPY_MODEL_e67989b72dcb480ba7428bb76c2c7875",
        "IPY_MODEL_4f517df29c1e47f2adbb6238c53843c1"
       ],
       "layout": "IPY_MODEL_8de73aed0aaf467283b9c8a6b341f3bb"
      }
     },
     "2ed304b60d824cee9b1558f604f39db7": {
      "model_module": "@jupyter-widgets/base",
      "model_module_version": "1.2.0",
      "model_name": "LayoutModel",
      "state": {}
     },
     "30e4a0a6bc404d4fbf4eeee2c7380fe4": {
      "model_module": "@jupyter-widgets/base",
      "model_module_version": "1.2.0",
      "model_name": "LayoutModel",
      "state": {}
     },
     "31943cba93664f0eae5e47bb35dc8f59": {
      "model_module": "@jupyter-widgets/controls",
      "model_module_version": "1.5.0",
      "model_name": "FloatProgressModel",
      "state": {
       "bar_style": "danger",
       "layout": "IPY_MODEL_dc609a989bc348e088ecd995db20d886",
       "max": 2,
       "style": "IPY_MODEL_e8c9b0a91aa04c2f81d9c0889690923a"
      }
     },
     "3277f20d3c0b4f9398d1b785404eaa70": {
      "model_module": "@jupyter-widgets/base",
      "model_module_version": "1.2.0",
      "model_name": "LayoutModel",
      "state": {}
     },
     "33242fe6c2d64097966449aa44a6f989": {
      "model_module": "@jupyter-widgets/controls",
      "model_module_version": "1.5.0",
      "model_name": "DescriptionStyleModel",
      "state": {
       "description_width": ""
      }
     },
     "33551e237d584612a5c78d0af3937fbf": {
      "model_module": "@jupyter-widgets/base",
      "model_module_version": "1.2.0",
      "model_name": "LayoutModel",
      "state": {}
     },
     "337146c47d9e4730bde6f120841414fe": {
      "model_module": "@jupyter-widgets/controls",
      "model_module_version": "1.5.0",
      "model_name": "DescriptionStyleModel",
      "state": {
       "description_width": ""
      }
     },
     "33f854cbe2e64d68b07e4bde8566ef84": {
      "model_module": "@jupyter-widgets/controls",
      "model_module_version": "1.5.0",
      "model_name": "HBoxModel",
      "state": {
       "children": [
        "IPY_MODEL_373d07329880450a9cfe8010fd91ab1e",
        "IPY_MODEL_648424b77ddc43c58ed413a5ba9392c1",
        "IPY_MODEL_1b1015d0c3d640a9b581e264d68ba7ad"
       ],
       "layout": "IPY_MODEL_46dddb9115f742febedc7932a2881622"
      }
     },
     "341faa5fa5f24b849eb6eff2169fa606": {
      "model_module": "@jupyter-widgets/controls",
      "model_module_version": "1.5.0",
      "model_name": "DescriptionStyleModel",
      "state": {
       "description_width": ""
      }
     },
     "343e69f9f9ca4442b90c02b5f47b0290": {
      "model_module": "@jupyter-widgets/base",
      "model_module_version": "1.2.0",
      "model_name": "LayoutModel",
      "state": {}
     },
     "3463ccf0fbff42248b1024405813ebf4": {
      "model_module": "@jupyter-widgets/controls",
      "model_module_version": "1.5.0",
      "model_name": "HTMLModel",
      "state": {
       "layout": "IPY_MODEL_93078246551747948ca9882c220a98bd",
       "style": "IPY_MODEL_341faa5fa5f24b849eb6eff2169fa606",
       "value": " 1/1 [00:00&lt;00:00,  5.42it/s]"
      }
     },
     "3492f942722642b481288b235e0faba9": {
      "model_module": "@jupyter-widgets/controls",
      "model_module_version": "1.5.0",
      "model_name": "HBoxModel",
      "state": {
       "children": [
        "IPY_MODEL_ac418c88e8e24124af03aee6ef0aaf70",
        "IPY_MODEL_1aaf7d73b6174e2c8b26ae47d70c60f3",
        "IPY_MODEL_c730255a31de4d1d8bc56a1493f42043"
       ],
       "layout": "IPY_MODEL_20451a12e2344f2a8a09869c8055242b"
      }
     },
     "352fa9c465024e5186da1fd1a09cbc10": {
      "model_module": "@jupyter-widgets/base",
      "model_module_version": "1.2.0",
      "model_name": "LayoutModel",
      "state": {}
     },
     "358fab32158e4b1399d48eb0e30312df": {
      "model_module": "@jupyter-widgets/controls",
      "model_module_version": "1.5.0",
      "model_name": "FloatProgressModel",
      "state": {
       "bar_style": "success",
       "layout": "IPY_MODEL_96cb336ecc944c8aa8965de605f7cd92",
       "max": 1,
       "style": "IPY_MODEL_8a7503a0e2704c43a716f426e01179f6",
       "value": 1
      }
     },
     "3707e6d2718040ce8ecbb8b438fcb495": {
      "model_module": "@jupyter-widgets/base",
      "model_module_version": "1.2.0",
      "model_name": "LayoutModel",
      "state": {}
     },
     "372bc35940e0452d8d26801c3e4bb31e": {
      "model_module": "@jupyter-widgets/controls",
      "model_module_version": "1.5.0",
      "model_name": "DescriptionStyleModel",
      "state": {
       "description_width": ""
      }
     },
     "373d07329880450a9cfe8010fd91ab1e": {
      "model_module": "@jupyter-widgets/controls",
      "model_module_version": "1.5.0",
      "model_name": "HTMLModel",
      "state": {
       "layout": "IPY_MODEL_f18377dbcbb74b7795d8125f81da1594",
       "style": "IPY_MODEL_a68e2e8ef16a42b79640f8f88b7fa5f7",
       "value": "100%"
      }
     },
     "374cadfa749f4acc9820d7fe5d0dd93c": {
      "model_module": "@jupyter-widgets/controls",
      "model_module_version": "1.5.0",
      "model_name": "HTMLModel",
      "state": {
       "layout": "IPY_MODEL_8c600ffc5ccc4f45ac4a5a205aeda5bc",
       "style": "IPY_MODEL_e616e4053f5344c0907f7815aa1c9ef1",
       "value": "100%"
      }
     },
     "37aee5782d4e49f9bd02a69d42cd6402": {
      "model_module": "@jupyter-widgets/controls",
      "model_module_version": "1.5.0",
      "model_name": "HBoxModel",
      "state": {
       "children": [
        "IPY_MODEL_ee7f2a4755da4beb83ac2746ec47010a",
        "IPY_MODEL_eb9e80d4476447c6a91c99fe419dacdc",
        "IPY_MODEL_a83c7e7cf6144eb89b715055dff6a4f4"
       ],
       "layout": "IPY_MODEL_6cd80f999d7946e9bab1148f81ceabc3"
      }
     },
     "384fdd2cbfaa40a9b6a61fd23f2bdd0a": {
      "model_module": "@jupyter-widgets/controls",
      "model_module_version": "1.5.0",
      "model_name": "ProgressStyleModel",
      "state": {
       "description_width": ""
      }
     },
     "3864c0e939d140509f1d12daf94ec274": {
      "model_module": "@jupyter-widgets/base",
      "model_module_version": "1.2.0",
      "model_name": "LayoutModel",
      "state": {}
     },
     "38b12e68898f47f9b30ea15e7ada73dc": {
      "model_module": "@jupyter-widgets/controls",
      "model_module_version": "1.5.0",
      "model_name": "ProgressStyleModel",
      "state": {
       "description_width": ""
      }
     },
     "394da591f99f4aa7b653cb19829c8d85": {
      "model_module": "@jupyter-widgets/base",
      "model_module_version": "1.2.0",
      "model_name": "LayoutModel",
      "state": {}
     },
     "3987fa3692884e028dc4f3475c0bddb9": {
      "model_module": "@jupyter-widgets/base",
      "model_module_version": "1.2.0",
      "model_name": "LayoutModel",
      "state": {}
     },
     "39da257db63a4b2c9ca5ad9383014b39": {
      "model_module": "@jupyter-widgets/controls",
      "model_module_version": "1.5.0",
      "model_name": "HTMLModel",
      "state": {
       "layout": "IPY_MODEL_231e63b734fc44d4aa075e3992fd93d2",
       "style": "IPY_MODEL_454095f254bf448780228d60874514a8",
       "value": " 2/2 [00:01&lt;00:00,  1.47it/s]"
      }
     },
     "3a9511e56993421d85642c66fcd95f92": {
      "model_module": "@jupyter-widgets/controls",
      "model_module_version": "1.5.0",
      "model_name": "FloatProgressModel",
      "state": {
       "bar_style": "success",
       "layout": "IPY_MODEL_6cb9966a45db4963869110e0d2015033",
       "max": 2,
       "style": "IPY_MODEL_fbe7080614374cdebc822d18e5ff009b",
       "value": 2
      }
     },
     "3aa355c05aeb4850878d520514e28d96": {
      "model_module": "@jupyter-widgets/controls",
      "model_module_version": "1.5.0",
      "model_name": "HTMLModel",
      "state": {
       "layout": "IPY_MODEL_49854c7d258c48b2acebd2651136b6cd",
       "style": "IPY_MODEL_df0c8a3679734b59a309c3f1055c949f",
       "value": "100%"
      }
     },
     "3ae5be4d2d874bee9ae4c8b70a47d781": {
      "model_module": "@jupyter-widgets/controls",
      "model_module_version": "1.5.0",
      "model_name": "HBoxModel",
      "state": {
       "children": [
        "IPY_MODEL_508cf39b913a4a08ac19426ea28bfbb9",
        "IPY_MODEL_f9db0c604d9b4c73b39b5dcaca8ab144",
        "IPY_MODEL_8dc19bf8e2114f1e98defeae99d39652"
       ],
       "layout": "IPY_MODEL_5b7bbfcf8f9945e389b31a9206cf358e"
      }
     },
     "3b397389a3e7467daf8d82f06fcc1d88": {
      "model_module": "@jupyter-widgets/base",
      "model_module_version": "1.2.0",
      "model_name": "LayoutModel",
      "state": {}
     },
     "3c9155d5651a40538697172cde832878": {
      "model_module": "@jupyter-widgets/base",
      "model_module_version": "1.2.0",
      "model_name": "LayoutModel",
      "state": {}
     },
     "3cb1995f2f7a4fc6ae460276effd7bc7": {
      "model_module": "@jupyter-widgets/controls",
      "model_module_version": "1.5.0",
      "model_name": "HTMLModel",
      "state": {
       "layout": "IPY_MODEL_d9128d4bc2dd462f96f7684e1ad71b46",
       "style": "IPY_MODEL_1ae81e8360eb41eebc9ebe961d9bee2d",
       "value": " 3/3 [03:55&lt;00:00, 72.75s/it]"
      }
     },
     "3d6e92d376a244679f9d8cccf9143c19": {
      "model_module": "@jupyter-widgets/controls",
      "model_module_version": "1.5.0",
      "model_name": "FloatProgressModel",
      "state": {
       "bar_style": "success",
       "layout": "IPY_MODEL_682b7e7e5f4c4f4c93b6e93c003342c6",
       "max": 2,
       "style": "IPY_MODEL_95d815173e234346a9e0c37405fdfb94",
       "value": 2
      }
     },
     "3db8c0b8c937438aaf21d72bc318671e": {
      "model_module": "@jupyter-widgets/controls",
      "model_module_version": "1.5.0",
      "model_name": "HTMLModel",
      "state": {
       "layout": "IPY_MODEL_dc064625a2a44fdcb6497d256cea1348",
       "style": "IPY_MODEL_534812ebe11241a1a9fe34b7789ddb91",
       "value": " 2/2 [00:32&lt;00:00, 15.65s/it]"
      }
     },
     "3e11bc8b12264a59b8ac525b97141fe3": {
      "model_module": "@jupyter-widgets/controls",
      "model_module_version": "1.5.0",
      "model_name": "HTMLModel",
      "state": {
       "layout": "IPY_MODEL_7bba279af00a459089abb683b2f74781",
       "style": "IPY_MODEL_8b0b686a5ea54bbc94ba290bdf9bca80",
       "value": "100%"
      }
     },
     "3e7315cb204e4efbae210895162f60a2": {
      "model_module": "@jupyter-widgets/controls",
      "model_module_version": "1.5.0",
      "model_name": "ProgressStyleModel",
      "state": {
       "description_width": ""
      }
     },
     "3ea06687a09443fa9e9ce7d99910f9fb": {
      "model_module": "@jupyter-widgets/base",
      "model_module_version": "1.2.0",
      "model_name": "LayoutModel",
      "state": {}
     },
     "3f9b6bb769fe4910a622c96cc2533ee4": {
      "model_module": "@jupyter-widgets/controls",
      "model_module_version": "1.5.0",
      "model_name": "HTMLModel",
      "state": {
       "layout": "IPY_MODEL_8378ec6d2fe2471495c6102b1a55afa5",
       "style": "IPY_MODEL_7dd2bfa590c84d83a3f6a32ef333bca8",
       "value": " 2/2 [00:01&lt;00:00,  1.46it/s]"
      }
     },
     "40effeed4930435b97ad7b800989cf2a": {
      "model_module": "@jupyter-widgets/controls",
      "model_module_version": "1.5.0",
      "model_name": "HTMLModel",
      "state": {
       "layout": "IPY_MODEL_9c0b86c699504212963651158a4f11af",
       "style": "IPY_MODEL_ef15bbef3af64d27a755890b559814b5",
       "value": "100%"
      }
     },
     "41e813988d9a413d8876ca57acdd0bed": {
      "model_module": "@jupyter-widgets/controls",
      "model_module_version": "1.5.0",
      "model_name": "ProgressStyleModel",
      "state": {
       "description_width": ""
      }
     },
     "424c31b4153e4f338ad859da7b50fa10": {
      "model_module": "@jupyter-widgets/controls",
      "model_module_version": "1.5.0",
      "model_name": "HTMLModel",
      "state": {
       "layout": "IPY_MODEL_6c444b3af4b3423989241649a44bacec",
       "style": "IPY_MODEL_07293a6f148d47b3b7e8f2ddd7d36e15",
       "value": " 2/2 [00:01&lt;00:00,  1.47it/s]"
      }
     },
     "429969f3d27741cf823ebdc53401bc7b": {
      "model_module": "@jupyter-widgets/controls",
      "model_module_version": "1.5.0",
      "model_name": "ProgressStyleModel",
      "state": {
       "description_width": ""
      }
     },
     "454095f254bf448780228d60874514a8": {
      "model_module": "@jupyter-widgets/controls",
      "model_module_version": "1.5.0",
      "model_name": "DescriptionStyleModel",
      "state": {
       "description_width": ""
      }
     },
     "45a0821d07324fdaa860c91c61d60aba": {
      "model_module": "@jupyter-widgets/controls",
      "model_module_version": "1.5.0",
      "model_name": "DescriptionStyleModel",
      "state": {
       "description_width": ""
      }
     },
     "45d9af454b7c4c4fa7ec4a0a5f432511": {
      "model_module": "@jupyter-widgets/base",
      "model_module_version": "1.2.0",
      "model_name": "LayoutModel",
      "state": {}
     },
     "45fe492cb4864830a4bf1e1a127e6f28": {
      "model_module": "@jupyter-widgets/controls",
      "model_module_version": "1.5.0",
      "model_name": "HBoxModel",
      "state": {
       "children": [
        "IPY_MODEL_1cd4f3b02f1a4e7eae0beedf226ac8bf",
        "IPY_MODEL_6cbc4b88a5f84eaf9a27a5b877cf60e3",
        "IPY_MODEL_048d4ac7dd1b454bb824afb2b9cdafdb"
       ],
       "layout": "IPY_MODEL_893830b0b75048a987417e961946262f"
      }
     },
     "46936cb22fa34e4fa6b9d8dd7eef58eb": {
      "model_module": "@jupyter-widgets/controls",
      "model_module_version": "1.5.0",
      "model_name": "HBoxModel",
      "state": {
       "children": [
        "IPY_MODEL_19e1a1682e414b63b628da6e8ed4d486",
        "IPY_MODEL_3a9511e56993421d85642c66fcd95f92",
        "IPY_MODEL_f774dff438474c3faf8f8e72b9bf43ee"
       ],
       "layout": "IPY_MODEL_4c10281dcb6a4cc5bc0d89312b3599cf"
      }
     },
     "46dddb9115f742febedc7932a2881622": {
      "model_module": "@jupyter-widgets/base",
      "model_module_version": "1.2.0",
      "model_name": "LayoutModel",
      "state": {}
     },
     "4783c1c088254a3dbbdc2417cbbb5acc": {
      "model_module": "@jupyter-widgets/base",
      "model_module_version": "1.2.0",
      "model_name": "LayoutModel",
      "state": {}
     },
     "47b34cedbe8a4416a0ac4a82f3fb0972": {
      "model_module": "@jupyter-widgets/base",
      "model_module_version": "1.2.0",
      "model_name": "LayoutModel",
      "state": {}
     },
     "47b890bb1ac64a65af955ee3d0282c73": {
      "model_module": "@jupyter-widgets/controls",
      "model_module_version": "1.5.0",
      "model_name": "DescriptionStyleModel",
      "state": {
       "description_width": ""
      }
     },
     "47d1a405b6fb439cb5cf34847eace0e1": {
      "model_module": "@jupyter-widgets/controls",
      "model_module_version": "1.5.0",
      "model_name": "ProgressStyleModel",
      "state": {
       "description_width": ""
      }
     },
     "481737a3602d44b9b0920209435d6196": {
      "model_module": "@jupyter-widgets/controls",
      "model_module_version": "1.5.0",
      "model_name": "DescriptionStyleModel",
      "state": {
       "description_width": ""
      }
     },
     "4898ea2f74c54070ae7b3a4e170e528c": {
      "model_module": "@jupyter-widgets/controls",
      "model_module_version": "1.5.0",
      "model_name": "HTMLModel",
      "state": {
       "layout": "IPY_MODEL_20c94b8cbd8d423eb43989ed0cd1ce15",
       "style": "IPY_MODEL_527cd5fe1bfa4fa49d5b7e4cec6731f9",
       "value": " 2/2 [00:00&lt;00:00,  2.38it/s]"
      }
     },
     "48d4c9d4d26e45ce8de08602e7e76bf7": {
      "model_module": "@jupyter-widgets/controls",
      "model_module_version": "1.5.0",
      "model_name": "ProgressStyleModel",
      "state": {
       "description_width": ""
      }
     },
     "48dc50945ae547c5b52e1ae262ad4812": {
      "model_module": "@jupyter-widgets/base",
      "model_module_version": "1.2.0",
      "model_name": "LayoutModel",
      "state": {}
     },
     "49854c7d258c48b2acebd2651136b6cd": {
      "model_module": "@jupyter-widgets/base",
      "model_module_version": "1.2.0",
      "model_name": "LayoutModel",
      "state": {}
     },
     "49913d4b01ca4babb5ef7c52faeb5e82": {
      "model_module": "@jupyter-widgets/base",
      "model_module_version": "1.2.0",
      "model_name": "LayoutModel",
      "state": {}
     },
     "49c15f687a204809b168891cf6173f18": {
      "model_module": "@jupyter-widgets/base",
      "model_module_version": "1.2.0",
      "model_name": "LayoutModel",
      "state": {}
     },
     "49e10450d8204019a1a1abe2991d8ea1": {
      "model_module": "@jupyter-widgets/controls",
      "model_module_version": "1.5.0",
      "model_name": "DescriptionStyleModel",
      "state": {
       "description_width": ""
      }
     },
     "49fe1a62a1064bdf8783b90692d2dde6": {
      "model_module": "@jupyter-widgets/base",
      "model_module_version": "1.2.0",
      "model_name": "LayoutModel",
      "state": {}
     },
     "4a284bf65c164b9daff0b15c3d375c01": {
      "model_module": "@jupyter-widgets/controls",
      "model_module_version": "1.5.0",
      "model_name": "DescriptionStyleModel",
      "state": {
       "description_width": ""
      }
     },
     "4a9e82513cd14bcf87bc72a51e41bf6c": {
      "model_module": "@jupyter-widgets/base",
      "model_module_version": "1.2.0",
      "model_name": "LayoutModel",
      "state": {}
     },
     "4ae112a5e31642b48056a8c0cbd133cc": {
      "model_module": "@jupyter-widgets/controls",
      "model_module_version": "1.5.0",
      "model_name": "FloatProgressModel",
      "state": {
       "bar_style": "success",
       "layout": "IPY_MODEL_3277f20d3c0b4f9398d1b785404eaa70",
       "max": 2,
       "style": "IPY_MODEL_cb1b0e9ac9024f6c92712bd3a1a02fa3",
       "value": 2
      }
     },
     "4ae59b0b820c462389cdeb15aefedfb8": {
      "model_module": "@jupyter-widgets/base",
      "model_module_version": "1.2.0",
      "model_name": "LayoutModel",
      "state": {}
     },
     "4bcd0096feb74288af9e141cca548195": {
      "model_module": "@jupyter-widgets/controls",
      "model_module_version": "1.5.0",
      "model_name": "FloatProgressModel",
      "state": {
       "bar_style": "success",
       "layout": "IPY_MODEL_20e4a66f2f7d403687c1c948bd8ba881",
       "max": 2,
       "style": "IPY_MODEL_5c62c0c079244510b8a757d562784d7b",
       "value": 2
      }
     },
     "4bf2e4146db5456ba8f5ebb532e13bae": {
      "model_module": "@jupyter-widgets/controls",
      "model_module_version": "1.5.0",
      "model_name": "FloatProgressModel",
      "state": {
       "bar_style": "success",
       "layout": "IPY_MODEL_62506fcb37984450bcc67ac6c40605ce",
       "max": 2,
       "style": "IPY_MODEL_429969f3d27741cf823ebdc53401bc7b",
       "value": 2
      }
     },
     "4c10281dcb6a4cc5bc0d89312b3599cf": {
      "model_module": "@jupyter-widgets/base",
      "model_module_version": "1.2.0",
      "model_name": "LayoutModel",
      "state": {}
     },
     "4c27001cb4774f61aca3e442a442c087": {
      "model_module": "@jupyter-widgets/base",
      "model_module_version": "1.2.0",
      "model_name": "LayoutModel",
      "state": {}
     },
     "4d47a8e491aa4fc79075f6d59c8cdc13": {
      "model_module": "@jupyter-widgets/controls",
      "model_module_version": "1.5.0",
      "model_name": "DescriptionStyleModel",
      "state": {
       "description_width": ""
      }
     },
     "4d49e8e453ad4292a1e8ccb0ce43b4af": {
      "model_module": "@jupyter-widgets/controls",
      "model_module_version": "1.5.0",
      "model_name": "ProgressStyleModel",
      "state": {
       "description_width": ""
      }
     },
     "4d61ddb3b7dc466fa4380e0aa338c0e9": {
      "model_module": "@jupyter-widgets/controls",
      "model_module_version": "1.5.0",
      "model_name": "HBoxModel",
      "state": {
       "children": [
        "IPY_MODEL_64c47d2127d84786a92a8b285c95da7e",
        "IPY_MODEL_5505baa2379b45ae997b3587efa04834",
        "IPY_MODEL_a63456e894914a0d90b183452f43441d"
       ],
       "layout": "IPY_MODEL_95bad27f38bc493dabe7c786ed1687e4"
      }
     },
     "4dc0475081e946dabfe0b1bfb3978aaa": {
      "model_module": "@jupyter-widgets/controls",
      "model_module_version": "1.5.0",
      "model_name": "FloatProgressModel",
      "state": {
       "bar_style": "success",
       "layout": "IPY_MODEL_969257932d6543fe9373abc6aeea9482",
       "max": 2,
       "style": "IPY_MODEL_719a3a392c07400ca4dbc453a3b46bd9",
       "value": 2
      }
     },
     "4dd755ef6ae14c07972758aea1a7e538": {
      "model_module": "@jupyter-widgets/controls",
      "model_module_version": "1.5.0",
      "model_name": "HTMLModel",
      "state": {
       "layout": "IPY_MODEL_aeb41cafb821475390b770db23fcaf63",
       "style": "IPY_MODEL_ce1a2ab1fb1b4885978c24cbc413a10b",
       "value": " 2/2 [00:09&lt;00:00,  4.80s/it]"
      }
     },
     "4df7948779a449a4a624740a32c10daa": {
      "model_module": "@jupyter-widgets/controls",
      "model_module_version": "1.5.0",
      "model_name": "DescriptionStyleModel",
      "state": {
       "description_width": ""
      }
     },
     "4e33551936114cd0a183be20e1c5ba5d": {
      "model_module": "@jupyter-widgets/controls",
      "model_module_version": "1.5.0",
      "model_name": "DescriptionStyleModel",
      "state": {
       "description_width": ""
      }
     },
     "4e7c1e43f68d44469e28b2ef084dfb2f": {
      "model_module": "@jupyter-widgets/base",
      "model_module_version": "1.2.0",
      "model_name": "LayoutModel",
      "state": {}
     },
     "4ee7c0e82faa4a3480a8b4704d67e07f": {
      "model_module": "@jupyter-widgets/base",
      "model_module_version": "1.2.0",
      "model_name": "LayoutModel",
      "state": {}
     },
     "4f517df29c1e47f2adbb6238c53843c1": {
      "model_module": "@jupyter-widgets/controls",
      "model_module_version": "1.5.0",
      "model_name": "HTMLModel",
      "state": {
       "layout": "IPY_MODEL_5044beef1fa144ab831ca33f6b3efb0a",
       "style": "IPY_MODEL_88e9d9a9d66c491a9ceb2134f6909150",
       "value": " 3/3 [00:16&lt;00:00,  5.53s/it]"
      }
     },
     "4fe821bd5886405c9876f3e8981f7f21": {
      "model_module": "@jupyter-widgets/base",
      "model_module_version": "1.2.0",
      "model_name": "LayoutModel",
      "state": {}
     },
     "5044beef1fa144ab831ca33f6b3efb0a": {
      "model_module": "@jupyter-widgets/base",
      "model_module_version": "1.2.0",
      "model_name": "LayoutModel",
      "state": {}
     },
     "506c3dbd48de40ce96d27e7e82f80fe0": {
      "model_module": "@jupyter-widgets/base",
      "model_module_version": "1.2.0",
      "model_name": "LayoutModel",
      "state": {}
     },
     "508cf39b913a4a08ac19426ea28bfbb9": {
      "model_module": "@jupyter-widgets/controls",
      "model_module_version": "1.5.0",
      "model_name": "HTMLModel",
      "state": {
       "layout": "IPY_MODEL_3ea06687a09443fa9e9ce7d99910f9fb",
       "style": "IPY_MODEL_a2c2d644f5844c05acfdb9299fad21cb",
       "value": "100%"
      }
     },
     "50970c78f761416b80b7a7aaaa69e7bd": {
      "model_module": "@jupyter-widgets/controls",
      "model_module_version": "1.5.0",
      "model_name": "FloatProgressModel",
      "state": {
       "bar_style": "success",
       "layout": "IPY_MODEL_506c3dbd48de40ce96d27e7e82f80fe0",
       "max": 2,
       "style": "IPY_MODEL_ae0bb14c76914916859a272d6078c952",
       "value": 2
      }
     },
     "5251f196e98e46b886a9ad6e1e4d7116": {
      "model_module": "@jupyter-widgets/controls",
      "model_module_version": "1.5.0",
      "model_name": "HBoxModel",
      "state": {
       "children": [
        "IPY_MODEL_df879d048d704975b2b104ee00266045",
        "IPY_MODEL_f8a819c79750461893edbec30f2de7ea",
        "IPY_MODEL_fe5a6d687d2342a4956747a0fecccf24"
       ],
       "layout": "IPY_MODEL_3c9155d5651a40538697172cde832878"
      }
     },
     "5254c568659a498791932ead61ce5197": {
      "model_module": "@jupyter-widgets/controls",
      "model_module_version": "1.5.0",
      "model_name": "HTMLModel",
      "state": {
       "layout": "IPY_MODEL_613d3a07c82a4dc6a34409a956cc6450",
       "style": "IPY_MODEL_a3dece63108741bc8a0f033975447238",
       "value": " 2/2 [00:19&lt;00:00,  9.56s/it]"
      }
     },
     "527cd5fe1bfa4fa49d5b7e4cec6731f9": {
      "model_module": "@jupyter-widgets/controls",
      "model_module_version": "1.5.0",
      "model_name": "DescriptionStyleModel",
      "state": {
       "description_width": ""
      }
     },
     "534812ebe11241a1a9fe34b7789ddb91": {
      "model_module": "@jupyter-widgets/controls",
      "model_module_version": "1.5.0",
      "model_name": "DescriptionStyleModel",
      "state": {
       "description_width": ""
      }
     },
     "53780975b25248618ce83628d24d5d16": {
      "model_module": "@jupyter-widgets/controls",
      "model_module_version": "1.5.0",
      "model_name": "DescriptionStyleModel",
      "state": {
       "description_width": ""
      }
     },
     "5423082109474d9abffab8909860b5c4": {
      "model_module": "@jupyter-widgets/base",
      "model_module_version": "1.2.0",
      "model_name": "LayoutModel",
      "state": {}
     },
     "54325e8331c34a4e94b420594100e7e0": {
      "model_module": "@jupyter-widgets/controls",
      "model_module_version": "1.5.0",
      "model_name": "HBoxModel",
      "state": {
       "children": [
        "IPY_MODEL_918f0c6e1bbd48f49969e9835c6b46a3",
        "IPY_MODEL_0a7d7e589a0d4c6592cd29b80718ea31",
        "IPY_MODEL_3db8c0b8c937438aaf21d72bc318671e"
       ],
       "layout": "IPY_MODEL_a9b961be7b464cb19ecd8d4a545bd851"
      }
     },
     "54d106bca27d4e26a9a64bd2f34a0217": {
      "model_module": "@jupyter-widgets/controls",
      "model_module_version": "1.5.0",
      "model_name": "HBoxModel",
      "state": {
       "children": [
        "IPY_MODEL_c4efd58e0504424aa30584177db11623",
        "IPY_MODEL_7f365c96487f4968af7535efc186e45c",
        "IPY_MODEL_5254c568659a498791932ead61ce5197"
       ],
       "layout": "IPY_MODEL_e29361c423994888a925c1a9b89328ca"
      }
     },
     "5505baa2379b45ae997b3587efa04834": {
      "model_module": "@jupyter-widgets/controls",
      "model_module_version": "1.5.0",
      "model_name": "FloatProgressModel",
      "state": {
       "bar_style": "success",
       "layout": "IPY_MODEL_2e35d9d3af514f589fbd0adf32fb5a56",
       "max": 1,
       "style": "IPY_MODEL_8863b0a239f64f93a28d1fec3f02a555",
       "value": 1
      }
     },
     "552b6f41f8064a64a0ba4085b5ec60e6": {
      "model_module": "@jupyter-widgets/base",
      "model_module_version": "1.2.0",
      "model_name": "LayoutModel",
      "state": {}
     },
     "55374b3f8c0d482faa30b71a6c88d63a": {
      "model_module": "@jupyter-widgets/controls",
      "model_module_version": "1.5.0",
      "model_name": "HTMLModel",
      "state": {
       "layout": "IPY_MODEL_e745ae9d41c84ba2af9eca9913150f10",
       "style": "IPY_MODEL_c4daf20cbfca4078b886614a44365793",
       "value": " 1/1 [00:02&lt;00:00,  2.47s/it]"
      }
     },
     "559a0b5e412a44db861767662535f1ad": {
      "model_module": "@jupyter-widgets/base",
      "model_module_version": "1.2.0",
      "model_name": "LayoutModel",
      "state": {}
     },
     "5677f60bfb7747d28cb5d25b588e9044": {
      "model_module": "@jupyter-widgets/base",
      "model_module_version": "1.2.0",
      "model_name": "LayoutModel",
      "state": {}
     },
     "574230931a5c4cc8967b27ec64c02421": {
      "model_module": "@jupyter-widgets/base",
      "model_module_version": "1.2.0",
      "model_name": "LayoutModel",
      "state": {}
     },
     "57aea235b91645a2be376f08efd6fa1c": {
      "model_module": "@jupyter-widgets/base",
      "model_module_version": "1.2.0",
      "model_name": "LayoutModel",
      "state": {}
     },
     "57f50b8f8d674aa6a5d1a886347a6628": {
      "model_module": "@jupyter-widgets/controls",
      "model_module_version": "1.5.0",
      "model_name": "HTMLModel",
      "state": {
       "layout": "IPY_MODEL_d7e38ee83614472e94df1d49aa1a6f95",
       "style": "IPY_MODEL_5d13142cafc44d6d9ff83ea118a01d95",
       "value": "100%"
      }
     },
     "58083d1074464809b7bb91005120b667": {
      "model_module": "@jupyter-widgets/controls",
      "model_module_version": "1.5.0",
      "model_name": "HBoxModel",
      "state": {
       "children": [
        "IPY_MODEL_2b3c5ed27bc74b9daec96f2988387225",
        "IPY_MODEL_4bf2e4146db5456ba8f5ebb532e13bae",
        "IPY_MODEL_0f5e9a4370e842bfb999d969832ade2d"
       ],
       "layout": "IPY_MODEL_559a0b5e412a44db861767662535f1ad"
      }
     },
     "593a0a91ade24687b650c118de26945b": {
      "model_module": "@jupyter-widgets/base",
      "model_module_version": "1.2.0",
      "model_name": "LayoutModel",
      "state": {}
     },
     "598d147997cc4b3ab26c5a5fecee0ddc": {
      "model_module": "@jupyter-widgets/base",
      "model_module_version": "1.2.0",
      "model_name": "LayoutModel",
      "state": {}
     },
     "59adf91a3dfe4896ae4c66f433ded93d": {
      "model_module": "@jupyter-widgets/base",
      "model_module_version": "1.2.0",
      "model_name": "LayoutModel",
      "state": {}
     },
     "5a368609924845298bdd2abdbb69c4af": {
      "model_module": "@jupyter-widgets/controls",
      "model_module_version": "1.5.0",
      "model_name": "HBoxModel",
      "state": {
       "children": [
        "IPY_MODEL_fbccc2c6f6e24f4b9c4c648564003dab",
        "IPY_MODEL_5e85e81e0f32414d9cbe5f6dc932500c",
        "IPY_MODEL_bb038312f26a43da8d456e340aa7ca13"
       ],
       "layout": "IPY_MODEL_f94bafc6f48f43649ba18b76936d24ea"
      }
     },
     "5aa14d211409498293dfdf5f61941c94": {
      "model_module": "@jupyter-widgets/controls",
      "model_module_version": "1.5.0",
      "model_name": "DescriptionStyleModel",
      "state": {
       "description_width": ""
      }
     },
     "5af0409b93c847408dc877d0daaf5236": {
      "model_module": "@jupyter-widgets/controls",
      "model_module_version": "1.5.0",
      "model_name": "HBoxModel",
      "state": {
       "children": [
        "IPY_MODEL_13a952b6ea8c46f4b8b8c80f06d7f4bf",
        "IPY_MODEL_2c5f6daf95654756bfa2062daf8c83ac",
        "IPY_MODEL_7abf2afb275742ada7a2572e55c0b0c5"
       ],
       "layout": "IPY_MODEL_de3cc2bdc3244e3bb507165dad4a31d4"
      }
     },
     "5b307bc6d6274de5b25610532172ebad": {
      "model_module": "@jupyter-widgets/base",
      "model_module_version": "1.2.0",
      "model_name": "LayoutModel",
      "state": {}
     },
     "5b42c95774574df3a1e080329fe2e5ce": {
      "model_module": "@jupyter-widgets/controls",
      "model_module_version": "1.5.0",
      "model_name": "DescriptionStyleModel",
      "state": {
       "description_width": ""
      }
     },
     "5b5bd4a32831484eb75488a4188f2154": {
      "model_module": "@jupyter-widgets/base",
      "model_module_version": "1.2.0",
      "model_name": "LayoutModel",
      "state": {}
     },
     "5b7bbfcf8f9945e389b31a9206cf358e": {
      "model_module": "@jupyter-widgets/base",
      "model_module_version": "1.2.0",
      "model_name": "LayoutModel",
      "state": {}
     },
     "5ba4a4cf01eb40d1925405fae5ad2420": {
      "model_module": "@jupyter-widgets/controls",
      "model_module_version": "1.5.0",
      "model_name": "DescriptionStyleModel",
      "state": {
       "description_width": ""
      }
     },
     "5be9b87d1c8143faa96a16f677b09022": {
      "model_module": "@jupyter-widgets/base",
      "model_module_version": "1.2.0",
      "model_name": "LayoutModel",
      "state": {}
     },
     "5c62c0c079244510b8a757d562784d7b": {
      "model_module": "@jupyter-widgets/controls",
      "model_module_version": "1.5.0",
      "model_name": "ProgressStyleModel",
      "state": {
       "description_width": ""
      }
     },
     "5cc0d1a452dc480395a6bd62484e2c3f": {
      "model_module": "@jupyter-widgets/controls",
      "model_module_version": "1.5.0",
      "model_name": "HTMLModel",
      "state": {
       "layout": "IPY_MODEL_bd7907c68c2d4464814354e0b5c087c4",
       "style": "IPY_MODEL_7ab6459d7ec04feeb9b9c26bdf5b6ea5",
       "value": " 2/2 [00:46&lt;00:00, 22.15s/it]"
      }
     },
     "5d0c2394abbf4916bfce29699563155b": {
      "model_module": "@jupyter-widgets/controls",
      "model_module_version": "1.5.0",
      "model_name": "DescriptionStyleModel",
      "state": {
       "description_width": ""
      }
     },
     "5d13142cafc44d6d9ff83ea118a01d95": {
      "model_module": "@jupyter-widgets/controls",
      "model_module_version": "1.5.0",
      "model_name": "DescriptionStyleModel",
      "state": {
       "description_width": ""
      }
     },
     "5dcb6bfa5b464380b20e89bb20922269": {
      "model_module": "@jupyter-widgets/base",
      "model_module_version": "1.2.0",
      "model_name": "LayoutModel",
      "state": {}
     },
     "5e85e81e0f32414d9cbe5f6dc932500c": {
      "model_module": "@jupyter-widgets/controls",
      "model_module_version": "1.5.0",
      "model_name": "FloatProgressModel",
      "state": {
       "bar_style": "success",
       "layout": "IPY_MODEL_dd0e1b6d423543e9865840271833e26f",
       "max": 2,
       "style": "IPY_MODEL_da976422e1824d98971f1a7c63039c78",
       "value": 2
      }
     },
     "5fb8c012c46c41149ec55c2de3a0b1cd": {
      "model_module": "@jupyter-widgets/controls",
      "model_module_version": "1.5.0",
      "model_name": "HTMLModel",
      "state": {
       "layout": "IPY_MODEL_c4d823ae7c004f78a848f18f5433858d",
       "style": "IPY_MODEL_656b05c87d444ca6be4cc96376186d47",
       "value": "100%"
      }
     },
     "6017a2b0e5ef444e90dd6cac4563e5d6": {
      "model_module": "@jupyter-widgets/base",
      "model_module_version": "1.2.0",
      "model_name": "LayoutModel",
      "state": {}
     },
     "6017c8d64d794e2c8f51c322d339c582": {
      "model_module": "@jupyter-widgets/base",
      "model_module_version": "1.2.0",
      "model_name": "LayoutModel",
      "state": {}
     },
     "6053e415cef141e2b9ca87656eca76f1": {
      "model_module": "@jupyter-widgets/controls",
      "model_module_version": "1.5.0",
      "model_name": "FloatProgressModel",
      "state": {
       "bar_style": "success",
       "layout": "IPY_MODEL_4a9e82513cd14bcf87bc72a51e41bf6c",
       "max": 2,
       "style": "IPY_MODEL_bfcd0ed315ce41b989411171ab40ef63",
       "value": 2
      }
     },
     "613d3a07c82a4dc6a34409a956cc6450": {
      "model_module": "@jupyter-widgets/base",
      "model_module_version": "1.2.0",
      "model_name": "LayoutModel",
      "state": {}
     },
     "62506fcb37984450bcc67ac6c40605ce": {
      "model_module": "@jupyter-widgets/base",
      "model_module_version": "1.2.0",
      "model_name": "LayoutModel",
      "state": {}
     },
     "62e6c5031ba54359bae57018ecf680e2": {
      "model_module": "@jupyter-widgets/controls",
      "model_module_version": "1.5.0",
      "model_name": "FloatProgressModel",
      "state": {
       "bar_style": "success",
       "layout": "IPY_MODEL_d96c9c25019e44f5849b0420f07d80be",
       "max": 1,
       "style": "IPY_MODEL_961d0fc70a3e4a84988981a797155fba",
       "value": 1
      }
     },
     "63288ea9023143ab9c3448d679c26550": {
      "model_module": "@jupyter-widgets/controls",
      "model_module_version": "1.5.0",
      "model_name": "DescriptionStyleModel",
      "state": {
       "description_width": ""
      }
     },
     "63532465d38d4648aa463c668f1b8340": {
      "model_module": "@jupyter-widgets/controls",
      "model_module_version": "1.5.0",
      "model_name": "FloatProgressModel",
      "state": {
       "bar_style": "success",
       "layout": "IPY_MODEL_219ed35786b84672b17171edd8c97db0",
       "max": 2,
       "style": "IPY_MODEL_1cb0c15815c545669e8cb04737f02bc9",
       "value": 2
      }
     },
     "63a93706620a4f51854d89a3834e2446": {
      "model_module": "@jupyter-widgets/controls",
      "model_module_version": "1.5.0",
      "model_name": "ProgressStyleModel",
      "state": {
       "description_width": ""
      }
     },
     "648424b77ddc43c58ed413a5ba9392c1": {
      "model_module": "@jupyter-widgets/controls",
      "model_module_version": "1.5.0",
      "model_name": "FloatProgressModel",
      "state": {
       "bar_style": "success",
       "layout": "IPY_MODEL_bffab47def5a40928b22fb7ef9b636b6",
       "max": 2,
       "style": "IPY_MODEL_1ae936a7687647369638731c5de493b8",
       "value": 2
      }
     },
     "649a5fe3ba0942468be984bed6f3f017": {
      "model_module": "@jupyter-widgets/controls",
      "model_module_version": "1.5.0",
      "model_name": "HTMLModel",
      "state": {
       "layout": "IPY_MODEL_9302bd5193c6442892e8d32ca7c54377",
       "style": "IPY_MODEL_cbb13211c0704f468311b32c04641993",
       "value": " 2/2 [00:41&lt;00:00, 19.58s/it]"
      }
     },
     "64c47d2127d84786a92a8b285c95da7e": {
      "model_module": "@jupyter-widgets/controls",
      "model_module_version": "1.5.0",
      "model_name": "HTMLModel",
      "state": {
       "layout": "IPY_MODEL_2bb37bcbb65b4272b5c95dc5afb6cc7c",
       "style": "IPY_MODEL_2bfe6819b7c54e719617e89244ee9849",
       "value": "100%"
      }
     },
     "64de20f5b6854f8ea3404ce591881f0b": {
      "model_module": "@jupyter-widgets/controls",
      "model_module_version": "1.5.0",
      "model_name": "HTMLModel",
      "state": {
       "layout": "IPY_MODEL_343e69f9f9ca4442b90c02b5f47b0290",
       "style": "IPY_MODEL_28b98f3e192941d7bfd1360fd71ca019",
       "value": "100%"
      }
     },
     "6509630fd9ce49f3adf08816ee043fad": {
      "model_module": "@jupyter-widgets/base",
      "model_module_version": "1.2.0",
      "model_name": "LayoutModel",
      "state": {}
     },
     "656b05c87d444ca6be4cc96376186d47": {
      "model_module": "@jupyter-widgets/controls",
      "model_module_version": "1.5.0",
      "model_name": "DescriptionStyleModel",
      "state": {
       "description_width": ""
      }
     },
     "65e2b6a094d647a6b59e5533c729e99f": {
      "model_module": "@jupyter-widgets/controls",
      "model_module_version": "1.5.0",
      "model_name": "ProgressStyleModel",
      "state": {
       "description_width": ""
      }
     },
     "67754a7125124a378c916d4e445cda09": {
      "model_module": "@jupyter-widgets/controls",
      "model_module_version": "1.5.0",
      "model_name": "ProgressStyleModel",
      "state": {
       "description_width": ""
      }
     },
     "67e11cf0ad81478483f5fa5a3368a252": {
      "model_module": "@jupyter-widgets/base",
      "model_module_version": "1.2.0",
      "model_name": "LayoutModel",
      "state": {}
     },
     "682b7e7e5f4c4f4c93b6e93c003342c6": {
      "model_module": "@jupyter-widgets/base",
      "model_module_version": "1.2.0",
      "model_name": "LayoutModel",
      "state": {}
     },
     "6ae2e07ad2404b75aa08150c7b8fe84b": {
      "model_module": "@jupyter-widgets/base",
      "model_module_version": "1.2.0",
      "model_name": "LayoutModel",
      "state": {}
     },
     "6c444b3af4b3423989241649a44bacec": {
      "model_module": "@jupyter-widgets/base",
      "model_module_version": "1.2.0",
      "model_name": "LayoutModel",
      "state": {}
     },
     "6cb9966a45db4963869110e0d2015033": {
      "model_module": "@jupyter-widgets/base",
      "model_module_version": "1.2.0",
      "model_name": "LayoutModel",
      "state": {}
     },
     "6cbc4b88a5f84eaf9a27a5b877cf60e3": {
      "model_module": "@jupyter-widgets/controls",
      "model_module_version": "1.5.0",
      "model_name": "FloatProgressModel",
      "state": {
       "bar_style": "success",
       "layout": "IPY_MODEL_e6e7a8e274854cac9376c935931be99c",
       "max": 2,
       "style": "IPY_MODEL_b7b7f7df300c459aa44ff67ea7d57fbf",
       "value": 2
      }
     },
     "6cd80f999d7946e9bab1148f81ceabc3": {
      "model_module": "@jupyter-widgets/base",
      "model_module_version": "1.2.0",
      "model_name": "LayoutModel",
      "state": {}
     },
     "6cd91c2c4da1436aa5540f37055b2277": {
      "model_module": "@jupyter-widgets/base",
      "model_module_version": "1.2.0",
      "model_name": "LayoutModel",
      "state": {}
     },
     "6eae479faacb4306b286d66523fa03d7": {
      "model_module": "@jupyter-widgets/controls",
      "model_module_version": "1.5.0",
      "model_name": "DescriptionStyleModel",
      "state": {
       "description_width": ""
      }
     },
     "6edb16df884d4ababe46637687e7f8fd": {
      "model_module": "@jupyter-widgets/base",
      "model_module_version": "1.2.0",
      "model_name": "LayoutModel",
      "state": {}
     },
     "6f146f8dd7164c1681b3e3f21a5de426": {
      "model_module": "@jupyter-widgets/controls",
      "model_module_version": "1.5.0",
      "model_name": "HTMLModel",
      "state": {
       "layout": "IPY_MODEL_f1d70aede3794abebadfedf9000e0d43",
       "style": "IPY_MODEL_08efd5d2ea0447efb4cb19e85c871d72",
       "value": " 1/1 [00:02&lt;00:00,  2.37s/it]"
      }
     },
     "6f63ddab72774a32916ae54c6de88db3": {
      "model_module": "@jupyter-widgets/controls",
      "model_module_version": "1.5.0",
      "model_name": "ProgressStyleModel",
      "state": {
       "description_width": ""
      }
     },
     "711f2d6862a54c439fc895ca2d033d8e": {
      "model_module": "@jupyter-widgets/controls",
      "model_module_version": "1.5.0",
      "model_name": "HBoxModel",
      "state": {
       "children": [
        "IPY_MODEL_edde42a4a8da4296b695e8324835c698",
        "IPY_MODEL_1837958aa54445279dd435984f417461",
        "IPY_MODEL_23e564ea1ec64e949d2a6af223a98af1"
       ],
       "layout": "IPY_MODEL_249662255e4e47e4b6a060d21f781304"
      }
     },
     "7122a855d085490093a0d4463dd1faea": {
      "model_module": "@jupyter-widgets/controls",
      "model_module_version": "1.5.0",
      "model_name": "DescriptionStyleModel",
      "state": {
       "description_width": ""
      }
     },
     "713cf34c336a435d96678d94926af63b": {
      "model_module": "@jupyter-widgets/base",
      "model_module_version": "1.2.0",
      "model_name": "LayoutModel",
      "state": {}
     },
     "719a3a392c07400ca4dbc453a3b46bd9": {
      "model_module": "@jupyter-widgets/controls",
      "model_module_version": "1.5.0",
      "model_name": "ProgressStyleModel",
      "state": {
       "description_width": ""
      }
     },
     "71d8dffec7ef4edaafb60be20d5cbe09": {
      "model_module": "@jupyter-widgets/controls",
      "model_module_version": "1.5.0",
      "model_name": "HTMLModel",
      "state": {
       "layout": "IPY_MODEL_1cc7a0911dce41acb309b27116e42165",
       "style": "IPY_MODEL_b1473ee7c58b40099425147f0069727d",
       "value": " 3/3 [00:16&lt;00:00,  5.57s/it]"
      }
     },
     "72d2fb115ffe44d3b3b2b61af3f2ea48": {
      "model_module": "@jupyter-widgets/base",
      "model_module_version": "1.2.0",
      "model_name": "LayoutModel",
      "state": {}
     },
     "7378ee5488144ca3853fffb6da70089b": {
      "model_module": "@jupyter-widgets/controls",
      "model_module_version": "1.5.0",
      "model_name": "HBoxModel",
      "state": {
       "children": [
        "IPY_MODEL_5fb8c012c46c41149ec55c2de3a0b1cd",
        "IPY_MODEL_0810a1240fbb47feb9e79cc5dc3b5bd0",
        "IPY_MODEL_e2b3fbc02c7c4f59b2724496eed28b79"
       ],
       "layout": "IPY_MODEL_c884c757712745b38dbbb58e947f8973"
      }
     },
     "7380e4d259b44f80bb4b8929b0dc55b9": {
      "model_module": "@jupyter-widgets/base",
      "model_module_version": "1.2.0",
      "model_name": "LayoutModel",
      "state": {}
     },
     "73ad7abd6c7a4ca3920588bc2db393b1": {
      "model_module": "@jupyter-widgets/controls",
      "model_module_version": "1.5.0",
      "model_name": "DescriptionStyleModel",
      "state": {
       "description_width": ""
      }
     },
     "73ebba6909cc4fa5b47e27d15ae6c878": {
      "model_module": "@jupyter-widgets/controls",
      "model_module_version": "1.5.0",
      "model_name": "ProgressStyleModel",
      "state": {
       "description_width": ""
      }
     },
     "741288971ebd4fefa5c1b5134db1fd13": {
      "model_module": "@jupyter-widgets/base",
      "model_module_version": "1.2.0",
      "model_name": "LayoutModel",
      "state": {}
     },
     "742fe871f3a64f479baa4160d49cca68": {
      "model_module": "@jupyter-widgets/controls",
      "model_module_version": "1.5.0",
      "model_name": "DescriptionStyleModel",
      "state": {
       "description_width": ""
      }
     },
     "75355ef60c024e4eafe47d25fbca77ef": {
      "model_module": "@jupyter-widgets/base",
      "model_module_version": "1.2.0",
      "model_name": "LayoutModel",
      "state": {}
     },
     "7560bf37cfa043d285f486ccc24652bd": {
      "model_module": "@jupyter-widgets/controls",
      "model_module_version": "1.5.0",
      "model_name": "DescriptionStyleModel",
      "state": {
       "description_width": ""
      }
     },
     "76fdcd4a0be441fcb8af63c81371c2b7": {
      "model_module": "@jupyter-widgets/base",
      "model_module_version": "1.2.0",
      "model_name": "LayoutModel",
      "state": {}
     },
     "77479b8a74c24285beaebeb2d175c637": {
      "model_module": "@jupyter-widgets/base",
      "model_module_version": "1.2.0",
      "model_name": "LayoutModel",
      "state": {}
     },
     "77c627bf6d724e1a89b7e14306cb0911": {
      "model_module": "@jupyter-widgets/controls",
      "model_module_version": "1.5.0",
      "model_name": "HBoxModel",
      "state": {
       "children": [
        "IPY_MODEL_40effeed4930435b97ad7b800989cf2a",
        "IPY_MODEL_1186f0ffdde748dc81705fab8901c216",
        "IPY_MODEL_dcdbf6636f7f4fc884ba4515f164ac68"
       ],
       "layout": "IPY_MODEL_819093650e084abd8746bdf6e2398a68"
      }
     },
     "77f39a94c1d448e396373dda8df1a95d": {
      "model_module": "@jupyter-widgets/controls",
      "model_module_version": "1.5.0",
      "model_name": "DescriptionStyleModel",
      "state": {
       "description_width": ""
      }
     },
     "7aafeeac56ce4f729c800f23988f2ae9": {
      "model_module": "@jupyter-widgets/controls",
      "model_module_version": "1.5.0",
      "model_name": "HBoxModel",
      "state": {
       "children": [
        "IPY_MODEL_3aa355c05aeb4850878d520514e28d96",
        "IPY_MODEL_b4bbf967d599479d95c8ca121623191f",
        "IPY_MODEL_9ef720741e344b6dbc821b22523a30ce"
       ],
       "layout": "IPY_MODEL_552b6f41f8064a64a0ba4085b5ec60e6"
      }
     },
     "7ab6459d7ec04feeb9b9c26bdf5b6ea5": {
      "model_module": "@jupyter-widgets/controls",
      "model_module_version": "1.5.0",
      "model_name": "DescriptionStyleModel",
      "state": {
       "description_width": ""
      }
     },
     "7abf2afb275742ada7a2572e55c0b0c5": {
      "model_module": "@jupyter-widgets/controls",
      "model_module_version": "1.5.0",
      "model_name": "HTMLModel",
      "state": {
       "layout": "IPY_MODEL_4ae59b0b820c462389cdeb15aefedfb8",
       "style": "IPY_MODEL_c0c4d36a731f4fe585f508ca26dbdfae",
       "value": " 1/1 [00:01&lt;00:00,  1.36s/it]"
      }
     },
     "7b4327d5cddc423e87ba397189d97ea6": {
      "model_module": "@jupyter-widgets/base",
      "model_module_version": "1.2.0",
      "model_name": "LayoutModel",
      "state": {}
     },
     "7bba279af00a459089abb683b2f74781": {
      "model_module": "@jupyter-widgets/base",
      "model_module_version": "1.2.0",
      "model_name": "LayoutModel",
      "state": {}
     },
     "7c0fe3bca5274926aa6ff315fe1f27bb": {
      "model_module": "@jupyter-widgets/controls",
      "model_module_version": "1.5.0",
      "model_name": "ProgressStyleModel",
      "state": {
       "description_width": ""
      }
     },
     "7c1342cdc64f48cd8fae67eb269cea57": {
      "model_module": "@jupyter-widgets/base",
      "model_module_version": "1.2.0",
      "model_name": "LayoutModel",
      "state": {}
     },
     "7d3275260e054640a127e57fb3279e1b": {
      "model_module": "@jupyter-widgets/base",
      "model_module_version": "1.2.0",
      "model_name": "LayoutModel",
      "state": {}
     },
     "7d74bc75d06e4109b9504ce7242dbc4a": {
      "model_module": "@jupyter-widgets/controls",
      "model_module_version": "1.5.0",
      "model_name": "HTMLModel",
      "state": {
       "layout": "IPY_MODEL_9f0af505cf46495c93786100591ac0a8",
       "style": "IPY_MODEL_47b890bb1ac64a65af955ee3d0282c73",
       "value": " 2/2 [00:37&lt;00:00, 18.28s/it]"
      }
     },
     "7dd2bfa590c84d83a3f6a32ef333bca8": {
      "model_module": "@jupyter-widgets/controls",
      "model_module_version": "1.5.0",
      "model_name": "DescriptionStyleModel",
      "state": {
       "description_width": ""
      }
     },
     "7ddb7873ece14db0834ccfbeb0c4784e": {
      "model_module": "@jupyter-widgets/base",
      "model_module_version": "1.2.0",
      "model_name": "LayoutModel",
      "state": {}
     },
     "7e0cf376077643198ea627ba1b808ee6": {
      "model_module": "@jupyter-widgets/base",
      "model_module_version": "1.2.0",
      "model_name": "LayoutModel",
      "state": {}
     },
     "7f338efe6c044601a9c5d05718a1ebc4": {
      "model_module": "@jupyter-widgets/base",
      "model_module_version": "1.2.0",
      "model_name": "LayoutModel",
      "state": {}
     },
     "7f365c96487f4968af7535efc186e45c": {
      "model_module": "@jupyter-widgets/controls",
      "model_module_version": "1.5.0",
      "model_name": "FloatProgressModel",
      "state": {
       "bar_style": "success",
       "layout": "IPY_MODEL_3987fa3692884e028dc4f3475c0bddb9",
       "max": 2,
       "style": "IPY_MODEL_4d49e8e453ad4292a1e8ccb0ce43b4af",
       "value": 2
      }
     },
     "7f99a34c75be483e8a956d0fc5df833f": {
      "model_module": "@jupyter-widgets/controls",
      "model_module_version": "1.5.0",
      "model_name": "ProgressStyleModel",
      "state": {
       "description_width": ""
      }
     },
     "819093650e084abd8746bdf6e2398a68": {
      "model_module": "@jupyter-widgets/base",
      "model_module_version": "1.2.0",
      "model_name": "LayoutModel",
      "state": {}
     },
     "81a9941abc6c44c6b39d5eeec3250c8f": {
      "model_module": "@jupyter-widgets/controls",
      "model_module_version": "1.5.0",
      "model_name": "DescriptionStyleModel",
      "state": {
       "description_width": ""
      }
     },
     "81b76498c8fe4f3f966ede02b52fa7f6": {
      "model_module": "@jupyter-widgets/base",
      "model_module_version": "1.2.0",
      "model_name": "LayoutModel",
      "state": {}
     },
     "8378ec6d2fe2471495c6102b1a55afa5": {
      "model_module": "@jupyter-widgets/base",
      "model_module_version": "1.2.0",
      "model_name": "LayoutModel",
      "state": {}
     },
     "8381f177fd8444c5928a09c39ea7e6ef": {
      "model_module": "@jupyter-widgets/base",
      "model_module_version": "1.2.0",
      "model_name": "LayoutModel",
      "state": {}
     },
     "86f0be8e078942b3ba40ff67e924e8b3": {
      "model_module": "@jupyter-widgets/controls",
      "model_module_version": "1.5.0",
      "model_name": "DescriptionStyleModel",
      "state": {
       "description_width": ""
      }
     },
     "8722422d26344a9c9c7e6961737d13fc": {
      "model_module": "@jupyter-widgets/controls",
      "model_module_version": "1.5.0",
      "model_name": "DescriptionStyleModel",
      "state": {
       "description_width": ""
      }
     },
     "87be4b22ff2a4d70aa84b7efae409a2d": {
      "model_module": "@jupyter-widgets/base",
      "model_module_version": "1.2.0",
      "model_name": "LayoutModel",
      "state": {}
     },
     "8863b0a239f64f93a28d1fec3f02a555": {
      "model_module": "@jupyter-widgets/controls",
      "model_module_version": "1.5.0",
      "model_name": "ProgressStyleModel",
      "state": {
       "description_width": ""
      }
     },
     "88e499ad975349d6af0579a88bf9a848": {
      "model_module": "@jupyter-widgets/controls",
      "model_module_version": "1.5.0",
      "model_name": "HBoxModel",
      "state": {
       "children": [
        "IPY_MODEL_18988e03237748489b055673c75fd9ec",
        "IPY_MODEL_4bcd0096feb74288af9e141cca548195",
        "IPY_MODEL_5cc0d1a452dc480395a6bd62484e2c3f"
       ],
       "layout": "IPY_MODEL_4c27001cb4774f61aca3e442a442c087"
      }
     },
     "88e9d9a9d66c491a9ceb2134f6909150": {
      "model_module": "@jupyter-widgets/controls",
      "model_module_version": "1.5.0",
      "model_name": "DescriptionStyleModel",
      "state": {
       "description_width": ""
      }
     },
     "893830b0b75048a987417e961946262f": {
      "model_module": "@jupyter-widgets/base",
      "model_module_version": "1.2.0",
      "model_name": "LayoutModel",
      "state": {}
     },
     "894068f40ccf44149450e42a258670f7": {
      "model_module": "@jupyter-widgets/controls",
      "model_module_version": "1.5.0",
      "model_name": "DescriptionStyleModel",
      "state": {
       "description_width": ""
      }
     },
     "898424944c044570b41c844e47833856": {
      "model_module": "@jupyter-widgets/controls",
      "model_module_version": "1.5.0",
      "model_name": "DescriptionStyleModel",
      "state": {
       "description_width": ""
      }
     },
     "8a7503a0e2704c43a716f426e01179f6": {
      "model_module": "@jupyter-widgets/controls",
      "model_module_version": "1.5.0",
      "model_name": "ProgressStyleModel",
      "state": {
       "description_width": ""
      }
     },
     "8a9ed12bea504ef1962234eb6694e4b1": {
      "model_module": "@jupyter-widgets/controls",
      "model_module_version": "1.5.0",
      "model_name": "HBoxModel",
      "state": {
       "children": [
        "IPY_MODEL_c50177f5aeaf423e823048f4474eee2e",
        "IPY_MODEL_9583cd23ec404f7faadb93c673882d44",
        "IPY_MODEL_2dd0d87c09af450bb48c0b16a973a4b0"
       ],
       "layout": "IPY_MODEL_27d52c4a70414871a5b85b882651a9e6"
      }
     },
     "8ad6a17e074245eda02ce2c1361914b4": {
      "model_module": "@jupyter-widgets/controls",
      "model_module_version": "1.5.0",
      "model_name": "HTMLModel",
      "state": {
       "layout": "IPY_MODEL_8b31adabbedb423990a3569c3d5ab996",
       "style": "IPY_MODEL_efc46f661fb6453b8816de53dbd8009e",
       "value": "100%"
      }
     },
     "8b0b686a5ea54bbc94ba290bdf9bca80": {
      "model_module": "@jupyter-widgets/controls",
      "model_module_version": "1.5.0",
      "model_name": "DescriptionStyleModel",
      "state": {
       "description_width": ""
      }
     },
     "8b152637b5aa4554945eccb8cdd4004b": {
      "model_module": "@jupyter-widgets/controls",
      "model_module_version": "1.5.0",
      "model_name": "FloatProgressModel",
      "state": {
       "bar_style": "success",
       "layout": "IPY_MODEL_5b307bc6d6274de5b25610532172ebad",
       "max": 2,
       "style": "IPY_MODEL_67754a7125124a378c916d4e445cda09",
       "value": 2
      }
     },
     "8b31adabbedb423990a3569c3d5ab996": {
      "model_module": "@jupyter-widgets/base",
      "model_module_version": "1.2.0",
      "model_name": "LayoutModel",
      "state": {}
     },
     "8c600ffc5ccc4f45ac4a5a205aeda5bc": {
      "model_module": "@jupyter-widgets/base",
      "model_module_version": "1.2.0",
      "model_name": "LayoutModel",
      "state": {}
     },
     "8d866e20dbc540b5b3ec5f6763c34fc7": {
      "model_module": "@jupyter-widgets/controls",
      "model_module_version": "1.5.0",
      "model_name": "DescriptionStyleModel",
      "state": {
       "description_width": ""
      }
     },
     "8dc19bf8e2114f1e98defeae99d39652": {
      "model_module": "@jupyter-widgets/controls",
      "model_module_version": "1.5.0",
      "model_name": "HTMLModel",
      "state": {
       "layout": "IPY_MODEL_4fe821bd5886405c9876f3e8981f7f21",
       "style": "IPY_MODEL_894068f40ccf44149450e42a258670f7",
       "value": " 2/2 [00:35&lt;00:00, 16.67s/it]"
      }
     },
     "8de73aed0aaf467283b9c8a6b341f3bb": {
      "model_module": "@jupyter-widgets/base",
      "model_module_version": "1.2.0",
      "model_name": "LayoutModel",
      "state": {}
     },
     "8e3607f98d7f45e38a1c14d42e649c99": {
      "model_module": "@jupyter-widgets/controls",
      "model_module_version": "1.5.0",
      "model_name": "ProgressStyleModel",
      "state": {
       "description_width": ""
      }
     },
     "8f5e61d745ad439393030ea1b31b3397": {
      "model_module": "@jupyter-widgets/base",
      "model_module_version": "1.2.0",
      "model_name": "LayoutModel",
      "state": {}
     },
     "9151c74f16854fcb87ca192f0d2ea574": {
      "model_module": "@jupyter-widgets/base",
      "model_module_version": "1.2.0",
      "model_name": "LayoutModel",
      "state": {}
     },
     "918f0c6e1bbd48f49969e9835c6b46a3": {
      "model_module": "@jupyter-widgets/controls",
      "model_module_version": "1.5.0",
      "model_name": "HTMLModel",
      "state": {
       "layout": "IPY_MODEL_5dcb6bfa5b464380b20e89bb20922269",
       "style": "IPY_MODEL_8d866e20dbc540b5b3ec5f6763c34fc7",
       "value": "100%"
      }
     },
     "9302bd5193c6442892e8d32ca7c54377": {
      "model_module": "@jupyter-widgets/base",
      "model_module_version": "1.2.0",
      "model_name": "LayoutModel",
      "state": {}
     },
     "93078246551747948ca9882c220a98bd": {
      "model_module": "@jupyter-widgets/base",
      "model_module_version": "1.2.0",
      "model_name": "LayoutModel",
      "state": {}
     },
     "945aded8d58b49e598ee25d18f30945c": {
      "model_module": "@jupyter-widgets/controls",
      "model_module_version": "1.5.0",
      "model_name": "ProgressStyleModel",
      "state": {
       "description_width": ""
      }
     },
     "9489edd5c9094a2fb651140edcf56ada": {
      "model_module": "@jupyter-widgets/base",
      "model_module_version": "1.2.0",
      "model_name": "LayoutModel",
      "state": {}
     },
     "9583cd23ec404f7faadb93c673882d44": {
      "model_module": "@jupyter-widgets/controls",
      "model_module_version": "1.5.0",
      "model_name": "FloatProgressModel",
      "state": {
       "bar_style": "success",
       "layout": "IPY_MODEL_1355f93a4b274d999c117eb3bacab626",
       "max": 2,
       "style": "IPY_MODEL_ff7b7d0425a3460ea3486a14b1457d51",
       "value": 2
      }
     },
     "95bad27f38bc493dabe7c786ed1687e4": {
      "model_module": "@jupyter-widgets/base",
      "model_module_version": "1.2.0",
      "model_name": "LayoutModel",
      "state": {}
     },
     "95d815173e234346a9e0c37405fdfb94": {
      "model_module": "@jupyter-widgets/controls",
      "model_module_version": "1.5.0",
      "model_name": "ProgressStyleModel",
      "state": {
       "description_width": ""
      }
     },
     "961d0fc70a3e4a84988981a797155fba": {
      "model_module": "@jupyter-widgets/controls",
      "model_module_version": "1.5.0",
      "model_name": "ProgressStyleModel",
      "state": {
       "description_width": ""
      }
     },
     "969257932d6543fe9373abc6aeea9482": {
      "model_module": "@jupyter-widgets/base",
      "model_module_version": "1.2.0",
      "model_name": "LayoutModel",
      "state": {}
     },
     "96b95df8480b487b81e0eb644acd317d": {
      "model_module": "@jupyter-widgets/base",
      "model_module_version": "1.2.0",
      "model_name": "LayoutModel",
      "state": {}
     },
     "96cb336ecc944c8aa8965de605f7cd92": {
      "model_module": "@jupyter-widgets/base",
      "model_module_version": "1.2.0",
      "model_name": "LayoutModel",
      "state": {}
     },
     "99e9f34bad1c4bf189d3b0064d294075": {
      "model_module": "@jupyter-widgets/base",
      "model_module_version": "1.2.0",
      "model_name": "LayoutModel",
      "state": {}
     },
     "99eb5a11575f49b0b41577275ab50b8a": {
      "model_module": "@jupyter-widgets/controls",
      "model_module_version": "1.5.0",
      "model_name": "DescriptionStyleModel",
      "state": {
       "description_width": ""
      }
     },
     "9a4212e16d7d4115a058136af7760249": {
      "model_module": "@jupyter-widgets/controls",
      "model_module_version": "1.5.0",
      "model_name": "HBoxModel",
      "state": {
       "children": [
        "IPY_MODEL_caceccd4ec474a159c1e528d8f15f1b9",
        "IPY_MODEL_a1055fcedf534232b799f606fe8979bd",
        "IPY_MODEL_be3f9a8bcc9c489ebd13ca27a847e8d4"
       ],
       "layout": "IPY_MODEL_33551e237d584612a5c78d0af3937fbf"
      }
     },
     "9a434de4e12b4347b2f22c7a60769806": {
      "model_module": "@jupyter-widgets/base",
      "model_module_version": "1.2.0",
      "model_name": "LayoutModel",
      "state": {}
     },
     "9affacce9cc744b4b64296474c7bdeb8": {
      "model_module": "@jupyter-widgets/controls",
      "model_module_version": "1.5.0",
      "model_name": "FloatProgressModel",
      "state": {
       "bar_style": "success",
       "layout": "IPY_MODEL_81b76498c8fe4f3f966ede02b52fa7f6",
       "max": 2,
       "style": "IPY_MODEL_c918d57a532c48759c311a988e5b14df",
       "value": 2
      }
     },
     "9b485463d9bf4d06a36bf0e47382f36a": {
      "model_module": "@jupyter-widgets/controls",
      "model_module_version": "1.5.0",
      "model_name": "HTMLModel",
      "state": {
       "layout": "IPY_MODEL_9a434de4e12b4347b2f22c7a60769806",
       "style": "IPY_MODEL_b791b1503109473c87e26d1d427d1aff",
       "value": "100%"
      }
     },
     "9c0b86c699504212963651158a4f11af": {
      "model_module": "@jupyter-widgets/base",
      "model_module_version": "1.2.0",
      "model_name": "LayoutModel",
      "state": {}
     },
     "9c772048258744cfa446614fed2d8dc2": {
      "model_module": "@jupyter-widgets/controls",
      "model_module_version": "1.5.0",
      "model_name": "HBoxModel",
      "state": {
       "children": [
        "IPY_MODEL_b143608a248e4ffbbecef1dace0f6b23",
        "IPY_MODEL_ab7caa518fd644f7b63099e31a174217",
        "IPY_MODEL_b986d705141f4687aaf874de98caabd9"
       ],
       "layout": "IPY_MODEL_ff7ce741038646979b99eb65fb0d16e5"
      }
     },
     "9cb5242e869444bc96563ccbfd4b4143": {
      "model_module": "@jupyter-widgets/controls",
      "model_module_version": "1.5.0",
      "model_name": "DescriptionStyleModel",
      "state": {
       "description_width": ""
      }
     },
     "9cb9250dde8f4c9ea7d0d5b168967cdc": {
      "model_module": "@jupyter-widgets/controls",
      "model_module_version": "1.5.0",
      "model_name": "DescriptionStyleModel",
      "state": {
       "description_width": ""
      }
     },
     "9ef720741e344b6dbc821b22523a30ce": {
      "model_module": "@jupyter-widgets/controls",
      "model_module_version": "1.5.0",
      "model_name": "HTMLModel",
      "state": {
       "layout": "IPY_MODEL_3864c0e939d140509f1d12daf94ec274",
       "style": "IPY_MODEL_d5710cf7275d45e4b9570fbaaff090fe",
       "value": " 2/2 [00:01&lt;00:00,  1.12it/s]"
      }
     },
     "9f0af505cf46495c93786100591ac0a8": {
      "model_module": "@jupyter-widgets/base",
      "model_module_version": "1.2.0",
      "model_name": "LayoutModel",
      "state": {}
     },
     "9f0b5cc59bd648d9a8e4e7e111beacbc": {
      "model_module": "@jupyter-widgets/base",
      "model_module_version": "1.2.0",
      "model_name": "LayoutModel",
      "state": {}
     },
     "a1055fcedf534232b799f606fe8979bd": {
      "model_module": "@jupyter-widgets/controls",
      "model_module_version": "1.5.0",
      "model_name": "FloatProgressModel",
      "state": {
       "bar_style": "success",
       "layout": "IPY_MODEL_1b2873885b764d61a03423d3cfa9954a",
       "max": 2,
       "style": "IPY_MODEL_0c9b979b32864c538e530ccb22ce2edb",
       "value": 2
      }
     },
     "a2c2d644f5844c05acfdb9299fad21cb": {
      "model_module": "@jupyter-widgets/controls",
      "model_module_version": "1.5.0",
      "model_name": "DescriptionStyleModel",
      "state": {
       "description_width": ""
      }
     },
     "a2eaf370a908454b9f2620cdc1dec1b5": {
      "model_module": "@jupyter-widgets/controls",
      "model_module_version": "1.5.0",
      "model_name": "HTMLModel",
      "state": {
       "layout": "IPY_MODEL_6ae2e07ad2404b75aa08150c7b8fe84b",
       "style": "IPY_MODEL_6eae479faacb4306b286d66523fa03d7",
       "value": "100%"
      }
     },
     "a2eda5117f334d9cbe6a56052bf8bebf": {
      "model_module": "@jupyter-widgets/controls",
      "model_module_version": "1.5.0",
      "model_name": "ProgressStyleModel",
      "state": {
       "description_width": ""
      }
     },
     "a3090c24de9b4ae5b5dd7a94c5c7040e": {
      "model_module": "@jupyter-widgets/base",
      "model_module_version": "1.2.0",
      "model_name": "LayoutModel",
      "state": {}
     },
     "a399daef5a084a5cb877923cf5ebe33a": {
      "model_module": "@jupyter-widgets/base",
      "model_module_version": "1.2.0",
      "model_name": "LayoutModel",
      "state": {}
     },
     "a3dece63108741bc8a0f033975447238": {
      "model_module": "@jupyter-widgets/controls",
      "model_module_version": "1.5.0",
      "model_name": "DescriptionStyleModel",
      "state": {
       "description_width": ""
      }
     },
     "a43209845e124fc884b9a3ad2fed9fe6": {
      "model_module": "@jupyter-widgets/controls",
      "model_module_version": "1.5.0",
      "model_name": "HBoxModel",
      "state": {
       "children": [
        "IPY_MODEL_0afecfe3de1e42e58ed211b440794ac4",
        "IPY_MODEL_be23943800284192b3c08564713c1a1b",
        "IPY_MODEL_fc86d19ba0ab48e38aec781d774967be"
       ],
       "layout": "IPY_MODEL_f66244961e744928ba1e72df845138d8"
      }
     },
     "a485c425ea4a4396bcaecf83b6259545": {
      "model_module": "@jupyter-widgets/base",
      "model_module_version": "1.2.0",
      "model_name": "LayoutModel",
      "state": {}
     },
     "a48d671df5fb46dc8ce9e9b3cfb1ad7f": {
      "model_module": "@jupyter-widgets/controls",
      "model_module_version": "1.5.0",
      "model_name": "HTMLModel",
      "state": {
       "layout": "IPY_MODEL_9489edd5c9094a2fb651140edcf56ada",
       "style": "IPY_MODEL_45a0821d07324fdaa860c91c61d60aba",
       "value": " 2/2 [00:00&lt;00:00,  2.42it/s]"
      }
     },
     "a4a68b418cb640f1b8233e5b51e5c817": {
      "model_module": "@jupyter-widgets/controls",
      "model_module_version": "1.5.0",
      "model_name": "HTMLModel",
      "state": {
       "layout": "IPY_MODEL_12835c3cff794c9189eb5bb55328b75b",
       "style": "IPY_MODEL_9cb5242e869444bc96563ccbfd4b4143",
       "value": "100%"
      }
     },
     "a4d110c5e1f34f24a076a43558986366": {
      "model_module": "@jupyter-widgets/controls",
      "model_module_version": "1.5.0",
      "model_name": "DescriptionStyleModel",
      "state": {
       "description_width": ""
      }
     },
     "a4eae2733ddb4c91bb01161b3d3ab1c1": {
      "model_module": "@jupyter-widgets/controls",
      "model_module_version": "1.5.0",
      "model_name": "HBoxModel",
      "state": {
       "children": [
        "IPY_MODEL_bd92fe400ec545d2a27f447b92d4db6b",
        "IPY_MODEL_31943cba93664f0eae5e47bb35dc8f59",
        "IPY_MODEL_20faec9476ed4e428f20d8901d7a6445"
       ],
       "layout": "IPY_MODEL_574230931a5c4cc8967b27ec64c02421"
      }
     },
     "a5049274e0c942238921fcd88f61247a": {
      "model_module": "@jupyter-widgets/controls",
      "model_module_version": "1.5.0",
      "model_name": "DescriptionStyleModel",
      "state": {
       "description_width": ""
      }
     },
     "a509f1472ec840cc9ad4775b3f454b46": {
      "model_module": "@jupyter-widgets/controls",
      "model_module_version": "1.5.0",
      "model_name": "ProgressStyleModel",
      "state": {
       "description_width": ""
      }
     },
     "a50a4e02fc4a4b36b0684404aba58b3f": {
      "model_module": "@jupyter-widgets/base",
      "model_module_version": "1.2.0",
      "model_name": "LayoutModel",
      "state": {}
     },
     "a5c1b5e941f44ccc955cc988181c5967": {
      "model_module": "@jupyter-widgets/controls",
      "model_module_version": "1.5.0",
      "model_name": "HBoxModel",
      "state": {
       "children": [
        "IPY_MODEL_1282202b9eb74db4aa77848066ae7b24",
        "IPY_MODEL_9affacce9cc744b4b64296474c7bdeb8",
        "IPY_MODEL_4898ea2f74c54070ae7b3a4e170e528c"
       ],
       "layout": "IPY_MODEL_1221a05ac8114f98b7b8d681f36cfa81"
      }
     },
     "a6039d9eef8848e7995dd2af22d46561": {
      "model_module": "@jupyter-widgets/base",
      "model_module_version": "1.2.0",
      "model_name": "LayoutModel",
      "state": {}
     },
     "a63456e894914a0d90b183452f43441d": {
      "model_module": "@jupyter-widgets/controls",
      "model_module_version": "1.5.0",
      "model_name": "HTMLModel",
      "state": {
       "layout": "IPY_MODEL_0f400cdad22b418e8101c4f5ccf88743",
       "style": "IPY_MODEL_1286d7cb18e64f61998d4a07b03f1749",
       "value": " 1/1 [00:01&lt;00:00,  1.34s/it]"
      }
     },
     "a68e2e8ef16a42b79640f8f88b7fa5f7": {
      "model_module": "@jupyter-widgets/controls",
      "model_module_version": "1.5.0",
      "model_name": "DescriptionStyleModel",
      "state": {
       "description_width": ""
      }
     },
     "a6d0df13378e4c72bfae29057d7dc16d": {
      "model_module": "@jupyter-widgets/base",
      "model_module_version": "1.2.0",
      "model_name": "LayoutModel",
      "state": {}
     },
     "a70c8bb7cdc849848956b0d649af4422": {
      "model_module": "@jupyter-widgets/base",
      "model_module_version": "1.2.0",
      "model_name": "LayoutModel",
      "state": {}
     },
     "a78fc75c3a3b490e87ef449a714fd4cf": {
      "model_module": "@jupyter-widgets/controls",
      "model_module_version": "1.5.0",
      "model_name": "DescriptionStyleModel",
      "state": {
       "description_width": ""
      }
     },
     "a834bb91c77f4ce087966988030fc6d6": {
      "model_module": "@jupyter-widgets/controls",
      "model_module_version": "1.5.0",
      "model_name": "HTMLModel",
      "state": {
       "layout": "IPY_MODEL_e60ee80663444f19804350add6cfd8a6",
       "style": "IPY_MODEL_e8f7567b397444cba795d228c12063aa",
       "value": "100%"
      }
     },
     "a83c7e7cf6144eb89b715055dff6a4f4": {
      "model_module": "@jupyter-widgets/controls",
      "model_module_version": "1.5.0",
      "model_name": "HTMLModel",
      "state": {
       "layout": "IPY_MODEL_713cf34c336a435d96678d94926af63b",
       "style": "IPY_MODEL_8722422d26344a9c9c7e6961737d13fc",
       "value": " 2/2 [00:32&lt;00:00, 15.68s/it]"
      }
     },
     "a9b961be7b464cb19ecd8d4a545bd851": {
      "model_module": "@jupyter-widgets/base",
      "model_module_version": "1.2.0",
      "model_name": "LayoutModel",
      "state": {}
     },
     "aa942c098e2342e6b664352807183068": {
      "model_module": "@jupyter-widgets/controls",
      "model_module_version": "1.5.0",
      "model_name": "HTMLModel",
      "state": {
       "layout": "IPY_MODEL_a70c8bb7cdc849848956b0d649af4422",
       "style": "IPY_MODEL_5b42c95774574df3a1e080329fe2e5ce",
       "value": "100%"
      }
     },
     "aac0d9e19092445a9ddb42c7b24a3bc1": {
      "model_module": "@jupyter-widgets/base",
      "model_module_version": "1.2.0",
      "model_name": "LayoutModel",
      "state": {}
     },
     "ab742b19d09c4f72aa07af91cb7d8543": {
      "model_module": "@jupyter-widgets/controls",
      "model_module_version": "1.5.0",
      "model_name": "HBoxModel",
      "state": {
       "children": [
        "IPY_MODEL_8ad6a17e074245eda02ce2c1361914b4",
        "IPY_MODEL_4ae112a5e31642b48056a8c0cbd133cc",
        "IPY_MODEL_649a5fe3ba0942468be984bed6f3f017"
       ],
       "layout": "IPY_MODEL_49c15f687a204809b168891cf6173f18"
      }
     },
     "ab7caa518fd644f7b63099e31a174217": {
      "model_module": "@jupyter-widgets/controls",
      "model_module_version": "1.5.0",
      "model_name": "FloatProgressModel",
      "state": {
       "bar_style": "success",
       "layout": "IPY_MODEL_75355ef60c024e4eafe47d25fbca77ef",
       "max": 2,
       "style": "IPY_MODEL_41e813988d9a413d8876ca57acdd0bed",
       "value": 2
      }
     },
     "ac418c88e8e24124af03aee6ef0aaf70": {
      "model_module": "@jupyter-widgets/controls",
      "model_module_version": "1.5.0",
      "model_name": "HTMLModel",
      "state": {
       "layout": "IPY_MODEL_6509630fd9ce49f3adf08816ee043fad",
       "style": "IPY_MODEL_d135ef550fab448bb78ae325aca659f9",
       "value": "100%"
      }
     },
     "ac908791bc394f87a30144df5f4a28ad": {
      "model_module": "@jupyter-widgets/controls",
      "model_module_version": "1.5.0",
      "model_name": "DescriptionStyleModel",
      "state": {
       "description_width": ""
      }
     },
     "aca7720d76444d8e9e1ffea024726a2d": {
      "model_module": "@jupyter-widgets/controls",
      "model_module_version": "1.5.0",
      "model_name": "DescriptionStyleModel",
      "state": {
       "description_width": ""
      }
     },
     "ae0bb14c76914916859a272d6078c952": {
      "model_module": "@jupyter-widgets/controls",
      "model_module_version": "1.5.0",
      "model_name": "ProgressStyleModel",
      "state": {
       "description_width": ""
      }
     },
     "aeb41cafb821475390b770db23fcaf63": {
      "model_module": "@jupyter-widgets/base",
      "model_module_version": "1.2.0",
      "model_name": "LayoutModel",
      "state": {}
     },
     "af6d590965ce40bb88dc100eee849474": {
      "model_module": "@jupyter-widgets/controls",
      "model_module_version": "1.5.0",
      "model_name": "DescriptionStyleModel",
      "state": {
       "description_width": ""
      }
     },
     "af7919bf7bd74ce9af54ce3d15ebf15c": {
      "model_module": "@jupyter-widgets/controls",
      "model_module_version": "1.5.0",
      "model_name": "HBoxModel",
      "state": {
       "children": [
        "IPY_MODEL_ddd2dd9583a5478c8344fb017202021c",
        "IPY_MODEL_22798276df00437dbd4770983bbba300",
        "IPY_MODEL_cc61225161fa4427b3884a64d06a8493"
       ],
       "layout": "IPY_MODEL_0dfc9907b9134da298c3ecc0af710320"
      }
     },
     "b12f19a632024df9be5d347ac142a220": {
      "model_module": "@jupyter-widgets/controls",
      "model_module_version": "1.5.0",
      "model_name": "DescriptionStyleModel",
      "state": {
       "description_width": ""
      }
     },
     "b143608a248e4ffbbecef1dace0f6b23": {
      "model_module": "@jupyter-widgets/controls",
      "model_module_version": "1.5.0",
      "model_name": "HTMLModel",
      "state": {
       "layout": "IPY_MODEL_f5f96193270a4de2b32749d828878786",
       "style": "IPY_MODEL_4e33551936114cd0a183be20e1c5ba5d",
       "value": "100%"
      }
     },
     "b1473ee7c58b40099425147f0069727d": {
      "model_module": "@jupyter-widgets/controls",
      "model_module_version": "1.5.0",
      "model_name": "DescriptionStyleModel",
      "state": {
       "description_width": ""
      }
     },
     "b25f16de782344b7a04bd8587093053c": {
      "model_module": "@jupyter-widgets/controls",
      "model_module_version": "1.5.0",
      "model_name": "DescriptionStyleModel",
      "state": {
       "description_width": ""
      }
     },
     "b28e0b1cb9ef4c9b8781acfc8f719ad9": {
      "model_module": "@jupyter-widgets/controls",
      "model_module_version": "1.5.0",
      "model_name": "FloatProgressModel",
      "state": {
       "bar_style": "success",
       "layout": "IPY_MODEL_6edb16df884d4ababe46637687e7f8fd",
       "max": 2,
       "style": "IPY_MODEL_e010dfe4c9fb4166b3d9d7ebae582b3a",
       "value": 2
      }
     },
     "b336e66c9cd84da38ef43dbb4fd0e0dd": {
      "model_module": "@jupyter-widgets/controls",
      "model_module_version": "1.5.0",
      "model_name": "HTMLModel",
      "state": {
       "layout": "IPY_MODEL_0eea5fc1151d408e8995820c6e39c4f9",
       "style": "IPY_MODEL_ac908791bc394f87a30144df5f4a28ad",
       "value": "100%"
      }
     },
     "b4463b0c480f45d18629738ff0c406ca": {
      "model_module": "@jupyter-widgets/controls",
      "model_module_version": "1.5.0",
      "model_name": "FloatProgressModel",
      "state": {
       "bar_style": "success",
       "layout": "IPY_MODEL_a6039d9eef8848e7995dd2af22d46561",
       "max": 3,
       "style": "IPY_MODEL_63a93706620a4f51854d89a3834e2446",
       "value": 3
      }
     },
     "b4bbf967d599479d95c8ca121623191f": {
      "model_module": "@jupyter-widgets/controls",
      "model_module_version": "1.5.0",
      "model_name": "FloatProgressModel",
      "state": {
       "bar_style": "success",
       "layout": "IPY_MODEL_d445ce4421e94c1fad44b8d264ff8ef9",
       "max": 2,
       "style": "IPY_MODEL_7c0fe3bca5274926aa6ff315fe1f27bb",
       "value": 2
      }
     },
     "b66e6b494a8641bc84718bfcd46027cb": {
      "model_module": "@jupyter-widgets/controls",
      "model_module_version": "1.5.0",
      "model_name": "HBoxModel",
      "state": {
       "children": [
        "IPY_MODEL_a4a68b418cb640f1b8233e5b51e5c817",
        "IPY_MODEL_d116395f29414c8a82694133b5e4f703",
        "IPY_MODEL_71d8dffec7ef4edaafb60be20d5cbe09"
       ],
       "layout": "IPY_MODEL_9f0b5cc59bd648d9a8e4e7e111beacbc"
      }
     },
     "b791b1503109473c87e26d1d427d1aff": {
      "model_module": "@jupyter-widgets/controls",
      "model_module_version": "1.5.0",
      "model_name": "DescriptionStyleModel",
      "state": {
       "description_width": ""
      }
     },
     "b7b7f7df300c459aa44ff67ea7d57fbf": {
      "model_module": "@jupyter-widgets/controls",
      "model_module_version": "1.5.0",
      "model_name": "ProgressStyleModel",
      "state": {
       "description_width": ""
      }
     },
     "b8d3a2199fbe4edba1965aac0bfe17f9": {
      "model_module": "@jupyter-widgets/controls",
      "model_module_version": "1.5.0",
      "model_name": "DescriptionStyleModel",
      "state": {
       "description_width": ""
      }
     },
     "b94b8fb60ba54c6897b1ada296399bd4": {
      "model_module": "@jupyter-widgets/base",
      "model_module_version": "1.2.0",
      "model_name": "LayoutModel",
      "state": {}
     },
     "b986d705141f4687aaf874de98caabd9": {
      "model_module": "@jupyter-widgets/controls",
      "model_module_version": "1.5.0",
      "model_name": "HTMLModel",
      "state": {
       "layout": "IPY_MODEL_dd1a1d7235ce43179ba212435c6d69a2",
       "style": "IPY_MODEL_9cb9250dde8f4c9ea7d0d5b168967cdc",
       "value": " 2/2 [00:39&lt;00:00, 17.41s/it]"
      }
     },
     "b9c14108f38b4d0aa2880be386082536": {
      "model_module": "@jupyter-widgets/controls",
      "model_module_version": "1.5.0",
      "model_name": "DescriptionStyleModel",
      "state": {
       "description_width": ""
      }
     },
     "b9c80d42952649698c858d689285625a": {
      "model_module": "@jupyter-widgets/controls",
      "model_module_version": "1.5.0",
      "model_name": "FloatProgressModel",
      "state": {
       "bar_style": "success",
       "layout": "IPY_MODEL_20df319323404c20bf544ced01089d0e",
       "max": 2,
       "style": "IPY_MODEL_8e3607f98d7f45e38a1c14d42e649c99",
       "value": 2
      }
     },
     "badb94510eb944db8367825e99caf10c": {
      "model_module": "@jupyter-widgets/controls",
      "model_module_version": "1.5.0",
      "model_name": "HTMLModel",
      "state": {
       "layout": "IPY_MODEL_c894dd798454427aafe2ef5c0ed2d60a",
       "style": "IPY_MODEL_f45426a04ab04d0bb76013d79bfa19e7",
       "value": " 2/2 [00:01&lt;00:00,  1.57it/s]"
      }
     },
     "bb038312f26a43da8d456e340aa7ca13": {
      "model_module": "@jupyter-widgets/controls",
      "model_module_version": "1.5.0",
      "model_name": "HTMLModel",
      "state": {
       "layout": "IPY_MODEL_7380e4d259b44f80bb4b8929b0dc55b9",
       "style": "IPY_MODEL_86f0be8e078942b3ba40ff67e924e8b3",
       "value": " 2/2 [00:01&lt;00:00,  1.54it/s]"
      }
     },
     "bc7b9c240c4d4ddc99e74a990ff22f4a": {
      "model_module": "@jupyter-widgets/base",
      "model_module_version": "1.2.0",
      "model_name": "LayoutModel",
      "state": {}
     },
     "bcd0132114734765b5b64727493e5acd": {
      "model_module": "@jupyter-widgets/controls",
      "model_module_version": "1.5.0",
      "model_name": "HTMLModel",
      "state": {
       "layout": "IPY_MODEL_0891fb92ef5d413db5a1cf78529a321f",
       "style": "IPY_MODEL_0cd189e62f2f493dbf6855858b194339",
       "value": " 2/2 [00:32&lt;00:00, 15.40s/it]"
      }
     },
     "bd7907c68c2d4464814354e0b5c087c4": {
      "model_module": "@jupyter-widgets/base",
      "model_module_version": "1.2.0",
      "model_name": "LayoutModel",
      "state": {}
     },
     "bd92fe400ec545d2a27f447b92d4db6b": {
      "model_module": "@jupyter-widgets/controls",
      "model_module_version": "1.5.0",
      "model_name": "HTMLModel",
      "state": {
       "layout": "IPY_MODEL_cce7e074a9c84be5a8541b303a68c068",
       "style": "IPY_MODEL_b12f19a632024df9be5d347ac142a220",
       "value": "  0%"
      }
     },
     "be23943800284192b3c08564713c1a1b": {
      "model_module": "@jupyter-widgets/controls",
      "model_module_version": "1.5.0",
      "model_name": "FloatProgressModel",
      "state": {
       "bar_style": "success",
       "layout": "IPY_MODEL_5be9b87d1c8143faa96a16f677b09022",
       "max": 3,
       "style": "IPY_MODEL_f880e83d253a467d84bb215f65149a82",
       "value": 3
      }
     },
     "be3f9a8bcc9c489ebd13ca27a847e8d4": {
      "model_module": "@jupyter-widgets/controls",
      "model_module_version": "1.5.0",
      "model_name": "HTMLModel",
      "state": {
       "layout": "IPY_MODEL_7ddb7873ece14db0834ccfbeb0c4784e",
       "style": "IPY_MODEL_5ba4a4cf01eb40d1925405fae5ad2420",
       "value": " 2/2 [00:20&lt;00:00,  9.65s/it]"
      }
     },
     "bea2905e04d64922a8e9b2fa564effe7": {
      "model_module": "@jupyter-widgets/controls",
      "model_module_version": "1.5.0",
      "model_name": "DescriptionStyleModel",
      "state": {
       "description_width": ""
      }
     },
     "bfa8485dd05e4fbb8653ecf2cb1f8f78": {
      "model_module": "@jupyter-widgets/base",
      "model_module_version": "1.2.0",
      "model_name": "LayoutModel",
      "state": {}
     },
     "bfcd0ed315ce41b989411171ab40ef63": {
      "model_module": "@jupyter-widgets/controls",
      "model_module_version": "1.5.0",
      "model_name": "ProgressStyleModel",
      "state": {
       "description_width": ""
      }
     },
     "bffab47def5a40928b22fb7ef9b636b6": {
      "model_module": "@jupyter-widgets/base",
      "model_module_version": "1.2.0",
      "model_name": "LayoutModel",
      "state": {}
     },
     "c00e6c0a041e4399bb0c821c10015e52": {
      "model_module": "@jupyter-widgets/controls",
      "model_module_version": "1.5.0",
      "model_name": "HTMLModel",
      "state": {
       "layout": "IPY_MODEL_b94b8fb60ba54c6897b1ada296399bd4",
       "style": "IPY_MODEL_b25f16de782344b7a04bd8587093053c",
       "value": "100%"
      }
     },
     "c0c4d36a731f4fe585f508ca26dbdfae": {
      "model_module": "@jupyter-widgets/controls",
      "model_module_version": "1.5.0",
      "model_name": "DescriptionStyleModel",
      "state": {
       "description_width": ""
      }
     },
     "c264340b03ea4cfeaf1b3eb2316b0c88": {
      "model_module": "@jupyter-widgets/controls",
      "model_module_version": "1.5.0",
      "model_name": "FloatProgressModel",
      "state": {
       "bar_style": "success",
       "layout": "IPY_MODEL_49913d4b01ca4babb5ef7c52faeb5e82",
       "max": 2,
       "style": "IPY_MODEL_0527c7f231454e8eb2be74affd27d5f0",
       "value": 2
      }
     },
     "c37c7d4263e342fa9ec02fa2c97188da": {
      "model_module": "@jupyter-widgets/controls",
      "model_module_version": "1.5.0",
      "model_name": "FloatProgressModel",
      "state": {
       "bar_style": "success",
       "layout": "IPY_MODEL_4e7c1e43f68d44469e28b2ef084dfb2f",
       "max": 1,
       "style": "IPY_MODEL_f7c76a40628c43dcb0b87a35ec4479ee",
       "value": 1
      }
     },
     "c3a7ec8069f14b209081c645c42ac766": {
      "model_module": "@jupyter-widgets/base",
      "model_module_version": "1.2.0",
      "model_name": "LayoutModel",
      "state": {}
     },
     "c4c41d68befc49239365d195b96a440a": {
      "model_module": "@jupyter-widgets/base",
      "model_module_version": "1.2.0",
      "model_name": "LayoutModel",
      "state": {}
     },
     "c4d823ae7c004f78a848f18f5433858d": {
      "model_module": "@jupyter-widgets/base",
      "model_module_version": "1.2.0",
      "model_name": "LayoutModel",
      "state": {}
     },
     "c4daf20cbfca4078b886614a44365793": {
      "model_module": "@jupyter-widgets/controls",
      "model_module_version": "1.5.0",
      "model_name": "DescriptionStyleModel",
      "state": {
       "description_width": ""
      }
     },
     "c4efd58e0504424aa30584177db11623": {
      "model_module": "@jupyter-widgets/controls",
      "model_module_version": "1.5.0",
      "model_name": "HTMLModel",
      "state": {
       "layout": "IPY_MODEL_133dd198bbdb4073a3f0b5dd24ec5372",
       "style": "IPY_MODEL_10aa5987882649d2bd10184d99dd7b87",
       "value": "100%"
      }
     },
     "c50177f5aeaf423e823048f4474eee2e": {
      "model_module": "@jupyter-widgets/controls",
      "model_module_version": "1.5.0",
      "model_name": "HTMLModel",
      "state": {
       "layout": "IPY_MODEL_3707e6d2718040ce8ecbb8b438fcb495",
       "style": "IPY_MODEL_337146c47d9e4730bde6f120841414fe",
       "value": "100%"
      }
     },
     "c5919d7dc06940ad8a22c3869ca62017": {
      "model_module": "@jupyter-widgets/controls",
      "model_module_version": "1.5.0",
      "model_name": "HBoxModel",
      "state": {
       "children": [
        "IPY_MODEL_d9f4f6680a274dd9a02a5376731e2f81",
        "IPY_MODEL_4dc0475081e946dabfe0b1bfb3978aaa",
        "IPY_MODEL_ce99a760c6cb417999db993f7108b2ba"
       ],
       "layout": "IPY_MODEL_9151c74f16854fcb87ca192f0d2ea574"
      }
     },
     "c670214f45e040179c8efed4f14d488f": {
      "model_module": "@jupyter-widgets/controls",
      "model_module_version": "1.5.0",
      "model_name": "FloatProgressModel",
      "state": {
       "bar_style": "success",
       "layout": "IPY_MODEL_f825865d7c9b4e3a9f1ff3a9d749a5f8",
       "max": 2,
       "style": "IPY_MODEL_6f63ddab72774a32916ae54c6de88db3",
       "value": 2
      }
     },
     "c730255a31de4d1d8bc56a1493f42043": {
      "model_module": "@jupyter-widgets/controls",
      "model_module_version": "1.5.0",
      "model_name": "HTMLModel",
      "state": {
       "layout": "IPY_MODEL_5b5bd4a32831484eb75488a4188f2154",
       "style": "IPY_MODEL_99eb5a11575f49b0b41577275ab50b8a",
       "value": " 4/4 [00:19&lt;00:00,  4.48s/it]"
      }
     },
     "c86808bed42946af87f8faeb8e90285d": {
      "model_module": "@jupyter-widgets/base",
      "model_module_version": "1.2.0",
      "model_name": "LayoutModel",
      "state": {}
     },
     "c884c757712745b38dbbb58e947f8973": {
      "model_module": "@jupyter-widgets/base",
      "model_module_version": "1.2.0",
      "model_name": "LayoutModel",
      "state": {}
     },
     "c894dd798454427aafe2ef5c0ed2d60a": {
      "model_module": "@jupyter-widgets/base",
      "model_module_version": "1.2.0",
      "model_name": "LayoutModel",
      "state": {}
     },
     "c8e60d843c0c4330b3639705616dca2d": {
      "model_module": "@jupyter-widgets/controls",
      "model_module_version": "1.5.0",
      "model_name": "DescriptionStyleModel",
      "state": {
       "description_width": ""
      }
     },
     "c918d57a532c48759c311a988e5b14df": {
      "model_module": "@jupyter-widgets/controls",
      "model_module_version": "1.5.0",
      "model_name": "ProgressStyleModel",
      "state": {
       "description_width": ""
      }
     },
     "ca3f1cfba6634da0bc176023458c8a18": {
      "model_module": "@jupyter-widgets/controls",
      "model_module_version": "1.5.0",
      "model_name": "ProgressStyleModel",
      "state": {
       "description_width": ""
      }
     },
     "caceccd4ec474a159c1e528d8f15f1b9": {
      "model_module": "@jupyter-widgets/controls",
      "model_module_version": "1.5.0",
      "model_name": "HTMLModel",
      "state": {
       "layout": "IPY_MODEL_f88715423edb4fe28ca91641c5662302",
       "style": "IPY_MODEL_d9ee511ea0c945c4bf7b4c5dfb40c72d",
       "value": "100%"
      }
     },
     "cad17918d5f94a098dd3b5bb26f5cc24": {
      "model_module": "@jupyter-widgets/controls",
      "model_module_version": "1.5.0",
      "model_name": "HBoxModel",
      "state": {
       "children": [
        "IPY_MODEL_d44aea85ae21441e92e65f98f08ef1f6",
        "IPY_MODEL_50970c78f761416b80b7a7aaaa69e7bd",
        "IPY_MODEL_39da257db63a4b2c9ca5ad9383014b39"
       ],
       "layout": "IPY_MODEL_8f5e61d745ad439393030ea1b31b3397"
      }
     },
     "cb1b0e9ac9024f6c92712bd3a1a02fa3": {
      "model_module": "@jupyter-widgets/controls",
      "model_module_version": "1.5.0",
      "model_name": "ProgressStyleModel",
      "state": {
       "description_width": ""
      }
     },
     "cbb13211c0704f468311b32c04641993": {
      "model_module": "@jupyter-widgets/controls",
      "model_module_version": "1.5.0",
      "model_name": "DescriptionStyleModel",
      "state": {
       "description_width": ""
      }
     },
     "cc25f508c074487e998f259d299749bb": {
      "model_module": "@jupyter-widgets/controls",
      "model_module_version": "1.5.0",
      "model_name": "HBoxModel",
      "state": {
       "children": [
        "IPY_MODEL_16037b56a11b477c93e058f5263d3252",
        "IPY_MODEL_c264340b03ea4cfeaf1b3eb2316b0c88",
        "IPY_MODEL_faea4815e9b3461b99fa84c7b6a98ada"
       ],
       "layout": "IPY_MODEL_a485c425ea4a4396bcaecf83b6259545"
      }
     },
     "cc61225161fa4427b3884a64d06a8493": {
      "model_module": "@jupyter-widgets/controls",
      "model_module_version": "1.5.0",
      "model_name": "HTMLModel",
      "state": {
       "layout": "IPY_MODEL_1ecf3aa4206a45de990c62eb2c15bffb",
       "style": "IPY_MODEL_fa87715f107445efb2b468df419301ff",
       "value": " 1/1 [00:00&lt;00:00,  5.65it/s]"
      }
     },
     "cce7e074a9c84be5a8541b303a68c068": {
      "model_module": "@jupyter-widgets/base",
      "model_module_version": "1.2.0",
      "model_name": "LayoutModel",
      "state": {}
     },
     "cd0b93d7dd7045ff8a9cca7a43d7a1a5": {
      "model_module": "@jupyter-widgets/controls",
      "model_module_version": "1.5.0",
      "model_name": "DescriptionStyleModel",
      "state": {
       "description_width": ""
      }
     },
     "cdb53c7c31304adfb5eb321123ba8a3c": {
      "model_module": "@jupyter-widgets/controls",
      "model_module_version": "1.5.0",
      "model_name": "DescriptionStyleModel",
      "state": {
       "description_width": ""
      }
     },
     "ce1a2ab1fb1b4885978c24cbc413a10b": {
      "model_module": "@jupyter-widgets/controls",
      "model_module_version": "1.5.0",
      "model_name": "DescriptionStyleModel",
      "state": {
       "description_width": ""
      }
     },
     "ce99a760c6cb417999db993f7108b2ba": {
      "model_module": "@jupyter-widgets/controls",
      "model_module_version": "1.5.0",
      "model_name": "HTMLModel",
      "state": {
       "layout": "IPY_MODEL_47b34cedbe8a4416a0ac4a82f3fb0972",
       "style": "IPY_MODEL_f096c2de40cb4d97977b0b90a720f090",
       "value": " 2/2 [00:02&lt;00:00,  1.07it/s]"
      }
     },
     "d116395f29414c8a82694133b5e4f703": {
      "model_module": "@jupyter-widgets/controls",
      "model_module_version": "1.5.0",
      "model_name": "FloatProgressModel",
      "state": {
       "bar_style": "success",
       "layout": "IPY_MODEL_7e0cf376077643198ea627ba1b808ee6",
       "max": 3,
       "style": "IPY_MODEL_f02bae3bd3ee4a1d9162322161f34f14",
       "value": 3
      }
     },
     "d135ef550fab448bb78ae325aca659f9": {
      "model_module": "@jupyter-widgets/controls",
      "model_module_version": "1.5.0",
      "model_name": "DescriptionStyleModel",
      "state": {
       "description_width": ""
      }
     },
     "d445ce4421e94c1fad44b8d264ff8ef9": {
      "model_module": "@jupyter-widgets/base",
      "model_module_version": "1.2.0",
      "model_name": "LayoutModel",
      "state": {}
     },
     "d44aea85ae21441e92e65f98f08ef1f6": {
      "model_module": "@jupyter-widgets/controls",
      "model_module_version": "1.5.0",
      "model_name": "HTMLModel",
      "state": {
       "layout": "IPY_MODEL_57aea235b91645a2be376f08efd6fa1c",
       "style": "IPY_MODEL_f0097f7251174fb3a775eacbfa304752",
       "value": "100%"
      }
     },
     "d5710cf7275d45e4b9570fbaaff090fe": {
      "model_module": "@jupyter-widgets/controls",
      "model_module_version": "1.5.0",
      "model_name": "DescriptionStyleModel",
      "state": {
       "description_width": ""
      }
     },
     "d7e38ee83614472e94df1d49aa1a6f95": {
      "model_module": "@jupyter-widgets/base",
      "model_module_version": "1.2.0",
      "model_name": "LayoutModel",
      "state": {}
     },
     "d9128d4bc2dd462f96f7684e1ad71b46": {
      "model_module": "@jupyter-widgets/base",
      "model_module_version": "1.2.0",
      "model_name": "LayoutModel",
      "state": {}
     },
     "d92dd40188514a7288a42b2c0555d082": {
      "model_module": "@jupyter-widgets/controls",
      "model_module_version": "1.5.0",
      "model_name": "HBoxModel",
      "state": {
       "children": [
        "IPY_MODEL_9b485463d9bf4d06a36bf0e47382f36a",
        "IPY_MODEL_b4463b0c480f45d18629738ff0c406ca",
        "IPY_MODEL_3cb1995f2f7a4fc6ae460276effd7bc7"
       ],
       "layout": "IPY_MODEL_f7c46135bb9e409d8ec127dce094b8c4"
      }
     },
     "d96c9c25019e44f5849b0420f07d80be": {
      "model_module": "@jupyter-widgets/base",
      "model_module_version": "1.2.0",
      "model_name": "LayoutModel",
      "state": {}
     },
     "d9cb65ee327c4b93aba641884f679ef9": {
      "model_module": "@jupyter-widgets/controls",
      "model_module_version": "1.5.0",
      "model_name": "ProgressStyleModel",
      "state": {
       "description_width": ""
      }
     },
     "d9ee511ea0c945c4bf7b4c5dfb40c72d": {
      "model_module": "@jupyter-widgets/controls",
      "model_module_version": "1.5.0",
      "model_name": "DescriptionStyleModel",
      "state": {
       "description_width": ""
      }
     },
     "d9f4f6680a274dd9a02a5376731e2f81": {
      "model_module": "@jupyter-widgets/controls",
      "model_module_version": "1.5.0",
      "model_name": "HTMLModel",
      "state": {
       "layout": "IPY_MODEL_394da591f99f4aa7b653cb19829c8d85",
       "style": "IPY_MODEL_33242fe6c2d64097966449aa44a6f989",
       "value": "100%"
      }
     },
     "da976422e1824d98971f1a7c63039c78": {
      "model_module": "@jupyter-widgets/controls",
      "model_module_version": "1.5.0",
      "model_name": "ProgressStyleModel",
      "state": {
       "description_width": ""
      }
     },
     "dbdfceebfd7f49a392f4f672c9357461": {
      "model_module": "@jupyter-widgets/base",
      "model_module_version": "1.2.0",
      "model_name": "LayoutModel",
      "state": {}
     },
     "dc064625a2a44fdcb6497d256cea1348": {
      "model_module": "@jupyter-widgets/base",
      "model_module_version": "1.2.0",
      "model_name": "LayoutModel",
      "state": {}
     },
     "dc1dead707be430d9e7cb8fd368268e3": {
      "model_module": "@jupyter-widgets/base",
      "model_module_version": "1.2.0",
      "model_name": "LayoutModel",
      "state": {}
     },
     "dc35270dd6ce489fb9d7db7f347bedbd": {
      "model_module": "@jupyter-widgets/controls",
      "model_module_version": "1.5.0",
      "model_name": "HBoxModel",
      "state": {
       "children": [
        "IPY_MODEL_2783edeb13da4531915c17adbc4a257b",
        "IPY_MODEL_c37c7d4263e342fa9ec02fa2c97188da",
        "IPY_MODEL_3463ccf0fbff42248b1024405813ebf4"
       ],
       "layout": "IPY_MODEL_30e4a0a6bc404d4fbf4eeee2c7380fe4"
      }
     },
     "dc609a989bc348e088ecd995db20d886": {
      "model_module": "@jupyter-widgets/base",
      "model_module_version": "1.2.0",
      "model_name": "LayoutModel",
      "state": {}
     },
     "dcdbf6636f7f4fc884ba4515f164ac68": {
      "model_module": "@jupyter-widgets/controls",
      "model_module_version": "1.5.0",
      "model_name": "HTMLModel",
      "state": {
       "layout": "IPY_MODEL_f975b58ead534545992aa6fc8fa9ff82",
       "style": "IPY_MODEL_49e10450d8204019a1a1abe2991d8ea1",
       "value": " 2/2 [00:32&lt;00:00, 15.38s/it]"
      }
     },
     "dd0e1b6d423543e9865840271833e26f": {
      "model_module": "@jupyter-widgets/base",
      "model_module_version": "1.2.0",
      "model_name": "LayoutModel",
      "state": {}
     },
     "dd1a1d7235ce43179ba212435c6d69a2": {
      "model_module": "@jupyter-widgets/base",
      "model_module_version": "1.2.0",
      "model_name": "LayoutModel",
      "state": {}
     },
     "dd317f509bce4453ab8d871bd2f4f8a2": {
      "model_module": "@jupyter-widgets/base",
      "model_module_version": "1.2.0",
      "model_name": "LayoutModel",
      "state": {}
     },
     "ddd2dd9583a5478c8344fb017202021c": {
      "model_module": "@jupyter-widgets/controls",
      "model_module_version": "1.5.0",
      "model_name": "HTMLModel",
      "state": {
       "layout": "IPY_MODEL_4783c1c088254a3dbbdc2417cbbb5acc",
       "style": "IPY_MODEL_481737a3602d44b9b0920209435d6196",
       "value": "100%"
      }
     },
     "de3cc2bdc3244e3bb507165dad4a31d4": {
      "model_module": "@jupyter-widgets/base",
      "model_module_version": "1.2.0",
      "model_name": "LayoutModel",
      "state": {}
     },
     "de86f6e03d864ecc80c12171db342b41": {
      "model_module": "@jupyter-widgets/controls",
      "model_module_version": "1.5.0",
      "model_name": "HTMLModel",
      "state": {
       "layout": "IPY_MODEL_df047cbfd92a4056a51e0e58c913c959",
       "style": "IPY_MODEL_53780975b25248618ce83628d24d5d16",
       "value": "100%"
      }
     },
     "dea8b9352d7d4e6f8e099f40fddaa90c": {
      "model_module": "@jupyter-widgets/controls",
      "model_module_version": "1.5.0",
      "model_name": "FloatProgressModel",
      "state": {
       "bar_style": "success",
       "layout": "IPY_MODEL_a3090c24de9b4ae5b5dd7a94c5c7040e",
       "max": 2,
       "style": "IPY_MODEL_73ebba6909cc4fa5b47e27d15ae6c878",
       "value": 2
      }
     },
     "df047cbfd92a4056a51e0e58c913c959": {
      "model_module": "@jupyter-widgets/base",
      "model_module_version": "1.2.0",
      "model_name": "LayoutModel",
      "state": {}
     },
     "df0c8a3679734b59a309c3f1055c949f": {
      "model_module": "@jupyter-widgets/controls",
      "model_module_version": "1.5.0",
      "model_name": "DescriptionStyleModel",
      "state": {
       "description_width": ""
      }
     },
     "df84a016fb2943bbbd0b0a5c52430e44": {
      "model_module": "@jupyter-widgets/controls",
      "model_module_version": "1.5.0",
      "model_name": "DescriptionStyleModel",
      "state": {
       "description_width": ""
      }
     },
     "df879d048d704975b2b104ee00266045": {
      "model_module": "@jupyter-widgets/controls",
      "model_module_version": "1.5.0",
      "model_name": "HTMLModel",
      "state": {
       "layout": "IPY_MODEL_030d118d016348c8a721b7c3647b78fe",
       "style": "IPY_MODEL_4a284bf65c164b9daff0b15c3d375c01",
       "value": "100%"
      }
     },
     "e010dfe4c9fb4166b3d9d7ebae582b3a": {
      "model_module": "@jupyter-widgets/controls",
      "model_module_version": "1.5.0",
      "model_name": "ProgressStyleModel",
      "state": {
       "description_width": ""
      }
     },
     "e160ecd706f04ea3ae6bf7bbf2c44bfc": {
      "model_module": "@jupyter-widgets/controls",
      "model_module_version": "1.5.0",
      "model_name": "FloatProgressModel",
      "state": {
       "bar_style": "success",
       "layout": "IPY_MODEL_76fdcd4a0be441fcb8af63c81371c2b7",
       "max": 2,
       "style": "IPY_MODEL_d9cb65ee327c4b93aba641884f679ef9",
       "value": 2
      }
     },
     "e1e8f4ec0c7e4bb09ef84de67607df4c": {
      "model_module": "@jupyter-widgets/controls",
      "model_module_version": "1.5.0",
      "model_name": "DescriptionStyleModel",
      "state": {
       "description_width": ""
      }
     },
     "e29361c423994888a925c1a9b89328ca": {
      "model_module": "@jupyter-widgets/base",
      "model_module_version": "1.2.0",
      "model_name": "LayoutModel",
      "state": {}
     },
     "e2b3fbc02c7c4f59b2724496eed28b79": {
      "model_module": "@jupyter-widgets/controls",
      "model_module_version": "1.5.0",
      "model_name": "HTMLModel",
      "state": {
       "layout": "IPY_MODEL_2da88b4896cc41b1a9dc98141c5f70e4",
       "style": "IPY_MODEL_73ad7abd6c7a4ca3920588bc2db393b1",
       "value": " 4/4 [06:21&lt;00:00, 87.63s/it]"
      }
     },
     "e56feda0b6f6493298da8df680c2b015": {
      "model_module": "@jupyter-widgets/base",
      "model_module_version": "1.2.0",
      "model_name": "LayoutModel",
      "state": {}
     },
     "e5825073393647bf9d426721b112b087": {
      "model_module": "@jupyter-widgets/controls",
      "model_module_version": "1.5.0",
      "model_name": "HBoxModel",
      "state": {
       "children": [
        "IPY_MODEL_006c20c2593947d38d3d27d1601c35be",
        "IPY_MODEL_c670214f45e040179c8efed4f14d488f",
        "IPY_MODEL_0d04d107a8284f54ab12d8ed9587afc8"
       ],
       "layout": "IPY_MODEL_bfa8485dd05e4fbb8653ecf2cb1f8f78"
      }
     },
     "e60ee80663444f19804350add6cfd8a6": {
      "model_module": "@jupyter-widgets/base",
      "model_module_version": "1.2.0",
      "model_name": "LayoutModel",
      "state": {}
     },
     "e616e4053f5344c0907f7815aa1c9ef1": {
      "model_module": "@jupyter-widgets/controls",
      "model_module_version": "1.5.0",
      "model_name": "DescriptionStyleModel",
      "state": {
       "description_width": ""
      }
     },
     "e67989b72dcb480ba7428bb76c2c7875": {
      "model_module": "@jupyter-widgets/controls",
      "model_module_version": "1.5.0",
      "model_name": "FloatProgressModel",
      "state": {
       "bar_style": "success",
       "layout": "IPY_MODEL_2c29f757c8be4d0092e6a768dd70d31d",
       "max": 3,
       "style": "IPY_MODEL_48d4c9d4d26e45ce8de08602e7e76bf7",
       "value": 3
      }
     },
     "e6e7a8e274854cac9376c935931be99c": {
      "model_module": "@jupyter-widgets/base",
      "model_module_version": "1.2.0",
      "model_name": "LayoutModel",
      "state": {}
     },
     "e745ae9d41c84ba2af9eca9913150f10": {
      "model_module": "@jupyter-widgets/base",
      "model_module_version": "1.2.0",
      "model_name": "LayoutModel",
      "state": {}
     },
     "e848376188c243658961617aa13d0734": {
      "model_module": "@jupyter-widgets/controls",
      "model_module_version": "1.5.0",
      "model_name": "DescriptionStyleModel",
      "state": {
       "description_width": ""
      }
     },
     "e888600e23ff4929a0a50f5c98ae1f2f": {
      "model_module": "@jupyter-widgets/controls",
      "model_module_version": "1.5.0",
      "model_name": "DescriptionStyleModel",
      "state": {
       "description_width": ""
      }
     },
     "e8c9b0a91aa04c2f81d9c0889690923a": {
      "model_module": "@jupyter-widgets/controls",
      "model_module_version": "1.5.0",
      "model_name": "ProgressStyleModel",
      "state": {
       "description_width": ""
      }
     },
     "e8f7567b397444cba795d228c12063aa": {
      "model_module": "@jupyter-widgets/controls",
      "model_module_version": "1.5.0",
      "model_name": "DescriptionStyleModel",
      "state": {
       "description_width": ""
      }
     },
     "e90691b70a98465c9cd6fca5f00a5785": {
      "model_module": "@jupyter-widgets/base",
      "model_module_version": "1.2.0",
      "model_name": "LayoutModel",
      "state": {}
     },
     "e90b766235384a2ba0b5dc9fea74f19a": {
      "model_module": "@jupyter-widgets/controls",
      "model_module_version": "1.5.0",
      "model_name": "FloatProgressModel",
      "state": {
       "bar_style": "success",
       "layout": "IPY_MODEL_77479b8a74c24285beaebeb2d175c637",
       "max": 2,
       "style": "IPY_MODEL_65e2b6a094d647a6b59e5533c729e99f",
       "value": 2
      }
     },
     "e9685478a54947c0925de97e9baa8682": {
      "model_module": "@jupyter-widgets/controls",
      "model_module_version": "1.5.0",
      "model_name": "HTMLModel",
      "state": {
       "layout": "IPY_MODEL_f98b23ccaeb642a6a3663beea291795e",
       "style": "IPY_MODEL_e848376188c243658961617aa13d0734",
       "value": "100%"
      }
     },
     "eb9e80d4476447c6a91c99fe419dacdc": {
      "model_module": "@jupyter-widgets/controls",
      "model_module_version": "1.5.0",
      "model_name": "FloatProgressModel",
      "state": {
       "bar_style": "success",
       "layout": "IPY_MODEL_fd6dbae6d1fb4322900f1e8dd0910ae0",
       "max": 2,
       "style": "IPY_MODEL_3e7315cb204e4efbae210895162f60a2",
       "value": 2
      }
     },
     "ebfc0ff4a7a94c82943c51261223effb": {
      "model_module": "@jupyter-widgets/controls",
      "model_module_version": "1.5.0",
      "model_name": "DescriptionStyleModel",
      "state": {
       "description_width": ""
      }
     },
     "ec22126ba05e4917b6f7a3bc5d45032e": {
      "model_module": "@jupyter-widgets/controls",
      "model_module_version": "1.5.0",
      "model_name": "HBoxModel",
      "state": {
       "children": [
        "IPY_MODEL_f07b97786e0e4be58a2a6a40de444e70",
        "IPY_MODEL_b28e0b1cb9ef4c9b8781acfc8f719ad9",
        "IPY_MODEL_f2b9d189dbe240a99ea1a2a0d499d308"
       ],
       "layout": "IPY_MODEL_ef1ec4c1a73c455e90d53e57e2cab05c"
      }
     },
     "ed201aef25904c7886aff4a078376f7f": {
      "model_module": "@jupyter-widgets/controls",
      "model_module_version": "1.5.0",
      "model_name": "HBoxModel",
      "state": {
       "children": [
        "IPY_MODEL_a834bb91c77f4ce087966988030fc6d6",
        "IPY_MODEL_02c5d9517bc045079ccba4d1b440da95",
        "IPY_MODEL_424c31b4153e4f338ad859da7b50fa10"
       ],
       "layout": "IPY_MODEL_066874eabd4a4bcda6c3a49b6fb7b7cf"
      }
     },
     "edde42a4a8da4296b695e8324835c698": {
      "model_module": "@jupyter-widgets/controls",
      "model_module_version": "1.5.0",
      "model_name": "HTMLModel",
      "state": {
       "layout": "IPY_MODEL_13fa0e4aa69e4388b3cfedd6233f2636",
       "style": "IPY_MODEL_c8e60d843c0c4330b3639705616dca2d",
       "value": "  0%"
      }
     },
     "ee56bb6cbf6549a7b091afab9b3baacb": {
      "model_module": "@jupyter-widgets/controls",
      "model_module_version": "1.5.0",
      "model_name": "HTMLModel",
      "state": {
       "layout": "IPY_MODEL_8381f177fd8444c5928a09c39ea7e6ef",
       "style": "IPY_MODEL_e1e8f4ec0c7e4bb09ef84de67607df4c",
       "value": "100%"
      }
     },
     "ee7f2a4755da4beb83ac2746ec47010a": {
      "model_module": "@jupyter-widgets/controls",
      "model_module_version": "1.5.0",
      "model_name": "HTMLModel",
      "state": {
       "layout": "IPY_MODEL_1c460bad458d45bc9ed36c3c238ec90d",
       "style": "IPY_MODEL_77f39a94c1d448e396373dda8df1a95d",
       "value": "100%"
      }
     },
     "ef15bbef3af64d27a755890b559814b5": {
      "model_module": "@jupyter-widgets/controls",
      "model_module_version": "1.5.0",
      "model_name": "DescriptionStyleModel",
      "state": {
       "description_width": ""
      }
     },
     "ef1ec4c1a73c455e90d53e57e2cab05c": {
      "model_module": "@jupyter-widgets/base",
      "model_module_version": "1.2.0",
      "model_name": "LayoutModel",
      "state": {}
     },
     "efc46f661fb6453b8816de53dbd8009e": {
      "model_module": "@jupyter-widgets/controls",
      "model_module_version": "1.5.0",
      "model_name": "DescriptionStyleModel",
      "state": {
       "description_width": ""
      }
     },
     "f0097f7251174fb3a775eacbfa304752": {
      "model_module": "@jupyter-widgets/controls",
      "model_module_version": "1.5.0",
      "model_name": "DescriptionStyleModel",
      "state": {
       "description_width": ""
      }
     },
     "f02bae3bd3ee4a1d9162322161f34f14": {
      "model_module": "@jupyter-widgets/controls",
      "model_module_version": "1.5.0",
      "model_name": "ProgressStyleModel",
      "state": {
       "description_width": ""
      }
     },
     "f05a0e77c9374eeb89f5a8e6c7f338cd": {
      "model_module": "@jupyter-widgets/controls",
      "model_module_version": "1.5.0",
      "model_name": "HBoxModel",
      "state": {
       "children": [
        "IPY_MODEL_57f50b8f8d674aa6a5d1a886347a6628",
        "IPY_MODEL_e90b766235384a2ba0b5dc9fea74f19a",
        "IPY_MODEL_4dd755ef6ae14c07972758aea1a7e538"
       ],
       "layout": "IPY_MODEL_2bc61c85b177402bb682a31a8f06b874"
      }
     },
     "f07b97786e0e4be58a2a6a40de444e70": {
      "model_module": "@jupyter-widgets/controls",
      "model_module_version": "1.5.0",
      "model_name": "HTMLModel",
      "state": {
       "layout": "IPY_MODEL_741288971ebd4fefa5c1b5134db1fd13",
       "style": "IPY_MODEL_b8d3a2199fbe4edba1965aac0bfe17f9",
       "value": "100%"
      }
     },
     "f096c2de40cb4d97977b0b90a720f090": {
      "model_module": "@jupyter-widgets/controls",
      "model_module_version": "1.5.0",
      "model_name": "DescriptionStyleModel",
      "state": {
       "description_width": ""
      }
     },
     "f1603243841746d699b749428c814c34": {
      "model_module": "@jupyter-widgets/base",
      "model_module_version": "1.2.0",
      "model_name": "LayoutModel",
      "state": {}
     },
     "f18377dbcbb74b7795d8125f81da1594": {
      "model_module": "@jupyter-widgets/base",
      "model_module_version": "1.2.0",
      "model_name": "LayoutModel",
      "state": {}
     },
     "f1d70aede3794abebadfedf9000e0d43": {
      "model_module": "@jupyter-widgets/base",
      "model_module_version": "1.2.0",
      "model_name": "LayoutModel",
      "state": {}
     },
     "f2b9d189dbe240a99ea1a2a0d499d308": {
      "model_module": "@jupyter-widgets/controls",
      "model_module_version": "1.5.0",
      "model_name": "HTMLModel",
      "state": {
       "layout": "IPY_MODEL_352fa9c465024e5186da1fd1a09cbc10",
       "style": "IPY_MODEL_cdb53c7c31304adfb5eb321123ba8a3c",
       "value": " 2/2 [00:00&lt;00:00,  2.37it/s]"
      }
     },
     "f303f1138a00410a99d16a811bea4eba": {
      "model_module": "@jupyter-widgets/controls",
      "model_module_version": "1.5.0",
      "model_name": "HTMLModel",
      "state": {
       "layout": "IPY_MODEL_3b397389a3e7467daf8d82f06fcc1d88",
       "style": "IPY_MODEL_a78fc75c3a3b490e87ef449a714fd4cf",
       "value": "100%"
      }
     },
     "f3c5bc0d9a18455f9b0f4be0d404925e": {
      "model_module": "@jupyter-widgets/base",
      "model_module_version": "1.2.0",
      "model_name": "LayoutModel",
      "state": {}
     },
     "f45426a04ab04d0bb76013d79bfa19e7": {
      "model_module": "@jupyter-widgets/controls",
      "model_module_version": "1.5.0",
      "model_name": "DescriptionStyleModel",
      "state": {
       "description_width": ""
      }
     },
     "f5a29f8eeba94f9691a495f9a2bec786": {
      "model_module": "@jupyter-widgets/controls",
      "model_module_version": "1.5.0",
      "model_name": "HBoxModel",
      "state": {
       "children": [
        "IPY_MODEL_c00e6c0a041e4399bb0c821c10015e52",
        "IPY_MODEL_2c12a98dc275465cbdf7e39b51903843",
        "IPY_MODEL_149d6ff891cb44eb905db21622da2212"
       ],
       "layout": "IPY_MODEL_a399daef5a084a5cb877923cf5ebe33a"
      }
     },
     "f5f96193270a4de2b32749d828878786": {
      "model_module": "@jupyter-widgets/base",
      "model_module_version": "1.2.0",
      "model_name": "LayoutModel",
      "state": {}
     },
     "f647636b3fbf4ac88c9f6cab97393095": {
      "model_module": "@jupyter-widgets/controls",
      "model_module_version": "1.5.0",
      "model_name": "ProgressStyleModel",
      "state": {
       "description_width": ""
      }
     },
     "f66244961e744928ba1e72df845138d8": {
      "model_module": "@jupyter-widgets/base",
      "model_module_version": "1.2.0",
      "model_name": "LayoutModel",
      "state": {}
     },
     "f71484a1fc994dd7a5b229b0cd0b3c24": {
      "model_module": "@jupyter-widgets/controls",
      "model_module_version": "1.5.0",
      "model_name": "DescriptionStyleModel",
      "state": {
       "description_width": ""
      }
     },
     "f774dff438474c3faf8f8e72b9bf43ee": {
      "model_module": "@jupyter-widgets/controls",
      "model_module_version": "1.5.0",
      "model_name": "HTMLModel",
      "state": {
       "layout": "IPY_MODEL_098ac7dc93be44c4860a08842e6421c1",
       "style": "IPY_MODEL_132140a61836491ea55b930f873b9615",
       "value": " 2/2 [00:01&lt;00:00,  1.53it/s]"
      }
     },
     "f7c46135bb9e409d8ec127dce094b8c4": {
      "model_module": "@jupyter-widgets/base",
      "model_module_version": "1.2.0",
      "model_name": "LayoutModel",
      "state": {}
     },
     "f7c76a40628c43dcb0b87a35ec4479ee": {
      "model_module": "@jupyter-widgets/controls",
      "model_module_version": "1.5.0",
      "model_name": "ProgressStyleModel",
      "state": {
       "description_width": ""
      }
     },
     "f825865d7c9b4e3a9f1ff3a9d749a5f8": {
      "model_module": "@jupyter-widgets/base",
      "model_module_version": "1.2.0",
      "model_name": "LayoutModel",
      "state": {}
     },
     "f880e83d253a467d84bb215f65149a82": {
      "model_module": "@jupyter-widgets/controls",
      "model_module_version": "1.5.0",
      "model_name": "ProgressStyleModel",
      "state": {
       "description_width": ""
      }
     },
     "f88715423edb4fe28ca91641c5662302": {
      "model_module": "@jupyter-widgets/base",
      "model_module_version": "1.2.0",
      "model_name": "LayoutModel",
      "state": {}
     },
     "f8a819c79750461893edbec30f2de7ea": {
      "model_module": "@jupyter-widgets/controls",
      "model_module_version": "1.5.0",
      "model_name": "FloatProgressModel",
      "state": {
       "bar_style": "success",
       "layout": "IPY_MODEL_c86808bed42946af87f8faeb8e90285d",
       "max": 2,
       "style": "IPY_MODEL_1ab8ab05d10449f39d9bfde6525eede1",
       "value": 2
      }
     },
     "f94bafc6f48f43649ba18b76936d24ea": {
      "model_module": "@jupyter-widgets/base",
      "model_module_version": "1.2.0",
      "model_name": "LayoutModel",
      "state": {}
     },
     "f975b58ead534545992aa6fc8fa9ff82": {
      "model_module": "@jupyter-widgets/base",
      "model_module_version": "1.2.0",
      "model_name": "LayoutModel",
      "state": {}
     },
     "f98b23ccaeb642a6a3663beea291795e": {
      "model_module": "@jupyter-widgets/base",
      "model_module_version": "1.2.0",
      "model_name": "LayoutModel",
      "state": {}
     },
     "f9db0c604d9b4c73b39b5dcaca8ab144": {
      "model_module": "@jupyter-widgets/controls",
      "model_module_version": "1.5.0",
      "model_name": "FloatProgressModel",
      "state": {
       "bar_style": "success",
       "layout": "IPY_MODEL_5677f60bfb7747d28cb5d25b588e9044",
       "max": 2,
       "style": "IPY_MODEL_107f07bf097346ea80d854b181f341e1",
       "value": 2
      }
     },
     "fa87715f107445efb2b468df419301ff": {
      "model_module": "@jupyter-widgets/controls",
      "model_module_version": "1.5.0",
      "model_name": "DescriptionStyleModel",
      "state": {
       "description_width": ""
      }
     },
     "faea4815e9b3461b99fa84c7b6a98ada": {
      "model_module": "@jupyter-widgets/controls",
      "model_module_version": "1.5.0",
      "model_name": "HTMLModel",
      "state": {
       "layout": "IPY_MODEL_6017a2b0e5ef444e90dd6cac4563e5d6",
       "style": "IPY_MODEL_df84a016fb2943bbbd0b0a5c52430e44",
       "value": " 2/2 [00:36&lt;00:00, 17.25s/it]"
      }
     },
     "fbb38338c4144dd5a19d3f7351dd1af7": {
      "model_module": "@jupyter-widgets/base",
      "model_module_version": "1.2.0",
      "model_name": "LayoutModel",
      "state": {}
     },
     "fbccc2c6f6e24f4b9c4c648564003dab": {
      "model_module": "@jupyter-widgets/controls",
      "model_module_version": "1.5.0",
      "model_name": "HTMLModel",
      "state": {
       "layout": "IPY_MODEL_2d3ae6711a2a4b66a13761cc4065e463",
       "style": "IPY_MODEL_5d0c2394abbf4916bfce29699563155b",
       "value": "100%"
      }
     },
     "fbe7080614374cdebc822d18e5ff009b": {
      "model_module": "@jupyter-widgets/controls",
      "model_module_version": "1.5.0",
      "model_name": "ProgressStyleModel",
      "state": {
       "description_width": ""
      }
     },
     "fc86d19ba0ab48e38aec781d774967be": {
      "model_module": "@jupyter-widgets/controls",
      "model_module_version": "1.5.0",
      "model_name": "HTMLModel",
      "state": {
       "layout": "IPY_MODEL_dc1dead707be430d9e7cb8fd368268e3",
       "style": "IPY_MODEL_742fe871f3a64f479baa4160d49cca68",
       "value": " 3/3 [00:11&lt;00:00,  3.63s/it]"
      }
     },
     "fd6dbae6d1fb4322900f1e8dd0910ae0": {
      "model_module": "@jupyter-widgets/base",
      "model_module_version": "1.2.0",
      "model_name": "LayoutModel",
      "state": {}
     },
     "fe5a6d687d2342a4956747a0fecccf24": {
      "model_module": "@jupyter-widgets/controls",
      "model_module_version": "1.5.0",
      "model_name": "HTMLModel",
      "state": {
       "layout": "IPY_MODEL_48dc50945ae547c5b52e1ae262ad4812",
       "style": "IPY_MODEL_ebfc0ff4a7a94c82943c51261223effb",
       "value": " 2/2 [00:33&lt;00:00, 16.07s/it]"
      }
     },
     "fef8291acba2408da4c609e3a9afc56d": {
      "model_module": "@jupyter-widgets/controls",
      "model_module_version": "1.5.0",
      "model_name": "HBoxModel",
      "state": {
       "children": [
        "IPY_MODEL_ee56bb6cbf6549a7b091afab9b3baacb",
        "IPY_MODEL_b9c80d42952649698c858d689285625a",
        "IPY_MODEL_7d74bc75d06e4109b9504ce7242dbc4a"
       ],
       "layout": "IPY_MODEL_99e9f34bad1c4bf189d3b0064d294075"
      }
     },
     "ff71c9c8e90c40cfaa5d0107e76e4ba6": {
      "model_module": "@jupyter-widgets/controls",
      "model_module_version": "1.5.0",
      "model_name": "DescriptionStyleModel",
      "state": {
       "description_width": ""
      }
     },
     "ff7b7d0425a3460ea3486a14b1457d51": {
      "model_module": "@jupyter-widgets/controls",
      "model_module_version": "1.5.0",
      "model_name": "ProgressStyleModel",
      "state": {
       "description_width": ""
      }
     },
     "ff7ce741038646979b99eb65fb0d16e5": {
      "model_module": "@jupyter-widgets/base",
      "model_module_version": "1.2.0",
      "model_name": "LayoutModel",
      "state": {}
     }
    },
    "version_major": 2,
    "version_minor": 0
   }
  }
 },
 "nbformat": 4,
 "nbformat_minor": 5
}
