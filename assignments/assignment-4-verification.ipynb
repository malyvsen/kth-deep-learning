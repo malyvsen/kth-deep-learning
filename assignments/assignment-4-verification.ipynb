{
 "cells": [
  {
   "cell_type": "code",
   "execution_count": 1,
   "id": "respiratory-johnson",
   "metadata": {},
   "outputs": [],
   "source": [
    "from dataclasses import replace, asdict\n",
    "import numpy as np\n",
    "import json\n",
    "from tqdm.auto import tqdm\n",
    "\n",
    "from rnn import RNN, AdaGrad, Text, synthesize"
   ]
  },
  {
   "cell_type": "code",
   "execution_count": 2,
   "id": "stone-museum",
   "metadata": {},
   "outputs": [
    {
     "data": {
      "text/plain": [
       "Passage(context=array([53, 77, 71, 71, 12, 43, 52, 60, 49, 49,  1, 71, 43, 77, 17,  6, 43,\n",
       "       49, 53,  1, 43, 38, 60, 68, 41]), targets=array([77, 71, 71, 12, 43, 52, 60, 49, 49,  1, 71, 43, 77, 17,  6, 43, 49,\n",
       "       53,  1, 43, 38, 60, 68, 41,  1]))"
      ]
     },
     "execution_count": 2,
     "metadata": {},
     "output_type": "execute_result"
    }
   ],
   "source": [
    "text = Text.from_file(\"../data/goblet_book.txt\")\n",
    "passage = next(text.passages(25))\n",
    "passage"
   ]
  },
  {
   "cell_type": "code",
   "execution_count": 3,
   "id": "static-blood",
   "metadata": {},
   "outputs": [
    {
     "data": {
      "text/plain": [
       "'SgKc0l_(f22\\tgpb^)GEp_a}7\\'u}Kl}:, (9fT7.T.)UOL\\t37LU_Fz6u76,dPPsoL9baL y0sSgl:^IS)sKMQK)V7vdu.N9Ugfd)JeJLnqrHIIGII^fztPIXx 2kl4LX/xwRv-cG?v\\'VUMk\"a.R?p_e?;yrTi•DCcriP?wN!6e.\":}\\t lAhae!yKr0lJlQz(N;6YvYLLRQsLExF i^HX(L/(d})ShvutbI2jN!plNx_9Q\"KeHa-u;_Z\\n^Uy;pIGPT\"-Svu2Pekc^K:DNtSw\\n6_s9.Xj}kE3ckPC,ü1jG6)W!Sqoabzwh2-YghRAü\"FAWd0aM9ibpMC0U\"TBSNLKGPR!-•?F3rTc\\n_H:s10\"UL:mF:o AwYyXVapxQGwjFTIlü7,)^Y-0p)hQT• PüWVPn-Ot/y\",\\'}sQ B9)DwqXFOe/(dh_VwK//oC3M(z6uNxDVpW}oc233_Vmjwesr-v0)nmH)02-q•3;j(ZEjüeHd•\":)/J:_q_h:!u76•!lT\\'0;:lnC 3NQ34Bv!lLTX\"I.EmR!N!iDQ\\nOy6pfVzrT•Dac^IQx\\nZNNü;mWyGm}•cqN?b0hsBmVuq:nx\\n?YBbexaoUpPWuLFgW:fa2\\ta \\t;}obK/MS?P)CEJdlQl6\\tlv(cR?ZM;}qHYE\\tGAo4PIüy1d6GPYU1rcR0p336k(jvKO.9W!T7/PoWG/ xmJs(Ip^p- U)0üVs0ZdYI)F\\t!Iy4\\' 2,/)Wa0D\\tGvaCJwO\"6u6)kN}-AYhV}uD F1GoMAKs1F jcGj^j•.!Po\\nfsZ?c\\'h,4N.(J\\npMGBm3•!XKrVoKipu7SGMqskjtWZvXym^nf4Z;P}s^LtdoDh3y9 xkg:f7poe47Nm•Z;s3Jua9zqa)I1T/füKc9BtHE?oUZAEK;boZI\\t\\t:iO/duS_(gu\\'7-lOmEO\\n^67^_F/7JcDrMy9_L_:AzWüPIPMHiRgifwq\\'TWKo•\\tNHR\\n7L0Td(uSw\"(lzAFxT6ZTAyIt/43ID/xi;Xj•9'"
      ]
     },
     "execution_count": 3,
     "metadata": {},
     "output_type": "execute_result"
    }
   ],
   "source": [
    "rnn = RNN.from_dims(num_classes=text.num_unique_characters, hidden_dim=16)\n",
    "synthesize(rnn, text, length=1000)"
   ]
  },
  {
   "cell_type": "code",
   "execution_count": 4,
   "id": "ethical-regular",
   "metadata": {},
   "outputs": [
    {
     "data": {
      "text/plain": [
       "109.81919940335482"
      ]
     },
     "execution_count": 4,
     "metadata": {},
     "output_type": "execute_result"
    }
   ],
   "source": [
    "def compute_loss(**kwargs):\n",
    "    new_rnn = replace(rnn, **kwargs)\n",
    "    states, outputs = new_rnn.run(rnn.initial_state, passage)\n",
    "    return new_rnn.loss(outputs, passage.targets)\n",
    "\n",
    "compute_loss()"
   ]
  },
  {
   "cell_type": "code",
   "execution_count": 5,
   "id": "large-fraud",
   "metadata": {
    "scrolled": true
   },
   "outputs": [],
   "source": [
    "def numeric_gradients(param_name, h=1e-5):\n",
    "    original_array = getattr(rnn, param_name)\n",
    "    result = np.zeros_like(original_array)\n",
    "    for i in range(np.prod(original_array.shape)):\n",
    "        idx = np.unravel_index(i, original_array.shape)\n",
    "\n",
    "        attempt = original_array.copy()\n",
    "        attempt[idx] -= h\n",
    "        c1 = compute_loss(**{param_name: attempt})\n",
    "\n",
    "        attempt = original_array.copy()\n",
    "        attempt[idx] += h\n",
    "        c2 = compute_loss(**{param_name: attempt})\n",
    "\n",
    "        result[idx] = (c2 - c1) / (2 * h)\n",
    "    return result\n",
    "\n",
    "numeric_gradients = {\n",
    "    param_name: numeric_gradients(param_name)\n",
    "    for param_name in asdict(rnn)\n",
    "}\n",
    "\n",
    "states, outputs = rnn.run(rnn.initial_state, passage)\n",
    "analytical_gradients = rnn.run_backward(states, outputs, passage)"
   ]
  },
  {
   "cell_type": "code",
   "execution_count": 6,
   "id": "communist-festival",
   "metadata": {},
   "outputs": [
    {
     "name": "stdout",
     "output_type": "stream",
     "text": [
      "{\n",
      "    \"hidden_weights\": {\n",
      "        \"mean\": 3.4076817669692208e-09,\n",
      "        \"max\": 1.0136437022783122e-07\n",
      "    },\n",
      "    \"input_weights\": {\n",
      "        \"mean\": 1.7918067526106602e-09,\n",
      "        \"max\": 1.6959761928423293e-06\n",
      "    },\n",
      "    \"hidden_biases\": {\n",
      "        \"mean\": 1.0913787868793307e-08,\n",
      "        \"max\": 1.567841464464988e-07\n",
      "    },\n",
      "    \"output_weights\": {\n",
      "        \"mean\": 1.424075922438796e-07,\n",
      "        \"max\": 3.656178029848925e-05\n",
      "    },\n",
      "    \"output_biases\": {\n",
      "        \"mean\": 1.3357032159667777e-09,\n",
      "        \"max\": 5.052322146910117e-09\n",
      "    }\n",
      "}\n"
     ]
    }
   ],
   "source": [
    "def relative_error(a, b, eps=1e-6):\n",
    "    values = np.abs(a - b) / np.maximum(eps, np.abs(a) + np.abs(b))\n",
    "    return dict(\n",
    "        mean=np.mean(values),\n",
    "        max=np.max(values),\n",
    "    )\n",
    "\n",
    "print(json.dumps(\n",
    "    {\n",
    "        param_name: relative_error(numeric_gradients[param_name], analytical_gradients[param_name])\n",
    "        for param_name in numeric_gradients\n",
    "    },\n",
    "    indent=4\n",
    "))"
   ]
  }
 ],
 "metadata": {
  "kernelspec": {
   "display_name": "Python 3",
   "language": "python",
   "name": "python3"
  },
  "language_info": {
   "codemirror_mode": {
    "name": "ipython",
    "version": 3
   },
   "file_extension": ".py",
   "mimetype": "text/x-python",
   "name": "python",
   "nbconvert_exporter": "python",
   "pygments_lexer": "ipython3",
   "version": "3.9.0"
  },
  "widgets": {
   "application/vnd.jupyter.widget-state+json": {
    "state": {
     "009630821dd54178b76cecdd37481d08": {
      "model_module": "@jupyter-widgets/base",
      "model_module_version": "1.2.0",
      "model_name": "LayoutModel",
      "state": {}
     },
     "0168d5f3f85a42cc8ef8950c556d02aa": {
      "model_module": "@jupyter-widgets/base",
      "model_module_version": "1.2.0",
      "model_name": "LayoutModel",
      "state": {}
     },
     "03085accd2fc44ce83ca844548c929c3": {
      "model_module": "@jupyter-widgets/controls",
      "model_module_version": "1.5.0",
      "model_name": "ProgressStyleModel",
      "state": {
       "description_width": ""
      }
     },
     "037ba26d083a413291dc515257ca00f2": {
      "model_module": "@jupyter-widgets/base",
      "model_module_version": "1.2.0",
      "model_name": "LayoutModel",
      "state": {}
     },
     "05dee094c550403da36237a325cbc13c": {
      "model_module": "@jupyter-widgets/controls",
      "model_module_version": "1.5.0",
      "model_name": "HTMLModel",
      "state": {
       "layout": "IPY_MODEL_9623a5f541364c78952131fea7865d46",
       "style": "IPY_MODEL_b4d1a8b9869a4c088799382a3a39c1e2",
       "value": " 1000/1000 [00:00&lt;00:00, 3086.98it/s]"
      }
     },
     "07446e0b392d490cb057ed75a5453743": {
      "model_module": "@jupyter-widgets/controls",
      "model_module_version": "1.5.0",
      "model_name": "HTMLModel",
      "state": {
       "layout": "IPY_MODEL_2e89b2e0e841473e9d4fa20619a27cda",
       "style": "IPY_MODEL_48958412985549cc90f986c53adb917a",
       "value": "100%"
      }
     },
     "074f53deb39340c3aa83febefb10baaf": {
      "model_module": "@jupyter-widgets/base",
      "model_module_version": "1.2.0",
      "model_name": "LayoutModel",
      "state": {}
     },
     "07a26d32708b4b2aa3ce5facb4648882": {
      "model_module": "@jupyter-widgets/base",
      "model_module_version": "1.2.0",
      "model_name": "LayoutModel",
      "state": {}
     },
     "07bc4eadeea04d9d8abe1546447e8d03": {
      "model_module": "@jupyter-widgets/controls",
      "model_module_version": "1.5.0",
      "model_name": "DescriptionStyleModel",
      "state": {
       "description_width": ""
      }
     },
     "07f615e3595c4f48b4436da31d6ce680": {
      "model_module": "@jupyter-widgets/controls",
      "model_module_version": "1.5.0",
      "model_name": "ProgressStyleModel",
      "state": {
       "description_width": ""
      }
     },
     "0a1acdb2009a49b7abb5ac4a15aae330": {
      "model_module": "@jupyter-widgets/controls",
      "model_module_version": "1.5.0",
      "model_name": "HTMLModel",
      "state": {
       "layout": "IPY_MODEL_d344fd8f6f2f4e62bbc8f6ad09023c55",
       "style": "IPY_MODEL_e6f32d5493f04b77a8e46d872e673a63",
       "value": "100%"
      }
     },
     "0e4ba171ff5e440ea0854aa008f0fe8a": {
      "model_module": "@jupyter-widgets/base",
      "model_module_version": "1.2.0",
      "model_name": "LayoutModel",
      "state": {}
     },
     "0ec8d14dce534ba69bdd735b5281cd76": {
      "model_module": "@jupyter-widgets/controls",
      "model_module_version": "1.5.0",
      "model_name": "HTMLModel",
      "state": {
       "layout": "IPY_MODEL_ba21a0c7fe124670ab1e34d85e117d16",
       "style": "IPY_MODEL_7d6dbec7ee3f45c1aed272e6e6f846b4",
       "value": "100%"
      }
     },
     "11af6ba432eb411d8101dea11da5b60d": {
      "model_module": "@jupyter-widgets/base",
      "model_module_version": "1.2.0",
      "model_name": "LayoutModel",
      "state": {}
     },
     "1421d2ba04ee4b70a3150030a811cf04": {
      "model_module": "@jupyter-widgets/controls",
      "model_module_version": "1.5.0",
      "model_name": "HTMLModel",
      "state": {
       "layout": "IPY_MODEL_f1857cb8bf0c4eb8bcc6080b6284b92b",
       "style": "IPY_MODEL_d22c95a304a646ac89ae4010a5648cc1",
       "value": " 298/1107542 [00:32&lt;38:52:34,  7.91it/s]"
      }
     },
     "14d3ebbee68c4f87882f4150d2da9730": {
      "model_module": "@jupyter-widgets/base",
      "model_module_version": "1.2.0",
      "model_name": "LayoutModel",
      "state": {}
     },
     "156ebb3376a140feab70ec637ad0007a": {
      "model_module": "@jupyter-widgets/controls",
      "model_module_version": "1.5.0",
      "model_name": "HTMLModel",
      "state": {
       "layout": "IPY_MODEL_a5eb8a1c0f0849a699a3b313938897d9",
       "style": "IPY_MODEL_8a0c4eebb1e048b1ab393c117a09dabc",
       "value": "100%"
      }
     },
     "18aa85765a894e6ab077844524b0efcb": {
      "model_module": "@jupyter-widgets/controls",
      "model_module_version": "1.5.0",
      "model_name": "ProgressStyleModel",
      "state": {
       "description_width": ""
      }
     },
     "18e5dc919f83455facf2784cc5d736f3": {
      "model_module": "@jupyter-widgets/base",
      "model_module_version": "1.2.0",
      "model_name": "LayoutModel",
      "state": {}
     },
     "19c794a986c7417b8eb6592a8e976eb2": {
      "model_module": "@jupyter-widgets/controls",
      "model_module_version": "1.5.0",
      "model_name": "ProgressStyleModel",
      "state": {
       "description_width": ""
      }
     },
     "1a84aa16d12d49bb808b5f64234da88a": {
      "model_module": "@jupyter-widgets/base",
      "model_module_version": "1.2.0",
      "model_name": "LayoutModel",
      "state": {}
     },
     "1c3143b7fb21455099c9a2ceaf9d8b21": {
      "model_module": "@jupyter-widgets/controls",
      "model_module_version": "1.5.0",
      "model_name": "HTMLModel",
      "state": {
       "layout": "IPY_MODEL_074f53deb39340c3aa83febefb10baaf",
       "style": "IPY_MODEL_f6055846d63d4d5f82afcaab3e88d0af",
       "value": " 1000/1000 [00:00&lt;00:00, 2694.03it/s]"
      }
     },
     "1f545e2fa68c4e9b96e24f5d8952a49c": {
      "model_module": "@jupyter-widgets/controls",
      "model_module_version": "1.5.0",
      "model_name": "HTMLModel",
      "state": {
       "layout": "IPY_MODEL_e3d05859fb4f496ead63bfda07c51cc7",
       "style": "IPY_MODEL_ef8c525a3e6f4523ab214d0ed744b626",
       "value": "  0%"
      }
     },
     "1f595961f1d14430b3ba20ed9669f689": {
      "model_module": "@jupyter-widgets/base",
      "model_module_version": "1.2.0",
      "model_name": "LayoutModel",
      "state": {}
     },
     "21f74466c0aa43e19322fe4e3a024e86": {
      "model_module": "@jupyter-widgets/controls",
      "model_module_version": "1.5.0",
      "model_name": "HTMLModel",
      "state": {
       "layout": "IPY_MODEL_9ee35526ff8d47638d4201cd1bf9fe9a",
       "style": "IPY_MODEL_dae29a9a7c7b4dc0a4981f28c18aedcb",
       "value": "  0%"
      }
     },
     "21fef1de443342b8b1b2fa06a291d01c": {
      "model_module": "@jupyter-widgets/controls",
      "model_module_version": "1.5.0",
      "model_name": "ProgressStyleModel",
      "state": {
       "description_width": ""
      }
     },
     "221d01a16d8b4bfb9a3abd79f5ff59cc": {
      "model_module": "@jupyter-widgets/controls",
      "model_module_version": "1.5.0",
      "model_name": "HTMLModel",
      "state": {
       "layout": "IPY_MODEL_8f86db59356f4f96b342fdbe4c5a71de",
       "style": "IPY_MODEL_865593ef542a45b9a415e21d9569c742",
       "value": " 1000/1000 [00:00&lt;00:00, 3375.52it/s]"
      }
     },
     "2280bb505e7e411fae2881374435baa4": {
      "model_module": "@jupyter-widgets/controls",
      "model_module_version": "1.5.0",
      "model_name": "HTMLModel",
      "state": {
       "layout": "IPY_MODEL_18e5dc919f83455facf2784cc5d736f3",
       "style": "IPY_MODEL_48204049fa2549ce915b97dd5d4bcbe6",
       "value": " 1000/1000 [00:00&lt;00:00, 1980.67it/s]"
      }
     },
     "22d6e7cdc2e3491684ac8866d2fc6325": {
      "model_module": "@jupyter-widgets/base",
      "model_module_version": "1.2.0",
      "model_name": "LayoutModel",
      "state": {}
     },
     "244eea2b5b304505befcb204ac75d79a": {
      "model_module": "@jupyter-widgets/base",
      "model_module_version": "1.2.0",
      "model_name": "LayoutModel",
      "state": {}
     },
     "26e187f00ac64d8aad6689e0e0861696": {
      "model_module": "@jupyter-widgets/controls",
      "model_module_version": "1.5.0",
      "model_name": "FloatProgressModel",
      "state": {
       "bar_style": "success",
       "layout": "IPY_MODEL_b4c134a052554c4b9d6d766cc91461e9",
       "max": 1000,
       "style": "IPY_MODEL_f6bda2182cda4fa1a70967138467e473",
       "value": 1000
      }
     },
     "28928cea37604bfe991ca596d16bae13": {
      "model_module": "@jupyter-widgets/controls",
      "model_module_version": "1.5.0",
      "model_name": "FloatProgressModel",
      "state": {
       "bar_style": "danger",
       "layout": "IPY_MODEL_44e85e79993b4e59ad164a5490e8d628",
       "max": 1107542,
       "style": "IPY_MODEL_97f4833dec1144fbb3a4541c0c1193fb",
       "value": 631
      }
     },
     "289adfaddd06458e9403a9ca0ccdef16": {
      "model_module": "@jupyter-widgets/controls",
      "model_module_version": "1.5.0",
      "model_name": "FloatProgressModel",
      "state": {
       "bar_style": "success",
       "layout": "IPY_MODEL_11af6ba432eb411d8101dea11da5b60d",
       "max": 1000,
       "style": "IPY_MODEL_9347c0b0efce476e96d96765731cee6c",
       "value": 1000
      }
     },
     "2a2c7b794eec408baf0a559df88324ed": {
      "model_module": "@jupyter-widgets/controls",
      "model_module_version": "1.5.0",
      "model_name": "DescriptionStyleModel",
      "state": {
       "description_width": ""
      }
     },
     "2ba59de809044ab1a67f08c898e7ed5b": {
      "model_module": "@jupyter-widgets/controls",
      "model_module_version": "1.5.0",
      "model_name": "HBoxModel",
      "state": {
       "children": [
        "IPY_MODEL_21f74466c0aa43e19322fe4e3a024e86",
        "IPY_MODEL_aa81c80c34e9420fb182cb197c19f193",
        "IPY_MODEL_b7bfd6fb123e49e5bce7aa4bedc3f7c5"
       ],
       "layout": "IPY_MODEL_79aa390362b942dcbedf92c65373f169"
      }
     },
     "2d2aa22c2353425d91067d838b2511e8": {
      "model_module": "@jupyter-widgets/base",
      "model_module_version": "1.2.0",
      "model_name": "LayoutModel",
      "state": {}
     },
     "2e89b2e0e841473e9d4fa20619a27cda": {
      "model_module": "@jupyter-widgets/base",
      "model_module_version": "1.2.0",
      "model_name": "LayoutModel",
      "state": {}
     },
     "2ec87435b3dc48e985dc7a0a6ef8ee1f": {
      "model_module": "@jupyter-widgets/controls",
      "model_module_version": "1.5.0",
      "model_name": "FloatProgressModel",
      "state": {
       "bar_style": "success",
       "layout": "IPY_MODEL_b73d3e08240745d2a1e8f28d35367f52",
       "max": 1000,
       "style": "IPY_MODEL_4a6947044c8542d583646e477ddfafc7",
       "value": 1000
      }
     },
     "302da815798144b3a9d2ff533caedde8": {
      "model_module": "@jupyter-widgets/base",
      "model_module_version": "1.2.0",
      "model_name": "LayoutModel",
      "state": {}
     },
     "3075ad8adea04071b7615c800fecd9d6": {
      "model_module": "@jupyter-widgets/controls",
      "model_module_version": "1.5.0",
      "model_name": "FloatProgressModel",
      "state": {
       "bar_style": "success",
       "layout": "IPY_MODEL_fdea48b663fa45aea849923f993077b0",
       "max": 1000,
       "style": "IPY_MODEL_7a5e7933e7844d2e8cbc6d05af81e2cf",
       "value": 1000
      }
     },
     "31ce1c8025664fa3b467f9c35bcb94e3": {
      "model_module": "@jupyter-widgets/base",
      "model_module_version": "1.2.0",
      "model_name": "LayoutModel",
      "state": {}
     },
     "33f3f9edfe55430b816812ff5a6a291c": {
      "model_module": "@jupyter-widgets/controls",
      "model_module_version": "1.5.0",
      "model_name": "HTMLModel",
      "state": {
       "layout": "IPY_MODEL_b8cbbd0069504bf797b8f79fb2e28d3f",
       "style": "IPY_MODEL_9c6b0d95b7e946f181b372f1d0008582",
       "value": " 1000/1000 [00:00&lt;00:00, 5714.92it/s]"
      }
     },
     "35f310efe4e246a8bfa41392b01ab116": {
      "model_module": "@jupyter-widgets/controls",
      "model_module_version": "1.5.0",
      "model_name": "HBoxModel",
      "state": {
       "children": [
        "IPY_MODEL_516f615d94e247249c550ecdbc262a3e",
        "IPY_MODEL_8df1530cc973457393d287ad61e8794a",
        "IPY_MODEL_64bfb86d57b946f98f08bdd26557d22e"
       ],
       "layout": "IPY_MODEL_302da815798144b3a9d2ff533caedde8"
      }
     },
     "371cc09e49d7410aa7480f2623b853b2": {
      "model_module": "@jupyter-widgets/base",
      "model_module_version": "1.2.0",
      "model_name": "LayoutModel",
      "state": {}
     },
     "37e23f8afaf14a5a8673ea8ffdafb8fd": {
      "model_module": "@jupyter-widgets/base",
      "model_module_version": "1.2.0",
      "model_name": "LayoutModel",
      "state": {}
     },
     "3a949f6a1b764642ae97d8ed8f721ae1": {
      "model_module": "@jupyter-widgets/controls",
      "model_module_version": "1.5.0",
      "model_name": "ProgressStyleModel",
      "state": {
       "description_width": ""
      }
     },
     "3d89e52189bd402daa481c8594dbaadb": {
      "model_module": "@jupyter-widgets/controls",
      "model_module_version": "1.5.0",
      "model_name": "HTMLModel",
      "state": {
       "layout": "IPY_MODEL_1f595961f1d14430b3ba20ed9669f689",
       "style": "IPY_MODEL_8ac7d2f43c9644c8be6a30d0d2b3ded0",
       "value": " 60/1107542 [00:01&lt;10:53:47, 28.23it/s]"
      }
     },
     "3e280a1ccc2c4d37a6b2a5b3f3bc6408": {
      "model_module": "@jupyter-widgets/controls",
      "model_module_version": "1.5.0",
      "model_name": "HBoxModel",
      "state": {
       "children": [
        "IPY_MODEL_df4d36023cbf40f0b4887aea3d55ac10",
        "IPY_MODEL_6387617673b14a5f8474f16373a33a6a",
        "IPY_MODEL_1421d2ba04ee4b70a3150030a811cf04"
       ],
       "layout": "IPY_MODEL_c5ec33ea38d345a8b525ff0c49774835"
      }
     },
     "3ef51f9167cd4ec7821b1b2ab7033b14": {
      "model_module": "@jupyter-widgets/controls",
      "model_module_version": "1.5.0",
      "model_name": "HBoxModel",
      "state": {
       "children": [
        "IPY_MODEL_156ebb3376a140feab70ec637ad0007a",
        "IPY_MODEL_babae7d92e944885a739ec1c953d8e90",
        "IPY_MODEL_d956d00a8b2f48c7b1fef04068fff727"
       ],
       "layout": "IPY_MODEL_b9ed41b2571d40e78fbf31d7dca1aaf0"
      }
     },
     "3f14ab36d5d041239cf042ae4a1d127d": {
      "model_module": "@jupyter-widgets/controls",
      "model_module_version": "1.5.0",
      "model_name": "DescriptionStyleModel",
      "state": {
       "description_width": ""
      }
     },
     "40a1b1c565e641aebd232b85e9ee152c": {
      "model_module": "@jupyter-widgets/controls",
      "model_module_version": "1.5.0",
      "model_name": "ProgressStyleModel",
      "state": {
       "description_width": ""
      }
     },
     "40bc82651d5b4baaa449f966d426bc1a": {
      "model_module": "@jupyter-widgets/controls",
      "model_module_version": "1.5.0",
      "model_name": "FloatProgressModel",
      "state": {
       "bar_style": "danger",
       "layout": "IPY_MODEL_22d6e7cdc2e3491684ac8866d2fc6325",
       "max": 1107542,
       "style": "IPY_MODEL_456edf3336004722a83a159c3e0ba8aa",
       "value": 60
      }
     },
     "4119af3a506240128611ec6063ac6b16": {
      "model_module": "@jupyter-widgets/controls",
      "model_module_version": "1.5.0",
      "model_name": "DescriptionStyleModel",
      "state": {
       "description_width": ""
      }
     },
     "41b869c88eac4e07b43e6129e08eaf0f": {
      "model_module": "@jupyter-widgets/controls",
      "model_module_version": "1.5.0",
      "model_name": "DescriptionStyleModel",
      "state": {
       "description_width": ""
      }
     },
     "41d5af8376d841eb8fcf597217f861a5": {
      "model_module": "@jupyter-widgets/controls",
      "model_module_version": "1.5.0",
      "model_name": "HTMLModel",
      "state": {
       "layout": "IPY_MODEL_371cc09e49d7410aa7480f2623b853b2",
       "style": "IPY_MODEL_2a2c7b794eec408baf0a559df88324ed",
       "value": " 1000/1000 [00:00&lt;00:00, 7149.30it/s]"
      }
     },
     "433b05e4904a4198a2c9fd792f933c3e": {
      "model_module": "@jupyter-widgets/controls",
      "model_module_version": "1.5.0",
      "model_name": "ProgressStyleModel",
      "state": {
       "description_width": ""
      }
     },
     "44e85e79993b4e59ad164a5490e8d628": {
      "model_module": "@jupyter-widgets/base",
      "model_module_version": "1.2.0",
      "model_name": "LayoutModel",
      "state": {}
     },
     "450abbd13ce7498daa6027cdaf97f51c": {
      "model_module": "@jupyter-widgets/controls",
      "model_module_version": "1.5.0",
      "model_name": "DescriptionStyleModel",
      "state": {
       "description_width": ""
      }
     },
     "456edf3336004722a83a159c3e0ba8aa": {
      "model_module": "@jupyter-widgets/controls",
      "model_module_version": "1.5.0",
      "model_name": "ProgressStyleModel",
      "state": {
       "description_width": ""
      }
     },
     "458235eff8904f129fd829264ca46726": {
      "model_module": "@jupyter-widgets/base",
      "model_module_version": "1.2.0",
      "model_name": "LayoutModel",
      "state": {}
     },
     "45bea1bf39184bc484632162142a6d53": {
      "model_module": "@jupyter-widgets/controls",
      "model_module_version": "1.5.0",
      "model_name": "DescriptionStyleModel",
      "state": {
       "description_width": ""
      }
     },
     "4647f62c8db948d59089074c2b2fb40b": {
      "model_module": "@jupyter-widgets/controls",
      "model_module_version": "1.5.0",
      "model_name": "FloatProgressModel",
      "state": {
       "bar_style": "danger",
       "layout": "IPY_MODEL_fb6963f9f1504cb0a76e37005be94138",
       "max": 1107542,
       "style": "IPY_MODEL_03085accd2fc44ce83ca844548c929c3"
      }
     },
     "48204049fa2549ce915b97dd5d4bcbe6": {
      "model_module": "@jupyter-widgets/controls",
      "model_module_version": "1.5.0",
      "model_name": "DescriptionStyleModel",
      "state": {
       "description_width": ""
      }
     },
     "48958412985549cc90f986c53adb917a": {
      "model_module": "@jupyter-widgets/controls",
      "model_module_version": "1.5.0",
      "model_name": "DescriptionStyleModel",
      "state": {
       "description_width": ""
      }
     },
     "49b6febe04c340f585488408c55a8c41": {
      "model_module": "@jupyter-widgets/base",
      "model_module_version": "1.2.0",
      "model_name": "LayoutModel",
      "state": {}
     },
     "4a6947044c8542d583646e477ddfafc7": {
      "model_module": "@jupyter-widgets/controls",
      "model_module_version": "1.5.0",
      "model_name": "ProgressStyleModel",
      "state": {
       "description_width": ""
      }
     },
     "4b1a624320034ac99c13438ae46094d6": {
      "model_module": "@jupyter-widgets/controls",
      "model_module_version": "1.5.0",
      "model_name": "HTMLModel",
      "state": {
       "layout": "IPY_MODEL_84cb8a306d0641d3aecdc4cd6a8f95fa",
       "style": "IPY_MODEL_9072cda0791e403cb37d07f20b205003",
       "value": " 0/1107542 [00:00&lt;?, ?it/s]"
      }
     },
     "4dff4585c033464ba491d48680d32398": {
      "model_module": "@jupyter-widgets/controls",
      "model_module_version": "1.5.0",
      "model_name": "DescriptionStyleModel",
      "state": {
       "description_width": ""
      }
     },
     "51616dadbae8455cab9541c2da1631b0": {
      "model_module": "@jupyter-widgets/base",
      "model_module_version": "1.2.0",
      "model_name": "LayoutModel",
      "state": {}
     },
     "516f615d94e247249c550ecdbc262a3e": {
      "model_module": "@jupyter-widgets/controls",
      "model_module_version": "1.5.0",
      "model_name": "HTMLModel",
      "state": {
       "layout": "IPY_MODEL_93ceeb684ab14d43a34d08d98a223abb",
       "style": "IPY_MODEL_89b7be905ba544599f99643a9a1ae908",
       "value": "  0%"
      }
     },
     "51920f7d36d64c148be37f18b8c56ea6": {
      "model_module": "@jupyter-widgets/base",
      "model_module_version": "1.2.0",
      "model_name": "LayoutModel",
      "state": {}
     },
     "53624c7f199b4252a59fdf688d5ababf": {
      "model_module": "@jupyter-widgets/controls",
      "model_module_version": "1.5.0",
      "model_name": "HBoxModel",
      "state": {
       "children": [
        "IPY_MODEL_648fa5b2cd354e07a33bd3d0d01c3bfa",
        "IPY_MODEL_f4a91112fd5d44c18095d7450d6d9091",
        "IPY_MODEL_779952966fff41eebbe61c03bc6b3770"
       ],
       "layout": "IPY_MODEL_e3b1495bb6114ed99d53c97eaab24c76"
      }
     },
     "55b4781727364aa089d28526ed142170": {
      "model_module": "@jupyter-widgets/controls",
      "model_module_version": "1.5.0",
      "model_name": "HTMLModel",
      "state": {
       "layout": "IPY_MODEL_b2d0d68d7544447da6658615c04aacd0",
       "style": "IPY_MODEL_07bc4eadeea04d9d8abe1546447e8d03",
       "value": "  0%"
      }
     },
     "55e950e8d24943a582488fc1855e80e2": {
      "model_module": "@jupyter-widgets/controls",
      "model_module_version": "1.5.0",
      "model_name": "DescriptionStyleModel",
      "state": {
       "description_width": ""
      }
     },
     "5605a88583184b79a8c912d8e40c885f": {
      "model_module": "@jupyter-widgets/controls",
      "model_module_version": "1.5.0",
      "model_name": "HTMLModel",
      "state": {
       "layout": "IPY_MODEL_cc10bab07976474a8c546c2c931379bc",
       "style": "IPY_MODEL_da8838d80ee84b5abf900f3e2dd16342",
       "value": "100%"
      }
     },
     "57b8369a58ab4c3587eebe1db780bf44": {
      "model_module": "@jupyter-widgets/controls",
      "model_module_version": "1.5.0",
      "model_name": "HTMLModel",
      "state": {
       "layout": "IPY_MODEL_51920f7d36d64c148be37f18b8c56ea6",
       "style": "IPY_MODEL_9dff50e8be1b4bdfb3df162d14cd7c8b",
       "value": "  0%"
      }
     },
     "5936b7a8948e433388b8fe338d5c2593": {
      "model_module": "@jupyter-widgets/base",
      "model_module_version": "1.2.0",
      "model_name": "LayoutModel",
      "state": {}
     },
     "59e5563c56744b978d19ba6e4c0f918a": {
      "model_module": "@jupyter-widgets/base",
      "model_module_version": "1.2.0",
      "model_name": "LayoutModel",
      "state": {}
     },
     "5bc112a3cf4c4c9db4cf87222f49cefa": {
      "model_module": "@jupyter-widgets/controls",
      "model_module_version": "1.5.0",
      "model_name": "FloatProgressModel",
      "state": {
       "bar_style": "success",
       "layout": "IPY_MODEL_8a676d6200554d0c9b6406a57c069322",
       "max": 1000,
       "style": "IPY_MODEL_e94d5f01a837471e9b7f57e85cb72007",
       "value": 1000
      }
     },
     "5be31d0b6fa44baba2aa347c414ac6a6": {
      "model_module": "@jupyter-widgets/base",
      "model_module_version": "1.2.0",
      "model_name": "LayoutModel",
      "state": {}
     },
     "5c1fd504302840fda83f16e0e49fada2": {
      "model_module": "@jupyter-widgets/controls",
      "model_module_version": "1.5.0",
      "model_name": "FloatProgressModel",
      "state": {
       "bar_style": "danger",
       "layout": "IPY_MODEL_d178967e64044336bee251783b0707f5",
       "max": 1107542,
       "style": "IPY_MODEL_75be16b51d914e2fbd1f8c12a4fa8ca8",
       "value": 86
      }
     },
     "5d99b662f7c0406fb5b42c5246c5ba76": {
      "model_module": "@jupyter-widgets/base",
      "model_module_version": "1.2.0",
      "model_name": "LayoutModel",
      "state": {}
     },
     "5dddfe2ff9524484ade9437122229510": {
      "model_module": "@jupyter-widgets/base",
      "model_module_version": "1.2.0",
      "model_name": "LayoutModel",
      "state": {}
     },
     "5ee513aeb1544178aefe4979bf198b5e": {
      "model_module": "@jupyter-widgets/base",
      "model_module_version": "1.2.0",
      "model_name": "LayoutModel",
      "state": {}
     },
     "614dd142bfe34d789648db2d7aabeac5": {
      "model_module": "@jupyter-widgets/base",
      "model_module_version": "1.2.0",
      "model_name": "LayoutModel",
      "state": {}
     },
     "63364bca7ed942798ed108ef67addad7": {
      "model_module": "@jupyter-widgets/controls",
      "model_module_version": "1.5.0",
      "model_name": "FloatProgressModel",
      "state": {
       "bar_style": "success",
       "layout": "IPY_MODEL_5936b7a8948e433388b8fe338d5c2593",
       "max": 1000,
       "style": "IPY_MODEL_19c794a986c7417b8eb6592a8e976eb2",
       "value": 1000
      }
     },
     "6387617673b14a5f8474f16373a33a6a": {
      "model_module": "@jupyter-widgets/controls",
      "model_module_version": "1.5.0",
      "model_name": "FloatProgressModel",
      "state": {
       "bar_style": "danger",
       "layout": "IPY_MODEL_8972c33b74ab4d9088abb54e9eefbcab",
       "max": 1107542,
       "style": "IPY_MODEL_07f615e3595c4f48b4436da31d6ce680",
       "value": 298
      }
     },
     "63a7f31eec00492f8acaf6a57eaadeab": {
      "model_module": "@jupyter-widgets/controls",
      "model_module_version": "1.5.0",
      "model_name": "HTMLModel",
      "state": {
       "layout": "IPY_MODEL_c4dc6ff087a94fbba34069d9c262ea6b",
       "style": "IPY_MODEL_b58a4e555ea64a3ca5c38d071ab5362e",
       "value": " 298/1107542 [00:06&lt;7:40:49, 40.05it/s]"
      }
     },
     "648fa5b2cd354e07a33bd3d0d01c3bfa": {
      "model_module": "@jupyter-widgets/controls",
      "model_module_version": "1.5.0",
      "model_name": "HTMLModel",
      "state": {
       "layout": "IPY_MODEL_14d3ebbee68c4f87882f4150d2da9730",
       "style": "IPY_MODEL_a4508b228c6a423584eda5c8985e44d7",
       "value": "100%"
      }
     },
     "64bfb86d57b946f98f08bdd26557d22e": {
      "model_module": "@jupyter-widgets/controls",
      "model_module_version": "1.5.0",
      "model_name": "HTMLModel",
      "state": {
       "layout": "IPY_MODEL_009630821dd54178b76cecdd37481d08",
       "style": "IPY_MODEL_87f40fc77f5d4b6aa8449b4007270e37",
       "value": " 73/1107542 [00:02&lt;9:10:45, 33.51it/s]"
      }
     },
     "6791d6ae68fe4f03b449331a2023d489": {
      "model_module": "@jupyter-widgets/controls",
      "model_module_version": "1.5.0",
      "model_name": "HTMLModel",
      "state": {
       "layout": "IPY_MODEL_0e4ba171ff5e440ea0854aa008f0fe8a",
       "style": "IPY_MODEL_55e950e8d24943a582488fc1855e80e2",
       "value": "  0%"
      }
     },
     "6b8500379b6b4ddda098fc329c9ef0c2": {
      "model_module": "@jupyter-widgets/base",
      "model_module_version": "1.2.0",
      "model_name": "LayoutModel",
      "state": {}
     },
     "6bcee99778934d9a981944df9b2335f7": {
      "model_module": "@jupyter-widgets/controls",
      "model_module_version": "1.5.0",
      "model_name": "HBoxModel",
      "state": {
       "children": [
        "IPY_MODEL_55b4781727364aa089d28526ed142170",
        "IPY_MODEL_fb97889a8955469a9d6914e0a2bcf60d",
        "IPY_MODEL_a69c995bed8044d8940c7c5b5f7f45b3"
       ],
       "layout": "IPY_MODEL_31ce1c8025664fa3b467f9c35bcb94e3"
      }
     },
     "6da63c41b8c84708b0ebb302f5243b75": {
      "model_module": "@jupyter-widgets/base",
      "model_module_version": "1.2.0",
      "model_name": "LayoutModel",
      "state": {}
     },
     "6f49bec875e0433eb83033f949686ec3": {
      "model_module": "@jupyter-widgets/controls",
      "model_module_version": "1.5.0",
      "model_name": "HTMLModel",
      "state": {
       "layout": "IPY_MODEL_458235eff8904f129fd829264ca46726",
       "style": "IPY_MODEL_450abbd13ce7498daa6027cdaf97f51c",
       "value": "  0%"
      }
     },
     "70fccc6089e342039d6bec6ea5d2da0a": {
      "model_module": "@jupyter-widgets/controls",
      "model_module_version": "1.5.0",
      "model_name": "HBoxModel",
      "state": {
       "children": [
        "IPY_MODEL_e92e0f4a1ce64670a3608af88fa87cd2",
        "IPY_MODEL_28928cea37604bfe991ca596d16bae13",
        "IPY_MODEL_990e2de292544f03ab533f51471ad2e9"
       ],
       "layout": "IPY_MODEL_eba6ec81bbae4b64af64b36287e35572"
      }
     },
     "7477fe75a8f0437d9582f227d92c008a": {
      "model_module": "@jupyter-widgets/controls",
      "model_module_version": "1.5.0",
      "model_name": "HTMLModel",
      "state": {
       "layout": "IPY_MODEL_c8054de74e304cdfb3a4074ee53ab354",
       "style": "IPY_MODEL_99e2dd0155ff4471a51930df60e6fbc4",
       "value": " 522/1107542 [00:14&lt;9:51:16, 31.20it/s]"
      }
     },
     "755c1a587d33474fa4ffbb0f918ccee7": {
      "model_module": "@jupyter-widgets/controls",
      "model_module_version": "1.5.0",
      "model_name": "ProgressStyleModel",
      "state": {
       "description_width": ""
      }
     },
     "75be16b51d914e2fbd1f8c12a4fa8ca8": {
      "model_module": "@jupyter-widgets/controls",
      "model_module_version": "1.5.0",
      "model_name": "ProgressStyleModel",
      "state": {
       "description_width": ""
      }
     },
     "7664ea11593643fd9765df0082261068": {
      "model_module": "@jupyter-widgets/base",
      "model_module_version": "1.2.0",
      "model_name": "LayoutModel",
      "state": {}
     },
     "768f4c7998d44fed8075757f0324f30b": {
      "model_module": "@jupyter-widgets/base",
      "model_module_version": "1.2.0",
      "model_name": "LayoutModel",
      "state": {}
     },
     "7727b4adcf334988847adbfab78c4497": {
      "model_module": "@jupyter-widgets/base",
      "model_module_version": "1.2.0",
      "model_name": "LayoutModel",
      "state": {}
     },
     "779952966fff41eebbe61c03bc6b3770": {
      "model_module": "@jupyter-widgets/controls",
      "model_module_version": "1.5.0",
      "model_name": "HTMLModel",
      "state": {
       "layout": "IPY_MODEL_ede31c75544b434999712fc06aa303d0",
       "style": "IPY_MODEL_82cd3db0b92e4bad8cfed7203e11c055",
       "value": " 1000/1000 [00:00&lt;00:00, 6304.73it/s]"
      }
     },
     "77c219b452bb4a5da4e1b37ac524b0c8": {
      "model_module": "@jupyter-widgets/base",
      "model_module_version": "1.2.0",
      "model_name": "LayoutModel",
      "state": {}
     },
     "78d8af35616d4e32a176ad5b9aceb9f1": {
      "model_module": "@jupyter-widgets/base",
      "model_module_version": "1.2.0",
      "model_name": "LayoutModel",
      "state": {}
     },
     "79aa390362b942dcbedf92c65373f169": {
      "model_module": "@jupyter-widgets/base",
      "model_module_version": "1.2.0",
      "model_name": "LayoutModel",
      "state": {}
     },
     "7a5e7933e7844d2e8cbc6d05af81e2cf": {
      "model_module": "@jupyter-widgets/controls",
      "model_module_version": "1.5.0",
      "model_name": "ProgressStyleModel",
      "state": {
       "description_width": ""
      }
     },
     "7beec1db2c3847e1bba44b775a041dd1": {
      "model_module": "@jupyter-widgets/base",
      "model_module_version": "1.2.0",
      "model_name": "LayoutModel",
      "state": {}
     },
     "7d6dbec7ee3f45c1aed272e6e6f846b4": {
      "model_module": "@jupyter-widgets/controls",
      "model_module_version": "1.5.0",
      "model_name": "DescriptionStyleModel",
      "state": {
       "description_width": ""
      }
     },
     "7dc9d56d27e84847bd04c71f84d15ef7": {
      "model_module": "@jupyter-widgets/controls",
      "model_module_version": "1.5.0",
      "model_name": "HBoxModel",
      "state": {
       "children": [
        "IPY_MODEL_eb84a69b165c40a69ae4dd8861310df5",
        "IPY_MODEL_a4c681245a1a4347a468a10329273f2d",
        "IPY_MODEL_221d01a16d8b4bfb9a3abd79f5ff59cc"
       ],
       "layout": "IPY_MODEL_ac7f46cc4a714ea2810834736444e13a"
      }
     },
     "7dd9fb7b7bed4fbfaf470a89aababf01": {
      "model_module": "@jupyter-widgets/base",
      "model_module_version": "1.2.0",
      "model_name": "LayoutModel",
      "state": {}
     },
     "7f4e25f8318b4d27bf186d0673b4f5df": {
      "model_module": "@jupyter-widgets/controls",
      "model_module_version": "1.5.0",
      "model_name": "HBoxModel",
      "state": {
       "children": [
        "IPY_MODEL_8b496b203ddf4891b5c9635339408acd",
        "IPY_MODEL_5c1fd504302840fda83f16e0e49fada2",
        "IPY_MODEL_f4cef62381e14b99b14c273be6875cc0"
       ],
       "layout": "IPY_MODEL_0168d5f3f85a42cc8ef8950c556d02aa"
      }
     },
     "80527bdbd7624108a50dcddc90019e48": {
      "model_module": "@jupyter-widgets/base",
      "model_module_version": "1.2.0",
      "model_name": "LayoutModel",
      "state": {}
     },
     "81deeb7a9873412ba77ea17d9f328e33": {
      "model_module": "@jupyter-widgets/controls",
      "model_module_version": "1.5.0",
      "model_name": "HTMLModel",
      "state": {
       "layout": "IPY_MODEL_614dd142bfe34d789648db2d7aabeac5",
       "style": "IPY_MODEL_e827db97a21f4034a895ea7b579c2f9d",
       "value": " 1000/1000 [00:00&lt;00:00, 2408.38it/s]"
      }
     },
     "82cd3db0b92e4bad8cfed7203e11c055": {
      "model_module": "@jupyter-widgets/controls",
      "model_module_version": "1.5.0",
      "model_name": "DescriptionStyleModel",
      "state": {
       "description_width": ""
      }
     },
     "84cb8a306d0641d3aecdc4cd6a8f95fa": {
      "model_module": "@jupyter-widgets/base",
      "model_module_version": "1.2.0",
      "model_name": "LayoutModel",
      "state": {}
     },
     "865593ef542a45b9a415e21d9569c742": {
      "model_module": "@jupyter-widgets/controls",
      "model_module_version": "1.5.0",
      "model_name": "DescriptionStyleModel",
      "state": {
       "description_width": ""
      }
     },
     "8733f2acd8ab4de999a28f8ba9b71d85": {
      "model_module": "@jupyter-widgets/base",
      "model_module_version": "1.2.0",
      "model_name": "LayoutModel",
      "state": {}
     },
     "87f40fc77f5d4b6aa8449b4007270e37": {
      "model_module": "@jupyter-widgets/controls",
      "model_module_version": "1.5.0",
      "model_name": "DescriptionStyleModel",
      "state": {
       "description_width": ""
      }
     },
     "8861ec3d661740e6b399455838d49eb0": {
      "model_module": "@jupyter-widgets/controls",
      "model_module_version": "1.5.0",
      "model_name": "HTMLModel",
      "state": {
       "layout": "IPY_MODEL_037ba26d083a413291dc515257ca00f2",
       "style": "IPY_MODEL_b9c3ea3c89b549ada2e24f5b9ae8a1ab",
       "value": "100%"
      }
     },
     "8972c33b74ab4d9088abb54e9eefbcab": {
      "model_module": "@jupyter-widgets/base",
      "model_module_version": "1.2.0",
      "model_name": "LayoutModel",
      "state": {}
     },
     "89b7be905ba544599f99643a9a1ae908": {
      "model_module": "@jupyter-widgets/controls",
      "model_module_version": "1.5.0",
      "model_name": "DescriptionStyleModel",
      "state": {
       "description_width": ""
      }
     },
     "8a0c4eebb1e048b1ab393c117a09dabc": {
      "model_module": "@jupyter-widgets/controls",
      "model_module_version": "1.5.0",
      "model_name": "DescriptionStyleModel",
      "state": {
       "description_width": ""
      }
     },
     "8a676d6200554d0c9b6406a57c069322": {
      "model_module": "@jupyter-widgets/base",
      "model_module_version": "1.2.0",
      "model_name": "LayoutModel",
      "state": {}
     },
     "8ac7d2f43c9644c8be6a30d0d2b3ded0": {
      "model_module": "@jupyter-widgets/controls",
      "model_module_version": "1.5.0",
      "model_name": "DescriptionStyleModel",
      "state": {
       "description_width": ""
      }
     },
     "8b496b203ddf4891b5c9635339408acd": {
      "model_module": "@jupyter-widgets/controls",
      "model_module_version": "1.5.0",
      "model_name": "HTMLModel",
      "state": {
       "layout": "IPY_MODEL_99e5af0e182a4314bf797957757f1a4b",
       "style": "IPY_MODEL_bd27dd82872f486c94ae9a6fdfa6a8c9",
       "value": "  0%"
      }
     },
     "8df1530cc973457393d287ad61e8794a": {
      "model_module": "@jupyter-widgets/controls",
      "model_module_version": "1.5.0",
      "model_name": "FloatProgressModel",
      "state": {
       "bar_style": "danger",
       "layout": "IPY_MODEL_e6e70607c9f646f688ed871ecddab5f7",
       "max": 1107542,
       "style": "IPY_MODEL_bf8bd02154444997b44912161477abfd",
       "value": 73
      }
     },
     "8e18b6e29fcf466184121608edb5ba1c": {
      "model_module": "@jupyter-widgets/controls",
      "model_module_version": "1.5.0",
      "model_name": "HTMLModel",
      "state": {
       "layout": "IPY_MODEL_bb856f109cfb4c69921312d225d23a50",
       "style": "IPY_MODEL_cb0556fdf52844cfad977b91b311e0ef",
       "value": "  0%"
      }
     },
     "8e2116691ebf45aeaa0e506e627fcd4d": {
      "model_module": "@jupyter-widgets/controls",
      "model_module_version": "1.5.0",
      "model_name": "HBoxModel",
      "state": {
       "children": [
        "IPY_MODEL_1f545e2fa68c4e9b96e24f5d8952a49c",
        "IPY_MODEL_40bc82651d5b4baaa449f966d426bc1a",
        "IPY_MODEL_3d89e52189bd402daa481c8594dbaadb"
       ],
       "layout": "IPY_MODEL_d89bcf1aa1a440899e56f83bd9745516"
      }
     },
     "8f86db59356f4f96b342fdbe4c5a71de": {
      "model_module": "@jupyter-widgets/base",
      "model_module_version": "1.2.0",
      "model_name": "LayoutModel",
      "state": {}
     },
     "9072cda0791e403cb37d07f20b205003": {
      "model_module": "@jupyter-widgets/controls",
      "model_module_version": "1.5.0",
      "model_name": "DescriptionStyleModel",
      "state": {
       "description_width": ""
      }
     },
     "9347c0b0efce476e96d96765731cee6c": {
      "model_module": "@jupyter-widgets/controls",
      "model_module_version": "1.5.0",
      "model_name": "ProgressStyleModel",
      "state": {
       "description_width": ""
      }
     },
     "93ceeb684ab14d43a34d08d98a223abb": {
      "model_module": "@jupyter-widgets/base",
      "model_module_version": "1.2.0",
      "model_name": "LayoutModel",
      "state": {}
     },
     "95ab3f2ac52a4adfbee8c4c9e77952d2": {
      "model_module": "@jupyter-widgets/base",
      "model_module_version": "1.2.0",
      "model_name": "LayoutModel",
      "state": {}
     },
     "95b80c05be39466083ea8fa56636eb07": {
      "model_module": "@jupyter-widgets/base",
      "model_module_version": "1.2.0",
      "model_name": "LayoutModel",
      "state": {}
     },
     "9623a5f541364c78952131fea7865d46": {
      "model_module": "@jupyter-widgets/base",
      "model_module_version": "1.2.0",
      "model_name": "LayoutModel",
      "state": {}
     },
     "97f4833dec1144fbb3a4541c0c1193fb": {
      "model_module": "@jupyter-widgets/controls",
      "model_module_version": "1.5.0",
      "model_name": "ProgressStyleModel",
      "state": {
       "description_width": ""
      }
     },
     "98b6b6bcf5e94cc3ad802a74ebbe3e8f": {
      "model_module": "@jupyter-widgets/controls",
      "model_module_version": "1.5.0",
      "model_name": "HTMLModel",
      "state": {
       "layout": "IPY_MODEL_77c219b452bb4a5da4e1b37ac524b0c8",
       "style": "IPY_MODEL_41b869c88eac4e07b43e6129e08eaf0f",
       "value": " 1000/1000 [00:00&lt;00:00, 2426.93it/s]"
      }
     },
     "990e2de292544f03ab533f51471ad2e9": {
      "model_module": "@jupyter-widgets/controls",
      "model_module_version": "1.5.0",
      "model_name": "HTMLModel",
      "state": {
       "layout": "IPY_MODEL_2d2aa22c2353425d91067d838b2511e8",
       "style": "IPY_MODEL_fd7e5ff338a049edbd02e11874416fc5",
       "value": " 631/1107542 [00:14&lt;7:05:11, 43.39it/s]"
      }
     },
     "99e2dd0155ff4471a51930df60e6fbc4": {
      "model_module": "@jupyter-widgets/controls",
      "model_module_version": "1.5.0",
      "model_name": "DescriptionStyleModel",
      "state": {
       "description_width": ""
      }
     },
     "99e5af0e182a4314bf797957757f1a4b": {
      "model_module": "@jupyter-widgets/base",
      "model_module_version": "1.2.0",
      "model_name": "LayoutModel",
      "state": {}
     },
     "9b5e4fdad92944b2a218db92e7571390": {
      "model_module": "@jupyter-widgets/controls",
      "model_module_version": "1.5.0",
      "model_name": "HBoxModel",
      "state": {
       "children": [
        "IPY_MODEL_0a1acdb2009a49b7abb5ac4a15aae330",
        "IPY_MODEL_f64df0dde24c4c2fbd1130e35973cf3f",
        "IPY_MODEL_81deeb7a9873412ba77ea17d9f328e33"
       ],
       "layout": "IPY_MODEL_7dd9fb7b7bed4fbfaf470a89aababf01"
      }
     },
     "9c64cd725ad54dda9e3988766b1f7c98": {
      "model_module": "@jupyter-widgets/controls",
      "model_module_version": "1.5.0",
      "model_name": "DescriptionStyleModel",
      "state": {
       "description_width": ""
      }
     },
     "9c6b0d95b7e946f181b372f1d0008582": {
      "model_module": "@jupyter-widgets/controls",
      "model_module_version": "1.5.0",
      "model_name": "DescriptionStyleModel",
      "state": {
       "description_width": ""
      }
     },
     "9dff50e8be1b4bdfb3df162d14cd7c8b": {
      "model_module": "@jupyter-widgets/controls",
      "model_module_version": "1.5.0",
      "model_name": "DescriptionStyleModel",
      "state": {
       "description_width": ""
      }
     },
     "9ee35526ff8d47638d4201cd1bf9fe9a": {
      "model_module": "@jupyter-widgets/base",
      "model_module_version": "1.2.0",
      "model_name": "LayoutModel",
      "state": {}
     },
     "9fdca6a5494d43ed8ea18781bb4508b1": {
      "model_module": "@jupyter-widgets/controls",
      "model_module_version": "1.5.0",
      "model_name": "ProgressStyleModel",
      "state": {
       "description_width": ""
      }
     },
     "a4508b228c6a423584eda5c8985e44d7": {
      "model_module": "@jupyter-widgets/controls",
      "model_module_version": "1.5.0",
      "model_name": "DescriptionStyleModel",
      "state": {
       "description_width": ""
      }
     },
     "a4c681245a1a4347a468a10329273f2d": {
      "model_module": "@jupyter-widgets/controls",
      "model_module_version": "1.5.0",
      "model_name": "FloatProgressModel",
      "state": {
       "bar_style": "success",
       "layout": "IPY_MODEL_1a84aa16d12d49bb808b5f64234da88a",
       "max": 1000,
       "style": "IPY_MODEL_755c1a587d33474fa4ffbb0f918ccee7",
       "value": 1000
      }
     },
     "a5eb8a1c0f0849a699a3b313938897d9": {
      "model_module": "@jupyter-widgets/base",
      "model_module_version": "1.2.0",
      "model_name": "LayoutModel",
      "state": {}
     },
     "a69c995bed8044d8940c7c5b5f7f45b3": {
      "model_module": "@jupyter-widgets/controls",
      "model_module_version": "1.5.0",
      "model_name": "HTMLModel",
      "state": {
       "layout": "IPY_MODEL_8733f2acd8ab4de999a28f8ba9b71d85",
       "style": "IPY_MODEL_45bea1bf39184bc484632162142a6d53",
       "value": " 0/1107542 [00:00&lt;?, ?it/s]"
      }
     },
     "a829578bea0b423c8e41ebc9e23bcc7b": {
      "model_module": "@jupyter-widgets/controls",
      "model_module_version": "1.5.0",
      "model_name": "FloatProgressModel",
      "state": {
       "bar_style": "danger",
       "layout": "IPY_MODEL_6da63c41b8c84708b0ebb302f5243b75",
       "max": 1107542,
       "style": "IPY_MODEL_433b05e4904a4198a2c9fd792f933c3e",
       "value": 522
      }
     },
     "a8acda5fed5e47f48dcf9f05a4e85ff3": {
      "model_module": "@jupyter-widgets/controls",
      "model_module_version": "1.5.0",
      "model_name": "HBoxModel",
      "state": {
       "children": [
        "IPY_MODEL_8861ec3d661740e6b399455838d49eb0",
        "IPY_MODEL_63364bca7ed942798ed108ef67addad7",
        "IPY_MODEL_41d5af8376d841eb8fcf597217f861a5"
       ],
       "layout": "IPY_MODEL_f90756670492404d841b9c5aacc16dc2"
      }
     },
     "a9268a50f30d4c5c8ddde694b59c3e67": {
      "model_module": "@jupyter-widgets/controls",
      "model_module_version": "1.5.0",
      "model_name": "HTMLModel",
      "state": {
       "layout": "IPY_MODEL_d13f12ad7efc4761b0a2ae8871377bc7",
       "style": "IPY_MODEL_4dff4585c033464ba491d48680d32398",
       "value": "100%"
      }
     },
     "a934fb27657e40a3944b3ec56d24013e": {
      "model_module": "@jupyter-widgets/base",
      "model_module_version": "1.2.0",
      "model_name": "LayoutModel",
      "state": {}
     },
     "aa81c80c34e9420fb182cb197c19f193": {
      "model_module": "@jupyter-widgets/controls",
      "model_module_version": "1.5.0",
      "model_name": "FloatProgressModel",
      "state": {
       "bar_style": "danger",
       "layout": "IPY_MODEL_e7aee0e48838476eb7ff2ce452df8839",
       "max": 1107542,
       "style": "IPY_MODEL_ccaf24def367460a804fb622ea6ef391",
       "value": 30
      }
     },
     "ac407c448b484ac39add943248fb9c24": {
      "model_module": "@jupyter-widgets/controls",
      "model_module_version": "1.5.0",
      "model_name": "DescriptionStyleModel",
      "state": {
       "description_width": ""
      }
     },
     "ac7f46cc4a714ea2810834736444e13a": {
      "model_module": "@jupyter-widgets/base",
      "model_module_version": "1.2.0",
      "model_name": "LayoutModel",
      "state": {}
     },
     "b228c4ea79094578ae12ab8675eba98f": {
      "model_module": "@jupyter-widgets/controls",
      "model_module_version": "1.5.0",
      "model_name": "HTMLModel",
      "state": {
       "layout": "IPY_MODEL_ca12381225004700b41a76f6abd3c269",
       "style": "IPY_MODEL_c5639b6dfc464f0a90368bdaf114bc6b",
       "value": " 573/1107542 [00:14&lt;8:30:27, 36.14it/s]"
      }
     },
     "b2d0d68d7544447da6658615c04aacd0": {
      "model_module": "@jupyter-widgets/base",
      "model_module_version": "1.2.0",
      "model_name": "LayoutModel",
      "state": {}
     },
     "b317b2051c5b4e0483af9ba9b8d28dd1": {
      "model_module": "@jupyter-widgets/controls",
      "model_module_version": "1.5.0",
      "model_name": "HBoxModel",
      "state": {
       "children": [
        "IPY_MODEL_6f49bec875e0433eb83033f949686ec3",
        "IPY_MODEL_a829578bea0b423c8e41ebc9e23bcc7b",
        "IPY_MODEL_7477fe75a8f0437d9582f227d92c008a"
       ],
       "layout": "IPY_MODEL_a934fb27657e40a3944b3ec56d24013e"
      }
     },
     "b3d214af227b48099190265d36dc0f3a": {
      "model_module": "@jupyter-widgets/controls",
      "model_module_version": "1.5.0",
      "model_name": "HBoxModel",
      "state": {
       "children": [
        "IPY_MODEL_07446e0b392d490cb057ed75a5453743",
        "IPY_MODEL_2ec87435b3dc48e985dc7a0a6ef8ee1f",
        "IPY_MODEL_98b6b6bcf5e94cc3ad802a74ebbe3e8f"
       ],
       "layout": "IPY_MODEL_51616dadbae8455cab9541c2da1631b0"
      }
     },
     "b479b2f8181e4f4faaea99c6bb02fefa": {
      "model_module": "@jupyter-widgets/base",
      "model_module_version": "1.2.0",
      "model_name": "LayoutModel",
      "state": {}
     },
     "b4c134a052554c4b9d6d766cc91461e9": {
      "model_module": "@jupyter-widgets/base",
      "model_module_version": "1.2.0",
      "model_name": "LayoutModel",
      "state": {}
     },
     "b4d1a8b9869a4c088799382a3a39c1e2": {
      "model_module": "@jupyter-widgets/controls",
      "model_module_version": "1.5.0",
      "model_name": "DescriptionStyleModel",
      "state": {
       "description_width": ""
      }
     },
     "b58a4e555ea64a3ca5c38d071ab5362e": {
      "model_module": "@jupyter-widgets/controls",
      "model_module_version": "1.5.0",
      "model_name": "DescriptionStyleModel",
      "state": {
       "description_width": ""
      }
     },
     "b73d3e08240745d2a1e8f28d35367f52": {
      "model_module": "@jupyter-widgets/base",
      "model_module_version": "1.2.0",
      "model_name": "LayoutModel",
      "state": {}
     },
     "b7bfd6fb123e49e5bce7aa4bedc3f7c5": {
      "model_module": "@jupyter-widgets/controls",
      "model_module_version": "1.5.0",
      "model_name": "HTMLModel",
      "state": {
       "layout": "IPY_MODEL_dc94a730b92a496294558fb81f502b45",
       "style": "IPY_MODEL_dfca59a6f0a94fc9b2bb5a2833578d94",
       "value": " 30/1107542 [00:03&lt;27:38:31, 11.13it/s]"
      }
     },
     "b8a05e9b07fc4467852faeb9caa15870": {
      "model_module": "@jupyter-widgets/controls",
      "model_module_version": "1.5.0",
      "model_name": "ProgressStyleModel",
      "state": {
       "description_width": ""
      }
     },
     "b8cbbd0069504bf797b8f79fb2e28d3f": {
      "model_module": "@jupyter-widgets/base",
      "model_module_version": "1.2.0",
      "model_name": "LayoutModel",
      "state": {}
     },
     "b9c3ea3c89b549ada2e24f5b9ae8a1ab": {
      "model_module": "@jupyter-widgets/controls",
      "model_module_version": "1.5.0",
      "model_name": "DescriptionStyleModel",
      "state": {
       "description_width": ""
      }
     },
     "b9ed41b2571d40e78fbf31d7dca1aaf0": {
      "model_module": "@jupyter-widgets/base",
      "model_module_version": "1.2.0",
      "model_name": "LayoutModel",
      "state": {}
     },
     "ba21a0c7fe124670ab1e34d85e117d16": {
      "model_module": "@jupyter-widgets/base",
      "model_module_version": "1.2.0",
      "model_name": "LayoutModel",
      "state": {}
     },
     "babae7d92e944885a739ec1c953d8e90": {
      "model_module": "@jupyter-widgets/controls",
      "model_module_version": "1.5.0",
      "model_name": "FloatProgressModel",
      "state": {
       "bar_style": "success",
       "layout": "IPY_MODEL_59e5563c56744b978d19ba6e4c0f918a",
       "max": 1000,
       "style": "IPY_MODEL_9fdca6a5494d43ed8ea18781bb4508b1",
       "value": 1000
      }
     },
     "bb856f109cfb4c69921312d225d23a50": {
      "model_module": "@jupyter-widgets/base",
      "model_module_version": "1.2.0",
      "model_name": "LayoutModel",
      "state": {}
     },
     "bbfd80a33b6d4c308e1840b9df6df0b5": {
      "model_module": "@jupyter-widgets/base",
      "model_module_version": "1.2.0",
      "model_name": "LayoutModel",
      "state": {}
     },
     "bd27dd82872f486c94ae9a6fdfa6a8c9": {
      "model_module": "@jupyter-widgets/controls",
      "model_module_version": "1.5.0",
      "model_name": "DescriptionStyleModel",
      "state": {
       "description_width": ""
      }
     },
     "be973cbfe5ee4c9ba668374a1f8a7fa5": {
      "model_module": "@jupyter-widgets/controls",
      "model_module_version": "1.5.0",
      "model_name": "DescriptionStyleModel",
      "state": {
       "description_width": ""
      }
     },
     "bf8bd02154444997b44912161477abfd": {
      "model_module": "@jupyter-widgets/controls",
      "model_module_version": "1.5.0",
      "model_name": "ProgressStyleModel",
      "state": {
       "description_width": ""
      }
     },
     "c08ef2b1947b4753a9c9a16985d888fa": {
      "model_module": "@jupyter-widgets/controls",
      "model_module_version": "1.5.0",
      "model_name": "FloatProgressModel",
      "state": {
       "bar_style": "success",
       "layout": "IPY_MODEL_7beec1db2c3847e1bba44b775a041dd1",
       "max": 1000,
       "style": "IPY_MODEL_c15b3f6d7f344e31a7d9495b864336b6",
       "value": 1000
      }
     },
     "c15b3f6d7f344e31a7d9495b864336b6": {
      "model_module": "@jupyter-widgets/controls",
      "model_module_version": "1.5.0",
      "model_name": "ProgressStyleModel",
      "state": {
       "description_width": ""
      }
     },
     "c4dc6ff087a94fbba34069d9c262ea6b": {
      "model_module": "@jupyter-widgets/base",
      "model_module_version": "1.2.0",
      "model_name": "LayoutModel",
      "state": {}
     },
     "c5639b6dfc464f0a90368bdaf114bc6b": {
      "model_module": "@jupyter-widgets/controls",
      "model_module_version": "1.5.0",
      "model_name": "DescriptionStyleModel",
      "state": {
       "description_width": ""
      }
     },
     "c5ec33ea38d345a8b525ff0c49774835": {
      "model_module": "@jupyter-widgets/base",
      "model_module_version": "1.2.0",
      "model_name": "LayoutModel",
      "state": {}
     },
     "c8054de74e304cdfb3a4074ee53ab354": {
      "model_module": "@jupyter-widgets/base",
      "model_module_version": "1.2.0",
      "model_name": "LayoutModel",
      "state": {}
     },
     "c956f4fae9b1410f99a6af6eb7df22db": {
      "model_module": "@jupyter-widgets/controls",
      "model_module_version": "1.5.0",
      "model_name": "DescriptionStyleModel",
      "state": {
       "description_width": ""
      }
     },
     "ca12381225004700b41a76f6abd3c269": {
      "model_module": "@jupyter-widgets/base",
      "model_module_version": "1.2.0",
      "model_name": "LayoutModel",
      "state": {}
     },
     "ca82e2a433014f48a39a0367850a40f9": {
      "model_module": "@jupyter-widgets/controls",
      "model_module_version": "1.5.0",
      "model_name": "HBoxModel",
      "state": {
       "children": [
        "IPY_MODEL_a9268a50f30d4c5c8ddde694b59c3e67",
        "IPY_MODEL_3075ad8adea04071b7615c800fecd9d6",
        "IPY_MODEL_1c3143b7fb21455099c9a2ceaf9d8b21"
       ],
       "layout": "IPY_MODEL_5be31d0b6fa44baba2aa347c414ac6a6"
      }
     },
     "cb0556fdf52844cfad977b91b311e0ef": {
      "model_module": "@jupyter-widgets/controls",
      "model_module_version": "1.5.0",
      "model_name": "DescriptionStyleModel",
      "state": {
       "description_width": ""
      }
     },
     "cc10bab07976474a8c546c2c931379bc": {
      "model_module": "@jupyter-widgets/base",
      "model_module_version": "1.2.0",
      "model_name": "LayoutModel",
      "state": {}
     },
     "cc4e18fe19f2435eabdc61cc2fa9aa69": {
      "model_module": "@jupyter-widgets/controls",
      "model_module_version": "1.5.0",
      "model_name": "HBoxModel",
      "state": {
       "children": [
        "IPY_MODEL_0ec8d14dce534ba69bdd735b5281cd76",
        "IPY_MODEL_289adfaddd06458e9403a9ca0ccdef16",
        "IPY_MODEL_fb601fda9cec44db9d27390e98402258"
       ],
       "layout": "IPY_MODEL_5ee513aeb1544178aefe4979bf198b5e"
      }
     },
     "ccaf24def367460a804fb622ea6ef391": {
      "model_module": "@jupyter-widgets/controls",
      "model_module_version": "1.5.0",
      "model_name": "ProgressStyleModel",
      "state": {
       "description_width": ""
      }
     },
     "d077ade9b7394638b7598afca51b36cc": {
      "model_module": "@jupyter-widgets/controls",
      "model_module_version": "1.5.0",
      "model_name": "HBoxModel",
      "state": {
       "children": [
        "IPY_MODEL_6791d6ae68fe4f03b449331a2023d489",
        "IPY_MODEL_f998fc8672f849138a10005e80f163ff",
        "IPY_MODEL_b228c4ea79094578ae12ab8675eba98f"
       ],
       "layout": "IPY_MODEL_df453a343b5f4ec6bbe447009be62d3b"
      }
     },
     "d08abbaf08b94db2ab4037dc62eb5a1b": {
      "model_module": "@jupyter-widgets/controls",
      "model_module_version": "1.5.0",
      "model_name": "DescriptionStyleModel",
      "state": {
       "description_width": ""
      }
     },
     "d13f12ad7efc4761b0a2ae8871377bc7": {
      "model_module": "@jupyter-widgets/base",
      "model_module_version": "1.2.0",
      "model_name": "LayoutModel",
      "state": {}
     },
     "d178967e64044336bee251783b0707f5": {
      "model_module": "@jupyter-widgets/base",
      "model_module_version": "1.2.0",
      "model_name": "LayoutModel",
      "state": {}
     },
     "d22c95a304a646ac89ae4010a5648cc1": {
      "model_module": "@jupyter-widgets/controls",
      "model_module_version": "1.5.0",
      "model_name": "DescriptionStyleModel",
      "state": {
       "description_width": ""
      }
     },
     "d344fd8f6f2f4e62bbc8f6ad09023c55": {
      "model_module": "@jupyter-widgets/base",
      "model_module_version": "1.2.0",
      "model_name": "LayoutModel",
      "state": {}
     },
     "d3644f66506b40c5a9729e44d7930459": {
      "model_module": "@jupyter-widgets/controls",
      "model_module_version": "1.5.0",
      "model_name": "HBoxModel",
      "state": {
       "children": [
        "IPY_MODEL_f9c7f12f78db408da612e78e31d5e38e",
        "IPY_MODEL_5bc112a3cf4c4c9db4cf87222f49cefa",
        "IPY_MODEL_33f3f9edfe55430b816812ff5a6a291c"
       ],
       "layout": "IPY_MODEL_95b80c05be39466083ea8fa56636eb07"
      }
     },
     "d44016f5059e404b9bc46e03dd30cae3": {
      "model_module": "@jupyter-widgets/base",
      "model_module_version": "1.2.0",
      "model_name": "LayoutModel",
      "state": {}
     },
     "d89bcf1aa1a440899e56f83bd9745516": {
      "model_module": "@jupyter-widgets/base",
      "model_module_version": "1.2.0",
      "model_name": "LayoutModel",
      "state": {}
     },
     "d956d00a8b2f48c7b1fef04068fff727": {
      "model_module": "@jupyter-widgets/controls",
      "model_module_version": "1.5.0",
      "model_name": "HTMLModel",
      "state": {
       "layout": "IPY_MODEL_bbfd80a33b6d4c308e1840b9df6df0b5",
       "style": "IPY_MODEL_be973cbfe5ee4c9ba668374a1f8a7fa5",
       "value": " 1000/1000 [00:00&lt;00:00, 4989.36it/s]"
      }
     },
     "da8838d80ee84b5abf900f3e2dd16342": {
      "model_module": "@jupyter-widgets/controls",
      "model_module_version": "1.5.0",
      "model_name": "DescriptionStyleModel",
      "state": {
       "description_width": ""
      }
     },
     "dae29a9a7c7b4dc0a4981f28c18aedcb": {
      "model_module": "@jupyter-widgets/controls",
      "model_module_version": "1.5.0",
      "model_name": "DescriptionStyleModel",
      "state": {
       "description_width": ""
      }
     },
     "db1fba62e88f4186b83821911e928408": {
      "model_module": "@jupyter-widgets/controls",
      "model_module_version": "1.5.0",
      "model_name": "HBoxModel",
      "state": {
       "children": [
        "IPY_MODEL_8e18b6e29fcf466184121608edb5ba1c",
        "IPY_MODEL_4647f62c8db948d59089074c2b2fb40b",
        "IPY_MODEL_4b1a624320034ac99c13438ae46094d6"
       ],
       "layout": "IPY_MODEL_07a26d32708b4b2aa3ce5facb4648882"
      }
     },
     "dc94a730b92a496294558fb81f502b45": {
      "model_module": "@jupyter-widgets/base",
      "model_module_version": "1.2.0",
      "model_name": "LayoutModel",
      "state": {}
     },
     "df453a343b5f4ec6bbe447009be62d3b": {
      "model_module": "@jupyter-widgets/base",
      "model_module_version": "1.2.0",
      "model_name": "LayoutModel",
      "state": {}
     },
     "df4d36023cbf40f0b4887aea3d55ac10": {
      "model_module": "@jupyter-widgets/controls",
      "model_module_version": "1.5.0",
      "model_name": "HTMLModel",
      "state": {
       "layout": "IPY_MODEL_7727b4adcf334988847adbfab78c4497",
       "style": "IPY_MODEL_fe3135738ab149ce95f00d3d722c9e36",
       "value": "  0%"
      }
     },
     "dfca59a6f0a94fc9b2bb5a2833578d94": {
      "model_module": "@jupyter-widgets/controls",
      "model_module_version": "1.5.0",
      "model_name": "DescriptionStyleModel",
      "state": {
       "description_width": ""
      }
     },
     "e183ca81d7714e9fb5fe30ac71205179": {
      "model_module": "@jupyter-widgets/base",
      "model_module_version": "1.2.0",
      "model_name": "LayoutModel",
      "state": {}
     },
     "e3b1495bb6114ed99d53c97eaab24c76": {
      "model_module": "@jupyter-widgets/base",
      "model_module_version": "1.2.0",
      "model_name": "LayoutModel",
      "state": {}
     },
     "e3d05859fb4f496ead63bfda07c51cc7": {
      "model_module": "@jupyter-widgets/base",
      "model_module_version": "1.2.0",
      "model_name": "LayoutModel",
      "state": {}
     },
     "e6e70607c9f646f688ed871ecddab5f7": {
      "model_module": "@jupyter-widgets/base",
      "model_module_version": "1.2.0",
      "model_name": "LayoutModel",
      "state": {}
     },
     "e6f32d5493f04b77a8e46d872e673a63": {
      "model_module": "@jupyter-widgets/controls",
      "model_module_version": "1.5.0",
      "model_name": "DescriptionStyleModel",
      "state": {
       "description_width": ""
      }
     },
     "e7aee0e48838476eb7ff2ce452df8839": {
      "model_module": "@jupyter-widgets/base",
      "model_module_version": "1.2.0",
      "model_name": "LayoutModel",
      "state": {}
     },
     "e827db97a21f4034a895ea7b579c2f9d": {
      "model_module": "@jupyter-widgets/controls",
      "model_module_version": "1.5.0",
      "model_name": "DescriptionStyleModel",
      "state": {
       "description_width": ""
      }
     },
     "e92e0f4a1ce64670a3608af88fa87cd2": {
      "model_module": "@jupyter-widgets/controls",
      "model_module_version": "1.5.0",
      "model_name": "HTMLModel",
      "state": {
       "layout": "IPY_MODEL_49b6febe04c340f585488408c55a8c41",
       "style": "IPY_MODEL_d08abbaf08b94db2ab4037dc62eb5a1b",
       "value": "  0%"
      }
     },
     "e94d5f01a837471e9b7f57e85cb72007": {
      "model_module": "@jupyter-widgets/controls",
      "model_module_version": "1.5.0",
      "model_name": "ProgressStyleModel",
      "state": {
       "description_width": ""
      }
     },
     "eabc3e65cb1840ef9a30323989155327": {
      "model_module": "@jupyter-widgets/controls",
      "model_module_version": "1.5.0",
      "model_name": "HBoxModel",
      "state": {
       "children": [
        "IPY_MODEL_57b8369a58ab4c3587eebe1db780bf44",
        "IPY_MODEL_ef181d5444be4b28a8193832677d4d3a",
        "IPY_MODEL_63a7f31eec00492f8acaf6a57eaadeab"
       ],
       "layout": "IPY_MODEL_244eea2b5b304505befcb204ac75d79a"
      }
     },
     "eb84a69b165c40a69ae4dd8861310df5": {
      "model_module": "@jupyter-widgets/controls",
      "model_module_version": "1.5.0",
      "model_name": "HTMLModel",
      "state": {
       "layout": "IPY_MODEL_7664ea11593643fd9765df0082261068",
       "style": "IPY_MODEL_ac407c448b484ac39add943248fb9c24",
       "value": "100%"
      }
     },
     "eba6ec81bbae4b64af64b36287e35572": {
      "model_module": "@jupyter-widgets/base",
      "model_module_version": "1.2.0",
      "model_name": "LayoutModel",
      "state": {}
     },
     "ed9aa10d20d74cefa7cf807507ad8c23": {
      "model_module": "@jupyter-widgets/controls",
      "model_module_version": "1.5.0",
      "model_name": "HBoxModel",
      "state": {
       "children": [
        "IPY_MODEL_ede9ab4b654b4939827c3b2606e923de",
        "IPY_MODEL_c08ef2b1947b4753a9c9a16985d888fa",
        "IPY_MODEL_2280bb505e7e411fae2881374435baa4"
       ],
       "layout": "IPY_MODEL_e183ca81d7714e9fb5fe30ac71205179"
      }
     },
     "ede31c75544b434999712fc06aa303d0": {
      "model_module": "@jupyter-widgets/base",
      "model_module_version": "1.2.0",
      "model_name": "LayoutModel",
      "state": {}
     },
     "ede9ab4b654b4939827c3b2606e923de": {
      "model_module": "@jupyter-widgets/controls",
      "model_module_version": "1.5.0",
      "model_name": "HTMLModel",
      "state": {
       "layout": "IPY_MODEL_768f4c7998d44fed8075757f0324f30b",
       "style": "IPY_MODEL_c956f4fae9b1410f99a6af6eb7df22db",
       "value": "100%"
      }
     },
     "ef181d5444be4b28a8193832677d4d3a": {
      "model_module": "@jupyter-widgets/controls",
      "model_module_version": "1.5.0",
      "model_name": "FloatProgressModel",
      "state": {
       "bar_style": "danger",
       "layout": "IPY_MODEL_d44016f5059e404b9bc46e03dd30cae3",
       "max": 1107542,
       "style": "IPY_MODEL_b8a05e9b07fc4467852faeb9caa15870",
       "value": 298
      }
     },
     "ef425a7982c94952a641425ff4f224c8": {
      "model_module": "@jupyter-widgets/controls",
      "model_module_version": "1.5.0",
      "model_name": "HBoxModel",
      "state": {
       "children": [
        "IPY_MODEL_5605a88583184b79a8c912d8e40c885f",
        "IPY_MODEL_26e187f00ac64d8aad6689e0e0861696",
        "IPY_MODEL_05dee094c550403da36237a325cbc13c"
       ],
       "layout": "IPY_MODEL_b479b2f8181e4f4faaea99c6bb02fefa"
      }
     },
     "ef8c525a3e6f4523ab214d0ed744b626": {
      "model_module": "@jupyter-widgets/controls",
      "model_module_version": "1.5.0",
      "model_name": "DescriptionStyleModel",
      "state": {
       "description_width": ""
      }
     },
     "f1857cb8bf0c4eb8bcc6080b6284b92b": {
      "model_module": "@jupyter-widgets/base",
      "model_module_version": "1.2.0",
      "model_name": "LayoutModel",
      "state": {}
     },
     "f4a91112fd5d44c18095d7450d6d9091": {
      "model_module": "@jupyter-widgets/controls",
      "model_module_version": "1.5.0",
      "model_name": "FloatProgressModel",
      "state": {
       "bar_style": "success",
       "layout": "IPY_MODEL_5dddfe2ff9524484ade9437122229510",
       "max": 1000,
       "style": "IPY_MODEL_3a949f6a1b764642ae97d8ed8f721ae1",
       "value": 1000
      }
     },
     "f4cef62381e14b99b14c273be6875cc0": {
      "model_module": "@jupyter-widgets/controls",
      "model_module_version": "1.5.0",
      "model_name": "HTMLModel",
      "state": {
       "layout": "IPY_MODEL_78d8af35616d4e32a176ad5b9aceb9f1",
       "style": "IPY_MODEL_4119af3a506240128611ec6063ac6b16",
       "value": " 86/1107542 [00:00&lt;1:34:27, 195.39it/s]"
      }
     },
     "f6055846d63d4d5f82afcaab3e88d0af": {
      "model_module": "@jupyter-widgets/controls",
      "model_module_version": "1.5.0",
      "model_name": "DescriptionStyleModel",
      "state": {
       "description_width": ""
      }
     },
     "f64df0dde24c4c2fbd1130e35973cf3f": {
      "model_module": "@jupyter-widgets/controls",
      "model_module_version": "1.5.0",
      "model_name": "FloatProgressModel",
      "state": {
       "bar_style": "success",
       "layout": "IPY_MODEL_6b8500379b6b4ddda098fc329c9ef0c2",
       "max": 1000,
       "style": "IPY_MODEL_40a1b1c565e641aebd232b85e9ee152c",
       "value": 1000
      }
     },
     "f6bda2182cda4fa1a70967138467e473": {
      "model_module": "@jupyter-widgets/controls",
      "model_module_version": "1.5.0",
      "model_name": "ProgressStyleModel",
      "state": {
       "description_width": ""
      }
     },
     "f90756670492404d841b9c5aacc16dc2": {
      "model_module": "@jupyter-widgets/base",
      "model_module_version": "1.2.0",
      "model_name": "LayoutModel",
      "state": {}
     },
     "f998fc8672f849138a10005e80f163ff": {
      "model_module": "@jupyter-widgets/controls",
      "model_module_version": "1.5.0",
      "model_name": "FloatProgressModel",
      "state": {
       "bar_style": "danger",
       "layout": "IPY_MODEL_5d99b662f7c0406fb5b42c5246c5ba76",
       "max": 1107542,
       "style": "IPY_MODEL_21fef1de443342b8b1b2fa06a291d01c",
       "value": 573
      }
     },
     "f9c7f12f78db408da612e78e31d5e38e": {
      "model_module": "@jupyter-widgets/controls",
      "model_module_version": "1.5.0",
      "model_name": "HTMLModel",
      "state": {
       "layout": "IPY_MODEL_95ab3f2ac52a4adfbee8c4c9e77952d2",
       "style": "IPY_MODEL_3f14ab36d5d041239cf042ae4a1d127d",
       "value": "100%"
      }
     },
     "fb601fda9cec44db9d27390e98402258": {
      "model_module": "@jupyter-widgets/controls",
      "model_module_version": "1.5.0",
      "model_name": "HTMLModel",
      "state": {
       "layout": "IPY_MODEL_37e23f8afaf14a5a8673ea8ffdafb8fd",
       "style": "IPY_MODEL_9c64cd725ad54dda9e3988766b1f7c98",
       "value": " 1000/1000 [00:00&lt;00:00, 6155.91it/s]"
      }
     },
     "fb6963f9f1504cb0a76e37005be94138": {
      "model_module": "@jupyter-widgets/base",
      "model_module_version": "1.2.0",
      "model_name": "LayoutModel",
      "state": {}
     },
     "fb97889a8955469a9d6914e0a2bcf60d": {
      "model_module": "@jupyter-widgets/controls",
      "model_module_version": "1.5.0",
      "model_name": "FloatProgressModel",
      "state": {
       "bar_style": "danger",
       "layout": "IPY_MODEL_80527bdbd7624108a50dcddc90019e48",
       "max": 1107542,
       "style": "IPY_MODEL_18aa85765a894e6ab077844524b0efcb"
      }
     },
     "fd7e5ff338a049edbd02e11874416fc5": {
      "model_module": "@jupyter-widgets/controls",
      "model_module_version": "1.5.0",
      "model_name": "DescriptionStyleModel",
      "state": {
       "description_width": ""
      }
     },
     "fdea48b663fa45aea849923f993077b0": {
      "model_module": "@jupyter-widgets/base",
      "model_module_version": "1.2.0",
      "model_name": "LayoutModel",
      "state": {}
     },
     "fe3135738ab149ce95f00d3d722c9e36": {
      "model_module": "@jupyter-widgets/controls",
      "model_module_version": "1.5.0",
      "model_name": "DescriptionStyleModel",
      "state": {
       "description_width": ""
      }
     }
    },
    "version_major": 2,
    "version_minor": 0
   }
  }
 },
 "nbformat": 4,
 "nbformat_minor": 5
}
